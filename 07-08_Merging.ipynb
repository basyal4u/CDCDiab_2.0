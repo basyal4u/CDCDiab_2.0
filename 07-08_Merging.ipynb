{
 "cells": [
  {
   "cell_type": "code",
   "execution_count": 1,
   "metadata": {},
   "outputs": [],
   "source": [
    "import numpy as np\n",
    "import pandas as pd\n",
    "import matplotlib.pyplot as plt\n",
    "import glob \n",
    "import os\n",
    "import sys"
   ]
  },
  {
   "cell_type": "code",
   "execution_count": 2,
   "metadata": {},
   "outputs": [
    {
     "data": {
      "text/plain": [
       "'C:\\\\Users\\\\Ganga\\\\Desktop\\\\Research\\\\My backup or cdc\\\\Data Files\\\\07-08\\\\Lab'"
      ]
     },
     "execution_count": 2,
     "metadata": {},
     "output_type": "execute_result"
    }
   ],
   "source": [
    "os.getcwd()"
   ]
  },
  {
   "cell_type": "code",
   "execution_count": 62,
   "metadata": {},
   "outputs": [
    {
     "name": "stdout",
     "output_type": "stream",
     "text": [
      "C:\\Users\\Ganga\\Desktop\\Research\\My backup or cdc\\Data Files\\07-08\\Lab\\ALB_CR_E.XPT\n",
      "C:\\Users\\Ganga\\Desktop\\Research\\My backup or cdc\\Data Files\\07-08\\Lab\\APOB_E.XPT\n",
      "C:\\Users\\Ganga\\Desktop\\Research\\My backup or cdc\\Data Files\\07-08\\Lab\\BIOPRO_E.XPT\n",
      "C:\\Users\\Ganga\\Desktop\\Research\\My backup or cdc\\Data Files\\07-08\\Lab\\CARB_E.XPT\n",
      "C:\\Users\\Ganga\\Desktop\\Research\\My backup or cdc\\Data Files\\07-08\\Lab\\CBC_E.XPT\n",
      "C:\\Users\\Ganga\\Desktop\\Research\\My backup or cdc\\Data Files\\07-08\\Lab\\CHLMDA_E.XPT\n",
      "C:\\Users\\Ganga\\Desktop\\Research\\My backup or cdc\\Data Files\\07-08\\Lab\\COTNAL_E.XPT\n",
      "C:\\Users\\Ganga\\Desktop\\Research\\My backup or cdc\\Data Files\\07-08\\Lab\\CRP_E.XPT\n",
      "C:\\Users\\Ganga\\Desktop\\Research\\My backup or cdc\\Data Files\\07-08\\Lab\\DEET_E.XPT\n",
      "C:\\Users\\Ganga\\Desktop\\Research\\My backup or cdc\\Data Files\\07-08\\Lab\\EPH_E.XPT\n",
      "C:\\Users\\Ganga\\Desktop\\Research\\My backup or cdc\\Data Files\\07-08\\Lab\\FASTQX_E.XPT\n",
      "C:\\Users\\Ganga\\Desktop\\Research\\My backup or cdc\\Data Files\\07-08\\Lab\\FERTIN_E.XPT\n",
      "C:\\Users\\Ganga\\Desktop\\Research\\My backup or cdc\\Data Files\\07-08\\Lab\\FOLATE_E.XPT\n",
      "C:\\Users\\Ganga\\Desktop\\Research\\My backup or cdc\\Data Files\\07-08\\Lab\\FOLFMS_E.XPT\n",
      "C:\\Users\\Ganga\\Desktop\\Research\\My backup or cdc\\Data Files\\07-08\\Lab\\GHB_E.XPT\n",
      "C:\\Users\\Ganga\\Desktop\\Research\\My backup or cdc\\Data Files\\07-08\\Lab\\GLU_E.XPT\n",
      "C:\\Users\\Ganga\\Desktop\\Research\\My backup or cdc\\Data Files\\07-08\\Lab\\HDL_E.XPT\n",
      "C:\\Users\\Ganga\\Desktop\\Research\\My backup or cdc\\Data Files\\07-08\\Lab\\HEPA_E.XPT\n",
      "C:\\Users\\Ganga\\Desktop\\Research\\My backup or cdc\\Data Files\\07-08\\Lab\\HEPBD_E.XPT\n",
      "C:\\Users\\Ganga\\Desktop\\Research\\My backup or cdc\\Data Files\\07-08\\Lab\\HEPB_S_E.XPT\n",
      "C:\\Users\\Ganga\\Desktop\\Research\\My backup or cdc\\Data Files\\07-08\\Lab\\HEPC_E.XPT\n",
      "C:\\Users\\Ganga\\Desktop\\Research\\My backup or cdc\\Data Files\\07-08\\Lab\\HIV_E.XPT\n",
      "C:\\Users\\Ganga\\Desktop\\Research\\My backup or cdc\\Data Files\\07-08\\Lab\\HPVSER_E.XPT\n",
      "C:\\Users\\Ganga\\Desktop\\Research\\My backup or cdc\\Data Files\\07-08\\Lab\\HPVSWR_E.XPT\n",
      "C:\\Users\\Ganga\\Desktop\\Research\\My backup or cdc\\Data Files\\07-08\\Lab\\HSV_E.XPT\n",
      "C:\\Users\\Ganga\\Desktop\\Research\\My backup or cdc\\Data Files\\07-08\\Lab\\IHG_E.XPT\n",
      "C:\\Users\\Ganga\\Desktop\\Research\\My backup or cdc\\Data Files\\07-08\\Lab\\OGTT_E.XPT\n",
      "C:\\Users\\Ganga\\Desktop\\Research\\My backup or cdc\\Data Files\\07-08\\Lab\\OPD_E.XPT\n",
      "C:\\Users\\Ganga\\Desktop\\Research\\My backup or cdc\\Data Files\\07-08\\Lab\\PAH_E.XPT\n",
      "C:\\Users\\Ganga\\Desktop\\Research\\My backup or cdc\\Data Files\\07-08\\Lab\\PBCD_E.XPT\n",
      "C:\\Users\\Ganga\\Desktop\\Research\\My backup or cdc\\Data Files\\07-08\\Lab\\PERNT_E.XPT\n",
      "C:\\Users\\Ganga\\Desktop\\Research\\My backup or cdc\\Data Files\\07-08\\Lab\\PFC_E.XPT\n",
      "C:\\Users\\Ganga\\Desktop\\Research\\My backup or cdc\\Data Files\\07-08\\Lab\\PHTHTE_E.XPT\n",
      "C:\\Users\\Ganga\\Desktop\\Research\\My backup or cdc\\Data Files\\07-08\\Lab\\PHYTO_E.XPT\n",
      "C:\\Users\\Ganga\\Desktop\\Research\\My backup or cdc\\Data Files\\07-08\\Lab\\PP_E.XPT\n",
      "C:\\Users\\Ganga\\Desktop\\Research\\My backup or cdc\\Data Files\\07-08\\Lab\\PSA_E.XPT\n",
      "C:\\Users\\Ganga\\Desktop\\Research\\My backup or cdc\\Data Files\\07-08\\Lab\\SSEBV_E.XPT\n",
      "C:\\Users\\Ganga\\Desktop\\Research\\My backup or cdc\\Data Files\\07-08\\Lab\\SSHCV_E.XPT\n",
      "C:\\Users\\Ganga\\Desktop\\Research\\My backup or cdc\\Data Files\\07-08\\Lab\\SSUSG_E.XPT\n",
      "C:\\Users\\Ganga\\Desktop\\Research\\My backup or cdc\\Data Files\\07-08\\Lab\\TCHOL_E.XPT\n",
      "C:\\Users\\Ganga\\Desktop\\Research\\My backup or cdc\\Data Files\\07-08\\Lab\\TFR_E.XPT\n",
      "C:\\Users\\Ganga\\Desktop\\Research\\My backup or cdc\\Data Files\\07-08\\Lab\\THYROD_E.XPT\n",
      "C:\\Users\\Ganga\\Desktop\\Research\\My backup or cdc\\Data Files\\07-08\\Lab\\TRIGLY_E.XPT\n",
      "C:\\Users\\Ganga\\Desktop\\Research\\My backup or cdc\\Data Files\\07-08\\Lab\\UAM_E.XPT\n",
      "C:\\Users\\Ganga\\Desktop\\Research\\My backup or cdc\\Data Files\\07-08\\Lab\\UAS_E.XPT\n",
      "C:\\Users\\Ganga\\Desktop\\Research\\My backup or cdc\\Data Files\\07-08\\Lab\\UCPREG_E.XPT\n",
      "C:\\Users\\Ganga\\Desktop\\Research\\My backup or cdc\\Data Files\\07-08\\Lab\\UHG_E.XPT\n",
      "C:\\Users\\Ganga\\Desktop\\Research\\My backup or cdc\\Data Files\\07-08\\Lab\\UHM_E.XPT\n",
      "C:\\Users\\Ganga\\Desktop\\Research\\My backup or cdc\\Data Files\\07-08\\Lab\\UIO_E.XPT\n",
      "C:\\Users\\Ganga\\Desktop\\Research\\My backup or cdc\\Data Files\\07-08\\Lab\\UPHOPM_E.XPT\n",
      "C:\\Users\\Ganga\\Desktop\\Research\\My backup or cdc\\Data Files\\07-08\\Lab\\UPP_E.XPT\n",
      "C:\\Users\\Ganga\\Desktop\\Research\\My backup or cdc\\Data Files\\07-08\\Lab\\VID_E.XPT\n",
      "C:\\Users\\Ganga\\Desktop\\Research\\My backup or cdc\\Data Files\\07-08\\Lab\\VIT_B6_E.XPT\n",
      "C:\\Users\\Ganga\\Desktop\\Research\\My backup or cdc\\Data Files\\07-08\\Lab\\VOCMWB_E.XPT\n",
      "C:\\Users\\Ganga\\Desktop\\Research\\My backup or cdc\\Data Files\\07-08\\Lab\\VOCWB_E.XPT\n",
      "C:\\Users\\Ganga\\Desktop\\Research\\My backup or cdc\\Data Files\\07-08\\Lab\\VOC_E.XPT\n"
     ]
    }
   ],
   "source": [
    "path = 'C:\\\\Users\\\\Ganga\\\\Desktop\\\\Research\\\\My backup or cdc\\\\Data Files\\\\07-08\\\\Lab\n",
    "allFiles = glob.glob(os.path.join(path,\"*.xpt\"))\n",
    "\n",
    "data = np.array([np.arange(41474,51701)]).T\n",
    "x_Lab =pd.DataFrame(data, index = range(41473,51700),columns=['SEQN'])\n",
    "\n",
    "for infile in allFiles:\n",
    "    print(infile)\n",
    "    df = pd.read_sas(infile)\n",
    "    df['SEQN']=df['SEQN'].astype(int)\n",
    "    x_Lab = x_Lab.merge(df.drop_duplicates(subset=['SEQN']),on='SEQN', how='left')\n",
    "    "
   ]
  },
  {
   "cell_type": "code",
   "execution_count": 64,
   "metadata": {},
   "outputs": [
    {
     "data": {
      "text/plain": [
       "(10227, 683)"
      ]
     },
     "execution_count": 64,
     "metadata": {},
     "output_type": "execute_result"
    }
   ],
   "source": [
    "x_Lab.shape"
   ]
  },
  {
   "cell_type": "code",
   "execution_count": 63,
   "metadata": {},
   "outputs": [
    {
     "name": "stdout",
     "output_type": "stream",
     "text": [
      "C:\\Users\\Ganga\\Desktop\\Research\\My backup or cdc\\Data Files\\07-08\\Quest\\ACQ_E.XPT\n",
      "C:\\Users\\Ganga\\Desktop\\Research\\My backup or cdc\\Data Files\\07-08\\Quest\\ALQ_E.XPT\n",
      "C:\\Users\\Ganga\\Desktop\\Research\\My backup or cdc\\Data Files\\07-08\\Quest\\AQQ_E.XPT\n",
      "C:\\Users\\Ganga\\Desktop\\Research\\My backup or cdc\\Data Files\\07-08\\Quest\\AUQ_E.XPT\n",
      "C:\\Users\\Ganga\\Desktop\\Research\\My backup or cdc\\Data Files\\07-08\\Quest\\BHQ_E.XPT\n",
      "C:\\Users\\Ganga\\Desktop\\Research\\My backup or cdc\\Data Files\\07-08\\Quest\\BPQ_E.XPT\n",
      "C:\\Users\\Ganga\\Desktop\\Research\\My backup or cdc\\Data Files\\07-08\\Quest\\CBQPFA_E.XPT\n",
      "C:\\Users\\Ganga\\Desktop\\Research\\My backup or cdc\\Data Files\\07-08\\Quest\\CBQPFC_E.XPT\n",
      "C:\\Users\\Ganga\\Desktop\\Research\\My backup or cdc\\Data Files\\07-08\\Quest\\CBQ_E.XPT\n",
      "C:\\Users\\Ganga\\Desktop\\Research\\My backup or cdc\\Data Files\\07-08\\Quest\\CDQ_E.XPT\n",
      "C:\\Users\\Ganga\\Desktop\\Research\\My backup or cdc\\Data Files\\07-08\\Quest\\DBQ_E.XPT\n",
      "C:\\Users\\Ganga\\Desktop\\Research\\My backup or cdc\\Data Files\\07-08\\Quest\\DIQ_E.XPT\n",
      "C:\\Users\\Ganga\\Desktop\\Research\\My backup or cdc\\Data Files\\07-08\\Quest\\DPQ_E.XPT\n",
      "C:\\Users\\Ganga\\Desktop\\Research\\My backup or cdc\\Data Files\\07-08\\Quest\\DUQ_E.XPT\n",
      "C:\\Users\\Ganga\\Desktop\\Research\\My backup or cdc\\Data Files\\07-08\\Quest\\ECQ_E.XPT\n",
      "C:\\Users\\Ganga\\Desktop\\Research\\My backup or cdc\\Data Files\\07-08\\Quest\\FSQ_E.XPT\n",
      "C:\\Users\\Ganga\\Desktop\\Research\\My backup or cdc\\Data Files\\07-08\\Quest\\HCQ_E.XPT\n",
      "C:\\Users\\Ganga\\Desktop\\Research\\My backup or cdc\\Data Files\\07-08\\Quest\\HIQ_E.XPT\n",
      "C:\\Users\\Ganga\\Desktop\\Research\\My backup or cdc\\Data Files\\07-08\\Quest\\HOQ_E.XPT\n",
      "C:\\Users\\Ganga\\Desktop\\Research\\My backup or cdc\\Data Files\\07-08\\Quest\\HSQ_E.XPT\n",
      "C:\\Users\\Ganga\\Desktop\\Research\\My backup or cdc\\Data Files\\07-08\\Quest\\HUQ_E.XPT\n",
      "C:\\Users\\Ganga\\Desktop\\Research\\My backup or cdc\\Data Files\\07-08\\Quest\\IMQ_E.XPT\n",
      "C:\\Users\\Ganga\\Desktop\\Research\\My backup or cdc\\Data Files\\07-08\\Quest\\INQ_E.XPT\n",
      "C:\\Users\\Ganga\\Desktop\\Research\\My backup or cdc\\Data Files\\07-08\\Quest\\KIQ_P_E.XPT\n",
      "C:\\Users\\Ganga\\Desktop\\Research\\My backup or cdc\\Data Files\\07-08\\Quest\\KIQ_U_E.XPT\n",
      "C:\\Users\\Ganga\\Desktop\\Research\\My backup or cdc\\Data Files\\07-08\\Quest\\MCQ_E.XPT\n",
      "C:\\Users\\Ganga\\Desktop\\Research\\My backup or cdc\\Data Files\\07-08\\Quest\\OCQ_E.XPT\n",
      "C:\\Users\\Ganga\\Desktop\\Research\\My backup or cdc\\Data Files\\07-08\\Quest\\OHQ_E.XPT\n",
      "C:\\Users\\Ganga\\Desktop\\Research\\My backup or cdc\\Data Files\\07-08\\Quest\\OSQ_E.XPT\n",
      "C:\\Users\\Ganga\\Desktop\\Research\\My backup or cdc\\Data Files\\07-08\\Quest\\PAQ_E.XPT\n",
      "C:\\Users\\Ganga\\Desktop\\Research\\My backup or cdc\\Data Files\\07-08\\Quest\\PFQ_E.XPT\n",
      "C:\\Users\\Ganga\\Desktop\\Research\\My backup or cdc\\Data Files\\07-08\\Quest\\PUQMEC_E.XPT\n",
      "C:\\Users\\Ganga\\Desktop\\Research\\My backup or cdc\\Data Files\\07-08\\Quest\\RDQ_E.XPT\n",
      "C:\\Users\\Ganga\\Desktop\\Research\\My backup or cdc\\Data Files\\07-08\\Quest\\RHQ_E.XPT\n",
      "C:\\Users\\Ganga\\Desktop\\Research\\My backup or cdc\\Data Files\\07-08\\Quest\\RXQ_RX_E.XPT\n",
      "C:\\Users\\Ganga\\Desktop\\Research\\My backup or cdc\\Data Files\\07-08\\Quest\\SLQ_E.XPT\n",
      "C:\\Users\\Ganga\\Desktop\\Research\\My backup or cdc\\Data Files\\07-08\\Quest\\SMQFAM_E.XPT\n",
      "C:\\Users\\Ganga\\Desktop\\Research\\My backup or cdc\\Data Files\\07-08\\Quest\\SMQRTU_E.XPT\n",
      "C:\\Users\\Ganga\\Desktop\\Research\\My backup or cdc\\Data Files\\07-08\\Quest\\SMQ_E.XPT\n",
      "C:\\Users\\Ganga\\Desktop\\Research\\My backup or cdc\\Data Files\\07-08\\Quest\\SSQ_E.XPT\n",
      "C:\\Users\\Ganga\\Desktop\\Research\\My backup or cdc\\Data Files\\07-08\\Quest\\SXQ_E.XPT\n",
      "C:\\Users\\Ganga\\Desktop\\Research\\My backup or cdc\\Data Files\\07-08\\Quest\\VIQ_E.XPT\n",
      "C:\\Users\\Ganga\\Desktop\\Research\\My backup or cdc\\Data Files\\07-08\\Quest\\WHQMEC_E.XPT\n",
      "C:\\Users\\Ganga\\Desktop\\Research\\My backup or cdc\\Data Files\\07-08\\Quest\\WHQ_E.XPT\n"
     ]
    }
   ],
   "source": [
    "path = 'C:\\\\Users\\\\Ganga\\\\Desktop\\\\Research\\\\My backup or cdc\\\\Data Files\\\\07-08\\\\Quest'\n",
    "allFiles = glob.glob(os.path.join(path,\"*.xpt\"))\n",
    "\n",
    "data = np.array([np.arange(41474,51701)]).T\n",
    "x_Quest =pd.DataFrame(data, index = range(41473,51700),columns=['SEQN'])\n",
    "\n",
    "for infile in allFiles:\n",
    "    print(infile)\n",
    "    df = pd.read_sas(infile)\n",
    "    df['SEQN']=df['SEQN'].astype(int)\n",
    "    x_Quest = x_Quest.merge(df.drop_duplicates(subset=['SEQN']),on='SEQN', how='left')"
   ]
  },
  {
   "cell_type": "code",
   "execution_count": 65,
   "metadata": {},
   "outputs": [
    {
     "data": {
      "text/plain": [
       "(10227, 1139)"
      ]
     },
     "execution_count": 65,
     "metadata": {},
     "output_type": "execute_result"
    }
   ],
   "source": [
    "x_Quest.shape"
   ]
  },
  {
   "cell_type": "code",
   "execution_count": 66,
   "metadata": {},
   "outputs": [
    {
     "name": "stdout",
     "output_type": "stream",
     "text": [
      "C:\\Users\\Ganga\\Desktop\\Research\\My backup or cdc\\Data Files\\07-08\\Examination\\AUXAR_E.XPT\n",
      "C:\\Users\\Ganga\\Desktop\\Research\\My backup or cdc\\Data Files\\07-08\\Examination\\AUXTYM_E.XPT\n",
      "C:\\Users\\Ganga\\Desktop\\Research\\My backup or cdc\\Data Files\\07-08\\Examination\\AUX_E.XPT\n",
      "C:\\Users\\Ganga\\Desktop\\Research\\My backup or cdc\\Data Files\\07-08\\Examination\\BMX_E.XPT\n",
      "C:\\Users\\Ganga\\Desktop\\Research\\My backup or cdc\\Data Files\\07-08\\Examination\\BPX_E.XPT\n",
      "C:\\Users\\Ganga\\Desktop\\Research\\My backup or cdc\\Data Files\\07-08\\Examination\\DXXFEM_E.XPT\n",
      "C:\\Users\\Ganga\\Desktop\\Research\\My backup or cdc\\Data Files\\07-08\\Examination\\DXXSPN_E.XPT\n",
      "C:\\Users\\Ganga\\Desktop\\Research\\My backup or cdc\\Data Files\\07-08\\Examination\\ENX_E.XPT\n",
      "C:\\Users\\Ganga\\Desktop\\Research\\My backup or cdc\\Data Files\\07-08\\Examination\\OHX_E.XPT\n",
      "C:\\Users\\Ganga\\Desktop\\Research\\My backup or cdc\\Data Files\\07-08\\Examination\\OPXFDT_E.XPT\n",
      "C:\\Users\\Ganga\\Desktop\\Research\\My backup or cdc\\Data Files\\07-08\\Examination\\OPXRET_E.XPT\n",
      "C:\\Users\\Ganga\\Desktop\\Research\\My backup or cdc\\Data Files\\07-08\\Examination\\SPX_E.XPT\n",
      "C:\\Users\\Ganga\\Desktop\\Research\\My backup or cdc\\Data Files\\07-08\\Examination\\VIX_E.XPT\n"
     ]
    }
   ],
   "source": [
    "path = 'C:\\\\Users\\\\Ganga\\\\Desktop\\\\Research\\\\My backup or cdc\\\\Data Files\\\\07-08\\\\Examination'\n",
    "allFiles = glob.glob(os.path.join(path,\"*.xpt\"))\n",
    "\n",
    "data = np.array([np.arange(41474,51701)]).T\n",
    "x_Examination =pd.DataFrame(data, index = range(41473,51700),columns=['SEQN'])\n",
    "\n",
    "for infile in allFiles:\n",
    "    print(infile)\n",
    "    df = pd.read_sas(infile)\n",
    "    df['SEQN']=df['SEQN'].astype(int)\n",
    "    x_Examination = x_Examination.merge(df.drop_duplicates(subset=['SEQN']),on='SEQN', how='left')"
   ]
  },
  {
   "cell_type": "code",
   "execution_count": 67,
   "metadata": {},
   "outputs": [
    {
     "data": {
      "text/plain": [
       "(10227, 1177)"
      ]
     },
     "execution_count": 67,
     "metadata": {},
     "output_type": "execute_result"
    }
   ],
   "source": [
    "x_Examination.shape"
   ]
  },
  {
   "cell_type": "code",
   "execution_count": 68,
   "metadata": {},
   "outputs": [
    {
     "name": "stdout",
     "output_type": "stream",
     "text": [
      "C:\\Users\\Ganga\\Desktop\\Research\\My backup or cdc\\Data Files\\07-08\\Diatery\\DR1IFF_E.XPT\n",
      "C:\\Users\\Ganga\\Desktop\\Research\\My backup or cdc\\Data Files\\07-08\\Diatery\\DR1TOT_E.XPT\n",
      "C:\\Users\\Ganga\\Desktop\\Research\\My backup or cdc\\Data Files\\07-08\\Diatery\\DR2IFF_E.XPT\n",
      "C:\\Users\\Ganga\\Desktop\\Research\\My backup or cdc\\Data Files\\07-08\\Diatery\\DR2TOT_E.XPT\n",
      "C:\\Users\\Ganga\\Desktop\\Research\\My backup or cdc\\Data Files\\07-08\\Diatery\\DS1IDS_E.XPT\n",
      "C:\\Users\\Ganga\\Desktop\\Research\\My backup or cdc\\Data Files\\07-08\\Diatery\\DS1TOT_E.XPT\n",
      "C:\\Users\\Ganga\\Desktop\\Research\\My backup or cdc\\Data Files\\07-08\\Diatery\\DS2IDS_E.XPT\n",
      "C:\\Users\\Ganga\\Desktop\\Research\\My backup or cdc\\Data Files\\07-08\\Diatery\\DS2TOT_E.XPT\n",
      "C:\\Users\\Ganga\\Desktop\\Research\\My backup or cdc\\Data Files\\07-08\\Diatery\\DSQIDS_E.XPT\n",
      "C:\\Users\\Ganga\\Desktop\\Research\\My backup or cdc\\Data Files\\07-08\\Diatery\\DSQTOT_E.XPT\n"
     ]
    }
   ],
   "source": [
    "path = 'C:\\\\Users\\\\Ganga\\\\Desktop\\\\Research\\\\My backup or cdc\\\\Data Files\\\\07-08\\\\Diatery'\n",
    "allFiles = glob.glob(os.path.join(path,\"*.xpt\"))\n",
    "\n",
    "data = np.array([np.arange(41474,51701)]).T\n",
    "x_Diatery =pd.DataFrame(data, index = range(41473,51700),columns=['SEQN'])\n",
    "\n",
    "for infile in allFiles:\n",
    "    print(infile)\n",
    "    df = pd.read_sas(infile)\n",
    "    df['SEQN']=df['SEQN'].astype(int)\n",
    "    x_Diatery = x_Diatery.merge(df.drop_duplicates(subset=['SEQN']),on='SEQN', how='left')"
   ]
  },
  {
   "cell_type": "code",
   "execution_count": 69,
   "metadata": {},
   "outputs": [
    {
     "data": {
      "text/plain": [
       "(10227, 714)"
      ]
     },
     "execution_count": 69,
     "metadata": {},
     "output_type": "execute_result"
    }
   ],
   "source": [
    "x_Diatery.shape"
   ]
  },
  {
   "cell_type": "code",
   "execution_count": 70,
   "metadata": {},
   "outputs": [
    {
     "name": "stdout",
     "output_type": "stream",
     "text": [
      "C:\\Users\\Ganga\\Desktop\\Research\\My backup or cdc\\Data Files\\07-08\\Demographic\\DEMO_E.XPT\n"
     ]
    }
   ],
   "source": [
    "path = 'C:\\\\Users\\\\Ganga\\\\Desktop\\\\Research\\\\My backup or cdc\\\\Data Files\\\\07-08\\\\Demographic'\n",
    "allFiles = glob.glob(os.path.join(path,\"*.xpt\"))\n",
    "\n",
    "data = np.array([np.arange(41474,51701)]).T\n",
    "x_Demographic =pd.DataFrame(data, index = range(41473,51700),columns=['SEQN'])\n",
    "\n",
    "for infile in allFiles:\n",
    "    print(infile)\n",
    "    df = pd.read_sas(infile)\n",
    "    df['SEQN']=df['SEQN'].astype(int)\n",
    "    x_Demographic = x_Demographic.merge(df.drop_duplicates(subset=['SEQN']),on='SEQN', how='left')"
   ]
  },
  {
   "cell_type": "code",
   "execution_count": 71,
   "metadata": {},
   "outputs": [
    {
     "data": {
      "text/plain": [
       "(10227, 43)"
      ]
     },
     "execution_count": 71,
     "metadata": {},
     "output_type": "execute_result"
    }
   ],
   "source": [
    "x_Demographic.shape"
   ]
  },
  {
   "cell_type": "code",
   "execution_count": 78,
   "metadata": {},
   "outputs": [],
   "source": [
    "# Mergin All files with left joint.\n",
    "\n",
    "dfQL =pd.merge(x_Lab, x_Quest, on='SEQN', how='outer')"
   ]
  },
  {
   "cell_type": "code",
   "execution_count": 92,
   "metadata": {},
   "outputs": [
    {
     "data": {
      "text/plain": [
       "(10227, 1821)"
      ]
     },
     "execution_count": 92,
     "metadata": {},
     "output_type": "execute_result"
    }
   ],
   "source": [
    "dfQL.shape"
   ]
  },
  {
   "cell_type": "code",
   "execution_count": 80,
   "metadata": {},
   "outputs": [],
   "source": [
    "dfED = pd.merge(x_Examination, x_Diatery, on='SEQN', how='outer')"
   ]
  },
  {
   "cell_type": "code",
   "execution_count": 81,
   "metadata": {},
   "outputs": [
    {
     "data": {
      "text/plain": [
       "(10227, 1890)"
      ]
     },
     "execution_count": 81,
     "metadata": {},
     "output_type": "execute_result"
    }
   ],
   "source": [
    "dfED.shape"
   ]
  },
  {
   "cell_type": "code",
   "execution_count": 90,
   "metadata": {},
   "outputs": [],
   "source": [
    "dftest = dfED.merge(dfQL, on='SEQN',how ='left')"
   ]
  },
  {
   "cell_type": "code",
   "execution_count": 91,
   "metadata": {},
   "outputs": [
    {
     "data": {
      "text/plain": [
       "(10227, 3710)"
      ]
     },
     "execution_count": 91,
     "metadata": {},
     "output_type": "execute_result"
    }
   ],
   "source": [
    "dftest.shape"
   ]
  },
  {
   "cell_type": "code",
   "execution_count": 93,
   "metadata": {},
   "outputs": [],
   "source": [
    "dftest.to_csv('dftest.csv')"
   ]
  },
  {
   "cell_type": "code",
   "execution_count": null,
   "metadata": {},
   "outputs": [],
   "source": []
  }
 ],
 "metadata": {
  "kernelspec": {
   "display_name": "Python 3",
   "language": "python",
   "name": "python3"
  },
  "language_info": {
   "codemirror_mode": {
    "name": "ipython",
    "version": 3
   },
   "file_extension": ".py",
   "mimetype": "text/x-python",
   "name": "python",
   "nbconvert_exporter": "python",
   "pygments_lexer": "ipython3",
   "version": "3.6.4"
  }
 },
 "nbformat": 4,
 "nbformat_minor": 2
}
