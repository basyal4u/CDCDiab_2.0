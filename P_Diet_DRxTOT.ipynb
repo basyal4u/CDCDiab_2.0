{
 "cells": [
  {
   "cell_type": "markdown",
   "metadata": {},
   "source": [
    "# Processing Dietary Total Nutrient Intake files (DRxTOT)"
   ]
  },
  {
   "cell_type": "code",
   "execution_count": 2,
   "metadata": {},
   "outputs": [],
   "source": [
    "import numpy as np\n",
    "import pandas as pd\n",
    "import glob \n",
    "import os\n",
    "import sys"
   ]
  },
  {
   "cell_type": "code",
   "execution_count": 3,
   "metadata": {},
   "outputs": [
    {
     "name": "stdout",
     "output_type": "stream",
     "text": [
      "/Users/elgayaro/Main/Research/Healthcare/CDC-NHANES/Data/07-08\n"
     ]
    }
   ],
   "source": [
    "%cd /Users/elgayaro/Main/Research/Healthcare/CDC-NHANES/Data/07-08"
   ]
  },
  {
   "cell_type": "code",
   "execution_count": 5,
   "metadata": {},
   "outputs": [
    {
     "name": "stdout",
     "output_type": "stream",
     "text": [
      "['./Diatery/DR1TOT_E.XPT', './Diatery/DSQTOT_E.XPT', './Diatery/DS2IDS_E.XPT', './Diatery/DR1IFF_E.XPT', './Diatery/DS1TOT_E.XPT', './Diatery/DR2TOT_E.XPT', './Diatery/DR2IFF_E.XPT', './Diatery/DSQIDS_E.XPT', './Diatery/DS2TOT_E.XPT', './Diatery/DS1IDS_E.XPT']\n"
     ]
    }
   ],
   "source": [
    "path = './Diatery'\n",
    "allFiles = glob.glob(os.path.join(path,\"*.XPT\"))\n",
    "print(allFiles)"
   ]
  },
  {
   "cell_type": "code",
   "execution_count": 9,
   "metadata": {},
   "outputs": [
    {
     "data": {
      "text/plain": [
       "(9762, 163)"
      ]
     },
     "execution_count": 9,
     "metadata": {},
     "output_type": "execute_result"
    }
   ],
   "source": [
    "DR1TOT = pd.read_sas('./Diatery/DR1TOT_E.XPT', index='SEQN')\n",
    "DR1TOT.shape"
   ]
  },
  {
   "cell_type": "code",
   "execution_count": 11,
   "metadata": {},
   "outputs": [
    {
     "data": {
      "text/plain": [
       "(9762, 82)"
      ]
     },
     "execution_count": 11,
     "metadata": {},
     "output_type": "execute_result"
    }
   ],
   "source": [
    "DR2TOT = pd.read_sas('./Diatery/DR2TOT_E.XPT', index='SEQN')\n",
    "DR2TOT.shape"
   ]
  },
  {
   "cell_type": "code",
   "execution_count": 17,
   "metadata": {},
   "outputs": [
    {
     "name": "stdout",
     "output_type": "stream",
     "text": [
      "['DBD100', 'DBQ095Z', 'DR1BWATZ', 'DR1DAY', 'DR1DBIH', 'DR1DRSTZ', 'DR1EXMER', 'DR1HELPD', 'DR1LANG', 'DR1MNRSP', 'DR1TACAR', 'DR1TALCO', 'DR1TATOA', 'DR1TATOC', 'DR1TB12A', 'DR1TBCAR', 'DR1TCAFF', 'DR1TCALC', 'DR1TCARB', 'DR1TCHL', 'DR1TCHOL', 'DR1TCOPP', 'DR1TCRYP', 'DR1TFA', 'DR1TFDFE', 'DR1TFF', 'DR1TFIBE', 'DR1TFOLA', 'DR1TIRON', 'DR1TKCAL', 'DR1TLYCO', 'DR1TLZ', 'DR1TM161', 'DR1TM181', 'DR1TM201', 'DR1TM221', 'DR1TMAGN', 'DR1TMFAT', 'DR1TMOIS', 'DR1TNIAC', 'DR1TNUMF', 'DR1TP182', 'DR1TP183', 'DR1TP184', 'DR1TP204', 'DR1TP205', 'DR1TP225', 'DR1TP226', 'DR1TPFAT', 'DR1TPHOS', 'DR1TPOTA', 'DR1TPROT', 'DR1TRET', 'DR1TS040', 'DR1TS060', 'DR1TS080', 'DR1TS100', 'DR1TS120', 'DR1TS140', 'DR1TS160', 'DR1TS180', 'DR1TSELE', 'DR1TSFAT', 'DR1TSODI', 'DR1TSUGR', 'DR1TTFAT', 'DR1TTHEO', 'DR1TVARA', 'DR1TVB1', 'DR1TVB12', 'DR1TVB2', 'DR1TVB6', 'DR1TVC', 'DR1TVD', 'DR1TVK', 'DR1TWS', 'DR1TZINC', 'DR1_300', 'DR1_320Z', 'DR1_330Z', 'DRABF', 'DRD340', 'DRD350A', 'DRD350AQ', 'DRD350B', 'DRD350BQ', 'DRD350C', 'DRD350CQ', 'DRD350D', 'DRD350DQ', 'DRD350E', 'DRD350EQ', 'DRD350F', 'DRD350FQ', 'DRD350G', 'DRD350GQ', 'DRD350H', 'DRD350HQ', 'DRD350I', 'DRD350IQ', 'DRD350J', 'DRD350JQ', 'DRD350K', 'DRD360', 'DRD370A', 'DRD370AQ', 'DRD370B', 'DRD370BQ', 'DRD370C', 'DRD370CQ', 'DRD370D', 'DRD370DQ', 'DRD370E', 'DRD370EQ', 'DRD370F', 'DRD370FQ', 'DRD370G', 'DRD370GQ', 'DRD370H', 'DRD370HQ', 'DRD370I', 'DRD370IQ', 'DRD370J', 'DRD370JQ', 'DRD370K', 'DRD370KQ', 'DRD370L', 'DRD370LQ', 'DRD370M', 'DRD370MQ', 'DRD370N', 'DRD370NQ', 'DRD370O', 'DRD370OQ', 'DRD370P', 'DRD370PQ', 'DRD370Q', 'DRD370QQ', 'DRD370R', 'DRD370RQ', 'DRD370S', 'DRD370SQ', 'DRD370T', 'DRD370TQ', 'DRD370U', 'DRD370UQ', 'DRD370V', 'DRDINT', 'DRQSDIET', 'DRQSDT1', 'DRQSDT10', 'DRQSDT2', 'DRQSDT3', 'DRQSDT4', 'DRQSDT5', 'DRQSDT6', 'DRQSDT7', 'DRQSDT8', 'DRQSDT9', 'DRQSDT91', 'DRQSPREP', 'WTDR2D', 'WTDRD1']\n",
      "=====\n",
      "['DR2BWATZ', 'DR2DAY', 'DR2DBIH', 'DR2DRSTZ', 'DR2EXMER', 'DR2HELPD', 'DR2LANG', 'DR2MNRSP', 'DR2TACAR', 'DR2TALCO', 'DR2TATOA', 'DR2TATOC', 'DR2TB12A', 'DR2TBCAR', 'DR2TCAFF', 'DR2TCALC', 'DR2TCARB', 'DR2TCHL', 'DR2TCHOL', 'DR2TCOPP', 'DR2TCRYP', 'DR2TFA', 'DR2TFDFE', 'DR2TFF', 'DR2TFIBE', 'DR2TFOLA', 'DR2TIRON', 'DR2TKCAL', 'DR2TLYCO', 'DR2TLZ', 'DR2TM161', 'DR2TM181', 'DR2TM201', 'DR2TM221', 'DR2TMAGN', 'DR2TMFAT', 'DR2TMOIS', 'DR2TNIAC', 'DR2TNUMF', 'DR2TP182', 'DR2TP183', 'DR2TP184', 'DR2TP204', 'DR2TP205', 'DR2TP225', 'DR2TP226', 'DR2TPFAT', 'DR2TPHOS', 'DR2TPOTA', 'DR2TPROT', 'DR2TRET', 'DR2TS040', 'DR2TS060', 'DR2TS080', 'DR2TS100', 'DR2TS120', 'DR2TS140', 'DR2TS160', 'DR2TS180', 'DR2TSELE', 'DR2TSFAT', 'DR2TSODI', 'DR2TSUGR', 'DR2TTFAT', 'DR2TTHEO', 'DR2TVARA', 'DR2TVB1', 'DR2TVB12', 'DR2TVB2', 'DR2TVB6', 'DR2TVC', 'DR2TVD', 'DR2TVK', 'DR2TWS', 'DR2TZINC', 'DR2_300', 'DR2_320Z', 'DR2_330Z', 'DRABF', 'DRDINT', 'WTDR2D', 'WTDRD1']\n",
      "=====\n",
      "['DRABF', 'DRDINT', 'WTDR2D', 'WTDRD1']\n",
      "=====\n"
     ]
    }
   ],
   "source": [
    "A = set(DR1TOT.columns)\n",
    "print(sorted(A))\n",
    "print('=====')\n",
    "B = set(DR2TOT.columns)\n",
    "print(sorted(B))\n",
    "print('=====')\n",
    "C = A & B\n",
    "print(sorted(C))\n",
    "print('=====')"
   ]
  },
  {
   "cell_type": "markdown",
   "metadata": {},
   "source": [
    "# Processing KCAL"
   ]
  },
  {
   "cell_type": "code",
   "execution_count": 43,
   "metadata": {},
   "outputs": [
    {
     "name": "stdout",
     "output_type": "stream",
     "text": [
      "KCAL1 shape =  (9762,)\n",
      "SEQN\n",
      "41475.0    1598.0\n",
      "41476.0    2093.0\n",
      "41477.0     914.0\n",
      "41478.0    1148.0\n",
      "41479.0    2910.0\n",
      "Name: DR1TKCAL, dtype: float64\n",
      "count    9.118000e+03\n",
      "mean     1.934240e+03\n",
      "std      9.768264e+02\n",
      "min      5.397605e-79\n",
      "25%      1.278000e+03\n",
      "50%      1.756000e+03\n",
      "75%      2.391000e+03\n",
      "max      1.350900e+04\n",
      "Name: DR1TKCAL, dtype: float64\n"
     ]
    }
   ],
   "source": [
    "KCAL1 = DR1TOT['DR1TKCAL']\n",
    "print('KCAL1 shape = ', KCAL1.shape)\n",
    "print(KCAL1.head())\n",
    "print(KCAL1.describe())"
   ]
  },
  {
   "cell_type": "code",
   "execution_count": 42,
   "metadata": {},
   "outputs": [
    {
     "name": "stdout",
     "output_type": "stream",
     "text": [
      "KCAL2 shape =  (9762,)\n",
      "SEQN\n",
      "41475.0    1459.0\n",
      "41476.0    1351.0\n",
      "41477.0    1925.0\n",
      "41478.0       NaN\n",
      "41479.0    1615.0\n",
      "Name: DR2TKCAL, dtype: float64\n",
      "count    7.715000e+03\n",
      "mean     1.811273e+03\n",
      "std      8.808825e+02\n",
      "min      5.397605e-79\n",
      "25%      1.207000e+03\n",
      "50%      1.655000e+03\n",
      "75%      2.253500e+03\n",
      "max      9.608000e+03\n",
      "Name: DR2TKCAL, dtype: float64\n"
     ]
    }
   ],
   "source": [
    "KCAL2 = DR2TOT['DR2TKCAL']\n",
    "print('KCAL2 shape = ', KCAL2.shape)\n",
    "print(KCAL2.head())\n",
    "print(KCAL2.describe())"
   ]
  },
  {
   "cell_type": "code",
   "execution_count": 35,
   "metadata": {},
   "outputs": [
    {
     "name": "stdout",
     "output_type": "stream",
     "text": [
      "KCAL shape =  (9762, 2)\n",
      "         DR1TKCAL  DR2TKCAL\n",
      "SEQN                       \n",
      "41475.0    1598.0    1459.0\n",
      "41476.0    2093.0    1351.0\n",
      "41477.0     914.0    1925.0\n",
      "41478.0    1148.0       NaN\n",
      "41479.0    2910.0    1615.0\n"
     ]
    },
    {
     "data": {
      "text/html": [
       "<div>\n",
       "<style scoped>\n",
       "    .dataframe tbody tr th:only-of-type {\n",
       "        vertical-align: middle;\n",
       "    }\n",
       "\n",
       "    .dataframe tbody tr th {\n",
       "        vertical-align: top;\n",
       "    }\n",
       "\n",
       "    .dataframe thead th {\n",
       "        text-align: right;\n",
       "    }\n",
       "</style>\n",
       "<table border=\"1\" class=\"dataframe\">\n",
       "  <thead>\n",
       "    <tr style=\"text-align: right;\">\n",
       "      <th></th>\n",
       "      <th>DR1TKCAL</th>\n",
       "      <th>DR2TKCAL</th>\n",
       "    </tr>\n",
       "  </thead>\n",
       "  <tbody>\n",
       "    <tr>\n",
       "      <th>count</th>\n",
       "      <td>9.118000e+03</td>\n",
       "      <td>7.715000e+03</td>\n",
       "    </tr>\n",
       "    <tr>\n",
       "      <th>mean</th>\n",
       "      <td>1.934240e+03</td>\n",
       "      <td>1.811273e+03</td>\n",
       "    </tr>\n",
       "    <tr>\n",
       "      <th>std</th>\n",
       "      <td>9.768264e+02</td>\n",
       "      <td>8.808825e+02</td>\n",
       "    </tr>\n",
       "    <tr>\n",
       "      <th>min</th>\n",
       "      <td>5.397605e-79</td>\n",
       "      <td>5.397605e-79</td>\n",
       "    </tr>\n",
       "    <tr>\n",
       "      <th>25%</th>\n",
       "      <td>1.278000e+03</td>\n",
       "      <td>1.207000e+03</td>\n",
       "    </tr>\n",
       "    <tr>\n",
       "      <th>50%</th>\n",
       "      <td>1.756000e+03</td>\n",
       "      <td>1.655000e+03</td>\n",
       "    </tr>\n",
       "    <tr>\n",
       "      <th>75%</th>\n",
       "      <td>2.391000e+03</td>\n",
       "      <td>2.253500e+03</td>\n",
       "    </tr>\n",
       "    <tr>\n",
       "      <th>max</th>\n",
       "      <td>1.350900e+04</td>\n",
       "      <td>9.608000e+03</td>\n",
       "    </tr>\n",
       "  </tbody>\n",
       "</table>\n",
       "</div>"
      ],
      "text/plain": [
       "           DR1TKCAL      DR2TKCAL\n",
       "count  9.118000e+03  7.715000e+03\n",
       "mean   1.934240e+03  1.811273e+03\n",
       "std    9.768264e+02  8.808825e+02\n",
       "min    5.397605e-79  5.397605e-79\n",
       "25%    1.278000e+03  1.207000e+03\n",
       "50%    1.756000e+03  1.655000e+03\n",
       "75%    2.391000e+03  2.253500e+03\n",
       "max    1.350900e+04  9.608000e+03"
      ]
     },
     "execution_count": 35,
     "metadata": {},
     "output_type": "execute_result"
    }
   ],
   "source": [
    "KCAL = pd.concat([DR1TOT['DR1TKCAL'], DR2TOT['DR2TKCAL']], axis=1)\n",
    "print('KCAL shape = ', KCAL.shape)\n",
    "print(KCAL.head())\n",
    "KCAL.describe()"
   ]
  },
  {
   "cell_type": "code",
   "execution_count": 58,
   "metadata": {},
   "outputs": [
    {
     "name": "stdout",
     "output_type": "stream",
     "text": [
      "KCAL1 missing values =   644 from  9762 observations\n",
      "KCAL2 missing values =  2047 from  9762 observations\n"
     ]
    }
   ],
   "source": [
    "print('KCAL1 missing values =  ', KCAL1.isnull().sum(), 'from ', KCAL1.shape[0], 'observations')\n",
    "print('KCAL2 missing values = ', KCAL2.isnull().sum(), 'from ', KCAL2.shape[0], 'observations')"
   ]
  },
  {
   "cell_type": "code",
   "execution_count": 80,
   "metadata": {},
   "outputs": [
    {
     "name": "stdout",
     "output_type": "stream",
     "text": [
      "Type of KCALmean =  float64\n",
      "None\n",
      "TCKALmean\n"
     ]
    },
    {
     "name": "stderr",
     "output_type": "stream",
     "text": [
      "/Users/elgayaro/anaconda3/envs/DS-DL-ML-SunDog/lib/python3.6/site-packages/pandas/core/nanops.py:358: RuntimeWarning: divide by zero encountered in true_divide\n",
      "  the_mean = the_sum / count\n"
     ]
    },
    {
     "data": {
      "text/plain": [
       "640"
      ]
     },
     "execution_count": 80,
     "metadata": {},
     "output_type": "execute_result"
    }
   ],
   "source": [
    "KCALmean = KCAL.mean(axis=1, skipna=1)\n",
    "print('Type of KCALmean = ', KCALmean.dtype)\n",
    "print(KCALmean.name)\n",
    "KCALmean.name = 'TCKALmean'\n",
    "print(KCALmean.name)\n",
    "KCALmean.isnull().sum()"
   ]
  },
  {
   "cell_type": "code",
   "execution_count": 81,
   "metadata": {},
   "outputs": [
    {
     "data": {
      "text/plain": [
       "SEQN\n",
       "41475.0    1528.5\n",
       "41476.0    1722.0\n",
       "41477.0    1419.5\n",
       "41478.0    1148.0\n",
       "41479.0    2262.5\n",
       "Name: TCKALmean, dtype: float64"
      ]
     },
     "execution_count": 81,
     "metadata": {},
     "output_type": "execute_result"
    }
   ],
   "source": [
    "KCALmean.head()"
   ]
  },
  {
   "cell_type": "code",
   "execution_count": 82,
   "metadata": {},
   "outputs": [
    {
     "name": "stdout",
     "output_type": "stream",
     "text": [
      "KCALall shape =  (9762, 3)\n",
      "         DR1TKCAL  DR2TKCAL  TCKALmean\n",
      "SEQN                                  \n",
      "41475.0    1598.0    1459.0     1528.5\n",
      "41476.0    2093.0    1351.0     1722.0\n",
      "41477.0     914.0    1925.0     1419.5\n",
      "41478.0    1148.0       NaN     1148.0\n",
      "41479.0    2910.0    1615.0     2262.5\n"
     ]
    },
    {
     "data": {
      "text/html": [
       "<div>\n",
       "<style scoped>\n",
       "    .dataframe tbody tr th:only-of-type {\n",
       "        vertical-align: middle;\n",
       "    }\n",
       "\n",
       "    .dataframe tbody tr th {\n",
       "        vertical-align: top;\n",
       "    }\n",
       "\n",
       "    .dataframe thead th {\n",
       "        text-align: right;\n",
       "    }\n",
       "</style>\n",
       "<table border=\"1\" class=\"dataframe\">\n",
       "  <thead>\n",
       "    <tr style=\"text-align: right;\">\n",
       "      <th></th>\n",
       "      <th>DR1TKCAL</th>\n",
       "      <th>DR2TKCAL</th>\n",
       "      <th>TCKALmean</th>\n",
       "    </tr>\n",
       "  </thead>\n",
       "  <tbody>\n",
       "    <tr>\n",
       "      <th>count</th>\n",
       "      <td>9.118000e+03</td>\n",
       "      <td>7.715000e+03</td>\n",
       "      <td>9122.000000</td>\n",
       "    </tr>\n",
       "    <tr>\n",
       "      <th>mean</th>\n",
       "      <td>1.934240e+03</td>\n",
       "      <td>1.811273e+03</td>\n",
       "      <td>1884.345648</td>\n",
       "    </tr>\n",
       "    <tr>\n",
       "      <th>std</th>\n",
       "      <td>9.768264e+02</td>\n",
       "      <td>8.808825e+02</td>\n",
       "      <td>852.426085</td>\n",
       "    </tr>\n",
       "    <tr>\n",
       "      <th>min</th>\n",
       "      <td>5.397605e-79</td>\n",
       "      <td>5.397605e-79</td>\n",
       "      <td>9.000000</td>\n",
       "    </tr>\n",
       "    <tr>\n",
       "      <th>25%</th>\n",
       "      <td>1.278000e+03</td>\n",
       "      <td>1.207000e+03</td>\n",
       "      <td>1320.000000</td>\n",
       "    </tr>\n",
       "    <tr>\n",
       "      <th>50%</th>\n",
       "      <td>1.756000e+03</td>\n",
       "      <td>1.655000e+03</td>\n",
       "      <td>1746.000000</td>\n",
       "    </tr>\n",
       "    <tr>\n",
       "      <th>75%</th>\n",
       "      <td>2.391000e+03</td>\n",
       "      <td>2.253500e+03</td>\n",
       "      <td>2285.000000</td>\n",
       "    </tr>\n",
       "    <tr>\n",
       "      <th>max</th>\n",
       "      <td>1.350900e+04</td>\n",
       "      <td>9.608000e+03</td>\n",
       "      <td>13509.000000</td>\n",
       "    </tr>\n",
       "  </tbody>\n",
       "</table>\n",
       "</div>"
      ],
      "text/plain": [
       "           DR1TKCAL      DR2TKCAL     TCKALmean\n",
       "count  9.118000e+03  7.715000e+03   9122.000000\n",
       "mean   1.934240e+03  1.811273e+03   1884.345648\n",
       "std    9.768264e+02  8.808825e+02    852.426085\n",
       "min    5.397605e-79  5.397605e-79      9.000000\n",
       "25%    1.278000e+03  1.207000e+03   1320.000000\n",
       "50%    1.756000e+03  1.655000e+03   1746.000000\n",
       "75%    2.391000e+03  2.253500e+03   2285.000000\n",
       "max    1.350900e+04  9.608000e+03  13509.000000"
      ]
     },
     "execution_count": 82,
     "metadata": {},
     "output_type": "execute_result"
    }
   ],
   "source": [
    "KCALall = pd.concat([KCAL, KCALmean], axis=1)\n",
    "print('KCALall shape = ', KCALall.shape)\n",
    "print(KCALall.head())\n",
    "KCALall.describe()"
   ]
  },
  {
   "cell_type": "code",
   "execution_count": null,
   "metadata": {},
   "outputs": [],
   "source": []
  }
 ],
 "metadata": {
  "kernelspec": {
   "display_name": "Python 3",
   "language": "python",
   "name": "python3"
  },
  "language_info": {
   "codemirror_mode": {
    "name": "ipython",
    "version": 3
   },
   "file_extension": ".py",
   "mimetype": "text/x-python",
   "name": "python",
   "nbconvert_exporter": "python",
   "pygments_lexer": "ipython3",
   "version": "3.6.4"
  }
 },
 "nbformat": 4,
 "nbformat_minor": 2
}
