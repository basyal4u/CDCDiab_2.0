{
 "cells": [
  {
   "cell_type": "markdown",
   "metadata": {},
   "source": [
    "## We Imported the dataset in form of CSV file. Below we are going to implement the feature selection. We will be applying two feature selection method. 1) Variance Threshold. 2) Univariate Feature selection under which we will be using kBest method.\n",
    "\n",
    "### Variance Threshold will remove all the feature falling under under the decided threshold i.e. in our case .6 and provide only those having meet the threshold level.\n",
    "\n",
    "### kBest method will remove all the feature except the freature having kBest scoring meet."
   ]
  },
  {
   "cell_type": "code",
   "execution_count": 1,
   "metadata": {},
   "outputs": [],
   "source": [
    "import numpy as np\n",
    "import pandas as pd\n",
    "import matplotlib.pyplot as plt\n",
    "import glob \n",
    "import os\n",
    "import sys\n",
    "import seaborn as sns\n",
    "%matplotlib inline\n",
    "from sklearn import datasets, linear_model\n",
    "from sklearn.metrics import mean_squared_error, r2_score\n",
    "from sklearn.model_selection import train_test_split\n",
    "from sklearn.linear_model import LogisticRegression"
   ]
  },
  {
   "cell_type": "code",
   "execution_count": 2,
   "metadata": {},
   "outputs": [
    {
     "data": {
      "text/plain": [
       "'C:\\\\Users\\\\Ganga\\\\Desktop\\\\Research\\\\CDCDiab1\\\\CDCDiab_1.0\\\\CDCDiab_1.0'"
      ]
     },
     "execution_count": 2,
     "metadata": {},
     "output_type": "execute_result"
    }
   ],
   "source": [
    "os.getcwd()"
   ]
  },
  {
   "cell_type": "code",
   "execution_count": 3,
   "metadata": {},
   "outputs": [],
   "source": [
    "os.chdir('C:\\\\Users\\\\Ganga\\\\Desktop\\\\Research\\\\CDCDiab1\\\\07-08')"
   ]
  },
  {
   "cell_type": "code",
   "execution_count": 4,
   "metadata": {},
   "outputs": [],
   "source": [
    "# Importing the DataSet\n",
    "CDCDataset = pd.read_csv('07_08Final.csv')\n",
    "DFreg = CDCDataset"
   ]
  },
  {
   "cell_type": "code",
   "execution_count": 5,
   "metadata": {},
   "outputs": [
    {
     "name": "stdout",
     "output_type": "stream",
     "text": [
      "<class 'pandas.core.frame.DataFrame'>\n",
      "RangeIndex: 10149 entries, 0 to 10148\n",
      "Columns: 3753 entries, Unnamed: 0 to WHQ150\n",
      "dtypes: float64(3738), int64(2), object(13)\n",
      "memory usage: 290.6+ MB\n"
     ]
    }
   ],
   "source": [
    "DFreg.info()"
   ]
  },
  {
   "cell_type": "code",
   "execution_count": 9,
   "metadata": {},
   "outputs": [],
   "source": [
    "# Dropping Missing Value \n",
    "\n",
    "DF_Final = DFreg.dropna(axis=0,how=all,thresh=20) "
   ]
  },
  {
   "cell_type": "code",
   "execution_count": 10,
   "metadata": {},
   "outputs": [
    {
     "data": {
      "text/plain": [
       "(10149, 3753)"
      ]
     },
     "execution_count": 10,
     "metadata": {},
     "output_type": "execute_result"
    }
   ],
   "source": [
    "DF_Final.shape"
   ]
  },
  {
   "cell_type": "code",
   "execution_count": 12,
   "metadata": {},
   "outputs": [],
   "source": [
    "# Locking the data set and selecting the X(Independent) and Y (Dependent) Variable \n",
    "X= DF_Final.iloc[:,0:3752]\n",
    "y= DF_Final.loc[:,['DIQ010']]"
   ]
  },
  {
   "cell_type": "code",
   "execution_count": 13,
   "metadata": {},
   "outputs": [],
   "source": [
    "# Splitting the dataset into training and test\n",
    "\n",
    "X_train, X_test, y_train, y_test = train_test_split(X,y,test_size=0.30,random_state=22)"
   ]
  },
  {
   "cell_type": "code",
   "execution_count": 14,
   "metadata": {},
   "outputs": [
    {
     "ename": "IndentationError",
     "evalue": "expected an indented block (<ipython-input-14-1bba553ac57f>, line 5)",
     "output_type": "error",
     "traceback": [
      "\u001b[1;36m  File \u001b[1;32m\"<ipython-input-14-1bba553ac57f>\"\u001b[1;36m, line \u001b[1;32m5\u001b[0m\n\u001b[1;33m    results = np.zeros((len(labels), dimension))\u001b[0m\n\u001b[1;37m          ^\u001b[0m\n\u001b[1;31mIndentationError\u001b[0m\u001b[1;31m:\u001b[0m expected an indented block\n"
     ]
    }
   ],
   "source": [
    "# Dumy Encoding through One hot Encoder\n",
    "\n",
    "import numpy as np\n",
    "def to_one_hot(labels, dimension=10):\n",
    "results = np.zeros((len(labels), dimension))\n",
    "for i, label in enumerate(labels):\n",
    "results[i, label] = 1.\n",
    "return results\n",
    "\n",
    "one_hot_train_labels = to_one_hot(train_labels)\n",
    "one_hot_test_labels = to_one_hot(test_labels)"
   ]
  },
  {
   "cell_type": "code",
   "execution_count": 34,
   "metadata": {},
   "outputs": [],
   "source": [
    "#DFreg= DFreg.loc[:,['SEQN','DIQ010','BPQ020','BPQ030','BPQ035','BPQ040','BPQ080']] \n",
    "DFreg= DFreg.loc[:,['SEQN','DIQ010','BPQ020','BPQ057','BPQ080']] "
   ]
  },
  {
   "cell_type": "code",
   "execution_count": 35,
   "metadata": {},
   "outputs": [
    {
     "name": "stdout",
     "output_type": "stream",
     "text": [
      "<class 'pandas.core.frame.DataFrame'>\n",
      "RangeIndex: 10149 entries, 0 to 10148\n",
      "Data columns (total 5 columns):\n",
      "SEQN      10149 non-null int64\n",
      "DIQ010    9666 non-null float64\n",
      "BPQ020    6546 non-null float64\n",
      "BPQ057    6209 non-null float64\n",
      "BPQ080    4218 non-null float64\n",
      "dtypes: float64(4), int64(1)\n",
      "memory usage: 396.5 KB\n"
     ]
    }
   ],
   "source": [
    "DFreg.info()"
   ]
  },
  {
   "cell_type": "code",
   "execution_count": 36,
   "metadata": {},
   "outputs": [],
   "source": [
    "# Droping the missing NAN values\n",
    "DFreg=DFreg.dropna()"
   ]
  },
  {
   "cell_type": "code",
   "execution_count": 37,
   "metadata": {},
   "outputs": [
    {
     "name": "stdout",
     "output_type": "stream",
     "text": [
      "<class 'pandas.core.frame.DataFrame'>\n",
      "Int64Index: 3919 entries, 0 to 10148\n",
      "Data columns (total 5 columns):\n",
      "SEQN      3919 non-null int64\n",
      "DIQ010    3919 non-null float64\n",
      "BPQ020    3919 non-null float64\n",
      "BPQ057    3919 non-null float64\n",
      "BPQ080    3919 non-null float64\n",
      "dtypes: float64(4), int64(1)\n",
      "memory usage: 183.7 KB\n"
     ]
    }
   ],
   "source": [
    "DFreg.info()"
   ]
  },
  {
   "cell_type": "code",
   "execution_count": 38,
   "metadata": {},
   "outputs": [],
   "source": [
    "X= DFreg.loc[:,['BPQ020','BPQ057','BPQ080']]\n",
    "y= DFreg.loc[:,['DIQ010']]"
   ]
  },
  {
   "cell_type": "code",
   "execution_count": 39,
   "metadata": {},
   "outputs": [
    {
     "name": "stdout",
     "output_type": "stream",
     "text": [
      "<class 'pandas.core.frame.DataFrame'>\n",
      "Int64Index: 3919 entries, 0 to 10148\n",
      "Data columns (total 3 columns):\n",
      "BPQ020    3919 non-null float64\n",
      "BPQ057    3919 non-null float64\n",
      "BPQ080    3919 non-null float64\n",
      "dtypes: float64(3)\n",
      "memory usage: 122.5 KB\n"
     ]
    }
   ],
   "source": [
    "X.info()"
   ]
  },
  {
   "cell_type": "code",
   "execution_count": 40,
   "metadata": {},
   "outputs": [
    {
     "name": "stdout",
     "output_type": "stream",
     "text": [
      "<class 'pandas.core.frame.DataFrame'>\n",
      "Int64Index: 3919 entries, 0 to 10148\n",
      "Data columns (total 1 columns):\n",
      "DIQ010    3919 non-null float64\n",
      "dtypes: float64(1)\n",
      "memory usage: 61.2 KB\n"
     ]
    }
   ],
   "source": [
    "y.info()"
   ]
  },
  {
   "cell_type": "code",
   "execution_count": 41,
   "metadata": {},
   "outputs": [
    {
     "data": {
      "text/plain": [
       "array([[1., 1., 2.],\n",
       "       [1., 2., 1.],\n",
       "       [1., 9., 2.],\n",
       "       ...,\n",
       "       [1., 2., 2.],\n",
       "       [1., 1., 1.],\n",
       "       [2., 2., 1.]])"
      ]
     },
     "execution_count": 41,
     "metadata": {},
     "output_type": "execute_result"
    }
   ],
   "source": [
    "from sklearn.feature_selection import VarianceThreshold\n",
    "Feature_sel = VarianceThreshold(threshold=(.6 * (1-.6)))\n",
    "Feature_sel.fit(X)\n",
    "Feature_sel.transform(X)"
   ]
  },
  {
   "cell_type": "code",
   "execution_count": 42,
   "metadata": {},
   "outputs": [
    {
     "data": {
      "text/plain": [
       "(3919, 3)"
      ]
     },
     "execution_count": 42,
     "metadata": {},
     "output_type": "execute_result"
    }
   ],
   "source": [
    "Feature_sel.transform(X).shape"
   ]
  },
  {
   "cell_type": "code",
   "execution_count": 43,
   "metadata": {},
   "outputs": [
    {
     "name": "stdout",
     "output_type": "stream",
     "text": [
      "[[1. 1. 2.]\n",
      " [1. 2. 1.]\n",
      " [1. 9. 2.]\n",
      " ...\n",
      " [1. 2. 2.]\n",
      " [1. 1. 1.]\n",
      " [2. 2. 1.]]\n"
     ]
    }
   ],
   "source": [
    "print(Feature_sel.transform(X))"
   ]
  },
  {
   "cell_type": "code",
   "execution_count": 44,
   "metadata": {},
   "outputs": [
    {
     "name": "stdout",
     "output_type": "stream",
     "text": [
      "VarianceThreshold(threshold=0.24)\n"
     ]
    }
   ],
   "source": [
    "print(Feature_sel)"
   ]
  },
  {
   "cell_type": "markdown",
   "metadata": {},
   "source": [
    "## Univariate Feature Selection\n",
    "### kBest method"
   ]
  },
  {
   "cell_type": "code",
   "execution_count": 45,
   "metadata": {},
   "outputs": [
    {
     "data": {
      "text/plain": [
       "SelectKBest(k=2, score_func=<function chi2 at 0x0000021304855A60>)"
      ]
     },
     "execution_count": 45,
     "metadata": {},
     "output_type": "execute_result"
    }
   ],
   "source": [
    "from sklearn.feature_selection import SelectKBest\n",
    "from sklearn.feature_selection import chi2\n",
    "\n",
    "# For getting details about SelectKbest method-\n",
    "#SelectKBest?\n",
    "\n",
    "sel = SelectKBest(chi2, k=2)\n",
    "sel.fit(X,y)"
   ]
  },
  {
   "cell_type": "code",
   "execution_count": 46,
   "metadata": {},
   "outputs": [
    {
     "data": {
      "text/plain": [
       "(3919, 2)"
      ]
     },
     "execution_count": 46,
     "metadata": {},
     "output_type": "execute_result"
    }
   ],
   "source": [
    "sel.transform(X).shape"
   ]
  },
  {
   "cell_type": "code",
   "execution_count": 49,
   "metadata": {},
   "outputs": [
    {
     "data": {
      "text/plain": [
       "array([[1., 2.],\n",
       "       [1., 1.],\n",
       "       [1., 2.],\n",
       "       ...,\n",
       "       [1., 2.],\n",
       "       [1., 1.],\n",
       "       [2., 1.]])"
      ]
     },
     "execution_count": 49,
     "metadata": {},
     "output_type": "execute_result"
    }
   ],
   "source": [
    "sel.transform(X)"
   ]
  },
  {
   "cell_type": "code",
   "execution_count": 50,
   "metadata": {},
   "outputs": [
    {
     "data": {
      "text/plain": [
       "(3919, 2)"
      ]
     },
     "execution_count": 50,
     "metadata": {},
     "output_type": "execute_result"
    }
   ],
   "source": [
    "sel.transform(X).shape"
   ]
  },
  {
   "cell_type": "code",
   "execution_count": 47,
   "metadata": {},
   "outputs": [
    {
     "data": {
      "text/plain": [
       "array([32.86163143,  1.80966662, 17.08720471])"
      ]
     },
     "execution_count": 47,
     "metadata": {},
     "output_type": "execute_result"
    }
   ],
   "source": [
    "sel.scores_"
   ]
  },
  {
   "cell_type": "code",
   "execution_count": null,
   "metadata": {},
   "outputs": [],
   "source": []
  }
 ],
 "metadata": {
  "kernelspec": {
   "display_name": "Python 3",
   "language": "python",
   "name": "python3"
  },
  "language_info": {
   "codemirror_mode": {
    "name": "ipython",
    "version": 3
   },
   "file_extension": ".py",
   "mimetype": "text/x-python",
   "name": "python",
   "nbconvert_exporter": "python",
   "pygments_lexer": "ipython3",
   "version": "3.6.4"
  }
 },
 "nbformat": 4,
 "nbformat_minor": 2
}
