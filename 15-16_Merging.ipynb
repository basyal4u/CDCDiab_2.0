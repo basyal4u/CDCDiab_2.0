{
 "cells": [
  {
   "cell_type": "markdown",
   "metadata": {},
   "source": [
    "# 15-16 Merging the data set\n",
    "\n",
    "### We have acquired the dataset from NAHNES under CDC.gov website. This is an open data repository. We had downloaded the data into 5 part- 1) Demographic, 2) Diatery, 3) Laboratory, 4) Examination, 5) Questionair. All the data is merged into one single file. \n"
   ]
  },
  {
   "cell_type": "code",
   "execution_count": 1,
   "metadata": {},
   "outputs": [],
   "source": [
    "import numpy as np\n",
    "import pandas as pd\n",
    "import matplotlib.pyplot as plt\n",
    "import glob \n",
    "import os\n",
    "import sys"
   ]
  },
  {
   "cell_type": "code",
   "execution_count": 2,
   "metadata": {},
   "outputs": [
    {
     "data": {
      "text/plain": [
       "'C:\\\\Users\\\\Ganga\\\\Desktop\\\\Research\\\\CDCDiab1\\\\15-16'"
      ]
     },
     "execution_count": 2,
     "metadata": {},
     "output_type": "execute_result"
    }
   ],
   "source": [
    "os.getcwd()"
   ]
  },
  {
   "cell_type": "code",
   "execution_count": 4,
   "metadata": {},
   "outputs": [
    {
     "name": "stdout",
     "output_type": "stream",
     "text": [
      "C:\\Users\\Ganga\\Desktop\\Research\\CDCDiab1\\15-16\\All\\ACQ_I.XPT\n",
      "C:\\Users\\Ganga\\Desktop\\Research\\CDCDiab1\\15-16\\All\\ALB_CR_I.XPT\n",
      "C:\\Users\\Ganga\\Desktop\\Research\\CDCDiab1\\15-16\\All\\ALQ_I.XPT\n",
      "C:\\Users\\Ganga\\Desktop\\Research\\CDCDiab1\\15-16\\All\\AUQ_I.XPT\n",
      "C:\\Users\\Ganga\\Desktop\\Research\\CDCDiab1\\15-16\\All\\BIOPRO_I.XPT\n",
      "C:\\Users\\Ganga\\Desktop\\Research\\CDCDiab1\\15-16\\All\\BMX_I.XPT\n",
      "C:\\Users\\Ganga\\Desktop\\Research\\CDCDiab1\\15-16\\All\\BPQ_I.XPT\n",
      "C:\\Users\\Ganga\\Desktop\\Research\\CDCDiab1\\15-16\\All\\BPX_I.XPT\n",
      "C:\\Users\\Ganga\\Desktop\\Research\\CDCDiab1\\15-16\\All\\CBC_I.XPT\n",
      "C:\\Users\\Ganga\\Desktop\\Research\\CDCDiab1\\15-16\\All\\CDQ_I.XPT\n",
      "C:\\Users\\Ganga\\Desktop\\Research\\CDCDiab1\\15-16\\All\\CHLMDA_I.XPT\n",
      "C:\\Users\\Ganga\\Desktop\\Research\\CDCDiab1\\15-16\\All\\CRCO_I.XPT\n",
      "C:\\Users\\Ganga\\Desktop\\Research\\CDCDiab1\\15-16\\All\\DEMO_I.XPT\n",
      "C:\\Users\\Ganga\\Desktop\\Research\\CDCDiab1\\15-16\\All\\DEQ_I.XPT\n",
      "C:\\Users\\Ganga\\Desktop\\Research\\CDCDiab1\\15-16\\All\\DIQ_I.XPT\n",
      "C:\\Users\\Ganga\\Desktop\\Research\\CDCDiab1\\15-16\\All\\DLQ_I.XPT\n",
      "C:\\Users\\Ganga\\Desktop\\Research\\CDCDiab1\\15-16\\All\\DPQ_I.XPT\n",
      "C:\\Users\\Ganga\\Desktop\\Research\\CDCDiab1\\15-16\\All\\DR1IFF_I.XPT\n",
      "C:\\Users\\Ganga\\Desktop\\Research\\CDCDiab1\\15-16\\All\\DR1TOT_I.XPT\n",
      "C:\\Users\\Ganga\\Desktop\\Research\\CDCDiab1\\15-16\\All\\DR2IFF_I.XPT\n",
      "C:\\Users\\Ganga\\Desktop\\Research\\CDCDiab1\\15-16\\All\\DR2TOT_I.XPT\n",
      "C:\\Users\\Ganga\\Desktop\\Research\\CDCDiab1\\15-16\\All\\DUQ_I.XPT\n",
      "C:\\Users\\Ganga\\Desktop\\Research\\CDCDiab1\\15-16\\All\\ECQ_I.XPT\n",
      "C:\\Users\\Ganga\\Desktop\\Research\\CDCDiab1\\15-16\\All\\FASTQX_I.XPT\n",
      "C:\\Users\\Ganga\\Desktop\\Research\\CDCDiab1\\15-16\\All\\FLDEP_I.XPT\n",
      "C:\\Users\\Ganga\\Desktop\\Research\\CDCDiab1\\15-16\\All\\FLDEW_I.XPT\n",
      "C:\\Users\\Ganga\\Desktop\\Research\\CDCDiab1\\15-16\\All\\GHB_I.XPT\n",
      "C:\\Users\\Ganga\\Desktop\\Research\\CDCDiab1\\15-16\\All\\GLU_I.XPT\n",
      "C:\\Users\\Ganga\\Desktop\\Research\\CDCDiab1\\15-16\\All\\HDL_I.XPT\n",
      "C:\\Users\\Ganga\\Desktop\\Research\\CDCDiab1\\15-16\\All\\HEPA_I.XPT\n",
      "C:\\Users\\Ganga\\Desktop\\Research\\CDCDiab1\\15-16\\All\\HEPBD_I.XPT\n",
      "C:\\Users\\Ganga\\Desktop\\Research\\CDCDiab1\\15-16\\All\\HEPB_S_I.XPT\n",
      "C:\\Users\\Ganga\\Desktop\\Research\\CDCDiab1\\15-16\\All\\HEPC_I.XPT\n",
      "C:\\Users\\Ganga\\Desktop\\Research\\CDCDiab1\\15-16\\All\\HEPE_I.XPT\n",
      "C:\\Users\\Ganga\\Desktop\\Research\\CDCDiab1\\15-16\\All\\HEQ_I.XPT\n",
      "C:\\Users\\Ganga\\Desktop\\Research\\CDCDiab1\\15-16\\All\\HIQ_I.XPT\n",
      "C:\\Users\\Ganga\\Desktop\\Research\\CDCDiab1\\15-16\\All\\HIV_I.XPT\n",
      "C:\\Users\\Ganga\\Desktop\\Research\\CDCDiab1\\15-16\\All\\HOQ_I.XPT\n",
      "C:\\Users\\Ganga\\Desktop\\Research\\CDCDiab1\\15-16\\All\\HSQ_I.XPT\n",
      "C:\\Users\\Ganga\\Desktop\\Research\\CDCDiab1\\15-16\\All\\HSV_I.XPT\n",
      "C:\\Users\\Ganga\\Desktop\\Research\\CDCDiab1\\15-16\\All\\HUQ_I.XPT\n",
      "C:\\Users\\Ganga\\Desktop\\Research\\CDCDiab1\\15-16\\All\\IHGEM_I.XPT\n",
      "C:\\Users\\Ganga\\Desktop\\Research\\CDCDiab1\\15-16\\All\\IMQ_I.XPT\n",
      "C:\\Users\\Ganga\\Desktop\\Research\\CDCDiab1\\15-16\\All\\INQ_I.XPT\n",
      "C:\\Users\\Ganga\\Desktop\\Research\\CDCDiab1\\15-16\\All\\INS_I.XPT\n",
      "C:\\Users\\Ganga\\Desktop\\Research\\CDCDiab1\\15-16\\All\\MCQ_I.XPT\n",
      "C:\\Users\\Ganga\\Desktop\\Research\\CDCDiab1\\15-16\\All\\OCQ_I.XPT\n",
      "C:\\Users\\Ganga\\Desktop\\Research\\CDCDiab1\\15-16\\All\\OGTT_I.XPT\n",
      "C:\\Users\\Ganga\\Desktop\\Research\\CDCDiab1\\15-16\\All\\OHQ_I.XPT\n",
      "C:\\Users\\Ganga\\Desktop\\Research\\CDCDiab1\\15-16\\All\\OHXDEN_I.XPT\n",
      "C:\\Users\\Ganga\\Desktop\\Research\\CDCDiab1\\15-16\\All\\OHXREF_I.XPT\n",
      "C:\\Users\\Ganga\\Desktop\\Research\\CDCDiab1\\15-16\\All\\PAQ_I.XPT\n",
      "C:\\Users\\Ganga\\Desktop\\Research\\CDCDiab1\\15-16\\All\\PBCD_I.XPT\n",
      "C:\\Users\\Ganga\\Desktop\\Research\\CDCDiab1\\15-16\\All\\PFQ_I.XPT\n",
      "C:\\Users\\Ganga\\Desktop\\Research\\CDCDiab1\\15-16\\All\\RHQ_I.XPT\n",
      "C:\\Users\\Ganga\\Desktop\\Research\\CDCDiab1\\15-16\\All\\SLQ_I.XPT\n",
      "C:\\Users\\Ganga\\Desktop\\Research\\CDCDiab1\\15-16\\All\\SMQFAM_I.XPT\n",
      "C:\\Users\\Ganga\\Desktop\\Research\\CDCDiab1\\15-16\\All\\SMQRTU_I.XPT\n",
      "C:\\Users\\Ganga\\Desktop\\Research\\CDCDiab1\\15-16\\All\\SMQSHS_I.XPT\n",
      "C:\\Users\\Ganga\\Desktop\\Research\\CDCDiab1\\15-16\\All\\SMQ_I.XPT\n",
      "C:\\Users\\Ganga\\Desktop\\Research\\CDCDiab1\\15-16\\All\\SXQ_I.XPT\n",
      "C:\\Users\\Ganga\\Desktop\\Research\\CDCDiab1\\15-16\\All\\TCHOL_I.XPT\n",
      "C:\\Users\\Ganga\\Desktop\\Research\\CDCDiab1\\15-16\\All\\TRICH_I.XPT\n",
      "C:\\Users\\Ganga\\Desktop\\Research\\CDCDiab1\\15-16\\All\\UASS_I.XPT\n",
      "C:\\Users\\Ganga\\Desktop\\Research\\CDCDiab1\\15-16\\All\\UAS_I.XPT\n",
      "C:\\Users\\Ganga\\Desktop\\Research\\CDCDiab1\\15-16\\All\\UCFLOW_I.XPT\n",
      "C:\\Users\\Ganga\\Desktop\\Research\\CDCDiab1\\15-16\\All\\UCPREG_I.XPT\n",
      "C:\\Users\\Ganga\\Desktop\\Research\\CDCDiab1\\15-16\\All\\UHG_I.XPT\n",
      "C:\\Users\\Ganga\\Desktop\\Research\\CDCDiab1\\15-16\\All\\UIO_I.XPT\n",
      "C:\\Users\\Ganga\\Desktop\\Research\\CDCDiab1\\15-16\\All\\UMS_I.XPT\n",
      "C:\\Users\\Ganga\\Desktop\\Research\\CDCDiab1\\15-16\\All\\UM_I.XPT\n",
      "C:\\Users\\Ganga\\Desktop\\Research\\CDCDiab1\\15-16\\All\\UTASS_I.XPT\n",
      "C:\\Users\\Ganga\\Desktop\\Research\\CDCDiab1\\15-16\\All\\UTAS_I.XPT\n",
      "C:\\Users\\Ganga\\Desktop\\Research\\CDCDiab1\\15-16\\All\\WHQMEC_I.XPT\n",
      "C:\\Users\\Ganga\\Desktop\\Research\\CDCDiab1\\15-16\\All\\WHQ_I.XPT\n"
     ]
    }
   ],
   "source": [
    "path = 'C:\\\\Users\\\\Ganga\\\\Desktop\\\\Research\\\\CDCDiab1\\\\15-16\\\\All'\n",
    "allFiles = glob.glob(os.path.join(path,\"*.xpt\"))\n",
    "\n",
    "data = np.array([np.arange(83732,99001)]).T\n",
    "All =pd.DataFrame(data, index = range(83731,99000),columns=['SEQN'])\n",
    "\n",
    "for infile in allFiles:\n",
    "    print(infile)\n",
    "    df = pd.read_sas(infile)\n",
    "    df['SEQN']=df['SEQN'].astype(int)\n",
    "    All = All.merge(df.drop_duplicates(subset=['SEQN']),on='SEQN', how='left')"
   ]
  },
  {
   "cell_type": "code",
   "execution_count": 5,
   "metadata": {},
   "outputs": [
    {
     "data": {
      "text/plain": [
       "(15269, 1648)"
      ]
     },
     "execution_count": 5,
     "metadata": {},
     "output_type": "execute_result"
    }
   ],
   "source": [
    "All.shape"
   ]
  },
  {
   "cell_type": "code",
   "execution_count": 6,
   "metadata": {},
   "outputs": [],
   "source": [
    "All.to_csv('All15-16.csv')"
   ]
  },
  {
   "cell_type": "code",
   "execution_count": null,
   "metadata": {},
   "outputs": [],
   "source": []
  }
 ],
 "metadata": {
  "kernelspec": {
   "display_name": "Python 3",
   "language": "python",
   "name": "python3"
  },
  "language_info": {
   "codemirror_mode": {
    "name": "ipython",
    "version": 3
   },
   "file_extension": ".py",
   "mimetype": "text/x-python",
   "name": "python",
   "nbconvert_exporter": "python",
   "pygments_lexer": "ipython3",
   "version": "3.6.4"
  }
 },
 "nbformat": 4,
 "nbformat_minor": 2
}
