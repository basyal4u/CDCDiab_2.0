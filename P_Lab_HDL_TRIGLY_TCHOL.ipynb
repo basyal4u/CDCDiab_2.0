{
 "cells": [
  {
   "cell_type": "markdown",
   "metadata": {},
   "source": [
    "#  Processing Laboratory - Cholesterol File (HDL, TRIGLY,TCHOL) "
   ]
  },
  {
   "cell_type": "code",
   "execution_count": 1,
   "metadata": {},
   "outputs": [],
   "source": [
    "import numpy as np\n",
    "import pandas as pd\n",
    "import glob \n",
    "import os\n",
    "import sys"
   ]
  },
  {
   "cell_type": "code",
   "execution_count": 2,
   "metadata": {},
   "outputs": [
    {
     "data": {
      "text/plain": [
       "'C:\\\\Users\\\\Ganga\\\\Desktop\\\\Research\\\\CDCDiab_2.0\\\\Code'"
      ]
     },
     "execution_count": 2,
     "metadata": {},
     "output_type": "execute_result"
    }
   ],
   "source": [
    "os.getcwd()"
   ]
  },
  {
   "cell_type": "code",
   "execution_count": null,
   "metadata": {},
   "outputs": [],
   "source": [
    "# Select working directory\n",
    "# %cd C:\\Users\\Ganga\\Desktop\\Research\\CDCDiab_2.0\\Data\\07-08\\Examination\n",
    "#%cd /Users/elgayaro/Main/Research/Healthcare/CDC-NHANES/Data/07-08/Examination"
   ]
  },
  {
   "cell_type": "code",
   "execution_count": null,
   "metadata": {},
   "outputs": [],
   "source": [
    "#os.getcwd()"
   ]
  },
  {
   "cell_type": "code",
   "execution_count": null,
   "metadata": {},
   "outputs": [],
   "source": [
    "# Omar\n",
    "#allFiles = glob.glob(os.path.join('.',\"*.XPT\"))\n",
    "#print(allFiles)"
   ]
  },
  {
   "cell_type": "code",
   "execution_count": null,
   "metadata": {},
   "outputs": [],
   "source": [
    "# Omar\n",
    "# Set desired file name\n",
    "# fname = '.\\\\BMX_E.XPT'  # Ganga\n",
    "#fname = './BMX_E.XPT'   # Omar\n",
    "#BMX = pd.read_sas(fname, index='SEQN')\n",
    "#BMX.shape"
   ]
  },
  {
   "cell_type": "code",
   "execution_count": 3,
   "metadata": {},
   "outputs": [
    {
     "name": "stdout",
     "output_type": "stream",
     "text": [
      "['C:\\\\Users\\\\Ganga\\\\Desktop\\\\Research\\\\CDCDiab_2.0\\\\Data\\\\07-08\\\\Lab\\\\ALB_CR_E.XPT', 'C:\\\\Users\\\\Ganga\\\\Desktop\\\\Research\\\\CDCDiab_2.0\\\\Data\\\\07-08\\\\Lab\\\\APOB_E.XPT', 'C:\\\\Users\\\\Ganga\\\\Desktop\\\\Research\\\\CDCDiab_2.0\\\\Data\\\\07-08\\\\Lab\\\\BIOPRO_E.XPT', 'C:\\\\Users\\\\Ganga\\\\Desktop\\\\Research\\\\CDCDiab_2.0\\\\Data\\\\07-08\\\\Lab\\\\CARB_E.XPT', 'C:\\\\Users\\\\Ganga\\\\Desktop\\\\Research\\\\CDCDiab_2.0\\\\Data\\\\07-08\\\\Lab\\\\CBC_E.XPT', 'C:\\\\Users\\\\Ganga\\\\Desktop\\\\Research\\\\CDCDiab_2.0\\\\Data\\\\07-08\\\\Lab\\\\CHLMDA_E.XPT', 'C:\\\\Users\\\\Ganga\\\\Desktop\\\\Research\\\\CDCDiab_2.0\\\\Data\\\\07-08\\\\Lab\\\\COTNAL_E.XPT', 'C:\\\\Users\\\\Ganga\\\\Desktop\\\\Research\\\\CDCDiab_2.0\\\\Data\\\\07-08\\\\Lab\\\\CRP_E.XPT', 'C:\\\\Users\\\\Ganga\\\\Desktop\\\\Research\\\\CDCDiab_2.0\\\\Data\\\\07-08\\\\Lab\\\\DEET_E.XPT', 'C:\\\\Users\\\\Ganga\\\\Desktop\\\\Research\\\\CDCDiab_2.0\\\\Data\\\\07-08\\\\Lab\\\\EPH_E.XPT', 'C:\\\\Users\\\\Ganga\\\\Desktop\\\\Research\\\\CDCDiab_2.0\\\\Data\\\\07-08\\\\Lab\\\\FASTQX_E.XPT', 'C:\\\\Users\\\\Ganga\\\\Desktop\\\\Research\\\\CDCDiab_2.0\\\\Data\\\\07-08\\\\Lab\\\\FERTIN_E.XPT', 'C:\\\\Users\\\\Ganga\\\\Desktop\\\\Research\\\\CDCDiab_2.0\\\\Data\\\\07-08\\\\Lab\\\\FOLATE_E.XPT', 'C:\\\\Users\\\\Ganga\\\\Desktop\\\\Research\\\\CDCDiab_2.0\\\\Data\\\\07-08\\\\Lab\\\\FOLFMS_E.XPT', 'C:\\\\Users\\\\Ganga\\\\Desktop\\\\Research\\\\CDCDiab_2.0\\\\Data\\\\07-08\\\\Lab\\\\GHB_E.XPT', 'C:\\\\Users\\\\Ganga\\\\Desktop\\\\Research\\\\CDCDiab_2.0\\\\Data\\\\07-08\\\\Lab\\\\GLU_E.XPT', 'C:\\\\Users\\\\Ganga\\\\Desktop\\\\Research\\\\CDCDiab_2.0\\\\Data\\\\07-08\\\\Lab\\\\HDL_E.XPT', 'C:\\\\Users\\\\Ganga\\\\Desktop\\\\Research\\\\CDCDiab_2.0\\\\Data\\\\07-08\\\\Lab\\\\HEPA_E.XPT', 'C:\\\\Users\\\\Ganga\\\\Desktop\\\\Research\\\\CDCDiab_2.0\\\\Data\\\\07-08\\\\Lab\\\\HEPBD_E.XPT', 'C:\\\\Users\\\\Ganga\\\\Desktop\\\\Research\\\\CDCDiab_2.0\\\\Data\\\\07-08\\\\Lab\\\\HEPB_S_E.XPT', 'C:\\\\Users\\\\Ganga\\\\Desktop\\\\Research\\\\CDCDiab_2.0\\\\Data\\\\07-08\\\\Lab\\\\HEPC_E.XPT', 'C:\\\\Users\\\\Ganga\\\\Desktop\\\\Research\\\\CDCDiab_2.0\\\\Data\\\\07-08\\\\Lab\\\\HIV_E.XPT', 'C:\\\\Users\\\\Ganga\\\\Desktop\\\\Research\\\\CDCDiab_2.0\\\\Data\\\\07-08\\\\Lab\\\\HPVSER_E.XPT', 'C:\\\\Users\\\\Ganga\\\\Desktop\\\\Research\\\\CDCDiab_2.0\\\\Data\\\\07-08\\\\Lab\\\\HPVSWR_E.XPT', 'C:\\\\Users\\\\Ganga\\\\Desktop\\\\Research\\\\CDCDiab_2.0\\\\Data\\\\07-08\\\\Lab\\\\HSV_E.XPT', 'C:\\\\Users\\\\Ganga\\\\Desktop\\\\Research\\\\CDCDiab_2.0\\\\Data\\\\07-08\\\\Lab\\\\IHG_E.XPT', 'C:\\\\Users\\\\Ganga\\\\Desktop\\\\Research\\\\CDCDiab_2.0\\\\Data\\\\07-08\\\\Lab\\\\OGTT_E.XPT', 'C:\\\\Users\\\\Ganga\\\\Desktop\\\\Research\\\\CDCDiab_2.0\\\\Data\\\\07-08\\\\Lab\\\\OPD_E.XPT', 'C:\\\\Users\\\\Ganga\\\\Desktop\\\\Research\\\\CDCDiab_2.0\\\\Data\\\\07-08\\\\Lab\\\\PAH_E.XPT', 'C:\\\\Users\\\\Ganga\\\\Desktop\\\\Research\\\\CDCDiab_2.0\\\\Data\\\\07-08\\\\Lab\\\\PBCD_E.XPT', 'C:\\\\Users\\\\Ganga\\\\Desktop\\\\Research\\\\CDCDiab_2.0\\\\Data\\\\07-08\\\\Lab\\\\PERNT_E.XPT', 'C:\\\\Users\\\\Ganga\\\\Desktop\\\\Research\\\\CDCDiab_2.0\\\\Data\\\\07-08\\\\Lab\\\\PFC_E.XPT', 'C:\\\\Users\\\\Ganga\\\\Desktop\\\\Research\\\\CDCDiab_2.0\\\\Data\\\\07-08\\\\Lab\\\\PHTHTE_E.XPT', 'C:\\\\Users\\\\Ganga\\\\Desktop\\\\Research\\\\CDCDiab_2.0\\\\Data\\\\07-08\\\\Lab\\\\PHYTO_E.XPT', 'C:\\\\Users\\\\Ganga\\\\Desktop\\\\Research\\\\CDCDiab_2.0\\\\Data\\\\07-08\\\\Lab\\\\PP_E.XPT', 'C:\\\\Users\\\\Ganga\\\\Desktop\\\\Research\\\\CDCDiab_2.0\\\\Data\\\\07-08\\\\Lab\\\\PSA_E.XPT', 'C:\\\\Users\\\\Ganga\\\\Desktop\\\\Research\\\\CDCDiab_2.0\\\\Data\\\\07-08\\\\Lab\\\\SSEBV_E.XPT', 'C:\\\\Users\\\\Ganga\\\\Desktop\\\\Research\\\\CDCDiab_2.0\\\\Data\\\\07-08\\\\Lab\\\\SSHCV_E.XPT', 'C:\\\\Users\\\\Ganga\\\\Desktop\\\\Research\\\\CDCDiab_2.0\\\\Data\\\\07-08\\\\Lab\\\\SSUSG_E.XPT', 'C:\\\\Users\\\\Ganga\\\\Desktop\\\\Research\\\\CDCDiab_2.0\\\\Data\\\\07-08\\\\Lab\\\\TCHOL_E.XPT', 'C:\\\\Users\\\\Ganga\\\\Desktop\\\\Research\\\\CDCDiab_2.0\\\\Data\\\\07-08\\\\Lab\\\\TFR_E.XPT', 'C:\\\\Users\\\\Ganga\\\\Desktop\\\\Research\\\\CDCDiab_2.0\\\\Data\\\\07-08\\\\Lab\\\\THYROD_E.XPT', 'C:\\\\Users\\\\Ganga\\\\Desktop\\\\Research\\\\CDCDiab_2.0\\\\Data\\\\07-08\\\\Lab\\\\TRIGLY_E.XPT', 'C:\\\\Users\\\\Ganga\\\\Desktop\\\\Research\\\\CDCDiab_2.0\\\\Data\\\\07-08\\\\Lab\\\\UAM_E.XPT', 'C:\\\\Users\\\\Ganga\\\\Desktop\\\\Research\\\\CDCDiab_2.0\\\\Data\\\\07-08\\\\Lab\\\\UAS_E.XPT', 'C:\\\\Users\\\\Ganga\\\\Desktop\\\\Research\\\\CDCDiab_2.0\\\\Data\\\\07-08\\\\Lab\\\\UCPREG_E.XPT', 'C:\\\\Users\\\\Ganga\\\\Desktop\\\\Research\\\\CDCDiab_2.0\\\\Data\\\\07-08\\\\Lab\\\\UHG_E.XPT', 'C:\\\\Users\\\\Ganga\\\\Desktop\\\\Research\\\\CDCDiab_2.0\\\\Data\\\\07-08\\\\Lab\\\\UHM_E.XPT', 'C:\\\\Users\\\\Ganga\\\\Desktop\\\\Research\\\\CDCDiab_2.0\\\\Data\\\\07-08\\\\Lab\\\\UIO_E.XPT', 'C:\\\\Users\\\\Ganga\\\\Desktop\\\\Research\\\\CDCDiab_2.0\\\\Data\\\\07-08\\\\Lab\\\\UPHOPM_E.XPT', 'C:\\\\Users\\\\Ganga\\\\Desktop\\\\Research\\\\CDCDiab_2.0\\\\Data\\\\07-08\\\\Lab\\\\UPP_E.XPT', 'C:\\\\Users\\\\Ganga\\\\Desktop\\\\Research\\\\CDCDiab_2.0\\\\Data\\\\07-08\\\\Lab\\\\VID_E.XPT', 'C:\\\\Users\\\\Ganga\\\\Desktop\\\\Research\\\\CDCDiab_2.0\\\\Data\\\\07-08\\\\Lab\\\\VIT_B6_E.XPT', 'C:\\\\Users\\\\Ganga\\\\Desktop\\\\Research\\\\CDCDiab_2.0\\\\Data\\\\07-08\\\\Lab\\\\VOCMWB_E.XPT', 'C:\\\\Users\\\\Ganga\\\\Desktop\\\\Research\\\\CDCDiab_2.0\\\\Data\\\\07-08\\\\Lab\\\\VOCWB_E.XPT', 'C:\\\\Users\\\\Ganga\\\\Desktop\\\\Research\\\\CDCDiab_2.0\\\\Data\\\\07-08\\\\Lab\\\\VOC_E.XPT']\n"
     ]
    }
   ],
   "source": [
    "path = 'C:\\\\Users\\\\Ganga\\\\Desktop\\\\Research\\\\CDCDiab_2.0\\\\Data\\\\07-08\\\\Lab'\n",
    "allFiles = glob.glob(os.path.join(path,\"*.XPT\"))\n",
    "print(allFiles)"
   ]
  },
  {
   "cell_type": "code",
   "execution_count": 4,
   "metadata": {},
   "outputs": [
    {
     "data": {
      "text/plain": [
       "(8132, 2)"
      ]
     },
     "execution_count": 4,
     "metadata": {},
     "output_type": "execute_result"
    }
   ],
   "source": [
    "HDL = pd.read_sas('C:\\\\Users\\\\Ganga\\\\Desktop\\\\Research\\\\CDCDiab_2.0\\\\Data\\\\07-08\\\\Lab\\\\HDL_E.XPT', index='SEQN')\n",
    "HDL.shape"
   ]
  },
  {
   "cell_type": "code",
   "execution_count": 5,
   "metadata": {},
   "outputs": [
    {
     "data": {
      "text/plain": [
       "(3315, 5)"
      ]
     },
     "execution_count": 5,
     "metadata": {},
     "output_type": "execute_result"
    }
   ],
   "source": [
    "LDL = pd.read_sas('C:\\\\Users\\\\Ganga\\\\Desktop\\\\Research\\\\CDCDiab_2.0\\\\Data\\\\07-08\\\\Lab\\\\TRIGLY_E.XPT', index='SEQN')\n",
    "LDL.shape"
   ]
  },
  {
   "cell_type": "code",
   "execution_count": 21,
   "metadata": {},
   "outputs": [
    {
     "data": {
      "text/plain": [
       "(8132, 2)"
      ]
     },
     "execution_count": 21,
     "metadata": {},
     "output_type": "execute_result"
    }
   ],
   "source": [
    "Total_chol = pd.read_sas('C:\\\\Users\\\\Ganga\\\\Desktop\\\\Research\\\\CDCDiab_2.0\\\\Data\\\\07-08\\\\Lab\\\\TCHOL_E.XPT', index='SEQN')\n",
    "Total_chol.shape"
   ]
  },
  {
   "cell_type": "code",
   "execution_count": 7,
   "metadata": {},
   "outputs": [
    {
     "name": "stdout",
     "output_type": "stream",
     "text": [
      "['LBDHDD', 'LBDHDDSI'] ['LBDLDL', 'LBDLDLSI', 'LBDTRSI', 'LBXTR', 'WTSAF2YR'] ['LBDTCSI', 'LBXTC']\n"
     ]
    }
   ],
   "source": [
    "A = set(HDL.columns)\n",
    "B = set(LDL.columns)\n",
    "C = set(Total_chol.columns)\n",
    "print(sorted(A),sorted(B),sorted(C))"
   ]
  },
  {
   "cell_type": "code",
   "execution_count": 15,
   "metadata": {},
   "outputs": [
    {
     "data": {
      "text/plain": [
       "(LBDHDD      float64\n",
       " LBDHDDSI    float64\n",
       " dtype: object, WTSAF2YR    float64\n",
       " LBXTR       float64\n",
       " LBDTRSI     float64\n",
       " LBDLDL      float64\n",
       " LBDLDLSI    float64\n",
       " dtype: object, LBXTC      float64\n",
       " LBDTCSI    float64\n",
       " dtype: object)"
      ]
     },
     "execution_count": 15,
     "metadata": {},
     "output_type": "execute_result"
    }
   ],
   "source": [
    "HDL.dtypes,LDL.dtypes,Total_chol.dtypes"
   ]
  },
  {
   "cell_type": "code",
   "execution_count": 18,
   "metadata": {},
   "outputs": [
    {
     "data": {
      "text/html": [
       "<div>\n",
       "<style scoped>\n",
       "    .dataframe tbody tr th:only-of-type {\n",
       "        vertical-align: middle;\n",
       "    }\n",
       "\n",
       "    .dataframe tbody tr th {\n",
       "        vertical-align: top;\n",
       "    }\n",
       "\n",
       "    .dataframe thead th {\n",
       "        text-align: right;\n",
       "    }\n",
       "</style>\n",
       "<table border=\"1\" class=\"dataframe\">\n",
       "  <thead>\n",
       "    <tr style=\"text-align: right;\">\n",
       "      <th></th>\n",
       "      <th>count</th>\n",
       "      <th>mean</th>\n",
       "      <th>std</th>\n",
       "      <th>min</th>\n",
       "      <th>25%</th>\n",
       "      <th>50%</th>\n",
       "      <th>75%</th>\n",
       "      <th>max</th>\n",
       "    </tr>\n",
       "  </thead>\n",
       "  <tbody>\n",
       "    <tr>\n",
       "      <th>LBDHDD</th>\n",
       "      <td>7387.0</td>\n",
       "      <td>52.036686</td>\n",
       "      <td>15.141436</td>\n",
       "      <td>7.00</td>\n",
       "      <td>41.00</td>\n",
       "      <td>50.00</td>\n",
       "      <td>61.00</td>\n",
       "      <td>155.00</td>\n",
       "    </tr>\n",
       "    <tr>\n",
       "      <th>LBDHDDSI</th>\n",
       "      <td>7387.0</td>\n",
       "      <td>1.345757</td>\n",
       "      <td>0.391473</td>\n",
       "      <td>0.18</td>\n",
       "      <td>1.06</td>\n",
       "      <td>1.29</td>\n",
       "      <td>1.58</td>\n",
       "      <td>4.01</td>\n",
       "    </tr>\n",
       "  </tbody>\n",
       "</table>\n",
       "</div>"
      ],
      "text/plain": [
       "           count       mean        std   min    25%    50%    75%     max\n",
       "LBDHDD    7387.0  52.036686  15.141436  7.00  41.00  50.00  61.00  155.00\n",
       "LBDHDDSI  7387.0   1.345757   0.391473  0.18   1.06   1.29   1.58    4.01"
      ]
     },
     "execution_count": 18,
     "metadata": {},
     "output_type": "execute_result"
    }
   ],
   "source": [
    "HDL.describe().T"
   ]
  },
  {
   "cell_type": "code",
   "execution_count": 19,
   "metadata": {},
   "outputs": [
    {
     "data": {
      "text/html": [
       "<div>\n",
       "<style scoped>\n",
       "    .dataframe tbody tr th:only-of-type {\n",
       "        vertical-align: middle;\n",
       "    }\n",
       "\n",
       "    .dataframe tbody tr th {\n",
       "        vertical-align: top;\n",
       "    }\n",
       "\n",
       "    .dataframe thead th {\n",
       "        text-align: right;\n",
       "    }\n",
       "</style>\n",
       "<table border=\"1\" class=\"dataframe\">\n",
       "  <thead>\n",
       "    <tr style=\"text-align: right;\">\n",
       "      <th></th>\n",
       "      <th>count</th>\n",
       "      <th>mean</th>\n",
       "      <th>std</th>\n",
       "      <th>min</th>\n",
       "      <th>25%</th>\n",
       "      <th>50%</th>\n",
       "      <th>75%</th>\n",
       "      <th>max</th>\n",
       "    </tr>\n",
       "  </thead>\n",
       "  <tbody>\n",
       "    <tr>\n",
       "      <th>WTSAF2YR</th>\n",
       "      <td>3315.0</td>\n",
       "      <td>74986.722745</td>\n",
       "      <td>72617.987905</td>\n",
       "      <td>5.397605e-79</td>\n",
       "      <td>26034.830</td>\n",
       "      <td>54827.201</td>\n",
       "      <td>94336.2335</td>\n",
       "      <td>404655.623</td>\n",
       "    </tr>\n",
       "    <tr>\n",
       "      <th>LBXTR</th>\n",
       "      <td>3099.0</td>\n",
       "      <td>131.477896</td>\n",
       "      <td>112.959009</td>\n",
       "      <td>1.200000e+01</td>\n",
       "      <td>73.000</td>\n",
       "      <td>107.000</td>\n",
       "      <td>158.0000</td>\n",
       "      <td>2549.000</td>\n",
       "    </tr>\n",
       "    <tr>\n",
       "      <th>LBDTRSI</th>\n",
       "      <td>3099.0</td>\n",
       "      <td>1.484389</td>\n",
       "      <td>1.275303</td>\n",
       "      <td>1.350000e-01</td>\n",
       "      <td>0.824</td>\n",
       "      <td>1.208</td>\n",
       "      <td>1.7840</td>\n",
       "      <td>28.778</td>\n",
       "    </tr>\n",
       "    <tr>\n",
       "      <th>LBDLDL</th>\n",
       "      <td>3035.0</td>\n",
       "      <td>110.910049</td>\n",
       "      <td>35.766973</td>\n",
       "      <td>2.300000e+01</td>\n",
       "      <td>85.000</td>\n",
       "      <td>108.000</td>\n",
       "      <td>132.0000</td>\n",
       "      <td>344.000</td>\n",
       "    </tr>\n",
       "    <tr>\n",
       "      <th>LBDLDLSI</th>\n",
       "      <td>3035.0</td>\n",
       "      <td>2.868153</td>\n",
       "      <td>0.924939</td>\n",
       "      <td>5.950000e-01</td>\n",
       "      <td>2.198</td>\n",
       "      <td>2.793</td>\n",
       "      <td>3.4140</td>\n",
       "      <td>8.896</td>\n",
       "    </tr>\n",
       "  </tbody>\n",
       "</table>\n",
       "</div>"
      ],
      "text/plain": [
       "           count          mean           std           min        25%  \\\n",
       "WTSAF2YR  3315.0  74986.722745  72617.987905  5.397605e-79  26034.830   \n",
       "LBXTR     3099.0    131.477896    112.959009  1.200000e+01     73.000   \n",
       "LBDTRSI   3099.0      1.484389      1.275303  1.350000e-01      0.824   \n",
       "LBDLDL    3035.0    110.910049     35.766973  2.300000e+01     85.000   \n",
       "LBDLDLSI  3035.0      2.868153      0.924939  5.950000e-01      2.198   \n",
       "\n",
       "                50%         75%         max  \n",
       "WTSAF2YR  54827.201  94336.2335  404655.623  \n",
       "LBXTR       107.000    158.0000    2549.000  \n",
       "LBDTRSI       1.208      1.7840      28.778  \n",
       "LBDLDL      108.000    132.0000     344.000  \n",
       "LBDLDLSI      2.793      3.4140       8.896  "
      ]
     },
     "execution_count": 19,
     "metadata": {},
     "output_type": "execute_result"
    }
   ],
   "source": [
    "LDL.describe().T"
   ]
  },
  {
   "cell_type": "code",
   "execution_count": 22,
   "metadata": {},
   "outputs": [
    {
     "data": {
      "text/html": [
       "<div>\n",
       "<style scoped>\n",
       "    .dataframe tbody tr th:only-of-type {\n",
       "        vertical-align: middle;\n",
       "    }\n",
       "\n",
       "    .dataframe tbody tr th {\n",
       "        vertical-align: top;\n",
       "    }\n",
       "\n",
       "    .dataframe thead th {\n",
       "        text-align: right;\n",
       "    }\n",
       "</style>\n",
       "<table border=\"1\" class=\"dataframe\">\n",
       "  <thead>\n",
       "    <tr style=\"text-align: right;\">\n",
       "      <th></th>\n",
       "      <th>count</th>\n",
       "      <th>mean</th>\n",
       "      <th>std</th>\n",
       "      <th>min</th>\n",
       "      <th>25%</th>\n",
       "      <th>50%</th>\n",
       "      <th>75%</th>\n",
       "      <th>max</th>\n",
       "    </tr>\n",
       "  </thead>\n",
       "  <tbody>\n",
       "    <tr>\n",
       "      <th>LBXTC</th>\n",
       "      <td>7387.0</td>\n",
       "      <td>186.674699</td>\n",
       "      <td>42.151011</td>\n",
       "      <td>78.00</td>\n",
       "      <td>156.00</td>\n",
       "      <td>181.00</td>\n",
       "      <td>212.00</td>\n",
       "      <td>460.0</td>\n",
       "    </tr>\n",
       "    <tr>\n",
       "      <th>LBDTCSI</th>\n",
       "      <td>7387.0</td>\n",
       "      <td>4.827466</td>\n",
       "      <td>1.090053</td>\n",
       "      <td>2.02</td>\n",
       "      <td>4.03</td>\n",
       "      <td>4.68</td>\n",
       "      <td>5.48</td>\n",
       "      <td>11.9</td>\n",
       "    </tr>\n",
       "  </tbody>\n",
       "</table>\n",
       "</div>"
      ],
      "text/plain": [
       "          count        mean        std    min     25%     50%     75%    max\n",
       "LBXTC    7387.0  186.674699  42.151011  78.00  156.00  181.00  212.00  460.0\n",
       "LBDTCSI  7387.0    4.827466   1.090053   2.02    4.03    4.68    5.48   11.9"
      ]
     },
     "execution_count": 22,
     "metadata": {},
     "output_type": "execute_result"
    }
   ],
   "source": [
    "Total_chol.describe().T"
   ]
  },
  {
   "cell_type": "code",
   "execution_count": 31,
   "metadata": {},
   "outputs": [
    {
     "data": {
      "text/html": [
       "<div>\n",
       "<style scoped>\n",
       "    .dataframe tbody tr th:only-of-type {\n",
       "        vertical-align: middle;\n",
       "    }\n",
       "\n",
       "    .dataframe tbody tr th {\n",
       "        vertical-align: top;\n",
       "    }\n",
       "\n",
       "    .dataframe thead th {\n",
       "        text-align: right;\n",
       "    }\n",
       "</style>\n",
       "<table border=\"1\" class=\"dataframe\">\n",
       "  <thead>\n",
       "    <tr style=\"text-align: right;\">\n",
       "      <th></th>\n",
       "      <th>count</th>\n",
       "      <th>mean</th>\n",
       "      <th>std</th>\n",
       "      <th>min</th>\n",
       "      <th>25%</th>\n",
       "      <th>50%</th>\n",
       "      <th>75%</th>\n",
       "      <th>max</th>\n",
       "    </tr>\n",
       "  </thead>\n",
       "  <tbody>\n",
       "    <tr>\n",
       "      <th>LBDHDD</th>\n",
       "      <td>7387.0</td>\n",
       "      <td>52.036686</td>\n",
       "      <td>15.141436</td>\n",
       "      <td>7.000000e+00</td>\n",
       "      <td>41.000</td>\n",
       "      <td>50.000</td>\n",
       "      <td>61.0000</td>\n",
       "      <td>155.000</td>\n",
       "    </tr>\n",
       "    <tr>\n",
       "      <th>LBDHDDSI</th>\n",
       "      <td>7387.0</td>\n",
       "      <td>1.345757</td>\n",
       "      <td>0.391473</td>\n",
       "      <td>1.800000e-01</td>\n",
       "      <td>1.060</td>\n",
       "      <td>1.290</td>\n",
       "      <td>1.5800</td>\n",
       "      <td>4.010</td>\n",
       "    </tr>\n",
       "    <tr>\n",
       "      <th>WTSAF2YR</th>\n",
       "      <td>3315.0</td>\n",
       "      <td>74986.722745</td>\n",
       "      <td>72617.987905</td>\n",
       "      <td>5.397605e-79</td>\n",
       "      <td>26034.830</td>\n",
       "      <td>54827.201</td>\n",
       "      <td>94336.2335</td>\n",
       "      <td>404655.623</td>\n",
       "    </tr>\n",
       "    <tr>\n",
       "      <th>LBXTR</th>\n",
       "      <td>3099.0</td>\n",
       "      <td>131.477896</td>\n",
       "      <td>112.959009</td>\n",
       "      <td>1.200000e+01</td>\n",
       "      <td>73.000</td>\n",
       "      <td>107.000</td>\n",
       "      <td>158.0000</td>\n",
       "      <td>2549.000</td>\n",
       "    </tr>\n",
       "    <tr>\n",
       "      <th>LBDTRSI</th>\n",
       "      <td>3099.0</td>\n",
       "      <td>1.484389</td>\n",
       "      <td>1.275303</td>\n",
       "      <td>1.350000e-01</td>\n",
       "      <td>0.824</td>\n",
       "      <td>1.208</td>\n",
       "      <td>1.7840</td>\n",
       "      <td>28.778</td>\n",
       "    </tr>\n",
       "    <tr>\n",
       "      <th>LBDLDL</th>\n",
       "      <td>3035.0</td>\n",
       "      <td>110.910049</td>\n",
       "      <td>35.766973</td>\n",
       "      <td>2.300000e+01</td>\n",
       "      <td>85.000</td>\n",
       "      <td>108.000</td>\n",
       "      <td>132.0000</td>\n",
       "      <td>344.000</td>\n",
       "    </tr>\n",
       "    <tr>\n",
       "      <th>LBDLDLSI</th>\n",
       "      <td>3035.0</td>\n",
       "      <td>2.868153</td>\n",
       "      <td>0.924939</td>\n",
       "      <td>5.950000e-01</td>\n",
       "      <td>2.198</td>\n",
       "      <td>2.793</td>\n",
       "      <td>3.4140</td>\n",
       "      <td>8.896</td>\n",
       "    </tr>\n",
       "    <tr>\n",
       "      <th>LBXTC</th>\n",
       "      <td>7387.0</td>\n",
       "      <td>186.674699</td>\n",
       "      <td>42.151011</td>\n",
       "      <td>7.800000e+01</td>\n",
       "      <td>156.000</td>\n",
       "      <td>181.000</td>\n",
       "      <td>212.0000</td>\n",
       "      <td>460.000</td>\n",
       "    </tr>\n",
       "    <tr>\n",
       "      <th>LBDTCSI</th>\n",
       "      <td>7387.0</td>\n",
       "      <td>4.827466</td>\n",
       "      <td>1.090053</td>\n",
       "      <td>2.020000e+00</td>\n",
       "      <td>4.030</td>\n",
       "      <td>4.680</td>\n",
       "      <td>5.4800</td>\n",
       "      <td>11.900</td>\n",
       "    </tr>\n",
       "  </tbody>\n",
       "</table>\n",
       "</div>"
      ],
      "text/plain": [
       "           count          mean           std           min        25%  \\\n",
       "LBDHDD    7387.0     52.036686     15.141436  7.000000e+00     41.000   \n",
       "LBDHDDSI  7387.0      1.345757      0.391473  1.800000e-01      1.060   \n",
       "WTSAF2YR  3315.0  74986.722745  72617.987905  5.397605e-79  26034.830   \n",
       "LBXTR     3099.0    131.477896    112.959009  1.200000e+01     73.000   \n",
       "LBDTRSI   3099.0      1.484389      1.275303  1.350000e-01      0.824   \n",
       "LBDLDL    3035.0    110.910049     35.766973  2.300000e+01     85.000   \n",
       "LBDLDLSI  3035.0      2.868153      0.924939  5.950000e-01      2.198   \n",
       "LBXTC     7387.0    186.674699     42.151011  7.800000e+01    156.000   \n",
       "LBDTCSI   7387.0      4.827466      1.090053  2.020000e+00      4.030   \n",
       "\n",
       "                50%         75%         max  \n",
       "LBDHDD       50.000     61.0000     155.000  \n",
       "LBDHDDSI      1.290      1.5800       4.010  \n",
       "WTSAF2YR  54827.201  94336.2335  404655.623  \n",
       "LBXTR       107.000    158.0000    2549.000  \n",
       "LBDTRSI       1.208      1.7840      28.778  \n",
       "LBDLDL      108.000    132.0000     344.000  \n",
       "LBDLDLSI      2.793      3.4140       8.896  \n",
       "LBXTC       181.000    212.0000     460.000  \n",
       "LBDTCSI       4.680      5.4800      11.900  "
      ]
     },
     "execution_count": 31,
     "metadata": {},
     "output_type": "execute_result"
    }
   ],
   "source": [
    "#Please run the notebook till bottom\n",
    "Chol_reading_all.describe().T"
   ]
  },
  {
   "cell_type": "code",
   "execution_count": 32,
   "metadata": {},
   "outputs": [],
   "source": [
    "Chol_reading_all.describe().T.to_csv('Chol_Select.csv')"
   ]
  },
  {
   "cell_type": "markdown",
   "metadata": {},
   "source": [
    "# Processing Column of all 3 Cholesterol Files\n",
    "\n",
    "## We read three different file containing different form of Cholesterol. \n",
    "## HDL, LDL and total cholesterol"
   ]
  },
  {
   "cell_type": "code",
   "execution_count": 24,
   "metadata": {},
   "outputs": [
    {
     "name": "stdout",
     "output_type": "stream",
     "text": [
      "HDL_reading1 shape =  (8132, 2)\n",
      "         LBDHDD  LBDHDDSI\n",
      "SEQN                     \n",
      "41475.0    47.0      1.22\n",
      "41476.0    45.0      1.16\n",
      "41477.0    34.0      0.88\n",
      "41479.0    47.0      1.22\n",
      "41480.0     NaN       NaN\n",
      "            LBDHDD     LBDHDDSI\n",
      "count  7387.000000  7387.000000\n",
      "mean     52.036686     1.345757\n",
      "std      15.141436     0.391473\n",
      "min       7.000000     0.180000\n",
      "25%      41.000000     1.060000\n",
      "50%      50.000000     1.290000\n",
      "75%      61.000000     1.580000\n",
      "max     155.000000     4.010000\n"
     ]
    }
   ],
   "source": [
    "HDL_reading1 = HDL\n",
    "print('HDL_reading1 shape = ', HDL_reading1.shape)\n",
    "print(HDL_reading1.head())\n",
    "print(HDL_reading1.describe())"
   ]
  },
  {
   "cell_type": "code",
   "execution_count": 25,
   "metadata": {},
   "outputs": [
    {
     "name": "stdout",
     "output_type": "stream",
     "text": [
      "LDL_reading1 shape =  (3315, 5)\n",
      "             WTSAF2YR  LBXTR  LBDTRSI  LBDLDL  LBDLDLSI\n",
      "SEQN                                                   \n",
      "41479.0  1.998360e+04   99.0    1.118   121.0     3.129\n",
      "41481.0  5.397605e-79    NaN      NaN     NaN       NaN\n",
      "41485.0  4.344144e+04  172.0    1.942   119.0     3.077\n",
      "41486.0  1.492377e+04  233.0    2.631   110.0     2.845\n",
      "41487.0  2.124669e+05  124.0    1.400   105.0     2.715\n",
      "           WTSAF2YR        LBXTR      LBDTRSI       LBDLDL     LBDLDLSI\n",
      "count  3.315000e+03  3099.000000  3099.000000  3035.000000  3035.000000\n",
      "mean   7.498672e+04   131.477896     1.484389   110.910049     2.868153\n",
      "std    7.261799e+04   112.959009     1.275303    35.766973     0.924939\n",
      "min    5.397605e-79    12.000000     0.135000    23.000000     0.595000\n",
      "25%    2.603483e+04    73.000000     0.824000    85.000000     2.198000\n",
      "50%    5.482720e+04   107.000000     1.208000   108.000000     2.793000\n",
      "75%    9.433623e+04   158.000000     1.784000   132.000000     3.414000\n",
      "max    4.046556e+05  2549.000000    28.778000   344.000000     8.896000\n"
     ]
    }
   ],
   "source": [
    "LDL_reading1 = LDL\n",
    "print('LDL_reading1 shape = ', LDL_reading1.shape)\n",
    "print(LDL_reading1.head())\n",
    "print(LDL_reading1.describe())"
   ]
  },
  {
   "cell_type": "code",
   "execution_count": 26,
   "metadata": {},
   "outputs": [
    {
     "name": "stdout",
     "output_type": "stream",
     "text": [
      "Total_chol shape =  (8132, 2)\n",
      "         LBXTC  LBDTCSI\n",
      "SEQN                   \n",
      "41475.0  179.0     4.63\n",
      "41476.0  143.0     3.70\n",
      "41477.0  191.0     4.94\n",
      "41479.0  188.0     4.86\n",
      "41480.0    NaN      NaN\n",
      "             LBXTC      LBDTCSI\n",
      "count  7387.000000  7387.000000\n",
      "mean    186.674699     4.827466\n",
      "std      42.151011     1.090053\n",
      "min      78.000000     2.020000\n",
      "25%     156.000000     4.030000\n",
      "50%     181.000000     4.680000\n",
      "75%     212.000000     5.480000\n",
      "max     460.000000    11.900000\n"
     ]
    }
   ],
   "source": [
    "Total_chol_reading3 = Total_chol\n",
    "print('Total_chol shape = ', Total_chol_reading3.shape)\n",
    "print(Total_chol_reading3.head())\n",
    "print(Total_chol_reading3.describe())"
   ]
  },
  {
   "cell_type": "code",
   "execution_count": 27,
   "metadata": {},
   "outputs": [
    {
     "name": "stdout",
     "output_type": "stream",
     "text": [
      "HDL_reading1 missing values =   LBDHDD      745\n",
      "LBDHDDSI    745\n",
      "dtype: int64 from  (8132, 2) observations\n",
      "LDL_reading1 missing values =  WTSAF2YR      0\n",
      "LBXTR       216\n",
      "LBDTRSI     216\n",
      "LBDLDL      280\n",
      "LBDLDLSI    280\n",
      "dtype: int64 from  (3315, 5) observations\n",
      "Total_chol_reading3 missing values =   LBXTC      745\n",
      "LBDTCSI    745\n",
      "dtype: int64 from  (8132, 2) observations\n"
     ]
    }
   ],
   "source": [
    "print('HDL_reading1 missing values =  ', HDL_reading1.isnull().sum(), 'from ', HDL_reading1.shape, 'observations')\n",
    "print('LDL_reading1 missing values = ', LDL_reading1.isnull().sum(), 'from ', LDL_reading1.shape, 'observations')\n",
    "print('Total_chol_reading3 missing values =  ', Total_chol_reading3.isnull().sum(), 'from ', Total_chol_reading3.shape, 'observations')"
   ]
  },
  {
   "cell_type": "code",
   "execution_count": 28,
   "metadata": {},
   "outputs": [
    {
     "name": "stdout",
     "output_type": "stream",
     "text": [
      "Chol_reading_all shape =  (8132, 9)\n",
      "         LBDHDD  LBDHDDSI  WTSAF2YR  LBXTR  LBDTRSI  LBDLDL  LBDLDLSI  LBXTC  \\\n",
      "SEQN                                                                           \n",
      "41475.0    47.0      1.22       NaN    NaN      NaN     NaN       NaN  179.0   \n",
      "41476.0    45.0      1.16       NaN    NaN      NaN     NaN       NaN  143.0   \n",
      "41477.0    34.0      0.88       NaN    NaN      NaN     NaN       NaN  191.0   \n",
      "41479.0    47.0      1.22   19983.6   99.0    1.118   121.0     3.129  188.0   \n",
      "41480.0     NaN       NaN       NaN    NaN      NaN     NaN       NaN    NaN   \n",
      "\n",
      "         LBDTCSI  \n",
      "SEQN              \n",
      "41475.0     4.63  \n",
      "41476.0     3.70  \n",
      "41477.0     4.94  \n",
      "41479.0     4.86  \n",
      "41480.0      NaN  \n"
     ]
    }
   ],
   "source": [
    "Chol_reading_all = pd.concat([HDL_reading1, LDL_reading1,Total_chol_reading3,], axis=1)\n",
    "print('Chol_reading_all shape = ', Chol_reading_all.shape)\n",
    "print(Chol_reading_all.head())"
   ]
  },
  {
   "cell_type": "code",
   "execution_count": 29,
   "metadata": {},
   "outputs": [
    {
     "name": "stdout",
     "output_type": "stream",
     "text": [
      "Type of Chol_reading_all_mean =  float64\n",
      "None\n",
      "Total_Chol_mean\n"
     ]
    },
    {
     "data": {
      "text/plain": [
       "532"
      ]
     },
     "execution_count": 29,
     "metadata": {},
     "output_type": "execute_result"
    }
   ],
   "source": [
    "Chol_reading_all_mean = Chol_reading_all.mean(axis=1, skipna=1)\n",
    "print('Type of Chol_reading_all_mean = ', Chol_reading_all_mean.dtype)\n",
    "print(Chol_reading_all_mean.name)\n",
    "Chol_reading_all_mean.name = 'Total_Chol_mean'\n",
    "print(Chol_reading_all_mean.name)\n",
    "Chol_reading_all_mean.isnull().sum()"
   ]
  },
  {
   "cell_type": "code",
   "execution_count": 30,
   "metadata": {},
   "outputs": [
    {
     "name": "stdout",
     "output_type": "stream",
     "text": [
      "Chol_mean_all shape =  (8132, 10)\n",
      "         LBDHDD  LBDHDDSI  WTSAF2YR  LBXTR  LBDTRSI  LBDLDL  LBDLDLSI  LBXTC  \\\n",
      "SEQN                                                                           \n",
      "41475.0    47.0      1.22       NaN    NaN      NaN     NaN       NaN  179.0   \n",
      "41476.0    45.0      1.16       NaN    NaN      NaN     NaN       NaN  143.0   \n",
      "41477.0    34.0      0.88       NaN    NaN      NaN     NaN       NaN  191.0   \n",
      "41479.0    47.0      1.22   19983.6   99.0    1.118   121.0     3.129  188.0   \n",
      "41480.0     NaN       NaN       NaN    NaN      NaN     NaN       NaN    NaN   \n",
      "\n",
      "         LBDTCSI  Total_Chol_mean  \n",
      "SEQN                               \n",
      "41475.0     4.63          57.9625  \n",
      "41476.0     3.70          48.2150  \n",
      "41477.0     4.94          57.7050  \n",
      "41479.0     4.86        2272.1030  \n",
      "41480.0      NaN              NaN  \n"
     ]
    }
   ],
   "source": [
    "Chol_mean_all = pd.concat([Chol_reading_all, Chol_reading_all_mean], axis=1)\n",
    "print('Chol_mean_all shape = ', Chol_mean_all.shape)\n",
    "print(Chol_mean_all.head())"
   ]
  },
  {
   "cell_type": "code",
   "execution_count": null,
   "metadata": {},
   "outputs": [],
   "source": []
  },
  {
   "cell_type": "code",
   "execution_count": null,
   "metadata": {},
   "outputs": [],
   "source": []
  }
 ],
 "metadata": {
  "kernelspec": {
   "display_name": "Python 3",
   "language": "python",
   "name": "python3"
  },
  "language_info": {
   "codemirror_mode": {
    "name": "ipython",
    "version": 3
   },
   "file_extension": ".py",
   "mimetype": "text/x-python",
   "name": "python",
   "nbconvert_exporter": "python",
   "pygments_lexer": "ipython3",
   "version": "3.6.4"
  }
 },
 "nbformat": 4,
 "nbformat_minor": 2
}
