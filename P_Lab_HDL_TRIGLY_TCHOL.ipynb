{
 "cells": [
  {
   "cell_type": "markdown",
   "metadata": {},
   "source": [
    "#  Processing Laboratory - Cholesterol File (HDL, TRIGLY,TCHOL) "
   ]
  },
  {
   "cell_type": "code",
   "execution_count": 1,
   "metadata": {},
   "outputs": [],
   "source": [
    "import numpy as np\n",
    "import pandas as pd\n",
    "import glob \n",
    "import os\n",
    "import sys"
   ]
  },
  {
   "cell_type": "code",
   "execution_count": 2,
   "metadata": {},
   "outputs": [
    {
     "data": {
      "text/plain": [
       "'C:\\\\Users\\\\Ganga\\\\Desktop\\\\Research\\\\CDCDiab_2.0\\\\Code'"
      ]
     },
     "execution_count": 2,
     "metadata": {},
     "output_type": "execute_result"
    }
   ],
   "source": [
    "os.getcwd()"
   ]
  },
  {
   "cell_type": "code",
   "execution_count": 3,
   "metadata": {},
   "outputs": [
    {
     "name": "stdout",
     "output_type": "stream",
     "text": [
      "['C:\\\\Users\\\\Ganga\\\\Desktop\\\\Research\\\\CDCDiab_2.0\\\\Data\\\\07-08\\\\Lab\\\\ALB_CR_E.XPT', 'C:\\\\Users\\\\Ganga\\\\Desktop\\\\Research\\\\CDCDiab_2.0\\\\Data\\\\07-08\\\\Lab\\\\APOB_E.XPT', 'C:\\\\Users\\\\Ganga\\\\Desktop\\\\Research\\\\CDCDiab_2.0\\\\Data\\\\07-08\\\\Lab\\\\BIOPRO_E.XPT', 'C:\\\\Users\\\\Ganga\\\\Desktop\\\\Research\\\\CDCDiab_2.0\\\\Data\\\\07-08\\\\Lab\\\\CARB_E.XPT', 'C:\\\\Users\\\\Ganga\\\\Desktop\\\\Research\\\\CDCDiab_2.0\\\\Data\\\\07-08\\\\Lab\\\\CBC_E.XPT', 'C:\\\\Users\\\\Ganga\\\\Desktop\\\\Research\\\\CDCDiab_2.0\\\\Data\\\\07-08\\\\Lab\\\\CHLMDA_E.XPT', 'C:\\\\Users\\\\Ganga\\\\Desktop\\\\Research\\\\CDCDiab_2.0\\\\Data\\\\07-08\\\\Lab\\\\COTNAL_E.XPT', 'C:\\\\Users\\\\Ganga\\\\Desktop\\\\Research\\\\CDCDiab_2.0\\\\Data\\\\07-08\\\\Lab\\\\CRP_E.XPT', 'C:\\\\Users\\\\Ganga\\\\Desktop\\\\Research\\\\CDCDiab_2.0\\\\Data\\\\07-08\\\\Lab\\\\DEET_E.XPT', 'C:\\\\Users\\\\Ganga\\\\Desktop\\\\Research\\\\CDCDiab_2.0\\\\Data\\\\07-08\\\\Lab\\\\EPH_E.XPT', 'C:\\\\Users\\\\Ganga\\\\Desktop\\\\Research\\\\CDCDiab_2.0\\\\Data\\\\07-08\\\\Lab\\\\FASTQX_E.XPT', 'C:\\\\Users\\\\Ganga\\\\Desktop\\\\Research\\\\CDCDiab_2.0\\\\Data\\\\07-08\\\\Lab\\\\FERTIN_E.XPT', 'C:\\\\Users\\\\Ganga\\\\Desktop\\\\Research\\\\CDCDiab_2.0\\\\Data\\\\07-08\\\\Lab\\\\FOLATE_E.XPT', 'C:\\\\Users\\\\Ganga\\\\Desktop\\\\Research\\\\CDCDiab_2.0\\\\Data\\\\07-08\\\\Lab\\\\FOLFMS_E.XPT', 'C:\\\\Users\\\\Ganga\\\\Desktop\\\\Research\\\\CDCDiab_2.0\\\\Data\\\\07-08\\\\Lab\\\\GHB_E.XPT', 'C:\\\\Users\\\\Ganga\\\\Desktop\\\\Research\\\\CDCDiab_2.0\\\\Data\\\\07-08\\\\Lab\\\\GLU_E.XPT', 'C:\\\\Users\\\\Ganga\\\\Desktop\\\\Research\\\\CDCDiab_2.0\\\\Data\\\\07-08\\\\Lab\\\\HDL_E.XPT', 'C:\\\\Users\\\\Ganga\\\\Desktop\\\\Research\\\\CDCDiab_2.0\\\\Data\\\\07-08\\\\Lab\\\\HEPA_E.XPT', 'C:\\\\Users\\\\Ganga\\\\Desktop\\\\Research\\\\CDCDiab_2.0\\\\Data\\\\07-08\\\\Lab\\\\HEPBD_E.XPT', 'C:\\\\Users\\\\Ganga\\\\Desktop\\\\Research\\\\CDCDiab_2.0\\\\Data\\\\07-08\\\\Lab\\\\HEPB_S_E.XPT', 'C:\\\\Users\\\\Ganga\\\\Desktop\\\\Research\\\\CDCDiab_2.0\\\\Data\\\\07-08\\\\Lab\\\\HEPC_E.XPT', 'C:\\\\Users\\\\Ganga\\\\Desktop\\\\Research\\\\CDCDiab_2.0\\\\Data\\\\07-08\\\\Lab\\\\HIV_E.XPT', 'C:\\\\Users\\\\Ganga\\\\Desktop\\\\Research\\\\CDCDiab_2.0\\\\Data\\\\07-08\\\\Lab\\\\HPVSER_E.XPT', 'C:\\\\Users\\\\Ganga\\\\Desktop\\\\Research\\\\CDCDiab_2.0\\\\Data\\\\07-08\\\\Lab\\\\HPVSWR_E.XPT', 'C:\\\\Users\\\\Ganga\\\\Desktop\\\\Research\\\\CDCDiab_2.0\\\\Data\\\\07-08\\\\Lab\\\\HSV_E.XPT', 'C:\\\\Users\\\\Ganga\\\\Desktop\\\\Research\\\\CDCDiab_2.0\\\\Data\\\\07-08\\\\Lab\\\\IHG_E.XPT', 'C:\\\\Users\\\\Ganga\\\\Desktop\\\\Research\\\\CDCDiab_2.0\\\\Data\\\\07-08\\\\Lab\\\\OGTT_E.XPT', 'C:\\\\Users\\\\Ganga\\\\Desktop\\\\Research\\\\CDCDiab_2.0\\\\Data\\\\07-08\\\\Lab\\\\OPD_E.XPT', 'C:\\\\Users\\\\Ganga\\\\Desktop\\\\Research\\\\CDCDiab_2.0\\\\Data\\\\07-08\\\\Lab\\\\PAH_E.XPT', 'C:\\\\Users\\\\Ganga\\\\Desktop\\\\Research\\\\CDCDiab_2.0\\\\Data\\\\07-08\\\\Lab\\\\PBCD_E.XPT', 'C:\\\\Users\\\\Ganga\\\\Desktop\\\\Research\\\\CDCDiab_2.0\\\\Data\\\\07-08\\\\Lab\\\\PERNT_E.XPT', 'C:\\\\Users\\\\Ganga\\\\Desktop\\\\Research\\\\CDCDiab_2.0\\\\Data\\\\07-08\\\\Lab\\\\PFC_E.XPT', 'C:\\\\Users\\\\Ganga\\\\Desktop\\\\Research\\\\CDCDiab_2.0\\\\Data\\\\07-08\\\\Lab\\\\PHTHTE_E.XPT', 'C:\\\\Users\\\\Ganga\\\\Desktop\\\\Research\\\\CDCDiab_2.0\\\\Data\\\\07-08\\\\Lab\\\\PHYTO_E.XPT', 'C:\\\\Users\\\\Ganga\\\\Desktop\\\\Research\\\\CDCDiab_2.0\\\\Data\\\\07-08\\\\Lab\\\\PP_E.XPT', 'C:\\\\Users\\\\Ganga\\\\Desktop\\\\Research\\\\CDCDiab_2.0\\\\Data\\\\07-08\\\\Lab\\\\PSA_E.XPT', 'C:\\\\Users\\\\Ganga\\\\Desktop\\\\Research\\\\CDCDiab_2.0\\\\Data\\\\07-08\\\\Lab\\\\SSEBV_E.XPT', 'C:\\\\Users\\\\Ganga\\\\Desktop\\\\Research\\\\CDCDiab_2.0\\\\Data\\\\07-08\\\\Lab\\\\SSHCV_E.XPT', 'C:\\\\Users\\\\Ganga\\\\Desktop\\\\Research\\\\CDCDiab_2.0\\\\Data\\\\07-08\\\\Lab\\\\SSUSG_E.XPT', 'C:\\\\Users\\\\Ganga\\\\Desktop\\\\Research\\\\CDCDiab_2.0\\\\Data\\\\07-08\\\\Lab\\\\TCHOL_E.XPT', 'C:\\\\Users\\\\Ganga\\\\Desktop\\\\Research\\\\CDCDiab_2.0\\\\Data\\\\07-08\\\\Lab\\\\TFR_E.XPT', 'C:\\\\Users\\\\Ganga\\\\Desktop\\\\Research\\\\CDCDiab_2.0\\\\Data\\\\07-08\\\\Lab\\\\THYROD_E.XPT', 'C:\\\\Users\\\\Ganga\\\\Desktop\\\\Research\\\\CDCDiab_2.0\\\\Data\\\\07-08\\\\Lab\\\\TRIGLY_E.XPT', 'C:\\\\Users\\\\Ganga\\\\Desktop\\\\Research\\\\CDCDiab_2.0\\\\Data\\\\07-08\\\\Lab\\\\UAM_E.XPT', 'C:\\\\Users\\\\Ganga\\\\Desktop\\\\Research\\\\CDCDiab_2.0\\\\Data\\\\07-08\\\\Lab\\\\UAS_E.XPT', 'C:\\\\Users\\\\Ganga\\\\Desktop\\\\Research\\\\CDCDiab_2.0\\\\Data\\\\07-08\\\\Lab\\\\UCPREG_E.XPT', 'C:\\\\Users\\\\Ganga\\\\Desktop\\\\Research\\\\CDCDiab_2.0\\\\Data\\\\07-08\\\\Lab\\\\UHG_E.XPT', 'C:\\\\Users\\\\Ganga\\\\Desktop\\\\Research\\\\CDCDiab_2.0\\\\Data\\\\07-08\\\\Lab\\\\UHM_E.XPT', 'C:\\\\Users\\\\Ganga\\\\Desktop\\\\Research\\\\CDCDiab_2.0\\\\Data\\\\07-08\\\\Lab\\\\UIO_E.XPT', 'C:\\\\Users\\\\Ganga\\\\Desktop\\\\Research\\\\CDCDiab_2.0\\\\Data\\\\07-08\\\\Lab\\\\UPHOPM_E.XPT', 'C:\\\\Users\\\\Ganga\\\\Desktop\\\\Research\\\\CDCDiab_2.0\\\\Data\\\\07-08\\\\Lab\\\\UPP_E.XPT', 'C:\\\\Users\\\\Ganga\\\\Desktop\\\\Research\\\\CDCDiab_2.0\\\\Data\\\\07-08\\\\Lab\\\\VID_E.XPT', 'C:\\\\Users\\\\Ganga\\\\Desktop\\\\Research\\\\CDCDiab_2.0\\\\Data\\\\07-08\\\\Lab\\\\VIT_B6_E.XPT', 'C:\\\\Users\\\\Ganga\\\\Desktop\\\\Research\\\\CDCDiab_2.0\\\\Data\\\\07-08\\\\Lab\\\\VOCMWB_E.XPT', 'C:\\\\Users\\\\Ganga\\\\Desktop\\\\Research\\\\CDCDiab_2.0\\\\Data\\\\07-08\\\\Lab\\\\VOCWB_E.XPT', 'C:\\\\Users\\\\Ganga\\\\Desktop\\\\Research\\\\CDCDiab_2.0\\\\Data\\\\07-08\\\\Lab\\\\VOC_E.XPT']\n"
     ]
    }
   ],
   "source": [
    "path = 'C:\\\\Users\\\\Ganga\\\\Desktop\\\\Research\\\\CDCDiab_2.0\\\\Data\\\\07-08\\\\Lab'\n",
    "allFiles = glob.glob(os.path.join(path,\"*.XPT\"))\n",
    "print(allFiles)"
   ]
  },
  {
   "cell_type": "code",
   "execution_count": 5,
   "metadata": {},
   "outputs": [
    {
     "data": {
      "text/plain": [
       "(8132, 2)"
      ]
     },
     "execution_count": 5,
     "metadata": {},
     "output_type": "execute_result"
    }
   ],
   "source": [
    "HDL = pd.read_sas('C:\\\\Users\\\\Ganga\\\\Desktop\\\\Research\\\\CDCDiab_2.0\\\\Data\\\\07-08\\\\Lab\\\\HDL_E.XPT', index='SEQN')\n",
    "HDL.shape"
   ]
  },
  {
   "cell_type": "code",
   "execution_count": 6,
   "metadata": {},
   "outputs": [
    {
     "data": {
      "text/plain": [
       "(3315, 5)"
      ]
     },
     "execution_count": 6,
     "metadata": {},
     "output_type": "execute_result"
    }
   ],
   "source": [
    "LDL = pd.read_sas('C:\\\\Users\\\\Ganga\\\\Desktop\\\\Research\\\\CDCDiab_2.0\\\\Data\\\\07-08\\\\Lab\\\\TRIGLY_E.XPT', index='SEQN')\n",
    "LDL.shape"
   ]
  },
  {
   "cell_type": "code",
   "execution_count": 7,
   "metadata": {},
   "outputs": [
    {
     "data": {
      "text/plain": [
       "(8132, 2)"
      ]
     },
     "execution_count": 7,
     "metadata": {},
     "output_type": "execute_result"
    }
   ],
   "source": [
    "Total_chol = pd.read_sas('C:\\\\Users\\\\Ganga\\\\Desktop\\\\Research\\\\CDCDiab_2.0\\\\Data\\\\07-08\\\\Lab\\\\TCHOL_E.XPT', index='SEQN')\n",
    "Total_chol.shape"
   ]
  },
  {
   "cell_type": "code",
   "execution_count": 13,
   "metadata": {},
   "outputs": [
    {
     "name": "stdout",
     "output_type": "stream",
     "text": [
      "['LBDHDD', 'LBDHDDSI'] ['LBDLDL', 'LBDLDLSI', 'LBDTRSI', 'LBXTR', 'WTSAF2YR'] ['LBDTCSI', 'LBXTC']\n"
     ]
    }
   ],
   "source": [
    "A = set(HDL.columns)\n",
    "B = set(LDL.columns)\n",
    "C = set(Total_chol.columns)\n",
    "print(sorted(A),sorted(B),sorted(C))"
   ]
  },
  {
   "cell_type": "markdown",
   "metadata": {},
   "source": [
    "# Processing Column of all 3 Cholesterol Files\n",
    "\n",
    "## We read three different file containing different form of Cholesterol. \n",
    "## HDL, LDL and total cholesterol"
   ]
  },
  {
   "cell_type": "code",
   "execution_count": 16,
   "metadata": {},
   "outputs": [
    {
     "name": "stdout",
     "output_type": "stream",
     "text": [
      "HDL_reading1 shape =  (8132, 2)\n",
      "         LBDHDD  LBDHDDSI\n",
      "SEQN                     \n",
      "41475.0    47.0      1.22\n",
      "41476.0    45.0      1.16\n",
      "41477.0    34.0      0.88\n",
      "41479.0    47.0      1.22\n",
      "41480.0     NaN       NaN\n",
      "            LBDHDD     LBDHDDSI\n",
      "count  7387.000000  7387.000000\n",
      "mean     52.036686     1.345757\n",
      "std      15.141436     0.391473\n",
      "min       7.000000     0.180000\n",
      "25%      41.000000     1.060000\n",
      "50%      50.000000     1.290000\n",
      "75%      61.000000     1.580000\n",
      "max     155.000000     4.010000\n"
     ]
    }
   ],
   "source": [
    "HDL_reading1 = HDL\n",
    "print('HDL_reading1 shape = ', HDL_reading1.shape)\n",
    "print(HDL_reading1.head())\n",
    "print(HDL_reading1.describe())"
   ]
  },
  {
   "cell_type": "code",
   "execution_count": 17,
   "metadata": {},
   "outputs": [
    {
     "name": "stdout",
     "output_type": "stream",
     "text": [
      "LDL_reading1 shape =  (3315, 5)\n",
      "             WTSAF2YR  LBXTR  LBDTRSI  LBDLDL  LBDLDLSI\n",
      "SEQN                                                   \n",
      "41479.0  1.998360e+04   99.0    1.118   121.0     3.129\n",
      "41481.0  5.397605e-79    NaN      NaN     NaN       NaN\n",
      "41485.0  4.344144e+04  172.0    1.942   119.0     3.077\n",
      "41486.0  1.492377e+04  233.0    2.631   110.0     2.845\n",
      "41487.0  2.124669e+05  124.0    1.400   105.0     2.715\n",
      "           WTSAF2YR        LBXTR      LBDTRSI       LBDLDL     LBDLDLSI\n",
      "count  3.315000e+03  3099.000000  3099.000000  3035.000000  3035.000000\n",
      "mean   7.498672e+04   131.477896     1.484389   110.910049     2.868153\n",
      "std    7.261799e+04   112.959009     1.275303    35.766973     0.924939\n",
      "min    5.397605e-79    12.000000     0.135000    23.000000     0.595000\n",
      "25%    2.603483e+04    73.000000     0.824000    85.000000     2.198000\n",
      "50%    5.482720e+04   107.000000     1.208000   108.000000     2.793000\n",
      "75%    9.433623e+04   158.000000     1.784000   132.000000     3.414000\n",
      "max    4.046556e+05  2549.000000    28.778000   344.000000     8.896000\n"
     ]
    }
   ],
   "source": [
    "LDL_reading1 = LDL\n",
    "print('LDL_reading1 shape = ', LDL_reading1.shape)\n",
    "print(LDL_reading1.head())\n",
    "print(LDL_reading1.describe())"
   ]
  },
  {
   "cell_type": "code",
   "execution_count": 18,
   "metadata": {},
   "outputs": [
    {
     "name": "stdout",
     "output_type": "stream",
     "text": [
      "Total_chol shape =  (8132, 2)\n",
      "         LBXTC  LBDTCSI\n",
      "SEQN                   \n",
      "41475.0  179.0     4.63\n",
      "41476.0  143.0     3.70\n",
      "41477.0  191.0     4.94\n",
      "41479.0  188.0     4.86\n",
      "41480.0    NaN      NaN\n",
      "             LBXTC      LBDTCSI\n",
      "count  7387.000000  7387.000000\n",
      "mean    186.674699     4.827466\n",
      "std      42.151011     1.090053\n",
      "min      78.000000     2.020000\n",
      "25%     156.000000     4.030000\n",
      "50%     181.000000     4.680000\n",
      "75%     212.000000     5.480000\n",
      "max     460.000000    11.900000\n"
     ]
    }
   ],
   "source": [
    "Total_chol_reading3 = Total_chol\n",
    "print('Total_chol shape = ', Total_chol_reading3.shape)\n",
    "print(Total_chol_reading3.head())\n",
    "print(Total_chol_reading3.describe())"
   ]
  },
  {
   "cell_type": "code",
   "execution_count": 24,
   "metadata": {},
   "outputs": [
    {
     "name": "stdout",
     "output_type": "stream",
     "text": [
      "HDL_reading1 missing values =   LBDHDD      745\n",
      "LBDHDDSI    745\n",
      "dtype: int64 from  (8132, 2) observations\n",
      "LDL_reading1 missing values =  WTSAF2YR      0\n",
      "LBXTR       216\n",
      "LBDTRSI     216\n",
      "LBDLDL      280\n",
      "LBDLDLSI    280\n",
      "dtype: int64 from  (3315, 5) observations\n",
      "Total_chol_reading3 missing values =   LBXTC      745\n",
      "LBDTCSI    745\n",
      "dtype: int64 from  (8132, 2) observations\n"
     ]
    }
   ],
   "source": [
    "print('HDL_reading1 missing values =  ', HDL_reading1.isnull().sum(), 'from ', HDL_reading1.shape, 'observations')\n",
    "print('LDL_reading1 missing values = ', LDL_reading1.isnull().sum(), 'from ', LDL_reading1.shape, 'observations')\n",
    "print('Total_chol_reading3 missing values =  ', Total_chol_reading3.isnull().sum(), 'from ', Total_chol_reading3.shape, 'observations')"
   ]
  },
  {
   "cell_type": "code",
   "execution_count": 25,
   "metadata": {},
   "outputs": [
    {
     "name": "stdout",
     "output_type": "stream",
     "text": [
      "Chol_reading_all shape =  (8132, 9)\n",
      "         LBDHDD  LBDHDDSI  WTSAF2YR  LBXTR  LBDTRSI  LBDLDL  LBDLDLSI  LBXTC  \\\n",
      "SEQN                                                                           \n",
      "41475.0    47.0      1.22       NaN    NaN      NaN     NaN       NaN  179.0   \n",
      "41476.0    45.0      1.16       NaN    NaN      NaN     NaN       NaN  143.0   \n",
      "41477.0    34.0      0.88       NaN    NaN      NaN     NaN       NaN  191.0   \n",
      "41479.0    47.0      1.22   19983.6   99.0    1.118   121.0     3.129  188.0   \n",
      "41480.0     NaN       NaN       NaN    NaN      NaN     NaN       NaN    NaN   \n",
      "\n",
      "         LBDTCSI  \n",
      "SEQN              \n",
      "41475.0     4.63  \n",
      "41476.0     3.70  \n",
      "41477.0     4.94  \n",
      "41479.0     4.86  \n",
      "41480.0      NaN  \n"
     ]
    }
   ],
   "source": [
    "Chol_reading_all = pd.concat([HDL_reading1, LDL_reading1,Total_chol_reading3,], axis=1)\n",
    "print('Chol_reading_all shape = ', Chol_reading_all.shape)\n",
    "print(Chol_reading_all.head())"
   ]
  },
  {
   "cell_type": "code",
   "execution_count": 31,
   "metadata": {},
   "outputs": [
    {
     "name": "stdout",
     "output_type": "stream",
     "text": [
      "Type of Chol_reading_all_mean =  float64\n",
      "None\n",
      "Total_Chol_mean\n"
     ]
    },
    {
     "data": {
      "text/plain": [
       "532"
      ]
     },
     "execution_count": 31,
     "metadata": {},
     "output_type": "execute_result"
    }
   ],
   "source": [
    "Chol_reading_all_mean = Chol_reading_all.mean(axis=1, skipna=1)\n",
    "print('Type of Chol_reading_all_mean = ', Chol_reading_all_mean.dtype)\n",
    "print(Chol_reading_all_mean.name)\n",
    "Chol_reading_all_mean.name = 'Total_Chol_mean'\n",
    "print(Chol_reading_all_mean.name)\n",
    "Chol_reading_all_mean.isnull().sum()"
   ]
  },
  {
   "cell_type": "code",
   "execution_count": 29,
   "metadata": {},
   "outputs": [
    {
     "name": "stdout",
     "output_type": "stream",
     "text": [
      "Chol_mean_all shape =  (8132, 10)\n",
      "         LBDHDD  LBDHDDSI  WTSAF2YR  LBXTR  LBDTRSI  LBDLDL  LBDLDLSI  LBXTC  \\\n",
      "SEQN                                                                           \n",
      "41475.0    47.0      1.22       NaN    NaN      NaN     NaN       NaN  179.0   \n",
      "41476.0    45.0      1.16       NaN    NaN      NaN     NaN       NaN  143.0   \n",
      "41477.0    34.0      0.88       NaN    NaN      NaN     NaN       NaN  191.0   \n",
      "41479.0    47.0      1.22   19983.6   99.0    1.118   121.0     3.129  188.0   \n",
      "41480.0     NaN       NaN       NaN    NaN      NaN     NaN       NaN    NaN   \n",
      "\n",
      "         LBDTCSI  Total_Chol_mean  \n",
      "SEQN                               \n",
      "41475.0     4.63          57.9625  \n",
      "41476.0     3.70          48.2150  \n",
      "41477.0     4.94          57.7050  \n",
      "41479.0     4.86        2272.1030  \n",
      "41480.0      NaN              NaN  \n"
     ]
    }
   ],
   "source": [
    "Chol_mean_all = pd.concat([Chol_reading_all, Chol_reading_all_mean], axis=1)\n",
    "print('Chol_mean_all shape = ', Chol_mean_all.shape)\n",
    "print(Chol_mean_all.head())"
   ]
  },
  {
   "cell_type": "code",
   "execution_count": null,
   "metadata": {},
   "outputs": [],
   "source": []
  }
 ],
 "metadata": {
  "kernelspec": {
   "display_name": "Python 3",
   "language": "python",
   "name": "python3"
  },
  "language_info": {
   "codemirror_mode": {
    "name": "ipython",
    "version": 3
   },
   "file_extension": ".py",
   "mimetype": "text/x-python",
   "name": "python",
   "nbconvert_exporter": "python",
   "pygments_lexer": "ipython3",
   "version": "3.6.4"
  }
 },
 "nbformat": 4,
 "nbformat_minor": 2
}
