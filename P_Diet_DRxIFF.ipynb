{
 "cells": [
  {
   "cell_type": "markdown",
   "metadata": {},
   "source": [
    "#  Processing Dietary - Dietary Interview (DR1IFF) File"
   ]
  },
  {
   "cell_type": "code",
   "execution_count": 1,
   "metadata": {},
   "outputs": [],
   "source": [
    "import numpy as np\n",
    "import pandas as pd\n",
    "import glob \n",
    "import os\n",
    "import sys"
   ]
  },
  {
   "cell_type": "code",
   "execution_count": 2,
   "metadata": {},
   "outputs": [
    {
     "data": {
      "text/plain": [
       "'C:\\\\Users\\\\Ganga\\\\Desktop\\\\Research\\\\CDCDiab_2.0\\\\Code'"
      ]
     },
     "execution_count": 2,
     "metadata": {},
     "output_type": "execute_result"
    }
   ],
   "source": [
    "os.getcwd()"
   ]
  },
  {
   "cell_type": "code",
   "execution_count": null,
   "metadata": {},
   "outputs": [],
   "source": [
    "# Select working directory\n",
    "# %cd C:\\Users\\Ganga\\Desktop\\Research\\CDCDiab_2.0\\Data\\07-08\\Examination\n",
    "#%cd /Users/elgayaro/Main/Research/Healthcare/CDC-NHANES/Data/07-08/Examination"
   ]
  },
  {
   "cell_type": "code",
   "execution_count": null,
   "metadata": {},
   "outputs": [],
   "source": [
    "os.getcwd()"
   ]
  },
  {
   "cell_type": "code",
   "execution_count": null,
   "metadata": {},
   "outputs": [],
   "source": [
    "allFiles = glob.glob(os.path.join('.',\"*.XPT\"))\n",
    "print(allFiles)"
   ]
  },
  {
   "cell_type": "code",
   "execution_count": null,
   "metadata": {},
   "outputs": [],
   "source": [
    "# Set desired file name\n",
    "# fname = '.\\\\BMX_E.XPT'  # Ganga\n",
    "#fname = './BMX_E.XPT'   # Omar\n",
    "#BMX = pd.read_sas(fname, index='SEQN')\n",
    "#BMX.shape"
   ]
  },
  {
   "cell_type": "code",
   "execution_count": 3,
   "metadata": {},
   "outputs": [
    {
     "name": "stdout",
     "output_type": "stream",
     "text": [
      "['C:\\\\Users\\\\Ganga\\\\Desktop\\\\Research\\\\CDCDiab_2.0\\\\Data\\\\07-08\\\\Diatery\\\\DR1IFF_E.XPT', 'C:\\\\Users\\\\Ganga\\\\Desktop\\\\Research\\\\CDCDiab_2.0\\\\Data\\\\07-08\\\\Diatery\\\\DR1TOT_E.XPT', 'C:\\\\Users\\\\Ganga\\\\Desktop\\\\Research\\\\CDCDiab_2.0\\\\Data\\\\07-08\\\\Diatery\\\\DR2IFF_E.XPT', 'C:\\\\Users\\\\Ganga\\\\Desktop\\\\Research\\\\CDCDiab_2.0\\\\Data\\\\07-08\\\\Diatery\\\\DR2TOT_E.XPT', 'C:\\\\Users\\\\Ganga\\\\Desktop\\\\Research\\\\CDCDiab_2.0\\\\Data\\\\07-08\\\\Diatery\\\\DS1IDS_E.XPT', 'C:\\\\Users\\\\Ganga\\\\Desktop\\\\Research\\\\CDCDiab_2.0\\\\Data\\\\07-08\\\\Diatery\\\\DS1TOT_E.XPT', 'C:\\\\Users\\\\Ganga\\\\Desktop\\\\Research\\\\CDCDiab_2.0\\\\Data\\\\07-08\\\\Diatery\\\\DS2IDS_E.XPT', 'C:\\\\Users\\\\Ganga\\\\Desktop\\\\Research\\\\CDCDiab_2.0\\\\Data\\\\07-08\\\\Diatery\\\\DS2TOT_E.XPT', 'C:\\\\Users\\\\Ganga\\\\Desktop\\\\Research\\\\CDCDiab_2.0\\\\Data\\\\07-08\\\\Diatery\\\\DSQIDS_E.XPT', 'C:\\\\Users\\\\Ganga\\\\Desktop\\\\Research\\\\CDCDiab_2.0\\\\Data\\\\07-08\\\\Diatery\\\\DSQTOT_E.XPT']\n"
     ]
    }
   ],
   "source": [
    "path = 'C:\\\\Users\\\\Ganga\\\\Desktop\\\\Research\\\\CDCDiab_2.0\\\\Data\\\\07-08\\\\Diatery'\n",
    "allFiles = glob.glob(os.path.join(path,\"*.XPT\"))\n",
    "print(allFiles)"
   ]
  },
  {
   "cell_type": "code",
   "execution_count": 8,
   "metadata": {},
   "outputs": [
    {
     "data": {
      "text/plain": [
       "(5723, 45)"
      ]
     },
     "execution_count": 8,
     "metadata": {},
     "output_type": "execute_result"
    }
   ],
   "source": [
    "Diet_1 = pd.read_sas('C:\\\\Users\\\\Ganga\\\\Desktop\\\\Research\\\\CDCDiab_2.0\\\\Data\\\\07-08\\\\Diatery\\\\DS1IDS_E.XPT', index='SEQN')\n",
    "Diet.shape  "
   ]
  },
  {
   "cell_type": "code",
   "execution_count": 9,
   "metadata": {},
   "outputs": [
    {
     "data": {
      "text/plain": [
       "(5723, 45)"
      ]
     },
     "execution_count": 9,
     "metadata": {},
     "output_type": "execute_result"
    }
   ],
   "source": [
    "Diet_2 = pd.read_sas('C:\\\\Users\\\\Ganga\\\\Desktop\\\\Research\\\\CDCDiab_2.0\\\\Data\\\\07-08\\\\Diatery\\\\DS2IDS_E.XPT', index='SEQN')\n",
    "Diet.shape  "
   ]
  },
  {
   "cell_type": "code",
   "execution_count": 5,
   "metadata": {},
   "outputs": [
    {
     "data": {
      "text/html": [
       "<div>\n",
       "<style scoped>\n",
       "    .dataframe tbody tr th:only-of-type {\n",
       "        vertical-align: middle;\n",
       "    }\n",
       "\n",
       "    .dataframe tbody tr th {\n",
       "        vertical-align: top;\n",
       "    }\n",
       "\n",
       "    .dataframe thead th {\n",
       "        text-align: right;\n",
       "    }\n",
       "</style>\n",
       "<table border=\"1\" class=\"dataframe\">\n",
       "  <thead>\n",
       "    <tr style=\"text-align: right;\">\n",
       "      <th></th>\n",
       "      <th>WTDRD1</th>\n",
       "      <th>WTDR2D</th>\n",
       "      <th>DR1DRSTZ</th>\n",
       "      <th>DR1EXMER</th>\n",
       "      <th>DRDINT</th>\n",
       "      <th>DR1DAY</th>\n",
       "      <th>DS1LOC</th>\n",
       "      <th>DR1LANG</th>\n",
       "      <th>DSDSUPID</th>\n",
       "      <th>DS1ANTA</th>\n",
       "      <th>...</th>\n",
       "      <th>DS1ICALC</th>\n",
       "      <th>DS1IPHOS</th>\n",
       "      <th>DS1IMAGN</th>\n",
       "      <th>DS1IIRON</th>\n",
       "      <th>DS1IZINC</th>\n",
       "      <th>DS1ICOPP</th>\n",
       "      <th>DS1ISODI</th>\n",
       "      <th>DS1IPOTA</th>\n",
       "      <th>DS1ISELE</th>\n",
       "      <th>DS1ICAFF</th>\n",
       "    </tr>\n",
       "    <tr>\n",
       "      <th>SEQN</th>\n",
       "      <th></th>\n",
       "      <th></th>\n",
       "      <th></th>\n",
       "      <th></th>\n",
       "      <th></th>\n",
       "      <th></th>\n",
       "      <th></th>\n",
       "      <th></th>\n",
       "      <th></th>\n",
       "      <th></th>\n",
       "      <th></th>\n",
       "      <th></th>\n",
       "      <th></th>\n",
       "      <th></th>\n",
       "      <th></th>\n",
       "      <th></th>\n",
       "      <th></th>\n",
       "      <th></th>\n",
       "      <th></th>\n",
       "      <th></th>\n",
       "      <th></th>\n",
       "    </tr>\n",
       "  </thead>\n",
       "  <tbody>\n",
       "    <tr>\n",
       "      <th>41475.0</th>\n",
       "      <td>53942.247631</td>\n",
       "      <td>58815.545267</td>\n",
       "      <td>1.0</td>\n",
       "      <td>23.0</td>\n",
       "      <td>2.0</td>\n",
       "      <td>5.0</td>\n",
       "      <td>1.0</td>\n",
       "      <td>1.0</td>\n",
       "      <td>b'1000520000'</td>\n",
       "      <td>5.397605e-79</td>\n",
       "      <td>...</td>\n",
       "      <td>100.0</td>\n",
       "      <td>NaN</td>\n",
       "      <td>50.0</td>\n",
       "      <td>NaN</td>\n",
       "      <td>7.5</td>\n",
       "      <td>1.0</td>\n",
       "      <td>NaN</td>\n",
       "      <td>NaN</td>\n",
       "      <td>100.0</td>\n",
       "      <td>NaN</td>\n",
       "    </tr>\n",
       "    <tr>\n",
       "      <th>41475.0</th>\n",
       "      <td>53942.247631</td>\n",
       "      <td>58815.545267</td>\n",
       "      <td>1.0</td>\n",
       "      <td>23.0</td>\n",
       "      <td>2.0</td>\n",
       "      <td>5.0</td>\n",
       "      <td>1.0</td>\n",
       "      <td>1.0</td>\n",
       "      <td>b'1888213202'</td>\n",
       "      <td>5.397605e-79</td>\n",
       "      <td>...</td>\n",
       "      <td>NaN</td>\n",
       "      <td>NaN</td>\n",
       "      <td>NaN</td>\n",
       "      <td>NaN</td>\n",
       "      <td>NaN</td>\n",
       "      <td>NaN</td>\n",
       "      <td>NaN</td>\n",
       "      <td>NaN</td>\n",
       "      <td>NaN</td>\n",
       "      <td>NaN</td>\n",
       "    </tr>\n",
       "    <tr>\n",
       "      <th>41475.0</th>\n",
       "      <td>53942.247631</td>\n",
       "      <td>58815.545267</td>\n",
       "      <td>1.0</td>\n",
       "      <td>23.0</td>\n",
       "      <td>2.0</td>\n",
       "      <td>5.0</td>\n",
       "      <td>1.0</td>\n",
       "      <td>1.0</td>\n",
       "      <td>b'1888006202'</td>\n",
       "      <td>5.397605e-79</td>\n",
       "      <td>...</td>\n",
       "      <td>600.0</td>\n",
       "      <td>NaN</td>\n",
       "      <td>NaN</td>\n",
       "      <td>NaN</td>\n",
       "      <td>NaN</td>\n",
       "      <td>NaN</td>\n",
       "      <td>NaN</td>\n",
       "      <td>NaN</td>\n",
       "      <td>NaN</td>\n",
       "      <td>NaN</td>\n",
       "    </tr>\n",
       "    <tr>\n",
       "      <th>41476.0</th>\n",
       "      <td>20558.408369</td>\n",
       "      <td>16752.049990</td>\n",
       "      <td>1.0</td>\n",
       "      <td>25.0</td>\n",
       "      <td>2.0</td>\n",
       "      <td>7.0</td>\n",
       "      <td>1.0</td>\n",
       "      <td>1.0</td>\n",
       "      <td>b'1888361800'</td>\n",
       "      <td>5.397605e-79</td>\n",
       "      <td>...</td>\n",
       "      <td>NaN</td>\n",
       "      <td>NaN</td>\n",
       "      <td>NaN</td>\n",
       "      <td>NaN</td>\n",
       "      <td>NaN</td>\n",
       "      <td>NaN</td>\n",
       "      <td>NaN</td>\n",
       "      <td>NaN</td>\n",
       "      <td>NaN</td>\n",
       "      <td>NaN</td>\n",
       "    </tr>\n",
       "    <tr>\n",
       "      <th>41479.0</th>\n",
       "      <td>5078.443529</td>\n",
       "      <td>4353.945307</td>\n",
       "      <td>1.0</td>\n",
       "      <td>22.0</td>\n",
       "      <td>2.0</td>\n",
       "      <td>6.0</td>\n",
       "      <td>1.0</td>\n",
       "      <td>2.0</td>\n",
       "      <td>b'1000694000'</td>\n",
       "      <td>5.397605e-79</td>\n",
       "      <td>...</td>\n",
       "      <td>210.0</td>\n",
       "      <td>NaN</td>\n",
       "      <td>120.0</td>\n",
       "      <td>NaN</td>\n",
       "      <td>15.0</td>\n",
       "      <td>2.0</td>\n",
       "      <td>NaN</td>\n",
       "      <td>100.0</td>\n",
       "      <td>105.0</td>\n",
       "      <td>NaN</td>\n",
       "    </tr>\n",
       "  </tbody>\n",
       "</table>\n",
       "<p>5 rows × 45 columns</p>\n",
       "</div>"
      ],
      "text/plain": [
       "               WTDRD1        WTDR2D  DR1DRSTZ  DR1EXMER  DRDINT  DR1DAY  \\\n",
       "SEQN                                                                      \n",
       "41475.0  53942.247631  58815.545267       1.0      23.0     2.0     5.0   \n",
       "41475.0  53942.247631  58815.545267       1.0      23.0     2.0     5.0   \n",
       "41475.0  53942.247631  58815.545267       1.0      23.0     2.0     5.0   \n",
       "41476.0  20558.408369  16752.049990       1.0      25.0     2.0     7.0   \n",
       "41479.0   5078.443529   4353.945307       1.0      22.0     2.0     6.0   \n",
       "\n",
       "         DS1LOC  DR1LANG       DSDSUPID       DS1ANTA    ...     DS1ICALC  \\\n",
       "SEQN                                                     ...                \n",
       "41475.0     1.0      1.0  b'1000520000'  5.397605e-79    ...        100.0   \n",
       "41475.0     1.0      1.0  b'1888213202'  5.397605e-79    ...          NaN   \n",
       "41475.0     1.0      1.0  b'1888006202'  5.397605e-79    ...        600.0   \n",
       "41476.0     1.0      1.0  b'1888361800'  5.397605e-79    ...          NaN   \n",
       "41479.0     1.0      2.0  b'1000694000'  5.397605e-79    ...        210.0   \n",
       "\n",
       "         DS1IPHOS  DS1IMAGN  DS1IIRON  DS1IZINC  DS1ICOPP  DS1ISODI  DS1IPOTA  \\\n",
       "SEQN                                                                            \n",
       "41475.0       NaN      50.0       NaN       7.5       1.0       NaN       NaN   \n",
       "41475.0       NaN       NaN       NaN       NaN       NaN       NaN       NaN   \n",
       "41475.0       NaN       NaN       NaN       NaN       NaN       NaN       NaN   \n",
       "41476.0       NaN       NaN       NaN       NaN       NaN       NaN       NaN   \n",
       "41479.0       NaN     120.0       NaN      15.0       2.0       NaN     100.0   \n",
       "\n",
       "         DS1ISELE  DS1ICAFF  \n",
       "SEQN                         \n",
       "41475.0     100.0       NaN  \n",
       "41475.0       NaN       NaN  \n",
       "41475.0       NaN       NaN  \n",
       "41476.0       NaN       NaN  \n",
       "41479.0     105.0       NaN  \n",
       "\n",
       "[5 rows x 45 columns]"
      ]
     },
     "execution_count": 5,
     "metadata": {},
     "output_type": "execute_result"
    }
   ],
   "source": [
    "Diet.head()"
   ]
  },
  {
   "cell_type": "code",
   "execution_count": 10,
   "metadata": {},
   "outputs": [
    {
     "name": "stdout",
     "output_type": "stream",
     "text": [
      "['DR1DAY', 'DR1DRSTZ', 'DR1EXMER', 'DR1LANG', 'DRDINT', 'DS1ACTSS', 'DS1ANTA', 'DS1ICAFF', 'DS1ICALC', 'DS1ICARB', 'DS1ICHL', 'DS1ICHOL', 'DS1ICOPP', 'DS1IFA', 'DS1IFDFE', 'DS1IFIBE', 'DS1IIRON', 'DS1IKCAL', 'DS1ILYCO', 'DS1ILZ', 'DS1IMAGN', 'DS1IMFAT', 'DS1INIAC', 'DS1IPFAT', 'DS1IPHOS', 'DS1IPOTA', 'DS1IPROT', 'DS1ISELE', 'DS1ISFAT', 'DS1ISODI', 'DS1ISUGR', 'DS1ITFAT', 'DS1IVB1', 'DS1IVB12', 'DS1IVB2', 'DS1IVB6', 'DS1IVC', 'DS1IVD', 'DS1IVK', 'DS1IZINC', 'DS1LOC', 'DS1MTCH', 'DSDSUPID', 'WTDR2D', 'WTDRD1']\n"
     ]
    }
   ],
   "source": [
    "A = set(Diet_1.columns)\n",
    "print(sorted(A))"
   ]
  },
  {
   "cell_type": "code",
   "execution_count": 11,
   "metadata": {},
   "outputs": [
    {
     "name": "stdout",
     "output_type": "stream",
     "text": [
      "['DR2DAY', 'DR2DRSTZ', 'DR2EXMER', 'DR2LANG', 'DRDINT', 'DS2ACTSS', 'DS2ANTA', 'DS2ICAFF', 'DS2ICALC', 'DS2ICARB', 'DS2ICHL', 'DS2ICHOL', 'DS2ICOPP', 'DS2IFA', 'DS2IFDFE', 'DS2IFIBE', 'DS2IIRON', 'DS2IKCAL', 'DS2ILYCO', 'DS2ILZ', 'DS2IMAGN', 'DS2IMFAT', 'DS2INIAC', 'DS2IPFAT', 'DS2IPHOS', 'DS2IPOTA', 'DS2IPROT', 'DS2ISELE', 'DS2ISFAT', 'DS2ISODI', 'DS2ISUGR', 'DS2ITFAT', 'DS2IVB1', 'DS2IVB12', 'DS2IVB2', 'DS2IVB6', 'DS2IVC', 'DS2IVD', 'DS2IVK', 'DS2IZINC', 'DS2LOC', 'DS2MTCH', 'DSDSUPID', 'WTDR2D', 'WTDRD1']\n"
     ]
    }
   ],
   "source": [
    "A = set(Diet_2.columns)\n",
    "print(sorted(A))"
   ]
  },
  {
   "cell_type": "code",
   "execution_count": 7,
   "metadata": {},
   "outputs": [
    {
     "data": {
      "text/plain": [
       "WTDRD1         0\n",
       "WTDR2D       521\n",
       "DR1DRSTZ       0\n",
       "DR1EXMER       0\n",
       "DRDINT         0\n",
       "DR1DAY         0\n",
       "DS1LOC         0\n",
       "DR1LANG        0\n",
       "DSDSUPID       0\n",
       "DS1ANTA        0\n",
       "DS1MTCH        0\n",
       "DS1ACTSS     107\n",
       "DS1IKCAL    4550\n",
       "DS1IPROT    5517\n",
       "DS1ICARB    4904\n",
       "DS1ISUGR    5211\n",
       "DS1IFIBE    5534\n",
       "DS1ITFAT    5202\n",
       "DS1ISFAT    5518\n",
       "DS1IMFAT    5609\n",
       "DS1IPFAT    5500\n",
       "DS1ICHOL    5533\n",
       "DS1ILYCO    4872\n",
       "DS1ILZ      4927\n",
       "DS1IVB1     3982\n",
       "DS1IVB2     3973\n",
       "DS1INIAC    3933\n",
       "DS1IVB6     3755\n",
       "DS1IFA      3812\n",
       "DS1IFDFE    3812\n",
       "DS1ICHL     5296\n",
       "DS1IVB12    3701\n",
       "DS1IVC      3385\n",
       "DS1IVK      4664\n",
       "DS1IVD      3490\n",
       "DS1ICALC    3286\n",
       "DS1IPHOS    4734\n",
       "DS1IMAGN    4056\n",
       "DS1IIRON    4577\n",
       "DS1IZINC    3945\n",
       "DS1ICOPP    4290\n",
       "DS1ISODI    5202\n",
       "DS1IPOTA    4647\n",
       "DS1ISELE    4555\n",
       "DS1ICAFF    5714\n",
       "dtype: int64"
      ]
     },
     "execution_count": 7,
     "metadata": {},
     "output_type": "execute_result"
    }
   ],
   "source": [
    "bp_mean_all = pd.concat([bp_reading_all, bp_reading_all_mean], axis=1)"
   ]
  },
  {
   "cell_type": "code",
   "execution_count": null,
   "metadata": {},
   "outputs": [],
   "source": [
    "Diet_filter = Diet.filter(['WTDRD1','WTDRD1'])"
   ]
  },
  {
   "cell_type": "code",
   "execution_count": null,
   "metadata": {},
   "outputs": [],
   "source": []
  },
  {
   "cell_type": "code",
   "execution_count": null,
   "metadata": {},
   "outputs": [],
   "source": []
  },
  {
   "cell_type": "code",
   "execution_count": null,
   "metadata": {},
   "outputs": [],
   "source": []
  },
  {
   "cell_type": "code",
   "execution_count": null,
   "metadata": {},
   "outputs": [],
   "source": []
  },
  {
   "cell_type": "code",
   "execution_count": null,
   "metadata": {},
   "outputs": [],
   "source": []
  },
  {
   "cell_type": "markdown",
   "metadata": {},
   "source": [
    "# Processing Column of SMQ"
   ]
  },
  {
   "cell_type": "code",
   "execution_count": 16,
   "metadata": {},
   "outputs": [
    {
     "name": "stdout",
     "output_type": "stream",
     "text": [
      "Diet_reading1 shape =  (5723,)\n",
      "SEQN\n",
      "41475.0   NaN\n",
      "41475.0   NaN\n",
      "41475.0   NaN\n",
      "41476.0   NaN\n",
      "41479.0   NaN\n",
      "Name: DS1ICHOL, dtype: float64\n",
      "count    190.000000\n",
      "mean      11.661684\n",
      "std       10.743141\n",
      "min        0.650000\n",
      "25%        5.000000\n",
      "50%       10.000000\n",
      "75%       12.500000\n",
      "max       80.000000\n",
      "Name: DS1ICHOL, dtype: float64\n"
     ]
    }
   ],
   "source": [
    "# DS1ICHOL - Cholesterol (mg)\n",
    "Diet_reading1 = Diet['DS1ICHOL']\n",
    "print('Diet_reading1 shape = ', Diet_reading1.shape)\n",
    "print(Diet_reading1.head())\n",
    "print(Diet_reading1.describe())"
   ]
  },
  {
   "cell_type": "code",
   "execution_count": 18,
   "metadata": {},
   "outputs": [
    {
     "name": "stdout",
     "output_type": "stream",
     "text": [
      "Diet_reading2 shape =  (5723,)\n",
      "SEQN\n",
      "41475.0   NaN\n",
      "41475.0   NaN\n",
      "41475.0   NaN\n",
      "41476.0   NaN\n",
      "41479.0   NaN\n",
      "Name: DS1ICARB, dtype: float64\n",
      "count    819.000000\n",
      "mean       2.961278\n",
      "std        7.501619\n",
      "min        0.002000\n",
      "25%        1.000000\n",
      "50%        1.000000\n",
      "75%        3.000000\n",
      "max      168.000000\n",
      "Name: DS1ICARB, dtype: float64\n"
     ]
    }
   ],
   "source": [
    "# DS1ICARB - Carbohydrate (Gm)\n",
    "Diet_reading2 = Diet['DS1ICARB']\n",
    "print('Diet_reading2 shape = ', Diet_reading2.shape)\n",
    "print(Diet_reading2.head())\n",
    "print(Diet_reading2.describe())"
   ]
  },
  {
   "cell_type": "code",
   "execution_count": 17,
   "metadata": {},
   "outputs": [
    {
     "name": "stdout",
     "output_type": "stream",
     "text": [
      "Diet_reading3 shape =  (5723,)\n",
      "SEQN\n",
      "41475.0   NaN\n",
      "41475.0   NaN\n",
      "41475.0   NaN\n",
      "41476.0   NaN\n",
      "41479.0   NaN\n",
      "Name: DS1ISUGR, dtype: float64\n",
      "count    512.000000\n",
      "mean       2.516589\n",
      "std        2.809746\n",
      "min        0.040000\n",
      "25%        1.000000\n",
      "50%        2.000000\n",
      "75%        3.000000\n",
      "max       36.000000\n",
      "Name: DS1ISUGR, dtype: float64\n"
     ]
    }
   ],
   "source": [
    "# DS1ISUGR - Total Sugars(Gm)\n",
    "Diet_reading3 = Diet['DS1ISUGR']\n",
    "print('Diet_reading3 shape = ', Diet_reading3.shape)\n",
    "print(Diet_reading3.head())\n",
    "print(Diet_reading3.describe())"
   ]
  },
  {
   "cell_type": "code",
   "execution_count": 20,
   "metadata": {},
   "outputs": [
    {
     "name": "stdout",
     "output_type": "stream",
     "text": [
      "Diet_reading1 missing values =   5533 from  5723 observations\n",
      "Diet_reading2 missing values =   4904 from  5723 observations\n",
      "Diet_reading3 missing values =   5211 from  5723 observations\n"
     ]
    }
   ],
   "source": [
    "print('Diet_reading1 missing values =  ', Diet_reading1.isnull().sum(), 'from ', Diet_reading1.shape[0], 'observations')\n",
    "print('Diet_reading2 missing values =  ', Diet_reading2.isnull().sum(), 'from ', Diet_reading2.shape[0], 'observations')\n",
    "print('Diet_reading3 missing values =  ', Diet_reading3.isnull().sum(), 'from ', Diet_reading3.shape[0], 'observations')"
   ]
  },
  {
   "cell_type": "code",
   "execution_count": 22,
   "metadata": {},
   "outputs": [
    {
     "name": "stdout",
     "output_type": "stream",
     "text": [
      "All_DR1IFF shape =  (5723, 3)\n",
      "         DS1ICHOL  DS1ICARB  DS1ISUGR\n",
      "SEQN                                 \n",
      "41475.0       NaN       NaN       NaN\n",
      "41475.0       NaN       NaN       NaN\n",
      "41475.0       NaN       NaN       NaN\n",
      "41476.0       NaN       NaN       NaN\n",
      "41479.0       NaN       NaN       NaN\n"
     ]
    },
    {
     "data": {
      "text/html": [
       "<div>\n",
       "<style scoped>\n",
       "    .dataframe tbody tr th:only-of-type {\n",
       "        vertical-align: middle;\n",
       "    }\n",
       "\n",
       "    .dataframe tbody tr th {\n",
       "        vertical-align: top;\n",
       "    }\n",
       "\n",
       "    .dataframe thead th {\n",
       "        text-align: right;\n",
       "    }\n",
       "</style>\n",
       "<table border=\"1\" class=\"dataframe\">\n",
       "  <thead>\n",
       "    <tr style=\"text-align: right;\">\n",
       "      <th></th>\n",
       "      <th>DS1ICHOL</th>\n",
       "      <th>DS1ICARB</th>\n",
       "      <th>DS1ISUGR</th>\n",
       "    </tr>\n",
       "  </thead>\n",
       "  <tbody>\n",
       "    <tr>\n",
       "      <th>count</th>\n",
       "      <td>190.000000</td>\n",
       "      <td>819.000000</td>\n",
       "      <td>512.000000</td>\n",
       "    </tr>\n",
       "    <tr>\n",
       "      <th>mean</th>\n",
       "      <td>11.661684</td>\n",
       "      <td>2.961278</td>\n",
       "      <td>2.516589</td>\n",
       "    </tr>\n",
       "    <tr>\n",
       "      <th>std</th>\n",
       "      <td>10.743141</td>\n",
       "      <td>7.501619</td>\n",
       "      <td>2.809746</td>\n",
       "    </tr>\n",
       "    <tr>\n",
       "      <th>min</th>\n",
       "      <td>0.650000</td>\n",
       "      <td>0.002000</td>\n",
       "      <td>0.040000</td>\n",
       "    </tr>\n",
       "    <tr>\n",
       "      <th>25%</th>\n",
       "      <td>5.000000</td>\n",
       "      <td>1.000000</td>\n",
       "      <td>1.000000</td>\n",
       "    </tr>\n",
       "    <tr>\n",
       "      <th>50%</th>\n",
       "      <td>10.000000</td>\n",
       "      <td>1.000000</td>\n",
       "      <td>2.000000</td>\n",
       "    </tr>\n",
       "    <tr>\n",
       "      <th>75%</th>\n",
       "      <td>12.500000</td>\n",
       "      <td>3.000000</td>\n",
       "      <td>3.000000</td>\n",
       "    </tr>\n",
       "    <tr>\n",
       "      <th>max</th>\n",
       "      <td>80.000000</td>\n",
       "      <td>168.000000</td>\n",
       "      <td>36.000000</td>\n",
       "    </tr>\n",
       "  </tbody>\n",
       "</table>\n",
       "</div>"
      ],
      "text/plain": [
       "         DS1ICHOL    DS1ICARB    DS1ISUGR\n",
       "count  190.000000  819.000000  512.000000\n",
       "mean    11.661684    2.961278    2.516589\n",
       "std     10.743141    7.501619    2.809746\n",
       "min      0.650000    0.002000    0.040000\n",
       "25%      5.000000    1.000000    1.000000\n",
       "50%     10.000000    1.000000    2.000000\n",
       "75%     12.500000    3.000000    3.000000\n",
       "max     80.000000  168.000000   36.000000"
      ]
     },
     "execution_count": 22,
     "metadata": {},
     "output_type": "execute_result"
    }
   ],
   "source": [
    "All_DR1IFF = pd.concat([Diet_reading1,Diet_reading2,Diet_reading3],axis=1)\n",
    "print('All_DR1IFF shape = ', All_DR1IFF.shape)\n",
    "print(All_DR1IFF.head())\n",
    "All_DR1IFF.describe()"
   ]
  },
  {
   "cell_type": "code",
   "execution_count": 14,
   "metadata": {},
   "outputs": [],
   "source": [
    "All_DR1IFF = All_DR1IFF.to_csv('all_SMQ.csv')"
   ]
  },
  {
   "cell_type": "code",
   "execution_count": null,
   "metadata": {},
   "outputs": [],
   "source": []
  }
 ],
 "metadata": {
  "kernelspec": {
   "display_name": "Python 3",
   "language": "python",
   "name": "python3"
  },
  "language_info": {
   "codemirror_mode": {
    "name": "ipython",
    "version": 3
   },
   "file_extension": ".py",
   "mimetype": "text/x-python",
   "name": "python",
   "nbconvert_exporter": "python",
   "pygments_lexer": "ipython3",
   "version": "3.6.4"
  }
 },
 "nbformat": 4,
 "nbformat_minor": 2
}
