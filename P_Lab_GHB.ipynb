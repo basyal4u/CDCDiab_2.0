{
 "cells": [
  {
   "cell_type": "markdown",
   "metadata": {},
   "source": [
    "#  Processing Laboratory - Glycohemoglobin (GHB) file"
   ]
  },
  {
   "cell_type": "code",
   "execution_count": 1,
   "metadata": {},
   "outputs": [],
   "source": [
    "import numpy as np\n",
    "import pandas as pd\n",
    "import glob \n",
    "import os\n",
    "import sys"
   ]
  },
  {
   "cell_type": "code",
   "execution_count": 2,
   "metadata": {},
   "outputs": [
    {
     "data": {
      "text/plain": [
       "'C:\\\\Users\\\\Ganga\\\\Desktop\\\\Research\\\\CDCDiab_2.0\\\\Code'"
      ]
     },
     "execution_count": 2,
     "metadata": {},
     "output_type": "execute_result"
    }
   ],
   "source": [
    "os.getcwd()"
   ]
  },
  {
   "cell_type": "code",
   "execution_count": null,
   "metadata": {},
   "outputs": [],
   "source": [
    "# Select working directory\n",
    "# %cd C:\\Users\\Ganga\\Desktop\\Research\\CDCDiab_2.0\\Data\\07-08\\Examination\n",
    "#%cd /Users/elgayaro/Main/Research/Healthcare/CDC-NHANES/Data/07-08/Examination"
   ]
  },
  {
   "cell_type": "code",
   "execution_count": null,
   "metadata": {},
   "outputs": [],
   "source": [
    "# Omar\n",
    "#allFiles = glob.glob(os.path.join('.',\"*.XPT\"))\n",
    "#print(allFiles)"
   ]
  },
  {
   "cell_type": "code",
   "execution_count": null,
   "metadata": {},
   "outputs": [],
   "source": [
    "# Omar\n",
    "# Set desired file name\n",
    "# fname = '.\\\\BMX_E.XPT'  # Ganga\n",
    "#fname = './BMX_E.XPT'   # Omar\n",
    "#BMX = pd.read_sas(fname, index='SEQN')\n",
    "#BMX.shape"
   ]
  },
  {
   "cell_type": "code",
   "execution_count": 3,
   "metadata": {},
   "outputs": [
    {
     "name": "stdout",
     "output_type": "stream",
     "text": [
      "['C:\\\\Users\\\\Ganga\\\\Desktop\\\\Research\\\\CDCDiab_2.0\\\\Data\\\\07-08\\\\Lab\\\\ALB_CR_E.XPT', 'C:\\\\Users\\\\Ganga\\\\Desktop\\\\Research\\\\CDCDiab_2.0\\\\Data\\\\07-08\\\\Lab\\\\APOB_E.XPT', 'C:\\\\Users\\\\Ganga\\\\Desktop\\\\Research\\\\CDCDiab_2.0\\\\Data\\\\07-08\\\\Lab\\\\BIOPRO_E.XPT', 'C:\\\\Users\\\\Ganga\\\\Desktop\\\\Research\\\\CDCDiab_2.0\\\\Data\\\\07-08\\\\Lab\\\\CARB_E.XPT', 'C:\\\\Users\\\\Ganga\\\\Desktop\\\\Research\\\\CDCDiab_2.0\\\\Data\\\\07-08\\\\Lab\\\\CBC_E.XPT', 'C:\\\\Users\\\\Ganga\\\\Desktop\\\\Research\\\\CDCDiab_2.0\\\\Data\\\\07-08\\\\Lab\\\\CHLMDA_E.XPT', 'C:\\\\Users\\\\Ganga\\\\Desktop\\\\Research\\\\CDCDiab_2.0\\\\Data\\\\07-08\\\\Lab\\\\COTNAL_E.XPT', 'C:\\\\Users\\\\Ganga\\\\Desktop\\\\Research\\\\CDCDiab_2.0\\\\Data\\\\07-08\\\\Lab\\\\CRP_E.XPT', 'C:\\\\Users\\\\Ganga\\\\Desktop\\\\Research\\\\CDCDiab_2.0\\\\Data\\\\07-08\\\\Lab\\\\DEET_E.XPT', 'C:\\\\Users\\\\Ganga\\\\Desktop\\\\Research\\\\CDCDiab_2.0\\\\Data\\\\07-08\\\\Lab\\\\EPH_E.XPT', 'C:\\\\Users\\\\Ganga\\\\Desktop\\\\Research\\\\CDCDiab_2.0\\\\Data\\\\07-08\\\\Lab\\\\FASTQX_E.XPT', 'C:\\\\Users\\\\Ganga\\\\Desktop\\\\Research\\\\CDCDiab_2.0\\\\Data\\\\07-08\\\\Lab\\\\FERTIN_E.XPT', 'C:\\\\Users\\\\Ganga\\\\Desktop\\\\Research\\\\CDCDiab_2.0\\\\Data\\\\07-08\\\\Lab\\\\FOLATE_E.XPT', 'C:\\\\Users\\\\Ganga\\\\Desktop\\\\Research\\\\CDCDiab_2.0\\\\Data\\\\07-08\\\\Lab\\\\FOLFMS_E.XPT', 'C:\\\\Users\\\\Ganga\\\\Desktop\\\\Research\\\\CDCDiab_2.0\\\\Data\\\\07-08\\\\Lab\\\\GHB_E.XPT', 'C:\\\\Users\\\\Ganga\\\\Desktop\\\\Research\\\\CDCDiab_2.0\\\\Data\\\\07-08\\\\Lab\\\\GLU_E.XPT', 'C:\\\\Users\\\\Ganga\\\\Desktop\\\\Research\\\\CDCDiab_2.0\\\\Data\\\\07-08\\\\Lab\\\\HDL_E.XPT', 'C:\\\\Users\\\\Ganga\\\\Desktop\\\\Research\\\\CDCDiab_2.0\\\\Data\\\\07-08\\\\Lab\\\\HEPA_E.XPT', 'C:\\\\Users\\\\Ganga\\\\Desktop\\\\Research\\\\CDCDiab_2.0\\\\Data\\\\07-08\\\\Lab\\\\HEPBD_E.XPT', 'C:\\\\Users\\\\Ganga\\\\Desktop\\\\Research\\\\CDCDiab_2.0\\\\Data\\\\07-08\\\\Lab\\\\HEPB_S_E.XPT', 'C:\\\\Users\\\\Ganga\\\\Desktop\\\\Research\\\\CDCDiab_2.0\\\\Data\\\\07-08\\\\Lab\\\\HEPC_E.XPT', 'C:\\\\Users\\\\Ganga\\\\Desktop\\\\Research\\\\CDCDiab_2.0\\\\Data\\\\07-08\\\\Lab\\\\HIV_E.XPT', 'C:\\\\Users\\\\Ganga\\\\Desktop\\\\Research\\\\CDCDiab_2.0\\\\Data\\\\07-08\\\\Lab\\\\HPVSER_E.XPT', 'C:\\\\Users\\\\Ganga\\\\Desktop\\\\Research\\\\CDCDiab_2.0\\\\Data\\\\07-08\\\\Lab\\\\HPVSWR_E.XPT', 'C:\\\\Users\\\\Ganga\\\\Desktop\\\\Research\\\\CDCDiab_2.0\\\\Data\\\\07-08\\\\Lab\\\\HSV_E.XPT', 'C:\\\\Users\\\\Ganga\\\\Desktop\\\\Research\\\\CDCDiab_2.0\\\\Data\\\\07-08\\\\Lab\\\\IHG_E.XPT', 'C:\\\\Users\\\\Ganga\\\\Desktop\\\\Research\\\\CDCDiab_2.0\\\\Data\\\\07-08\\\\Lab\\\\OGTT_E.XPT', 'C:\\\\Users\\\\Ganga\\\\Desktop\\\\Research\\\\CDCDiab_2.0\\\\Data\\\\07-08\\\\Lab\\\\OPD_E.XPT', 'C:\\\\Users\\\\Ganga\\\\Desktop\\\\Research\\\\CDCDiab_2.0\\\\Data\\\\07-08\\\\Lab\\\\PAH_E.XPT', 'C:\\\\Users\\\\Ganga\\\\Desktop\\\\Research\\\\CDCDiab_2.0\\\\Data\\\\07-08\\\\Lab\\\\PBCD_E.XPT', 'C:\\\\Users\\\\Ganga\\\\Desktop\\\\Research\\\\CDCDiab_2.0\\\\Data\\\\07-08\\\\Lab\\\\PERNT_E.XPT', 'C:\\\\Users\\\\Ganga\\\\Desktop\\\\Research\\\\CDCDiab_2.0\\\\Data\\\\07-08\\\\Lab\\\\PFC_E.XPT', 'C:\\\\Users\\\\Ganga\\\\Desktop\\\\Research\\\\CDCDiab_2.0\\\\Data\\\\07-08\\\\Lab\\\\PHTHTE_E.XPT', 'C:\\\\Users\\\\Ganga\\\\Desktop\\\\Research\\\\CDCDiab_2.0\\\\Data\\\\07-08\\\\Lab\\\\PHYTO_E.XPT', 'C:\\\\Users\\\\Ganga\\\\Desktop\\\\Research\\\\CDCDiab_2.0\\\\Data\\\\07-08\\\\Lab\\\\PP_E.XPT', 'C:\\\\Users\\\\Ganga\\\\Desktop\\\\Research\\\\CDCDiab_2.0\\\\Data\\\\07-08\\\\Lab\\\\PSA_E.XPT', 'C:\\\\Users\\\\Ganga\\\\Desktop\\\\Research\\\\CDCDiab_2.0\\\\Data\\\\07-08\\\\Lab\\\\SSEBV_E.XPT', 'C:\\\\Users\\\\Ganga\\\\Desktop\\\\Research\\\\CDCDiab_2.0\\\\Data\\\\07-08\\\\Lab\\\\SSHCV_E.XPT', 'C:\\\\Users\\\\Ganga\\\\Desktop\\\\Research\\\\CDCDiab_2.0\\\\Data\\\\07-08\\\\Lab\\\\SSUSG_E.XPT', 'C:\\\\Users\\\\Ganga\\\\Desktop\\\\Research\\\\CDCDiab_2.0\\\\Data\\\\07-08\\\\Lab\\\\TCHOL_E.XPT', 'C:\\\\Users\\\\Ganga\\\\Desktop\\\\Research\\\\CDCDiab_2.0\\\\Data\\\\07-08\\\\Lab\\\\TFR_E.XPT', 'C:\\\\Users\\\\Ganga\\\\Desktop\\\\Research\\\\CDCDiab_2.0\\\\Data\\\\07-08\\\\Lab\\\\THYROD_E.XPT', 'C:\\\\Users\\\\Ganga\\\\Desktop\\\\Research\\\\CDCDiab_2.0\\\\Data\\\\07-08\\\\Lab\\\\TRIGLY_E.XPT', 'C:\\\\Users\\\\Ganga\\\\Desktop\\\\Research\\\\CDCDiab_2.0\\\\Data\\\\07-08\\\\Lab\\\\UAM_E.XPT', 'C:\\\\Users\\\\Ganga\\\\Desktop\\\\Research\\\\CDCDiab_2.0\\\\Data\\\\07-08\\\\Lab\\\\UAS_E.XPT', 'C:\\\\Users\\\\Ganga\\\\Desktop\\\\Research\\\\CDCDiab_2.0\\\\Data\\\\07-08\\\\Lab\\\\UCPREG_E.XPT', 'C:\\\\Users\\\\Ganga\\\\Desktop\\\\Research\\\\CDCDiab_2.0\\\\Data\\\\07-08\\\\Lab\\\\UHG_E.XPT', 'C:\\\\Users\\\\Ganga\\\\Desktop\\\\Research\\\\CDCDiab_2.0\\\\Data\\\\07-08\\\\Lab\\\\UHM_E.XPT', 'C:\\\\Users\\\\Ganga\\\\Desktop\\\\Research\\\\CDCDiab_2.0\\\\Data\\\\07-08\\\\Lab\\\\UIO_E.XPT', 'C:\\\\Users\\\\Ganga\\\\Desktop\\\\Research\\\\CDCDiab_2.0\\\\Data\\\\07-08\\\\Lab\\\\UPHOPM_E.XPT', 'C:\\\\Users\\\\Ganga\\\\Desktop\\\\Research\\\\CDCDiab_2.0\\\\Data\\\\07-08\\\\Lab\\\\UPP_E.XPT', 'C:\\\\Users\\\\Ganga\\\\Desktop\\\\Research\\\\CDCDiab_2.0\\\\Data\\\\07-08\\\\Lab\\\\VID_E.XPT', 'C:\\\\Users\\\\Ganga\\\\Desktop\\\\Research\\\\CDCDiab_2.0\\\\Data\\\\07-08\\\\Lab\\\\VIT_B6_E.XPT', 'C:\\\\Users\\\\Ganga\\\\Desktop\\\\Research\\\\CDCDiab_2.0\\\\Data\\\\07-08\\\\Lab\\\\VOCMWB_E.XPT', 'C:\\\\Users\\\\Ganga\\\\Desktop\\\\Research\\\\CDCDiab_2.0\\\\Data\\\\07-08\\\\Lab\\\\VOCWB_E.XPT', 'C:\\\\Users\\\\Ganga\\\\Desktop\\\\Research\\\\CDCDiab_2.0\\\\Data\\\\07-08\\\\Lab\\\\VOC_E.XPT']\n"
     ]
    }
   ],
   "source": [
    "path = 'C:\\\\Users\\\\Ganga\\\\Desktop\\\\Research\\\\CDCDiab_2.0\\\\Data\\\\07-08\\\\Lab'\n",
    "allFiles = glob.glob(os.path.join(path,\"*.XPT\"))\n",
    "print(allFiles)"
   ]
  },
  {
   "cell_type": "code",
   "execution_count": 4,
   "metadata": {},
   "outputs": [
    {
     "data": {
      "text/plain": [
       "(6917, 1)"
      ]
     },
     "execution_count": 4,
     "metadata": {},
     "output_type": "execute_result"
    }
   ],
   "source": [
    "GHB = pd.read_sas('C:\\\\Users\\\\Ganga\\\\Desktop\\\\Research\\\\CDCDiab_2.0\\\\Data\\\\07-08\\\\Lab\\\\GHB_E.XPT', index='SEQN')\n",
    "GHB.shape  "
   ]
  },
  {
   "cell_type": "code",
   "execution_count": 5,
   "metadata": {},
   "outputs": [
    {
     "name": "stdout",
     "output_type": "stream",
     "text": [
      "['LBXGH']\n"
     ]
    }
   ],
   "source": [
    "A = set(GHB.columns)\n",
    "print(sorted(A))"
   ]
  },
  {
   "cell_type": "code",
   "execution_count": 6,
   "metadata": {},
   "outputs": [
    {
     "data": {
      "text/plain": [
       "LBXGH    float64\n",
       "dtype: object"
      ]
     },
     "execution_count": 6,
     "metadata": {},
     "output_type": "execute_result"
    }
   ],
   "source": [
    "GHB.dtypes"
   ]
  },
  {
   "cell_type": "code",
   "execution_count": 7,
   "metadata": {},
   "outputs": [
    {
     "data": {
      "text/html": [
       "<div>\n",
       "<style scoped>\n",
       "    .dataframe tbody tr th:only-of-type {\n",
       "        vertical-align: middle;\n",
       "    }\n",
       "\n",
       "    .dataframe tbody tr th {\n",
       "        vertical-align: top;\n",
       "    }\n",
       "\n",
       "    .dataframe thead th {\n",
       "        text-align: right;\n",
       "    }\n",
       "</style>\n",
       "<table border=\"1\" class=\"dataframe\">\n",
       "  <thead>\n",
       "    <tr style=\"text-align: right;\">\n",
       "      <th></th>\n",
       "      <th>count</th>\n",
       "      <th>mean</th>\n",
       "      <th>std</th>\n",
       "      <th>min</th>\n",
       "      <th>25%</th>\n",
       "      <th>50%</th>\n",
       "      <th>75%</th>\n",
       "      <th>max</th>\n",
       "    </tr>\n",
       "  </thead>\n",
       "  <tbody>\n",
       "    <tr>\n",
       "      <th>LBXGH</th>\n",
       "      <td>6427.0</td>\n",
       "      <td>5.659935</td>\n",
       "      <td>1.012698</td>\n",
       "      <td>2.0</td>\n",
       "      <td>5.2</td>\n",
       "      <td>5.5</td>\n",
       "      <td>5.8</td>\n",
       "      <td>15.2</td>\n",
       "    </tr>\n",
       "  </tbody>\n",
       "</table>\n",
       "</div>"
      ],
      "text/plain": [
       "        count      mean       std  min  25%  50%  75%   max\n",
       "LBXGH  6427.0  5.659935  1.012698  2.0  5.2  5.5  5.8  15.2"
      ]
     },
     "execution_count": 7,
     "metadata": {},
     "output_type": "execute_result"
    }
   ],
   "source": [
    "GHB.describe().T"
   ]
  },
  {
   "cell_type": "code",
   "execution_count": 13,
   "metadata": {},
   "outputs": [],
   "source": [
    "GHB.describe().T.to_csv('GHB_Select.csv')"
   ]
  },
  {
   "cell_type": "code",
   "execution_count": 8,
   "metadata": {},
   "outputs": [
    {
     "data": {
      "text/html": [
       "<div>\n",
       "<style scoped>\n",
       "    .dataframe tbody tr th:only-of-type {\n",
       "        vertical-align: middle;\n",
       "    }\n",
       "\n",
       "    .dataframe tbody tr th {\n",
       "        vertical-align: top;\n",
       "    }\n",
       "\n",
       "    .dataframe thead th {\n",
       "        text-align: right;\n",
       "    }\n",
       "</style>\n",
       "<table border=\"1\" class=\"dataframe\">\n",
       "  <thead>\n",
       "    <tr style=\"text-align: right;\">\n",
       "      <th></th>\n",
       "      <th>SEQN</th>\n",
       "      <th>LBXGH</th>\n",
       "    </tr>\n",
       "  </thead>\n",
       "  <tbody>\n",
       "    <tr>\n",
       "      <th>0</th>\n",
       "      <td>41475.0</td>\n",
       "      <td>5.7</td>\n",
       "    </tr>\n",
       "    <tr>\n",
       "      <th>1</th>\n",
       "      <td>41477.0</td>\n",
       "      <td>9.5</td>\n",
       "    </tr>\n",
       "    <tr>\n",
       "      <th>2</th>\n",
       "      <td>41479.0</td>\n",
       "      <td>5.7</td>\n",
       "    </tr>\n",
       "    <tr>\n",
       "      <th>3</th>\n",
       "      <td>41481.0</td>\n",
       "      <td>NaN</td>\n",
       "    </tr>\n",
       "    <tr>\n",
       "      <th>4</th>\n",
       "      <td>41482.0</td>\n",
       "      <td>7.0</td>\n",
       "    </tr>\n",
       "    <tr>\n",
       "      <th>5</th>\n",
       "      <td>41483.0</td>\n",
       "      <td>6.5</td>\n",
       "    </tr>\n",
       "    <tr>\n",
       "      <th>6</th>\n",
       "      <td>41485.0</td>\n",
       "      <td>5.5</td>\n",
       "    </tr>\n",
       "    <tr>\n",
       "      <th>7</th>\n",
       "      <td>41486.0</td>\n",
       "      <td>6.1</td>\n",
       "    </tr>\n",
       "    <tr>\n",
       "      <th>8</th>\n",
       "      <td>41487.0</td>\n",
       "      <td>5.0</td>\n",
       "    </tr>\n",
       "    <tr>\n",
       "      <th>9</th>\n",
       "      <td>41489.0</td>\n",
       "      <td>5.4</td>\n",
       "    </tr>\n",
       "    <tr>\n",
       "      <th>10</th>\n",
       "      <td>41490.0</td>\n",
       "      <td>5.9</td>\n",
       "    </tr>\n",
       "    <tr>\n",
       "      <th>11</th>\n",
       "      <td>41492.0</td>\n",
       "      <td>5.3</td>\n",
       "    </tr>\n",
       "    <tr>\n",
       "      <th>12</th>\n",
       "      <td>41493.0</td>\n",
       "      <td>6.2</td>\n",
       "    </tr>\n",
       "    <tr>\n",
       "      <th>13</th>\n",
       "      <td>41494.0</td>\n",
       "      <td>5.9</td>\n",
       "    </tr>\n",
       "    <tr>\n",
       "      <th>14</th>\n",
       "      <td>41495.0</td>\n",
       "      <td>5.5</td>\n",
       "    </tr>\n",
       "    <tr>\n",
       "      <th>15</th>\n",
       "      <td>41496.0</td>\n",
       "      <td>5.1</td>\n",
       "    </tr>\n",
       "    <tr>\n",
       "      <th>16</th>\n",
       "      <td>41498.0</td>\n",
       "      <td>5.8</td>\n",
       "    </tr>\n",
       "    <tr>\n",
       "      <th>17</th>\n",
       "      <td>41499.0</td>\n",
       "      <td>5.2</td>\n",
       "    </tr>\n",
       "    <tr>\n",
       "      <th>18</th>\n",
       "      <td>41500.0</td>\n",
       "      <td>4.9</td>\n",
       "    </tr>\n",
       "    <tr>\n",
       "      <th>19</th>\n",
       "      <td>41501.0</td>\n",
       "      <td>6.3</td>\n",
       "    </tr>\n",
       "    <tr>\n",
       "      <th>20</th>\n",
       "      <td>41502.0</td>\n",
       "      <td>5.3</td>\n",
       "    </tr>\n",
       "    <tr>\n",
       "      <th>21</th>\n",
       "      <td>41503.0</td>\n",
       "      <td>5.0</td>\n",
       "    </tr>\n",
       "    <tr>\n",
       "      <th>22</th>\n",
       "      <td>41504.0</td>\n",
       "      <td>5.2</td>\n",
       "    </tr>\n",
       "    <tr>\n",
       "      <th>23</th>\n",
       "      <td>41506.0</td>\n",
       "      <td>6.0</td>\n",
       "    </tr>\n",
       "    <tr>\n",
       "      <th>24</th>\n",
       "      <td>41509.0</td>\n",
       "      <td>7.8</td>\n",
       "    </tr>\n",
       "    <tr>\n",
       "      <th>25</th>\n",
       "      <td>41510.0</td>\n",
       "      <td>4.9</td>\n",
       "    </tr>\n",
       "    <tr>\n",
       "      <th>26</th>\n",
       "      <td>41511.0</td>\n",
       "      <td>10.9</td>\n",
       "    </tr>\n",
       "    <tr>\n",
       "      <th>27</th>\n",
       "      <td>41512.0</td>\n",
       "      <td>5.7</td>\n",
       "    </tr>\n",
       "    <tr>\n",
       "      <th>28</th>\n",
       "      <td>41513.0</td>\n",
       "      <td>6.0</td>\n",
       "    </tr>\n",
       "    <tr>\n",
       "      <th>29</th>\n",
       "      <td>41514.0</td>\n",
       "      <td>6.8</td>\n",
       "    </tr>\n",
       "    <tr>\n",
       "      <th>...</th>\n",
       "      <td>...</td>\n",
       "      <td>...</td>\n",
       "    </tr>\n",
       "    <tr>\n",
       "      <th>6887</th>\n",
       "      <td>51583.0</td>\n",
       "      <td>9.4</td>\n",
       "    </tr>\n",
       "    <tr>\n",
       "      <th>6888</th>\n",
       "      <td>51584.0</td>\n",
       "      <td>5.7</td>\n",
       "    </tr>\n",
       "    <tr>\n",
       "      <th>6889</th>\n",
       "      <td>51585.0</td>\n",
       "      <td>5.7</td>\n",
       "    </tr>\n",
       "    <tr>\n",
       "      <th>6890</th>\n",
       "      <td>51587.0</td>\n",
       "      <td>5.5</td>\n",
       "    </tr>\n",
       "    <tr>\n",
       "      <th>6891</th>\n",
       "      <td>51588.0</td>\n",
       "      <td>5.1</td>\n",
       "    </tr>\n",
       "    <tr>\n",
       "      <th>6892</th>\n",
       "      <td>51589.0</td>\n",
       "      <td>5.6</td>\n",
       "    </tr>\n",
       "    <tr>\n",
       "      <th>6893</th>\n",
       "      <td>51590.0</td>\n",
       "      <td>5.8</td>\n",
       "    </tr>\n",
       "    <tr>\n",
       "      <th>6894</th>\n",
       "      <td>51591.0</td>\n",
       "      <td>NaN</td>\n",
       "    </tr>\n",
       "    <tr>\n",
       "      <th>6895</th>\n",
       "      <td>51592.0</td>\n",
       "      <td>9.0</td>\n",
       "    </tr>\n",
       "    <tr>\n",
       "      <th>6896</th>\n",
       "      <td>51593.0</td>\n",
       "      <td>5.9</td>\n",
       "    </tr>\n",
       "    <tr>\n",
       "      <th>6897</th>\n",
       "      <td>51594.0</td>\n",
       "      <td>5.3</td>\n",
       "    </tr>\n",
       "    <tr>\n",
       "      <th>6898</th>\n",
       "      <td>51596.0</td>\n",
       "      <td>6.4</td>\n",
       "    </tr>\n",
       "    <tr>\n",
       "      <th>6899</th>\n",
       "      <td>51603.0</td>\n",
       "      <td>4.9</td>\n",
       "    </tr>\n",
       "    <tr>\n",
       "      <th>6900</th>\n",
       "      <td>51604.0</td>\n",
       "      <td>5.6</td>\n",
       "    </tr>\n",
       "    <tr>\n",
       "      <th>6901</th>\n",
       "      <td>51606.0</td>\n",
       "      <td>5.8</td>\n",
       "    </tr>\n",
       "    <tr>\n",
       "      <th>6902</th>\n",
       "      <td>51608.0</td>\n",
       "      <td>5.3</td>\n",
       "    </tr>\n",
       "    <tr>\n",
       "      <th>6903</th>\n",
       "      <td>51609.0</td>\n",
       "      <td>5.4</td>\n",
       "    </tr>\n",
       "    <tr>\n",
       "      <th>6904</th>\n",
       "      <td>51610.0</td>\n",
       "      <td>6.4</td>\n",
       "    </tr>\n",
       "    <tr>\n",
       "      <th>6905</th>\n",
       "      <td>51611.0</td>\n",
       "      <td>5.9</td>\n",
       "    </tr>\n",
       "    <tr>\n",
       "      <th>6906</th>\n",
       "      <td>51613.0</td>\n",
       "      <td>5.4</td>\n",
       "    </tr>\n",
       "    <tr>\n",
       "      <th>6907</th>\n",
       "      <td>51614.0</td>\n",
       "      <td>5.4</td>\n",
       "    </tr>\n",
       "    <tr>\n",
       "      <th>6908</th>\n",
       "      <td>51615.0</td>\n",
       "      <td>NaN</td>\n",
       "    </tr>\n",
       "    <tr>\n",
       "      <th>6909</th>\n",
       "      <td>51616.0</td>\n",
       "      <td>7.3</td>\n",
       "    </tr>\n",
       "    <tr>\n",
       "      <th>6910</th>\n",
       "      <td>51617.0</td>\n",
       "      <td>6.0</td>\n",
       "    </tr>\n",
       "    <tr>\n",
       "      <th>6911</th>\n",
       "      <td>51618.0</td>\n",
       "      <td>5.6</td>\n",
       "    </tr>\n",
       "    <tr>\n",
       "      <th>6912</th>\n",
       "      <td>51619.0</td>\n",
       "      <td>5.3</td>\n",
       "    </tr>\n",
       "    <tr>\n",
       "      <th>6913</th>\n",
       "      <td>51620.0</td>\n",
       "      <td>5.4</td>\n",
       "    </tr>\n",
       "    <tr>\n",
       "      <th>6914</th>\n",
       "      <td>51621.0</td>\n",
       "      <td>4.9</td>\n",
       "    </tr>\n",
       "    <tr>\n",
       "      <th>6915</th>\n",
       "      <td>51622.0</td>\n",
       "      <td>4.8</td>\n",
       "    </tr>\n",
       "    <tr>\n",
       "      <th>6916</th>\n",
       "      <td>51623.0</td>\n",
       "      <td>5.4</td>\n",
       "    </tr>\n",
       "  </tbody>\n",
       "</table>\n",
       "<p>6917 rows × 2 columns</p>\n",
       "</div>"
      ],
      "text/plain": [
       "         SEQN  LBXGH\n",
       "0     41475.0    5.7\n",
       "1     41477.0    9.5\n",
       "2     41479.0    5.7\n",
       "3     41481.0    NaN\n",
       "4     41482.0    7.0\n",
       "5     41483.0    6.5\n",
       "6     41485.0    5.5\n",
       "7     41486.0    6.1\n",
       "8     41487.0    5.0\n",
       "9     41489.0    5.4\n",
       "10    41490.0    5.9\n",
       "11    41492.0    5.3\n",
       "12    41493.0    6.2\n",
       "13    41494.0    5.9\n",
       "14    41495.0    5.5\n",
       "15    41496.0    5.1\n",
       "16    41498.0    5.8\n",
       "17    41499.0    5.2\n",
       "18    41500.0    4.9\n",
       "19    41501.0    6.3\n",
       "20    41502.0    5.3\n",
       "21    41503.0    5.0\n",
       "22    41504.0    5.2\n",
       "23    41506.0    6.0\n",
       "24    41509.0    7.8\n",
       "25    41510.0    4.9\n",
       "26    41511.0   10.9\n",
       "27    41512.0    5.7\n",
       "28    41513.0    6.0\n",
       "29    41514.0    6.8\n",
       "...       ...    ...\n",
       "6887  51583.0    9.4\n",
       "6888  51584.0    5.7\n",
       "6889  51585.0    5.7\n",
       "6890  51587.0    5.5\n",
       "6891  51588.0    5.1\n",
       "6892  51589.0    5.6\n",
       "6893  51590.0    5.8\n",
       "6894  51591.0    NaN\n",
       "6895  51592.0    9.0\n",
       "6896  51593.0    5.9\n",
       "6897  51594.0    5.3\n",
       "6898  51596.0    6.4\n",
       "6899  51603.0    4.9\n",
       "6900  51604.0    5.6\n",
       "6901  51606.0    5.8\n",
       "6902  51608.0    5.3\n",
       "6903  51609.0    5.4\n",
       "6904  51610.0    6.4\n",
       "6905  51611.0    5.9\n",
       "6906  51613.0    5.4\n",
       "6907  51614.0    5.4\n",
       "6908  51615.0    NaN\n",
       "6909  51616.0    7.3\n",
       "6910  51617.0    6.0\n",
       "6911  51618.0    5.6\n",
       "6912  51619.0    5.3\n",
       "6913  51620.0    5.4\n",
       "6914  51621.0    4.9\n",
       "6915  51622.0    4.8\n",
       "6916  51623.0    5.4\n",
       "\n",
       "[6917 rows x 2 columns]"
      ]
     },
     "execution_count": 8,
     "metadata": {},
     "output_type": "execute_result"
    }
   ],
   "source": [
    "GHB.reset_index()"
   ]
  },
  {
   "cell_type": "code",
   "execution_count": 9,
   "metadata": {},
   "outputs": [],
   "source": [
    "GHB.to_csv('GHB_Lab_filter.csv')"
   ]
  },
  {
   "cell_type": "markdown",
   "metadata": {},
   "source": [
    "# Processing Column of GHB\n",
    "\n",
    "## Blood Glycohemoglobin, Fasting Plasma Glucose, 2 hour glucose, serum insulin is measure to asses the diabetes Mellitus. - NHNES"
   ]
  },
  {
   "cell_type": "code",
   "execution_count": 7,
   "metadata": {},
   "outputs": [
    {
     "name": "stdout",
     "output_type": "stream",
     "text": [
      "GHB_reading1 shape =  (6917,)\n",
      "SEQN\n",
      "41475.0    5.7\n",
      "41477.0    9.5\n",
      "41479.0    5.7\n",
      "41481.0    NaN\n",
      "41482.0    7.0\n",
      "Name: LBXGH, dtype: float64\n",
      "count    6427.000000\n",
      "mean        5.659935\n",
      "std         1.012698\n",
      "min         2.000000\n",
      "25%         5.200000\n",
      "50%         5.500000\n",
      "75%         5.800000\n",
      "max        15.200000\n",
      "Name: LBXGH, dtype: float64\n"
     ]
    }
   ],
   "source": [
    "GHB_reading1 = GHB['LBXGH']\n",
    "print('GHB_reading1 shape = ', GHB_reading1.shape)\n",
    "print(GHB_reading1.head())\n",
    "print(GHB_reading1.describe())"
   ]
  },
  {
   "cell_type": "code",
   "execution_count": 8,
   "metadata": {},
   "outputs": [
    {
     "name": "stdout",
     "output_type": "stream",
     "text": [
      "GHB missing values =   490 from  6917 observations\n"
     ]
    }
   ],
   "source": [
    "print('GHB missing values =  ', GHB_reading1.isnull().sum(), 'from ', GHB_reading1.shape[0], 'observations')"
   ]
  },
  {
   "cell_type": "code",
   "execution_count": null,
   "metadata": {},
   "outputs": [],
   "source": []
  }
 ],
 "metadata": {
  "kernelspec": {
   "display_name": "Python 3",
   "language": "python",
   "name": "python3"
  },
  "language_info": {
   "codemirror_mode": {
    "name": "ipython",
    "version": 3
   },
   "file_extension": ".py",
   "mimetype": "text/x-python",
   "name": "python",
   "nbconvert_exporter": "python",
   "pygments_lexer": "ipython3",
   "version": "3.6.4"
  }
 },
 "nbformat": 4,
 "nbformat_minor": 2
}
