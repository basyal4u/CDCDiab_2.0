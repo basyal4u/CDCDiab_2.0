{
 "cells": [
  {
   "cell_type": "markdown",
   "metadata": {},
   "source": [
    "# 11-12 Merging the data set\n",
    "\n",
    "### We have acquired the dataset from NAHNES under CDC.gov website. This is an open data repository. We had downloaded the data into 5 part- 1) Demographic, 2) Diatery, 3) Laboratory, 4) Examination, 5) Questionair. All the data is merged into one single file. \n"
   ]
  },
  {
   "cell_type": "code",
   "execution_count": 1,
   "metadata": {},
   "outputs": [],
   "source": [
    "import numpy as np\n",
    "import pandas as pd\n",
    "import matplotlib.pyplot as plt\n",
    "import glob \n",
    "import os\n",
    "import sys"
   ]
  },
  {
   "cell_type": "code",
   "execution_count": 2,
   "metadata": {},
   "outputs": [
    {
     "data": {
      "text/plain": [
       "'C:\\\\Users\\\\Ganga\\\\Desktop\\\\Research\\\\CDCDiab1\\\\11-12'"
      ]
     },
     "execution_count": 2,
     "metadata": {},
     "output_type": "execute_result"
    }
   ],
   "source": [
    "os.getcwd()"
   ]
  },
  {
   "cell_type": "code",
   "execution_count": 26,
   "metadata": {},
   "outputs": [
    {
     "name": "stdout",
     "output_type": "stream",
     "text": [
      "C:\\Users\\Ganga\\Desktop\\Research\\CDCDiab1\\11-12\\All\\ACQ_G.XPT\n",
      "C:\\Users\\Ganga\\Desktop\\Research\\CDCDiab1\\11-12\\All\\ALB_CR_G.XPT\n",
      "C:\\Users\\Ganga\\Desktop\\Research\\CDCDiab1\\11-12\\All\\ALQ_G.XPT\n",
      "C:\\Users\\Ganga\\Desktop\\Research\\CDCDiab1\\11-12\\All\\APOB_G.XPT\n",
      "C:\\Users\\Ganga\\Desktop\\Research\\CDCDiab1\\11-12\\All\\AUQ_G.XPT\n",
      "C:\\Users\\Ganga\\Desktop\\Research\\CDCDiab1\\11-12\\All\\AUXAR_G.XPT\n",
      "C:\\Users\\Ganga\\Desktop\\Research\\CDCDiab1\\11-12\\All\\AUXTYM_G.XPT\n",
      "C:\\Users\\Ganga\\Desktop\\Research\\CDCDiab1\\11-12\\All\\AUX_G.XPT\n",
      "C:\\Users\\Ganga\\Desktop\\Research\\CDCDiab1\\11-12\\All\\BIOPRO_G.XPT\n",
      "C:\\Users\\Ganga\\Desktop\\Research\\CDCDiab1\\11-12\\All\\BMX_G.XPT\n",
      "C:\\Users\\Ganga\\Desktop\\Research\\CDCDiab1\\11-12\\All\\BPQ_G.XPT\n",
      "C:\\Users\\Ganga\\Desktop\\Research\\CDCDiab1\\11-12\\All\\BPX_G.XPT\n",
      "C:\\Users\\Ganga\\Desktop\\Research\\CDCDiab1\\11-12\\All\\CBC_G.XPT\n",
      "C:\\Users\\Ganga\\Desktop\\Research\\CDCDiab1\\11-12\\All\\CBQ_G.XPT\n",
      "C:\\Users\\Ganga\\Desktop\\Research\\CDCDiab1\\11-12\\All\\CDQ_G.XPT\n",
      "C:\\Users\\Ganga\\Desktop\\Research\\CDCDiab1\\11-12\\All\\CFQ_G.XPT\n",
      "C:\\Users\\Ganga\\Desktop\\Research\\CDCDiab1\\11-12\\All\\CHLMDA_G.XPT\n",
      "C:\\Users\\Ganga\\Desktop\\Research\\CDCDiab1\\11-12\\All\\CKQ_G.XPT\n",
      "C:\\Users\\Ganga\\Desktop\\Research\\CDCDiab1\\11-12\\All\\CMV_G.XPT\n",
      "C:\\Users\\Ganga\\Desktop\\Research\\CDCDiab1\\11-12\\All\\COTNAL_G.XPT\n",
      "C:\\Users\\Ganga\\Desktop\\Research\\CDCDiab1\\11-12\\All\\CSQ_G.XPT\n",
      "C:\\Users\\Ganga\\Desktop\\Research\\CDCDiab1\\11-12\\All\\CUSEZN_G.XPT\n",
      "C:\\Users\\Ganga\\Desktop\\Research\\CDCDiab1\\11-12\\All\\DBQ_G.XPT\n",
      "C:\\Users\\Ganga\\Desktop\\Research\\CDCDiab1\\11-12\\All\\DEET_G.XPT\n",
      "C:\\Users\\Ganga\\Desktop\\Research\\CDCDiab1\\11-12\\All\\DEMO_G.XPT\n",
      "C:\\Users\\Ganga\\Desktop\\Research\\CDCDiab1\\11-12\\All\\DEQ_G.XPT\n",
      "C:\\Users\\Ganga\\Desktop\\Research\\CDCDiab1\\11-12\\All\\DIQ_G.XPT\n",
      "C:\\Users\\Ganga\\Desktop\\Research\\CDCDiab1\\11-12\\All\\DPQ_G.XPT\n",
      "C:\\Users\\Ganga\\Desktop\\Research\\CDCDiab1\\11-12\\All\\DR1IFF_G.XPT\n",
      "C:\\Users\\Ganga\\Desktop\\Research\\CDCDiab1\\11-12\\All\\DR1TOT_G.XPT\n",
      "C:\\Users\\Ganga\\Desktop\\Research\\CDCDiab1\\11-12\\All\\DR2IFF_G.XPT\n",
      "C:\\Users\\Ganga\\Desktop\\Research\\CDCDiab1\\11-12\\All\\DR2TOT_G.XPT\n",
      "C:\\Users\\Ganga\\Desktop\\Research\\CDCDiab1\\11-12\\All\\DS1IDS_G.XPT\n",
      "C:\\Users\\Ganga\\Desktop\\Research\\CDCDiab1\\11-12\\All\\DS1TOT_G.XPT\n",
      "C:\\Users\\Ganga\\Desktop\\Research\\CDCDiab1\\11-12\\All\\DS2IDS_G.XPT\n",
      "C:\\Users\\Ganga\\Desktop\\Research\\CDCDiab1\\11-12\\All\\DS2TOT_G.XPT\n",
      "C:\\Users\\Ganga\\Desktop\\Research\\CDCDiab1\\11-12\\All\\DSQIDS_G.XPT\n",
      "C:\\Users\\Ganga\\Desktop\\Research\\CDCDiab1\\11-12\\All\\DSQTOT_G.XPT\n",
      "C:\\Users\\Ganga\\Desktop\\Research\\CDCDiab1\\11-12\\All\\DUQ_G.XPT\n",
      "C:\\Users\\Ganga\\Desktop\\Research\\CDCDiab1\\11-12\\All\\ECQ_G.XPT\n",
      "C:\\Users\\Ganga\\Desktop\\Research\\CDCDiab1\\11-12\\All\\ENX_G.XPT\n",
      "C:\\Users\\Ganga\\Desktop\\Research\\CDCDiab1\\11-12\\All\\EPH_G.XPT\n",
      "C:\\Users\\Ganga\\Desktop\\Research\\CDCDiab1\\11-12\\All\\FASTQX_G.XPT\n",
      "C:\\Users\\Ganga\\Desktop\\Research\\CDCDiab1\\11-12\\All\\FSQ_G.XPT\n",
      "C:\\Users\\Ganga\\Desktop\\Research\\CDCDiab1\\11-12\\All\\GHB_G.XPT\n",
      "C:\\Users\\Ganga\\Desktop\\Research\\CDCDiab1\\11-12\\All\\GLU_G.XPT\n",
      "C:\\Users\\Ganga\\Desktop\\Research\\CDCDiab1\\11-12\\All\\HCQ_G.XPT\n",
      "C:\\Users\\Ganga\\Desktop\\Research\\CDCDiab1\\11-12\\All\\HDL_G.XPT\n",
      "C:\\Users\\Ganga\\Desktop\\Research\\CDCDiab1\\11-12\\All\\HEPA_G.XPT\n",
      "C:\\Users\\Ganga\\Desktop\\Research\\CDCDiab1\\11-12\\All\\HEPBD_G.XPT\n",
      "C:\\Users\\Ganga\\Desktop\\Research\\CDCDiab1\\11-12\\All\\HEPB_S_G.XPT\n",
      "C:\\Users\\Ganga\\Desktop\\Research\\CDCDiab1\\11-12\\All\\HEPC_G.XPT\n",
      "C:\\Users\\Ganga\\Desktop\\Research\\CDCDiab1\\11-12\\All\\HEPE_G.XPT\n",
      "C:\\Users\\Ganga\\Desktop\\Research\\CDCDiab1\\11-12\\All\\HIQ_G.XPT\n",
      "C:\\Users\\Ganga\\Desktop\\Research\\CDCDiab1\\11-12\\All\\HIV_G.XPT\n",
      "C:\\Users\\Ganga\\Desktop\\Research\\CDCDiab1\\11-12\\All\\HOQ_G.XPT\n",
      "C:\\Users\\Ganga\\Desktop\\Research\\CDCDiab1\\11-12\\All\\HPVSWR_G.XPT\n",
      "C:\\Users\\Ganga\\Desktop\\Research\\CDCDiab1\\11-12\\All\\HSQ_G.XPT\n",
      "C:\\Users\\Ganga\\Desktop\\Research\\CDCDiab1\\11-12\\All\\HSV_G.XPT\n",
      "C:\\Users\\Ganga\\Desktop\\Research\\CDCDiab1\\11-12\\All\\HUQ_G.XPT\n",
      "C:\\Users\\Ganga\\Desktop\\Research\\CDCDiab1\\11-12\\All\\IHGEM_G.XPT\n",
      "C:\\Users\\Ganga\\Desktop\\Research\\CDCDiab1\\11-12\\All\\IMQ_G.XPT\n",
      "C:\\Users\\Ganga\\Desktop\\Research\\CDCDiab1\\11-12\\All\\INQ_G.XPT\n",
      "C:\\Users\\Ganga\\Desktop\\Research\\CDCDiab1\\11-12\\All\\KIQ_U_G.XPT\n",
      "C:\\Users\\Ganga\\Desktop\\Research\\CDCDiab1\\11-12\\All\\MCQ_G.XPT\n",
      "C:\\Users\\Ganga\\Desktop\\Research\\CDCDiab1\\11-12\\All\\MGX_G.XPT\n",
      "C:\\Users\\Ganga\\Desktop\\Research\\CDCDiab1\\11-12\\All\\OCQ_G.XPT\n",
      "C:\\Users\\Ganga\\Desktop\\Research\\CDCDiab1\\11-12\\All\\OGTT_G.XPT\n",
      "C:\\Users\\Ganga\\Desktop\\Research\\CDCDiab1\\11-12\\All\\OHQ_G.XPT\n",
      "C:\\Users\\Ganga\\Desktop\\Research\\CDCDiab1\\11-12\\All\\OHXDEN_G.XPT\n",
      "C:\\Users\\Ganga\\Desktop\\Research\\CDCDiab1\\11-12\\All\\OHXPER_G.XPT\n",
      "C:\\Users\\Ganga\\Desktop\\Research\\CDCDiab1\\11-12\\All\\OHXREF_G.XPT\n",
      "C:\\Users\\Ganga\\Desktop\\Research\\CDCDiab1\\11-12\\All\\ORHPV_G.XPT\n",
      "C:\\Users\\Ganga\\Desktop\\Research\\CDCDiab1\\11-12\\All\\PAHS_G.XPT\n",
      "C:\\Users\\Ganga\\Desktop\\Research\\CDCDiab1\\11-12\\All\\PAH_G.XPT\n",
      "C:\\Users\\Ganga\\Desktop\\Research\\CDCDiab1\\11-12\\All\\PAQ_G.XPT\n",
      "C:\\Users\\Ganga\\Desktop\\Research\\CDCDiab1\\11-12\\All\\PBCD_G.XPT\n",
      "C:\\Users\\Ganga\\Desktop\\Research\\CDCDiab1\\11-12\\All\\PERNTS_G.XPT\n",
      "C:\\Users\\Ganga\\Desktop\\Research\\CDCDiab1\\11-12\\All\\PERNT_G.XPT\n",
      "C:\\Users\\Ganga\\Desktop\\Research\\CDCDiab1\\11-12\\All\\PFC_G.XPT\n",
      "C:\\Users\\Ganga\\Desktop\\Research\\CDCDiab1\\11-12\\All\\PFQ_G.XPT\n",
      "C:\\Users\\Ganga\\Desktop\\Research\\CDCDiab1\\11-12\\All\\PHTHTE_G.XPT\n",
      "C:\\Users\\Ganga\\Desktop\\Research\\CDCDiab1\\11-12\\All\\POOLTF_G.XPT\n",
      "C:\\Users\\Ganga\\Desktop\\Research\\CDCDiab1\\11-12\\All\\PP_G.XPT\n",
      "C:\\Users\\Ganga\\Desktop\\Research\\CDCDiab1\\11-12\\All\\PUQMEC_G.XPT\n",
      "C:\\Users\\Ganga\\Desktop\\Research\\CDCDiab1\\11-12\\All\\RDQ_G.XPT\n",
      "C:\\Users\\Ganga\\Desktop\\Research\\CDCDiab1\\11-12\\All\\RHQ_G.XPT\n",
      "C:\\Users\\Ganga\\Desktop\\Research\\CDCDiab1\\11-12\\All\\RXQASA_G.XPT\n",
      "C:\\Users\\Ganga\\Desktop\\Research\\CDCDiab1\\11-12\\All\\RXQ_RX_G.XPT\n",
      "C:\\Users\\Ganga\\Desktop\\Research\\CDCDiab1\\11-12\\All\\SLQ_G.XPT\n",
      "C:\\Users\\Ganga\\Desktop\\Research\\CDCDiab1\\11-12\\All\\SMQFAM_G.XPT\n",
      "C:\\Users\\Ganga\\Desktop\\Research\\CDCDiab1\\11-12\\All\\SMQRTU_G.XPT\n",
      "C:\\Users\\Ganga\\Desktop\\Research\\CDCDiab1\\11-12\\All\\SMQ_G.XPT\n",
      "C:\\Users\\Ganga\\Desktop\\Research\\CDCDiab1\\11-12\\All\\SPX_G.XPT\n",
      "C:\\Users\\Ganga\\Desktop\\Research\\CDCDiab1\\11-12\\All\\SSHCV_E.XPT\n",
      "C:\\Users\\Ganga\\Desktop\\Research\\CDCDiab1\\11-12\\All\\SSTOCA_G.XPT\n",
      "C:\\Users\\Ganga\\Desktop\\Research\\CDCDiab1\\11-12\\All\\SSTOXO_G.XPT\n",
      "C:\\Users\\Ganga\\Desktop\\Research\\CDCDiab1\\11-12\\All\\SXQ_G.XPT\n",
      "C:\\Users\\Ganga\\Desktop\\Research\\CDCDiab1\\11-12\\All\\TBQ_G.XPT\n",
      "C:\\Users\\Ganga\\Desktop\\Research\\CDCDiab1\\11-12\\All\\TBX_G.XPT\n",
      "C:\\Users\\Ganga\\Desktop\\Research\\CDCDiab1\\11-12\\All\\TB_G.XPT\n",
      "C:\\Users\\Ganga\\Desktop\\Research\\CDCDiab1\\11-12\\All\\TCHOL_G.XPT\n",
      "C:\\Users\\Ganga\\Desktop\\Research\\CDCDiab1\\11-12\\All\\TGEMA_G.XPT\n",
      "C:\\Users\\Ganga\\Desktop\\Research\\CDCDiab1\\11-12\\All\\THYROD_G.XPT\n",
      "C:\\Users\\Ganga\\Desktop\\Research\\CDCDiab1\\11-12\\All\\TRIGLY_G.XPT\n",
      "C:\\Users\\Ganga\\Desktop\\Research\\CDCDiab1\\11-12\\All\\TST_G.XPT\n",
      "C:\\Users\\Ganga\\Desktop\\Research\\CDCDiab1\\11-12\\All\\UASS_G.XPT\n",
      "C:\\Users\\Ganga\\Desktop\\Research\\CDCDiab1\\11-12\\All\\UAS_G.XPT\n",
      "C:\\Users\\Ganga\\Desktop\\Research\\CDCDiab1\\11-12\\All\\UCFLOW_G.XPT\n",
      "C:\\Users\\Ganga\\Desktop\\Research\\CDCDiab1\\11-12\\All\\UCOSMO_G.XPT\n",
      "C:\\Users\\Ganga\\Desktop\\Research\\CDCDiab1\\11-12\\All\\UCPREG_G.XPT\n",
      "C:\\Users\\Ganga\\Desktop\\Research\\CDCDiab1\\11-12\\All\\UHG_G.XPT\n",
      "C:\\Users\\Ganga\\Desktop\\Research\\CDCDiab1\\11-12\\All\\UHMS_G.XPT\n",
      "C:\\Users\\Ganga\\Desktop\\Research\\CDCDiab1\\11-12\\All\\UHM_G.XPT\n",
      "C:\\Users\\Ganga\\Desktop\\Research\\CDCDiab1\\11-12\\All\\UIO_G.XPT\n",
      "C:\\Users\\Ganga\\Desktop\\Research\\CDCDiab1\\11-12\\All\\UVOCS_G.XPT\n",
      "C:\\Users\\Ganga\\Desktop\\Research\\CDCDiab1\\11-12\\All\\UVOC_G.XPT\n",
      "C:\\Users\\Ganga\\Desktop\\Research\\CDCDiab1\\11-12\\All\\VID_G.XPT\n",
      "C:\\Users\\Ganga\\Desktop\\Research\\CDCDiab1\\11-12\\All\\VITB12_G.XPT\n",
      "C:\\Users\\Ganga\\Desktop\\Research\\CDCDiab1\\11-12\\All\\VOCMWB_G.XPT\n",
      "C:\\Users\\Ganga\\Desktop\\Research\\CDCDiab1\\11-12\\All\\VOCWB_G.XPT\n",
      "C:\\Users\\Ganga\\Desktop\\Research\\CDCDiab1\\11-12\\All\\VTQ_G.XPT\n",
      "C:\\Users\\Ganga\\Desktop\\Research\\CDCDiab1\\11-12\\All\\WHQMEC_G.XPT\n",
      "C:\\Users\\Ganga\\Desktop\\Research\\CDCDiab1\\11-12\\All\\WHQ_G.XPT\n"
     ]
    }
   ],
   "source": [
    "path = 'C:\\\\Users\\\\Ganga\\\\Desktop\\\\Research\\\\CDCDiab1\\\\11-12\\\\All'\n",
    "allFiles = glob.glob(os.path.join(path,\"*.xpt\"))\n",
    "\n",
    "data = np.array([np.arange(62161,71917)]).T\n",
    "All =pd.DataFrame(data, index = range(62160,71916),columns=['SEQN'])\n",
    "\n",
    "for infile in allFiles:\n",
    "    print(infile)\n",
    "    df = pd.read_sas(infile)\n",
    "    df['SEQN']=df['SEQN'].astype(int)\n",
    "    All = All.merge(df.drop_duplicates(subset=['SEQN']),on='SEQN', how='left')"
   ]
  },
  {
   "cell_type": "code",
   "execution_count": 27,
   "metadata": {},
   "outputs": [
    {
     "data": {
      "text/plain": [
       "(9756, 3855)"
      ]
     },
     "execution_count": 27,
     "metadata": {},
     "output_type": "execute_result"
    }
   ],
   "source": [
    "All.shape"
   ]
  },
  {
   "cell_type": "code",
   "execution_count": 28,
   "metadata": {},
   "outputs": [],
   "source": [
    "All.to_csv('All_11-12.csv')"
   ]
  },
  {
   "cell_type": "code",
   "execution_count": 29,
   "metadata": {},
   "outputs": [
    {
     "data": {
      "text/plain": [
       "SEQN             0\n",
       "ACD011A       5476\n",
       "ACD011B       9737\n",
       "ACD011C       9601\n",
       "ACD040        8276\n",
       "ACD110        8784\n",
       "URXUMA        2120\n",
       "URXUMS        2120\n",
       "URXUCR_x      2120\n",
       "URXCRS        2120\n",
       "URDACT        2120\n",
       "ALQ101        4779\n",
       "ALQ110        8356\n",
       "ALQ120Q       5568\n",
       "ALQ120U       6429\n",
       "ALQ130        6422\n",
       "ALQ141Q       6422\n",
       "ALQ141U       8373\n",
       "ALQ151        5570\n",
       "ALQ155        9101\n",
       "WTSAF2YR_x    6517\n",
       "LBXAPB        6764\n",
       "LBDAPBSI      6764\n",
       "AUQ054         393\n",
       "AUQ060        6851\n",
       "AUQ070        8979\n",
       "AUQ080        9543\n",
       "AUQ090        9702\n",
       "AUQ100        5081\n",
       "AUQ110        5081\n",
       "              ... \n",
       "WHQ280D       9681\n",
       "WHQ280E       9738\n",
       "WHQ090        6087\n",
       "WHD100A       9508\n",
       "WHD100B       9654\n",
       "WHD100C       9613\n",
       "WHD100D       9396\n",
       "WHD100E       9707\n",
       "WHD100F       9736\n",
       "WHD100G       9745\n",
       "WHD100H       9752\n",
       "WHD100I       9754\n",
       "WHD100J       9749\n",
       "WHD100K       9756\n",
       "WHD100M       9598\n",
       "WHD100N       9749\n",
       "WHD100O       9681\n",
       "WHD100P       9755\n",
       "WHD100Q       9549\n",
       "WHD100R       9642\n",
       "WHD100S       9618\n",
       "WHD100T       9610\n",
       "WHD100L       9747\n",
       "WHQ210        6087\n",
       "WHD220        6273\n",
       "WHD110        5811\n",
       "WHD120        4967\n",
       "WHD130        7067\n",
       "WHD140        3912\n",
       "WHQ150        4022\n",
       "Length: 3855, dtype: int64"
      ]
     },
     "execution_count": 29,
     "metadata": {},
     "output_type": "execute_result"
    }
   ],
   "source": [
    "All.isnull().sum()"
   ]
  },
  {
   "cell_type": "code",
   "execution_count": null,
   "metadata": {},
   "outputs": [],
   "source": []
  }
 ],
 "metadata": {
  "kernelspec": {
   "display_name": "Python 3",
   "language": "python",
   "name": "python3"
  },
  "language_info": {
   "codemirror_mode": {
    "name": "ipython",
    "version": 3
   },
   "file_extension": ".py",
   "mimetype": "text/x-python",
   "name": "python",
   "nbconvert_exporter": "python",
   "pygments_lexer": "ipython3",
   "version": "3.6.4"
  }
 },
 "nbformat": 4,
 "nbformat_minor": 2
}
