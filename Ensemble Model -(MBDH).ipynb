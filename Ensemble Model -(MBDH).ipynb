{
 "cells": [
  {
   "cell_type": "markdown",
   "metadata": {},
   "source": [
    "# Ensemble Classifer Model\n",
    "\n",
    "## It consist of Logistic regression, K-NN, Decison Tree, Support Vector Machine and Artifical Neural Network(ANN). \n"
   ]
  },
  {
   "cell_type": "code",
   "execution_count": 433,
   "metadata": {},
   "outputs": [],
   "source": [
    "import numpy as np\n",
    "import pandas as pd\n",
    "import matplotlib.pyplot as plt\n",
    "import glob \n",
    "import os\n",
    "import sys\n",
    "import seaborn as sns\n",
    "%matplotlib inline\n",
    "from sklearn import datasets, linear_model\n",
    "from sklearn.metrics import mean_squared_error, r2_score\n",
    "from sklearn.model_selection import train_test_split\n",
    "from sklearn.linear_model import LogisticRegression\n",
    "from sklearn.metrics import accuracy_score\n",
    "from sklearn.metrics import classification_report\n",
    "from sklearn.preprocessing import StandardScaler\n",
    "from sklearn.metrics import roc_auc_score"
   ]
  },
  {
   "cell_type": "code",
   "execution_count": 434,
   "metadata": {},
   "outputs": [],
   "source": [
    "os.chdir('C:\\\\Users\\\\Ganga\\\\Desktop\\\\Research\\\\CDCDiab1\\\\07-08')"
   ]
  },
  {
   "cell_type": "code",
   "execution_count": 435,
   "metadata": {},
   "outputs": [
    {
     "data": {
      "text/plain": [
       "'C:\\\\Users\\\\Ganga\\\\Desktop\\\\Research\\\\CDCDiab1\\\\07-08'"
      ]
     },
     "execution_count": 435,
     "metadata": {},
     "output_type": "execute_result"
    }
   ],
   "source": [
    "os.getcwd()"
   ]
  },
  {
   "cell_type": "code",
   "execution_count": 436,
   "metadata": {},
   "outputs": [],
   "source": [
    "# Importing the DataSet\n",
    "CDCDataset = pd.read_csv('07_08Final.csv')\n",
    "CLANN = CDCDataset"
   ]
  },
  {
   "cell_type": "code",
   "execution_count": 437,
   "metadata": {},
   "outputs": [
    {
     "data": {
      "text/plain": [
       "(10149, 3753)"
      ]
     },
     "execution_count": 437,
     "metadata": {},
     "output_type": "execute_result"
    }
   ],
   "source": [
    "CLANN.shape"
   ]
  },
  {
   "cell_type": "code",
   "execution_count": 438,
   "metadata": {},
   "outputs": [
    {
     "name": "stdout",
     "output_type": "stream",
     "text": [
      "Unnamed: 0        0\n",
      "SEQN              0\n",
      "AUXRR101       9010\n",
      "AUXRR102       9010\n",
      "AUXRR103       9010\n",
      "AUXRR104       9010\n",
      "AUXRR105       9010\n",
      "AUXRR106       9010\n",
      "AUXRR107       9010\n",
      "AUXRR108       9010\n",
      "AUXRR109       9010\n",
      "AUXRR110       9010\n",
      "AUXRR111       9010\n",
      "AUXRR112       9010\n",
      "AUXRR113       9010\n",
      "AUXRR114       9010\n",
      "AUXRR115       9010\n",
      "AUXRR116       9010\n",
      "AUXRR117       9010\n",
      "AUXRR118       9010\n",
      "AUXRR119       9010\n",
      "AUXRR120       9010\n",
      "AUXRR121       9010\n",
      "AUXRR122       9010\n",
      "AUXRR123       9010\n",
      "AUXRR124       9010\n",
      "AUXRR125       9010\n",
      "AUXRR126       9010\n",
      "AUXRR127       9010\n",
      "AUXRR128       9010\n",
      "              ...  \n",
      "WHQ270         7566\n",
      "WHQ280A       10068\n",
      "WHQ280B       10109\n",
      "WHQ280C       10099\n",
      "WHQ280D       10064\n",
      "WHQ280E       10128\n",
      "WHQ090         6228\n",
      "WHD100A        9910\n",
      "WHD100B       10010\n",
      "WHD100C        9953\n",
      "WHD100D        9892\n",
      "WHD100E       10093\n",
      "WHD100F       10130\n",
      "WHD100G       10141\n",
      "WHD100J       10143\n",
      "WHD100L       10145\n",
      "WHD100M       10023\n",
      "WHD100N       10143\n",
      "WHD100O       10054\n",
      "WHD100P       10144\n",
      "WHD100Q       10146\n",
      "WHD100R       10141\n",
      "WHD100S       10146\n",
      "WHQ210         6228\n",
      "WHD220         6509\n",
      "WHD110         5775\n",
      "WHD120         4968\n",
      "WHD130         7123\n",
      "WHD140         3986\n",
      "WHQ150         4077\n",
      "Length: 3753, dtype: int64\n",
      "(10149, 166)\n"
     ]
    }
   ],
   "source": [
    "# if more than 10% of the values are missing then we drop, because data is to sparse\n",
    "s = CLANN.isnull().apply(sum, axis=0) # count the number of nan in each column\n",
    "print(s) \n",
    "\n",
    "for col in CLANN: \n",
    "    if s[col] >= 0.10*10149:  \n",
    "        del CLANN[col]\n",
    "   \n",
    "print(CLANN.shape)"
   ]
  },
  {
   "cell_type": "code",
   "execution_count": 439,
   "metadata": {},
   "outputs": [
    {
     "data": {
      "text/plain": [
       "(10149, 166)"
      ]
     },
     "execution_count": 439,
     "metadata": {},
     "output_type": "execute_result"
    }
   ],
   "source": [
    "CLANN.shape"
   ]
  },
  {
   "cell_type": "code",
   "execution_count": 440,
   "metadata": {},
   "outputs": [
    {
     "name": "stdout",
     "output_type": "stream",
     "text": [
      "       Unnamed: 0   SEQN  BMDSTATS  BMXWT  BMXARML  BMXARMC  PEASCST1  \\\n",
      "0               0  41475       3.0  138.9     37.6     45.2       1.0   \n",
      "1               1  41476       1.0   22.0     25.1     17.1       1.0   \n",
      "2               2  41477       1.0   83.9     38.2     34.1       1.0   \n",
      "3               3  41478       1.0   11.5     14.2     17.3       1.0   \n",
      "4               4  41479       1.0   65.7     34.1     33.2       1.0   \n",
      "5               5  41480       1.0   27.0     25.8     20.9       1.0   \n",
      "6               6  41481       1.0   77.9     43.0     31.0       1.0   \n",
      "7               7  41482       1.0  101.6     40.0     32.8       1.0   \n",
      "8               8  41483       3.0  133.1     38.9     40.5       1.0   \n",
      "9               9  41484       1.0    9.3     14.5     15.2       1.0   \n",
      "10             10  41485       1.0   64.8     32.6     30.7       1.0   \n",
      "11             11  41486       1.0   86.2     36.0     35.3       1.0   \n",
      "12             12  41487       1.0   67.1     37.0     29.9       1.0   \n",
      "13             13  41488       1.0   16.1     22.0     17.0       1.0   \n",
      "14             14  41489       1.0   91.8     34.0     37.8       1.0   \n",
      "15             15  41490       1.0   70.7     37.0     31.2       1.0   \n",
      "16             16  41491       1.0   33.5     29.5     20.8       1.0   \n",
      "17             17  41492       1.0   82.6     39.0     34.0       1.0   \n",
      "18             18  41493       1.0   53.3     36.6     21.9       1.0   \n",
      "19             19  41494       1.0   70.5     36.4     32.0       1.0   \n",
      "20             20  41495       1.0   87.2     41.7     32.6       1.0   \n",
      "21             21  41496       1.0   67.8     35.2     33.3       1.0   \n",
      "22             22  41497       3.0   12.5     17.6     13.8       1.0   \n",
      "23             23  41498       3.0   77.4     39.0     31.1       1.0   \n",
      "24             24  41499       4.0    NaN      NaN      NaN       1.0   \n",
      "25             25  41500       1.0   91.6     33.0     35.4       1.0   \n",
      "26             26  41501       3.0  114.8     39.2     37.2       1.0   \n",
      "27             27  41502       1.0   82.4     38.5     36.6       1.0   \n",
      "28             28  41503       1.0   73.1     36.9     30.6       1.0   \n",
      "29             29  41504       1.0   74.3     40.0     29.0       1.0   \n",
      "...           ...    ...       ...    ...      ...      ...       ...   \n",
      "10119       10119  51594       1.0   87.3     39.0     38.6       1.0   \n",
      "10120       10120  51595       NaN    NaN      NaN      NaN       NaN   \n",
      "10121       10121  51596       3.0   75.8     33.3     37.8       1.0   \n",
      "10122       10122  51597       1.0   28.8     26.8     21.6       1.0   \n",
      "10123       10123  51598       1.0    6.5     12.6     14.2       1.0   \n",
      "10124       10124  51599       1.0    8.9     16.2     14.0       1.0   \n",
      "10125       10125  51600       1.0   15.3     18.0     17.2       1.0   \n",
      "10126       10126  51601       1.0   28.4     26.6     22.4       1.0   \n",
      "10127       10127  51602       NaN    NaN      NaN      NaN       NaN   \n",
      "10128       10128  51603       1.0   63.7     39.0     26.9       3.0   \n",
      "10129       10129  51604       1.0   91.3     39.4     41.2       1.0   \n",
      "10130       10130  51605       1.0    9.1     15.0     14.5       1.0   \n",
      "10131       10131  51606       1.0   49.0     35.3     22.8       1.0   \n",
      "10132       10132  51607       1.0   17.5     21.2     16.0       1.0   \n",
      "10133       10133  51608       1.0   75.9     35.4     30.7       1.0   \n",
      "10134       10134  51609       1.0   79.9     38.3     32.3       1.0   \n",
      "10135       10135  51610       1.0   86.8     34.0     37.3       1.0   \n",
      "10136       10136  51611       1.0   68.4     36.3     30.3       1.0   \n",
      "10137       10137  51612       1.0   23.3     24.5     17.7       1.0   \n",
      "10138       10138  51613       1.0   81.6     37.2     35.7       1.0   \n",
      "10139       10139  51614       1.0   71.7     38.6     31.3       1.0   \n",
      "10140       10140  51615       2.0   50.4      NaN      NaN       3.0   \n",
      "10141       10141  51616       3.0  142.6     44.0     44.0       1.0   \n",
      "10142       10142  51617       1.0   77.9     36.3     34.5       1.0   \n",
      "10143       10143  51618       1.0   90.6     39.5     36.6       1.0   \n",
      "10144       10144  51619       1.0   89.4     39.5     33.9       1.0   \n",
      "10145       10145  51620       1.0   72.2     35.7     29.3       1.0   \n",
      "10146       10146  51621       1.0   42.8     33.2     22.2       1.0   \n",
      "10147       10147  51622       1.0   79.1     38.0     37.5       1.0   \n",
      "10148       10148  51623       1.0   85.2     38.3     33.3       1.0   \n",
      "\n",
      "       PEASCTM1  BPXPULS     WTDRD1_x_x   ...    MCQ053  MCQ140  PAAQUEX  \\\n",
      "0         612.0      1.0   53942.247631   ...       2.0     1.0      1.0   \n",
      "1           9.0      1.0   20558.408369   ...       2.0     2.0      1.0   \n",
      "2         625.0      1.0    9050.134179   ...       2.0     2.0      1.0   \n",
      "3         278.0      1.0   32343.214639   ...       2.0     NaN      NaN   \n",
      "4         620.0      1.0    5078.443529   ...       2.0     2.0      1.0   \n",
      "5          79.0      1.0    3723.882672   ...       2.0     2.0      1.0   \n",
      "6         533.0      1.0   12870.996028   ...       2.0     2.0      1.0   \n",
      "7         561.0      1.0    7517.688697   ...       2.0     1.0      1.0   \n",
      "8         748.0      1.0    7180.607302   ...       2.0     1.0      1.0   \n",
      "9         285.0      1.0    6641.977082   ...       NaN     NaN      NaN   \n",
      "10        547.0      1.0   38644.908767   ...       2.0     2.0      1.0   \n",
      "11        556.0      1.0    3522.439021   ...       2.0     2.0      1.0   \n",
      "12        539.0      1.0   52595.083822   ...       2.0     2.0      1.0   \n",
      "13         59.0      1.0   18956.928134   ...       2.0     2.0      1.0   \n",
      "14        570.0      1.0   14249.810572   ...       2.0     2.0      1.0   \n",
      "15        564.0      1.0    9558.697213   ...       2.0     2.0      1.0   \n",
      "16        555.0      1.0   13326.978709   ...       2.0     2.0      1.0   \n",
      "17        704.0      1.0    8361.116109   ...       2.0     2.0      1.0   \n",
      "18        567.0      1.0   78473.745560   ...       2.0     2.0      1.0   \n",
      "19        670.0      1.0    8305.458257   ...       2.0     2.0      1.0   \n",
      "20        676.0      1.0   96206.169540   ...       2.0     1.0      1.0   \n",
      "21        676.0      1.0    8077.125819   ...       2.0     1.0      1.0   \n",
      "22         20.0      1.0   19581.040444   ...       2.0     2.0      1.0   \n",
      "23        698.0      1.0    7551.420843   ...       2.0     2.0      1.0   \n",
      "24        467.0      1.0    8855.089300   ...       2.0     2.0      1.0   \n",
      "25        531.0      1.0    7922.947978   ...       2.0     1.0      2.0   \n",
      "26        574.0      1.0   27913.044173   ...       2.0     2.0      1.0   \n",
      "27        516.0      1.0   15175.424644   ...       2.0     2.0      1.0   \n",
      "28        625.0      1.0   42482.659469   ...       2.0     2.0      1.0   \n",
      "29        743.0      1.0   51977.247979   ...       2.0     2.0      1.0   \n",
      "...         ...      ...            ...   ...       ...     ...      ...   \n",
      "10119     548.0      1.0   17328.980471   ...       2.0     1.0      1.0   \n",
      "10120       NaN      NaN            NaN   ...       2.0     2.0      1.0   \n",
      "10121     662.0      1.0   10619.946748   ...       2.0     2.0      1.0   \n",
      "10122     286.0      1.0    5104.801100   ...       2.0     2.0      1.0   \n",
      "10123      28.0      1.0    4005.651240   ...       NaN     NaN      NaN   \n",
      "10124     284.0      1.0    7595.604510   ...       2.0     NaN      NaN   \n",
      "10125     300.0      1.0    7625.832026   ...       2.0     2.0      1.0   \n",
      "10126     274.0      1.0   14336.700483   ...       2.0     2.0      1.0   \n",
      "10127       NaN      NaN            NaN   ...       2.0     2.0      1.0   \n",
      "10128       NaN      NaN   33245.288845   ...       2.0     2.0      1.0   \n",
      "10129     647.0      1.0  178652.451282   ...       2.0     2.0      1.0   \n",
      "10130     285.0      1.0   10325.821362   ...       NaN     NaN      NaN   \n",
      "10131     519.0      1.0   23924.308543   ...       2.0     2.0      1.0   \n",
      "10132      63.0      1.0   90063.114917   ...       2.0     2.0      1.0   \n",
      "10133     635.0      1.0   17803.033788   ...       2.0     2.0      1.0   \n",
      "10134     471.0      1.0   41060.243287   ...       2.0     2.0      1.0   \n",
      "10135     595.0      1.0    3114.070668   ...       2.0     1.0      1.0   \n",
      "10136     688.0      1.0   53791.255801   ...       2.0     2.0      1.0   \n",
      "10137     330.0      1.0   18823.450816   ...       2.0     1.0      1.0   \n",
      "10138     487.0      1.0   18359.625977   ...       2.0     2.0      2.0   \n",
      "10139     524.0      1.0   15364.874328   ...       2.0     1.0      1.0   \n",
      "10140       NaN      NaN            NaN   ...       2.0     2.0      1.0   \n",
      "10141     882.0      2.0   96424.894887   ...       2.0     1.0      1.0   \n",
      "10142     666.0      1.0    9670.280715   ...       2.0     2.0      1.0   \n",
      "10143     533.0      1.0   56879.743238   ...       2.0     2.0      1.0   \n",
      "10144     552.0      1.0    3492.609773   ...       2.0     2.0      1.0   \n",
      "10145     445.0      1.0   49188.089972   ...       1.0     1.0      1.0   \n",
      "10146     563.0      1.0    5593.553537   ...       2.0     2.0      1.0   \n",
      "10147     612.0      1.0   17844.521898   ...       2.0     1.0      1.0   \n",
      "10148     754.0      1.0   24704.093165   ...       2.0     2.0      1.0   \n",
      "\n",
      "       RDQ070  RDQ140  AGQ030  RXDUSE  \\\n",
      "0         1.0     1.0     9.0     1.0   \n",
      "1         2.0     2.0     2.0     1.0   \n",
      "2         2.0     2.0     2.0     1.0   \n",
      "3         2.0     2.0     2.0     2.0   \n",
      "4         2.0     2.0     2.0     2.0   \n",
      "5         2.0     2.0     2.0     2.0   \n",
      "6         2.0     2.0     2.0     2.0   \n",
      "7         2.0     2.0     2.0     1.0   \n",
      "8         2.0     2.0     1.0     1.0   \n",
      "9         NaN     NaN     NaN     2.0   \n",
      "10        2.0     2.0     2.0     2.0   \n",
      "11        2.0     2.0     2.0     1.0   \n",
      "12        2.0     2.0     2.0     2.0   \n",
      "13        2.0     2.0     2.0     2.0   \n",
      "14        2.0     2.0     2.0     2.0   \n",
      "15        2.0     2.0     2.0     1.0   \n",
      "16        2.0     2.0     2.0     2.0   \n",
      "17        2.0     2.0     2.0     2.0   \n",
      "18        2.0     1.0     1.0     1.0   \n",
      "19        2.0     2.0     2.0     2.0   \n",
      "20        2.0     1.0     1.0     1.0   \n",
      "21        2.0     1.0     2.0     2.0   \n",
      "22        2.0     2.0     2.0     2.0   \n",
      "23        1.0     2.0     2.0     1.0   \n",
      "24        2.0     2.0     2.0     2.0   \n",
      "25        2.0     2.0     2.0     2.0   \n",
      "26        2.0     2.0     2.0     1.0   \n",
      "27        1.0     2.0     2.0     1.0   \n",
      "28        2.0     2.0     2.0     2.0   \n",
      "29        2.0     2.0     2.0     1.0   \n",
      "...       ...     ...     ...     ...   \n",
      "10119     2.0     2.0     2.0     2.0   \n",
      "10120     2.0     2.0     1.0     2.0   \n",
      "10121     2.0     2.0     2.0     2.0   \n",
      "10122     2.0     2.0     2.0     2.0   \n",
      "10123     NaN     NaN     NaN     2.0   \n",
      "10124     2.0     2.0     2.0     2.0   \n",
      "10125     1.0     2.0     2.0     2.0   \n",
      "10126     2.0     2.0     2.0     2.0   \n",
      "10127     2.0     2.0     2.0     2.0   \n",
      "10128     2.0     2.0     1.0     1.0   \n",
      "10129     1.0     2.0     1.0     1.0   \n",
      "10130     NaN     NaN     NaN     1.0   \n",
      "10131     2.0     2.0     2.0     1.0   \n",
      "10132     2.0     2.0     1.0     2.0   \n",
      "10133     2.0     2.0     2.0     2.0   \n",
      "10134     1.0     2.0     2.0     1.0   \n",
      "10135     2.0     2.0     2.0     1.0   \n",
      "10136     2.0     2.0     2.0     2.0   \n",
      "10137     1.0     2.0     2.0     2.0   \n",
      "10138     1.0     2.0     1.0     1.0   \n",
      "10139     1.0     2.0     2.0     1.0   \n",
      "10140     2.0     2.0     2.0     1.0   \n",
      "10141     2.0     2.0     2.0     1.0   \n",
      "10142     2.0     2.0     2.0     1.0   \n",
      "10143     2.0     2.0     1.0     2.0   \n",
      "10144     2.0     1.0     1.0     1.0   \n",
      "10145     1.0     2.0     2.0     2.0   \n",
      "10146     2.0     2.0     2.0     2.0   \n",
      "10147     2.0     2.0     2.0     2.0   \n",
      "10148     2.0     2.0     2.0     1.0   \n",
      "\n",
      "                                                 RXDDRUG   RXDDRGID  SMD410  \n",
      "0                                            b'ATENOLOL'  b'd00004'     2.0  \n",
      "1                                   b'MUPIROCIN TOPICAL'  b'd01267'     2.0  \n",
      "2                                           b'GLIPIZIDE'  b'd00246'     2.0  \n",
      "3                                                    b''        b''     1.0  \n",
      "4                                                    b''        b''     2.0  \n",
      "5                                                    b''        b''     2.0  \n",
      "6                                                    b''        b''     2.0  \n",
      "7                                          b'AMLODIPINE'  b'd00689'     2.0  \n",
      "8                                           b'DOXAZOSIN'  b'd00726'     2.0  \n",
      "9                                                    b''        b''     2.0  \n",
      "10                                                   b''        b''     2.0  \n",
      "11                                b'HYDROCHLOROTHIAZIDE'  b'd00253'     2.0  \n",
      "12                                                   b''        b''     2.0  \n",
      "13                                                   b''        b''     2.0  \n",
      "14                                                   b''        b''     2.0  \n",
      "15                                         b'RALOXIFENE'  b'd04261'     2.0  \n",
      "16                                                   b''        b''     2.0  \n",
      "17                                                   b''        b''     2.0  \n",
      "18                             b'ALBUTEROL; IPRATROPIUM'  b'd04066'     1.0  \n",
      "19                                                   b''        b''     2.0  \n",
      "20                                         b'ALPRAZOLAM'  b'd00168'     2.0  \n",
      "21                                                   b''        b''     2.0  \n",
      "22                                                   b''        b''     2.0  \n",
      "23                                          b'ALBUTEROL'  b'd00749'     2.0  \n",
      "24                                                   b''        b''     2.0  \n",
      "25                                                   b''        b''     2.0  \n",
      "26                                           b'ATENOLOL'  b'd00004'     2.0  \n",
      "27                                         b'PENICILLIN'  b'd00116'     2.0  \n",
      "28                                                   b''        b''     NaN  \n",
      "29                                       b'ATORVASTATIN'  b'd04105'     2.0  \n",
      "...                                                  ...        ...     ...  \n",
      "10119                                                b''        b''     2.0  \n",
      "10120                                                b''        b''     2.0  \n",
      "10121                                                b''        b''     2.0  \n",
      "10122                                                b''        b''     2.0  \n",
      "10123                                                b''        b''     2.0  \n",
      "10124                                                b''        b''     2.0  \n",
      "10125                                                b''        b''     2.0  \n",
      "10126                                                b''        b''     1.0  \n",
      "10127                                                b''        b''     2.0  \n",
      "10128                                           b'99999'        b''     2.0  \n",
      "10129                                    b'FEXOFENADINE'  b'd04040'     2.0  \n",
      "10130  b'BROMPHENIRAMINE; DEXTROMETHORPHAN; PSEUDOEPH...  b'd03368'     2.0  \n",
      "10131                          b'EZETIMIBE; SIMVASTATIN'  b'd05348'     2.0  \n",
      "10132                                                b''        b''     2.0  \n",
      "10133                                                b''        b''     1.0  \n",
      "10134                                     b'SUMATRIPTAN'  b'd03160'     2.0  \n",
      "10135                                       b'GLYBURIDE'  b'd00248'     2.0  \n",
      "10136                                                b''        b''     2.0  \n",
      "10137                                                b''        b''     2.0  \n",
      "10138                          b'ALBUTEROL; IPRATROPIUM'  b'd04066'     2.0  \n",
      "10139                      b'ACETAMINOPHEN; HYDROCODONE'  b'd03428'     1.0  \n",
      "10140                                      b'LISINOPRIL'  b'd00732'     2.0  \n",
      "10141                                       b'DOXAZOSIN'  b'd00726'     2.0  \n",
      "10142                                      b'FELODIPINE'  b'd00231'     2.0  \n",
      "10143                                                b''        b''     2.0  \n",
      "10144                                      b'BENAZEPRIL'  b'd00730'     2.0  \n",
      "10145                                                b''        b''     2.0  \n",
      "10146                                                b''        b''     2.0  \n",
      "10147                                                b''        b''     2.0  \n",
      "10148                                       b'ENALAPRIL'  b'd00013'     2.0  \n",
      "\n",
      "[10149 rows x 166 columns]\n"
     ]
    }
   ],
   "source": [
    "print(CLANN)"
   ]
  },
  {
   "cell_type": "code",
   "execution_count": 441,
   "metadata": {},
   "outputs": [
    {
     "data": {
      "text/html": [
       "<div>\n",
       "<style scoped>\n",
       "    .dataframe tbody tr th:only-of-type {\n",
       "        vertical-align: middle;\n",
       "    }\n",
       "\n",
       "    .dataframe tbody tr th {\n",
       "        vertical-align: top;\n",
       "    }\n",
       "\n",
       "    .dataframe thead th {\n",
       "        text-align: right;\n",
       "    }\n",
       "</style>\n",
       "<table border=\"1\" class=\"dataframe\">\n",
       "  <thead>\n",
       "    <tr style=\"text-align: right;\">\n",
       "      <th></th>\n",
       "      <th>Unnamed: 0</th>\n",
       "      <th>SEQN</th>\n",
       "      <th>BMDSTATS</th>\n",
       "      <th>BMXWT</th>\n",
       "      <th>BMXARML</th>\n",
       "      <th>BMXARMC</th>\n",
       "      <th>PEASCST1</th>\n",
       "      <th>PEASCTM1</th>\n",
       "      <th>BPXPULS</th>\n",
       "      <th>WTDRD1_x_x</th>\n",
       "      <th>...</th>\n",
       "      <th>MCQ053</th>\n",
       "      <th>MCQ140</th>\n",
       "      <th>PAAQUEX</th>\n",
       "      <th>RDQ070</th>\n",
       "      <th>RDQ140</th>\n",
       "      <th>AGQ030</th>\n",
       "      <th>RXDUSE</th>\n",
       "      <th>RXDDRUG</th>\n",
       "      <th>RXDDRGID</th>\n",
       "      <th>SMD410</th>\n",
       "    </tr>\n",
       "  </thead>\n",
       "  <tbody>\n",
       "    <tr>\n",
       "      <th>10144</th>\n",
       "      <td>10144</td>\n",
       "      <td>51619</td>\n",
       "      <td>1.0</td>\n",
       "      <td>89.4</td>\n",
       "      <td>39.5</td>\n",
       "      <td>33.9</td>\n",
       "      <td>1.0</td>\n",
       "      <td>552.0</td>\n",
       "      <td>1.0</td>\n",
       "      <td>3492.609773</td>\n",
       "      <td>...</td>\n",
       "      <td>2.0</td>\n",
       "      <td>2.0</td>\n",
       "      <td>1.0</td>\n",
       "      <td>2.0</td>\n",
       "      <td>1.0</td>\n",
       "      <td>1.0</td>\n",
       "      <td>1.0</td>\n",
       "      <td>b'BENAZEPRIL'</td>\n",
       "      <td>b'd00730'</td>\n",
       "      <td>2.0</td>\n",
       "    </tr>\n",
       "    <tr>\n",
       "      <th>10145</th>\n",
       "      <td>10145</td>\n",
       "      <td>51620</td>\n",
       "      <td>1.0</td>\n",
       "      <td>72.2</td>\n",
       "      <td>35.7</td>\n",
       "      <td>29.3</td>\n",
       "      <td>1.0</td>\n",
       "      <td>445.0</td>\n",
       "      <td>1.0</td>\n",
       "      <td>49188.089972</td>\n",
       "      <td>...</td>\n",
       "      <td>1.0</td>\n",
       "      <td>1.0</td>\n",
       "      <td>1.0</td>\n",
       "      <td>1.0</td>\n",
       "      <td>2.0</td>\n",
       "      <td>2.0</td>\n",
       "      <td>2.0</td>\n",
       "      <td>b''</td>\n",
       "      <td>b''</td>\n",
       "      <td>2.0</td>\n",
       "    </tr>\n",
       "    <tr>\n",
       "      <th>10146</th>\n",
       "      <td>10146</td>\n",
       "      <td>51621</td>\n",
       "      <td>1.0</td>\n",
       "      <td>42.8</td>\n",
       "      <td>33.2</td>\n",
       "      <td>22.2</td>\n",
       "      <td>1.0</td>\n",
       "      <td>563.0</td>\n",
       "      <td>1.0</td>\n",
       "      <td>5593.553537</td>\n",
       "      <td>...</td>\n",
       "      <td>2.0</td>\n",
       "      <td>2.0</td>\n",
       "      <td>1.0</td>\n",
       "      <td>2.0</td>\n",
       "      <td>2.0</td>\n",
       "      <td>2.0</td>\n",
       "      <td>2.0</td>\n",
       "      <td>b''</td>\n",
       "      <td>b''</td>\n",
       "      <td>2.0</td>\n",
       "    </tr>\n",
       "    <tr>\n",
       "      <th>10147</th>\n",
       "      <td>10147</td>\n",
       "      <td>51622</td>\n",
       "      <td>1.0</td>\n",
       "      <td>79.1</td>\n",
       "      <td>38.0</td>\n",
       "      <td>37.5</td>\n",
       "      <td>1.0</td>\n",
       "      <td>612.0</td>\n",
       "      <td>1.0</td>\n",
       "      <td>17844.521898</td>\n",
       "      <td>...</td>\n",
       "      <td>2.0</td>\n",
       "      <td>1.0</td>\n",
       "      <td>1.0</td>\n",
       "      <td>2.0</td>\n",
       "      <td>2.0</td>\n",
       "      <td>2.0</td>\n",
       "      <td>2.0</td>\n",
       "      <td>b''</td>\n",
       "      <td>b''</td>\n",
       "      <td>2.0</td>\n",
       "    </tr>\n",
       "    <tr>\n",
       "      <th>10148</th>\n",
       "      <td>10148</td>\n",
       "      <td>51623</td>\n",
       "      <td>1.0</td>\n",
       "      <td>85.2</td>\n",
       "      <td>38.3</td>\n",
       "      <td>33.3</td>\n",
       "      <td>1.0</td>\n",
       "      <td>754.0</td>\n",
       "      <td>1.0</td>\n",
       "      <td>24704.093165</td>\n",
       "      <td>...</td>\n",
       "      <td>2.0</td>\n",
       "      <td>2.0</td>\n",
       "      <td>1.0</td>\n",
       "      <td>2.0</td>\n",
       "      <td>2.0</td>\n",
       "      <td>2.0</td>\n",
       "      <td>1.0</td>\n",
       "      <td>b'ENALAPRIL'</td>\n",
       "      <td>b'd00013'</td>\n",
       "      <td>2.0</td>\n",
       "    </tr>\n",
       "  </tbody>\n",
       "</table>\n",
       "<p>5 rows × 166 columns</p>\n",
       "</div>"
      ],
      "text/plain": [
       "       Unnamed: 0   SEQN  BMDSTATS  BMXWT  BMXARML  BMXARMC  PEASCST1  \\\n",
       "10144       10144  51619       1.0   89.4     39.5     33.9       1.0   \n",
       "10145       10145  51620       1.0   72.2     35.7     29.3       1.0   \n",
       "10146       10146  51621       1.0   42.8     33.2     22.2       1.0   \n",
       "10147       10147  51622       1.0   79.1     38.0     37.5       1.0   \n",
       "10148       10148  51623       1.0   85.2     38.3     33.3       1.0   \n",
       "\n",
       "       PEASCTM1  BPXPULS    WTDRD1_x_x   ...    MCQ053  MCQ140  PAAQUEX  \\\n",
       "10144     552.0      1.0   3492.609773   ...       2.0     2.0      1.0   \n",
       "10145     445.0      1.0  49188.089972   ...       1.0     1.0      1.0   \n",
       "10146     563.0      1.0   5593.553537   ...       2.0     2.0      1.0   \n",
       "10147     612.0      1.0  17844.521898   ...       2.0     1.0      1.0   \n",
       "10148     754.0      1.0  24704.093165   ...       2.0     2.0      1.0   \n",
       "\n",
       "       RDQ070  RDQ140  AGQ030  RXDUSE        RXDDRUG   RXDDRGID  SMD410  \n",
       "10144     2.0     1.0     1.0     1.0  b'BENAZEPRIL'  b'd00730'     2.0  \n",
       "10145     1.0     2.0     2.0     2.0            b''        b''     2.0  \n",
       "10146     2.0     2.0     2.0     2.0            b''        b''     2.0  \n",
       "10147     2.0     2.0     2.0     2.0            b''        b''     2.0  \n",
       "10148     2.0     2.0     2.0     1.0   b'ENALAPRIL'  b'd00013'     2.0  \n",
       "\n",
       "[5 rows x 166 columns]"
      ]
     },
     "execution_count": 441,
     "metadata": {},
     "output_type": "execute_result"
    }
   ],
   "source": [
    "CLANN.tail()"
   ]
  },
  {
   "cell_type": "code",
   "execution_count": 442,
   "metadata": {},
   "outputs": [],
   "source": [
    "CLANN = CLANN.drop(['RXDDRUG','RXDDRGID'], axis=1)"
   ]
  },
  {
   "cell_type": "code",
   "execution_count": 443,
   "metadata": {},
   "outputs": [
    {
     "data": {
      "text/plain": [
       "(10149, 164)"
      ]
     },
     "execution_count": 443,
     "metadata": {},
     "output_type": "execute_result"
    }
   ],
   "source": [
    "CLANN.shape"
   ]
  },
  {
   "cell_type": "code",
   "execution_count": 444,
   "metadata": {},
   "outputs": [],
   "source": [
    "# Dropping the missing value\n",
    "CLANN = CLANN.dropna(axis=0, how='any')"
   ]
  },
  {
   "cell_type": "code",
   "execution_count": 519,
   "metadata": {},
   "outputs": [
    {
     "data": {
      "text/plain": [
       "(6327, 164)"
      ]
     },
     "execution_count": 519,
     "metadata": {},
     "output_type": "execute_result"
    }
   ],
   "source": [
    "CLANN.shape"
   ]
  },
  {
   "cell_type": "code",
   "execution_count": 520,
   "metadata": {},
   "outputs": [
    {
     "data": {
      "text/plain": [
       "Unnamed: 0    0\n",
       "SEQN          0\n",
       "BMDSTATS      0\n",
       "BMXWT         0\n",
       "BMXARML       0\n",
       "BMXARMC       0\n",
       "PEASCST1      0\n",
       "PEASCTM1      0\n",
       "BPXPULS       0\n",
       "WTDRD1_x_x    0\n",
       "DR1ILINE      0\n",
       "DR1DRSTZ_x    0\n",
       "DR1EXMER_x    0\n",
       "DRABF_x       0\n",
       "DRDINT_x      0\n",
       "DR1DBIH_x     0\n",
       "DR1DAY_x      0\n",
       "DR1LANG_x     0\n",
       "DR1CCMNM      0\n",
       "DR1CCMTX      0\n",
       "DR1_020       0\n",
       "DR1_030Z      0\n",
       "DR1IFDCD      0\n",
       "DR1MC         0\n",
       "WTDRD1_y_x    0\n",
       "DR1DRSTZ_y    0\n",
       "DR1EXMER_y    0\n",
       "DRABF_y       0\n",
       "DRDINT_y      0\n",
       "DR1DBIH_y     0\n",
       "             ..\n",
       "HOQ070        0\n",
       "HOQ080        0\n",
       "HSAQUEX       0\n",
       "HUQ010        0\n",
       "HUQ020        0\n",
       "HUQ030        0\n",
       "HUQ050        0\n",
       "HUQ071        0\n",
       "IMQ011        0\n",
       "IMQ020        0\n",
       "INQ020        0\n",
       "INQ012        0\n",
       "INQ030        0\n",
       "INQ060        0\n",
       "INQ080        0\n",
       "INQ090        0\n",
       "INQ132        0\n",
       "INQ140        0\n",
       "INQ150        0\n",
       "IND235        0\n",
       "INDFMMPC      0\n",
       "MCQ010        0\n",
       "MCQ053        0\n",
       "MCQ140        0\n",
       "PAAQUEX       0\n",
       "RDQ070        0\n",
       "RDQ140        0\n",
       "AGQ030        0\n",
       "RXDUSE        0\n",
       "SMD410        0\n",
       "Length: 164, dtype: int64"
      ]
     },
     "execution_count": 520,
     "metadata": {},
     "output_type": "execute_result"
    }
   ],
   "source": [
    "CLANN.isnull().sum()"
   ]
  },
  {
   "cell_type": "code",
   "execution_count": 521,
   "metadata": {},
   "outputs": [],
   "source": [
    "# Don't to Don't know\n",
    "CLANN= CLANN.replace(999999,9)"
   ]
  },
  {
   "cell_type": "code",
   "execution_count": 522,
   "metadata": {},
   "outputs": [],
   "source": [
    "# Don't to Don't know\n",
    "CLANN= CLANN.replace(999,9)"
   ]
  },
  {
   "cell_type": "code",
   "execution_count": 523,
   "metadata": {},
   "outputs": [],
   "source": [
    "# refused to Don't know\n",
    "CLANN= CLANN.replace(777,9)"
   ]
  },
  {
   "cell_type": "code",
   "execution_count": 524,
   "metadata": {},
   "outputs": [],
   "source": [
    "# don't know to No\n",
    "CLANN= CLANN.replace(9,2)"
   ]
  },
  {
   "cell_type": "code",
   "execution_count": 525,
   "metadata": {},
   "outputs": [],
   "source": [
    "# Borderline to yes\n",
    "CLANN= CLANN.replace(3,1)"
   ]
  },
  {
   "cell_type": "code",
   "execution_count": 526,
   "metadata": {},
   "outputs": [
    {
     "data": {
      "text/plain": [
       "(6327, 164)"
      ]
     },
     "execution_count": 526,
     "metadata": {},
     "output_type": "execute_result"
    }
   ],
   "source": [
    "CLANN.shape"
   ]
  },
  {
   "cell_type": "code",
   "execution_count": 527,
   "metadata": {},
   "outputs": [],
   "source": [
    "#CLANN = pd.read_csv('datasetclann.csv')"
   ]
  },
  {
   "cell_type": "code",
   "execution_count": 528,
   "metadata": {},
   "outputs": [],
   "source": [
    "#CLANN = CLANN.to_csv(\"datasetclann.csv\")"
   ]
  },
  {
   "cell_type": "code",
   "execution_count": 529,
   "metadata": {},
   "outputs": [],
   "source": [
    "# Locking the data set and selecting the X(Independent) and Y (Dependent) Variable \n",
    "X = CLANN.iloc[:, 1:164]\n",
    "y= CLANN.loc[:,['DIQ010']]"
   ]
  },
  {
   "cell_type": "code",
   "execution_count": 530,
   "metadata": {},
   "outputs": [
    {
     "name": "stdout",
     "output_type": "stream",
     "text": [
      "        SEQN  BMDSTATS  BMXWT  BMXARML  BMXARMC  PEASCST1  PEASCTM1  BPXPULS  \\\n",
      "0      41475       1.0  138.9     37.6     45.2       1.0     612.0      1.0   \n",
      "1      41476       1.0   22.0     25.1     17.1       1.0       2.0      1.0   \n",
      "2      41477       1.0   83.9     38.2     34.1       1.0     625.0      1.0   \n",
      "4      41479       1.0   65.7     34.1     33.2       1.0     620.0      1.0   \n",
      "5      41480       1.0   27.0     25.8     20.9       1.0      79.0      1.0   \n",
      "6      41481       1.0   77.9     43.0     31.0       1.0     533.0      1.0   \n",
      "7      41482       1.0  101.6     40.0     32.8       1.0     561.0      1.0   \n",
      "8      41483       1.0  133.1     38.9     40.5       1.0     748.0      1.0   \n",
      "10     41485       1.0   64.8     32.6     30.7       1.0     547.0      1.0   \n",
      "11     41486       1.0   86.2     36.0     35.3       1.0     556.0      1.0   \n",
      "12     41487       1.0   67.1     37.0     29.9       1.0     539.0      1.0   \n",
      "13     41488       1.0   16.1     22.0     17.0       1.0      59.0      1.0   \n",
      "14     41489       1.0   91.8     34.0     37.8       1.0     570.0      1.0   \n",
      "15     41490       1.0   70.7     37.0     31.2       1.0     564.0      1.0   \n",
      "16     41491       1.0   33.5     29.5     20.8       1.0     555.0      1.0   \n",
      "17     41492       1.0   82.6     39.0     34.0       1.0     704.0      1.0   \n",
      "18     41493       1.0   53.3     36.6     21.9       1.0     567.0      1.0   \n",
      "19     41494       1.0   70.5     36.4     32.0       1.0     670.0      1.0   \n",
      "20     41495       1.0   87.2     41.7     32.6       1.0     676.0      1.0   \n",
      "21     41496       1.0   67.8     35.2     33.3       1.0     676.0      1.0   \n",
      "22     41497       1.0   12.5     17.6     13.8       1.0      20.0      1.0   \n",
      "23     41498       1.0   77.4     39.0     31.1       1.0     698.0      1.0   \n",
      "25     41500       1.0   91.6     33.0     35.4       1.0     531.0      1.0   \n",
      "26     41501       1.0  114.8     39.2     37.2       1.0     574.0      1.0   \n",
      "27     41502       1.0   82.4     38.5     36.6       1.0     516.0      1.0   \n",
      "29     41504       1.0   74.3     40.0     29.0       1.0     743.0      1.0   \n",
      "32     41507       1.0   18.7     23.4     16.0       1.0      71.0      1.0   \n",
      "34     41509       1.0  101.3     38.9     42.0       1.0     790.0      1.0   \n",
      "36     41511       1.0   78.8     36.9     30.6       1.0     844.0      1.0   \n",
      "39     41514       1.0   87.4     41.0     32.1       1.0     546.0      1.0   \n",
      "...      ...       ...    ...      ...      ...       ...       ...      ...   \n",
      "10101  51576       1.0   99.2     38.0     38.3       1.0     550.0      1.0   \n",
      "10102  51577       1.0   22.1     23.5     16.8       1.0      69.0      1.0   \n",
      "10104  51579       1.0   51.1     32.0     24.4       1.0     457.0      1.0   \n",
      "10105  51580       1.0   61.2     37.7     25.6       1.0     613.0      1.0   \n",
      "10109  51584       1.0  107.4     39.0     36.5       1.0     511.0      1.0   \n",
      "10111  51586       1.0   32.2     28.4     20.5       1.0     594.0      1.0   \n",
      "10112  51587       1.0  109.6     40.0     41.0       1.0     770.0      1.0   \n",
      "10113  51588       1.0   68.0     35.5     30.3       1.0     506.0      1.0   \n",
      "10115  51590       1.0   99.0     39.6     34.6       1.0     557.0      1.0   \n",
      "10117  51592       1.0  109.4     41.4     55.5       1.0    1316.0      1.0   \n",
      "10118  51593       1.0   87.8     37.5     35.2       1.0     580.0      1.0   \n",
      "10119  51594       1.0   87.3     39.0     38.6       1.0     548.0      1.0   \n",
      "10121  51596       1.0   75.8     33.3     37.8       1.0     662.0      1.0   \n",
      "10122  51597       1.0   28.8     26.8     21.6       1.0     286.0      1.0   \n",
      "10125  51600       1.0   15.3     18.0     17.2       1.0     300.0      1.0   \n",
      "10126  51601       1.0   28.4     26.6     22.4       1.0     274.0      1.0   \n",
      "10129  51604       1.0   91.3     39.4     41.2       1.0     647.0      1.0   \n",
      "10131  51606       1.0   49.0     35.3     22.8       1.0     519.0      1.0   \n",
      "10132  51607       1.0   17.5     21.2     16.0       1.0      63.0      1.0   \n",
      "10133  51608       1.0   75.9     35.4     30.7       1.0     635.0      1.0   \n",
      "10134  51609       1.0   79.9     38.3     32.3       1.0     471.0      1.0   \n",
      "10136  51611       1.0   68.4     36.3     30.3       1.0     688.0      1.0   \n",
      "10137  51612       1.0   23.3     24.5     17.7       1.0     330.0      1.0   \n",
      "10139  51614       1.0   71.7     38.6     31.3       1.0     524.0      1.0   \n",
      "10141  51616       1.0  142.6     44.0     44.0       1.0     882.0      2.0   \n",
      "10142  51617       1.0   77.9     36.3     34.5       1.0     666.0      1.0   \n",
      "10143  51618       1.0   90.6     39.5     36.6       1.0     533.0      1.0   \n",
      "10144  51619       1.0   89.4     39.5     33.9       1.0     552.0      1.0   \n",
      "10145  51620       1.0   72.2     35.7     29.3       1.0     445.0      1.0   \n",
      "10148  51623       1.0   85.2     38.3     33.3       1.0     754.0      1.0   \n",
      "\n",
      "          WTDRD1_x_x  DR1ILINE   ...    INDFMMPC  MCQ010  MCQ053  MCQ140  \\\n",
      "0       53942.247631       1.0   ...         2.0     1.0     2.0     1.0   \n",
      "1       20558.408369       1.0   ...         1.0     2.0     2.0     2.0   \n",
      "2        9050.134179       1.0   ...         1.0     2.0     2.0     2.0   \n",
      "4        5078.443529       1.0   ...         2.0     2.0     2.0     2.0   \n",
      "5        3723.882672       1.0   ...         1.0     2.0     2.0     2.0   \n",
      "6       12870.996028       1.0   ...         2.0     2.0     2.0     2.0   \n",
      "7        7517.688697       1.0   ...         1.0     2.0     2.0     1.0   \n",
      "8        7180.607302       1.0   ...         1.0     2.0     2.0     1.0   \n",
      "10      38644.908767       1.0   ...         1.0     2.0     2.0     2.0   \n",
      "11       3522.439021       1.0   ...         2.0     1.0     2.0     2.0   \n",
      "12      52595.083822       1.0   ...         1.0     2.0     2.0     2.0   \n",
      "13      18956.928134       1.0   ...         2.0     1.0     2.0     2.0   \n",
      "14      14249.810572       1.0   ...         1.0     2.0     2.0     2.0   \n",
      "15       9558.697213       1.0   ...         2.0     2.0     2.0     2.0   \n",
      "16      13326.978709       1.0   ...         1.0     2.0     2.0     2.0   \n",
      "17       8361.116109       1.0   ...         1.0     2.0     2.0     2.0   \n",
      "18      78473.745560       1.0   ...         2.0     1.0     2.0     2.0   \n",
      "19       8305.458257       1.0   ...         1.0     2.0     2.0     2.0   \n",
      "20      96206.169540       1.0   ...         1.0     2.0     2.0     1.0   \n",
      "21       8077.125819       1.0   ...         1.0     2.0     2.0     1.0   \n",
      "22      19581.040444       1.0   ...         1.0     2.0     2.0     2.0   \n",
      "23       7551.420843       1.0   ...         1.0     1.0     2.0     2.0   \n",
      "25       7922.947978       1.0   ...         1.0     2.0     2.0     1.0   \n",
      "26      27913.044173       1.0   ...         1.0     2.0     2.0     2.0   \n",
      "27      15175.424644       1.0   ...         1.0     2.0     2.0     2.0   \n",
      "29      51977.247979       1.0   ...         1.0     2.0     2.0     2.0   \n",
      "32      19291.089201       1.0   ...         1.0     2.0     2.0     2.0   \n",
      "34      47906.707554       1.0   ...         1.0     2.0     2.0     2.0   \n",
      "36      12804.285939       1.0   ...         1.0     2.0     2.0     2.0   \n",
      "39      29400.251088       1.0   ...         1.0     2.0     2.0     2.0   \n",
      "...              ...       ...   ...         ...     ...     ...     ...   \n",
      "10101    9521.349218       1.0   ...         2.0     2.0     2.0     1.0   \n",
      "10102   25680.036786       1.0   ...         2.0     2.0     2.0     2.0   \n",
      "10104   46913.095451       1.0   ...         1.0     2.0     1.0     1.0   \n",
      "10105   41902.060169       1.0   ...         1.0     1.0     2.0     2.0   \n",
      "10109   59657.804854       1.0   ...         1.0     2.0     2.0     2.0   \n",
      "10111   16211.606782       1.0   ...         1.0     1.0     2.0     2.0   \n",
      "10112   14840.990525       1.0   ...         1.0     2.0     2.0     2.0   \n",
      "10113   38630.084816       1.0   ...         2.0     2.0     2.0     2.0   \n",
      "10115   29345.598782       1.0   ...         1.0     2.0     2.0     2.0   \n",
      "10117   25571.634041       1.0   ...         1.0     1.0     2.0     1.0   \n",
      "10118   81917.101693       1.0   ...         1.0     2.0     2.0     1.0   \n",
      "10119   17328.980471       1.0   ...         1.0     2.0     2.0     1.0   \n",
      "10121   10619.946748       1.0   ...         1.0     2.0     2.0     2.0   \n",
      "10122    5104.801100       1.0   ...         1.0     2.0     2.0     2.0   \n",
      "10125    7625.832026       1.0   ...         1.0     2.0     2.0     2.0   \n",
      "10126   14336.700483       1.0   ...         1.0     2.0     2.0     2.0   \n",
      "10129  178652.451282       1.0   ...         1.0     1.0     2.0     2.0   \n",
      "10131   23924.308543       1.0   ...         2.0     2.0     2.0     2.0   \n",
      "10132   90063.114917       1.0   ...         1.0     2.0     2.0     2.0   \n",
      "10133   17803.033788       1.0   ...         1.0     2.0     2.0     2.0   \n",
      "10134   41060.243287       1.0   ...         1.0     1.0     2.0     2.0   \n",
      "10136   53791.255801       1.0   ...         1.0     2.0     2.0     2.0   \n",
      "10137   18823.450816       1.0   ...         1.0     2.0     2.0     1.0   \n",
      "10139   15364.874328       1.0   ...         2.0     2.0     2.0     1.0   \n",
      "10141   96424.894887       1.0   ...         1.0     2.0     2.0     1.0   \n",
      "10142    9670.280715       1.0   ...         1.0     2.0     2.0     2.0   \n",
      "10143   56879.743238       1.0   ...         1.0     2.0     2.0     2.0   \n",
      "10144    3492.609773       1.0   ...         1.0     2.0     2.0     2.0   \n",
      "10145   49188.089972       1.0   ...         1.0     2.0     1.0     1.0   \n",
      "10148   24704.093165       1.0   ...         1.0     2.0     2.0     2.0   \n",
      "\n",
      "       PAAQUEX  RDQ070  RDQ140  AGQ030  RXDUSE  SMD410  \n",
      "0          1.0     1.0     1.0     2.0     1.0     2.0  \n",
      "1          1.0     2.0     2.0     2.0     1.0     2.0  \n",
      "2          1.0     2.0     2.0     2.0     1.0     2.0  \n",
      "4          1.0     2.0     2.0     2.0     2.0     2.0  \n",
      "5          1.0     2.0     2.0     2.0     2.0     2.0  \n",
      "6          1.0     2.0     2.0     2.0     2.0     2.0  \n",
      "7          1.0     2.0     2.0     2.0     1.0     2.0  \n",
      "8          1.0     2.0     2.0     1.0     1.0     2.0  \n",
      "10         1.0     2.0     2.0     2.0     2.0     2.0  \n",
      "11         1.0     2.0     2.0     2.0     1.0     2.0  \n",
      "12         1.0     2.0     2.0     2.0     2.0     2.0  \n",
      "13         1.0     2.0     2.0     2.0     2.0     2.0  \n",
      "14         1.0     2.0     2.0     2.0     2.0     2.0  \n",
      "15         1.0     2.0     2.0     2.0     1.0     2.0  \n",
      "16         1.0     2.0     2.0     2.0     2.0     2.0  \n",
      "17         1.0     2.0     2.0     2.0     2.0     2.0  \n",
      "18         1.0     2.0     1.0     1.0     1.0     1.0  \n",
      "19         1.0     2.0     2.0     2.0     2.0     2.0  \n",
      "20         1.0     2.0     1.0     1.0     1.0     2.0  \n",
      "21         1.0     2.0     1.0     2.0     2.0     2.0  \n",
      "22         1.0     2.0     2.0     2.0     2.0     2.0  \n",
      "23         1.0     1.0     2.0     2.0     1.0     2.0  \n",
      "25         2.0     2.0     2.0     2.0     2.0     2.0  \n",
      "26         1.0     2.0     2.0     2.0     1.0     2.0  \n",
      "27         1.0     1.0     2.0     2.0     1.0     2.0  \n",
      "29         1.0     2.0     2.0     2.0     1.0     2.0  \n",
      "32         1.0     2.0     2.0     2.0     2.0     2.0  \n",
      "34         1.0     2.0     2.0     2.0     1.0     2.0  \n",
      "36         1.0     2.0     2.0     2.0     1.0     2.0  \n",
      "39         1.0     2.0     2.0     2.0     1.0     2.0  \n",
      "...        ...     ...     ...     ...     ...     ...  \n",
      "10101      1.0     1.0     1.0     1.0     1.0     1.0  \n",
      "10102      1.0     2.0     2.0     2.0     2.0     2.0  \n",
      "10104      1.0     1.0     2.0     2.0     2.0     2.0  \n",
      "10105      1.0     1.0     2.0     1.0     2.0     2.0  \n",
      "10109      1.0     1.0     1.0     2.0     1.0     2.0  \n",
      "10111      1.0     2.0     2.0     2.0     1.0     2.0  \n",
      "10112      1.0     2.0     2.0     2.0     2.0     2.0  \n",
      "10113      2.0     2.0     2.0     2.0     2.0     1.0  \n",
      "10115      1.0     2.0     2.0     1.0     1.0     2.0  \n",
      "10117      1.0     2.0     1.0     2.0     1.0     2.0  \n",
      "10118      1.0     1.0     2.0     2.0     1.0     1.0  \n",
      "10119      1.0     2.0     2.0     2.0     2.0     2.0  \n",
      "10121      1.0     2.0     2.0     2.0     2.0     2.0  \n",
      "10122      1.0     2.0     2.0     2.0     2.0     2.0  \n",
      "10125      1.0     1.0     2.0     2.0     2.0     2.0  \n",
      "10126      1.0     2.0     2.0     2.0     2.0     1.0  \n",
      "10129      1.0     1.0     2.0     1.0     1.0     2.0  \n",
      "10131      1.0     2.0     2.0     2.0     1.0     2.0  \n",
      "10132      1.0     2.0     2.0     1.0     2.0     2.0  \n",
      "10133      1.0     2.0     2.0     2.0     2.0     1.0  \n",
      "10134      1.0     1.0     2.0     2.0     1.0     2.0  \n",
      "10136      1.0     2.0     2.0     2.0     2.0     2.0  \n",
      "10137      1.0     1.0     2.0     2.0     2.0     2.0  \n",
      "10139      1.0     1.0     2.0     2.0     1.0     1.0  \n",
      "10141      1.0     2.0     2.0     2.0     1.0     2.0  \n",
      "10142      1.0     2.0     2.0     2.0     1.0     2.0  \n",
      "10143      1.0     2.0     2.0     1.0     2.0     2.0  \n",
      "10144      1.0     2.0     1.0     1.0     1.0     2.0  \n",
      "10145      1.0     1.0     2.0     2.0     2.0     2.0  \n",
      "10148      1.0     2.0     2.0     2.0     1.0     2.0  \n",
      "\n",
      "[6327 rows x 163 columns]\n"
     ]
    }
   ],
   "source": [
    "print(X)"
   ]
  },
  {
   "cell_type": "code",
   "execution_count": 531,
   "metadata": {},
   "outputs": [],
   "source": [
    "# Scaling the feature in standard form.\n",
    "from sklearn.preprocessing import StandardScaler\n",
    "X = StandardScaler().fit_transform(X)\n",
    "\n",
    "#Normalizing the dataset\n",
    "#from sklearn import preprocessing\n",
    "#X = preprocessing.normalize(X)\n",
    "#y = preprocessing.normalize(y)"
   ]
  },
  {
   "cell_type": "code",
   "execution_count": 532,
   "metadata": {},
   "outputs": [],
   "source": [
    "# Splitting the dataset into training and test\n",
    "\n",
    "X_train, X_test, y_train, y_test = train_test_split(X,y,test_size=0.30,random_state=0)"
   ]
  },
  {
   "cell_type": "code",
   "execution_count": 533,
   "metadata": {},
   "outputs": [
    {
     "data": {
      "text/plain": [
       "((4428, 163),)"
      ]
     },
     "execution_count": 533,
     "metadata": {},
     "output_type": "execute_result"
    }
   ],
   "source": [
    "X_train.shape,"
   ]
  },
  {
   "cell_type": "code",
   "execution_count": 534,
   "metadata": {},
   "outputs": [
    {
     "data": {
      "text/plain": [
       "(1899, 163)"
      ]
     },
     "execution_count": 534,
     "metadata": {},
     "output_type": "execute_result"
    }
   ],
   "source": [
    "X_test.shape"
   ]
  },
  {
   "cell_type": "code",
   "execution_count": 535,
   "metadata": {},
   "outputs": [
    {
     "name": "stdout",
     "output_type": "stream",
     "text": [
      "[[-1.71656382  0.          2.42854858 ...  0.38587744 -1.11696111\n",
      "   0.48925777]\n",
      " [-1.7162246   0.         -1.49223674 ...  0.38587744 -1.11696111\n",
      "   0.48925777]\n",
      " [-1.71588539  0.          0.58386772 ...  0.38587744 -1.11696111\n",
      "   0.48925777]\n",
      " ...\n",
      " [ 1.72440145  0.          0.7683358  ... -2.59149641 -1.11696111\n",
      "   0.48925777]\n",
      " [ 1.72474066  0.          0.19145379 ...  0.38587744  0.89528631\n",
      "   0.48925777]\n",
      " [ 1.7257583   0.          0.62746927 ...  0.38587744 -1.11696111\n",
      "   0.48925777]]\n"
     ]
    }
   ],
   "source": [
    "print(X)"
   ]
  },
  {
   "cell_type": "markdown",
   "metadata": {},
   "source": [
    "# Logistic Regression Model"
   ]
  },
  {
   "cell_type": "code",
   "execution_count": 536,
   "metadata": {},
   "outputs": [
    {
     "name": "stdout",
     "output_type": "stream",
     "text": [
      "[False False False False  True False False False False False False False\n",
      " False False False False False False False False False False False False\n",
      " False False False False False False False False False False False  True\n",
      " False False False False False False False False False False  True False\n",
      " False False False False False False False False False False False False\n",
      " False False False False False False False False False False  True  True\n",
      " False False False False False False False False False False False False\n",
      " False False  True False False False False False False False False False\n",
      " False False False False False False False  True  True False False False\n",
      " False  True False False False False False False  True False False  True\n",
      "  True False False False False False False False False False False False\n",
      " False False False  True  True False False False False False False False\n",
      " False False False False False False False False False False False False\n",
      " False False False False False  True False]\n",
      "[ 24 149   2   3   1 141 106 100  61  78 148 108 140  66 107 136  81  86\n",
      "  65  28  18  39 134  76 144  72 145 114 120 139  43  25 112  64  87   1\n",
      " 126  21  69 128  34  20  84 124 143 110   1 142 101  90 137  91  48 123\n",
      "  88 133  79 129  32 119 105   7  11  70  46 146 147  33  23   6   1   1\n",
      "  47  55  71  27 117  41  13  74  38  15  93  12  68  35   1 102  80 103\n",
      " 116  17  44  45 131 135  22  16  42  95 122  73  40   1   1  96 132 118\n",
      " 138   1  75  67  60 130 125  56   1  82 109   1   1  97  51  98  99  52\n",
      " 115  62  31  54 113  57  14  85 121   1   1  19  26 127  10  63 111  37\n",
      "  83  36   4  89   9   8  59  58  49  94  30  77 104  53   5  50  29   1\n",
      "  92]\n"
     ]
    }
   ],
   "source": [
    "#Fitting Logistic Regression trainning data\n",
    "from sklearn.linear_model import LogisticRegression\n",
    "from sklearn.feature_selection import RFE\n",
    "regressor = LogisticRegression()\n",
    "rfe = RFE(regressor, 15)\n",
    "rfe = rfe.fit(X_train,y_train.values.ravel())\n",
    "#X_train, X_test, y_train, y_test = train_test_split(rfe,y,test_size=0.30,random_state=0)\n",
    "#rfe = RFE(regressor,20 )\n",
    "#rfe = rfe.fit(X, Y )\n",
    "print(rfe.support_)\n",
    "print(rfe.ranking_)"
   ]
  },
  {
   "cell_type": "code",
   "execution_count": 537,
   "metadata": {},
   "outputs": [
    {
     "name": "stdout",
     "output_type": "stream",
     "text": [
      "[ 24 149   2   3   1 141 106 100  61  78 148 108 140  66 107 136  81  86\n",
      "  65  28  18  39 134  76 144  72 145 114 120 139  43  25 112  64  87   1\n",
      " 126  21  69 128  34  20  84 124 143 110   1 142 101  90 137  91  48 123\n",
      "  88 133  79 129  32 119 105   7  11  70  46 146 147  33  23   6   1   1\n",
      "  47  55  71  27 117  41  13  74  38  15  93  12  68  35   1 102  80 103\n",
      " 116  17  44  45 131 135  22  16  42  95 122  73  40   1   1  96 132 118\n",
      " 138   1  75  67  60 130 125  56   1  82 109   1   1  97  51  98  99  52\n",
      " 115  62  31  54 113  57  14  85 121   1   1  19  26 127  10  63 111  37\n",
      "  83  36   4  89   9   8  59  58  49  94  30  77 104  53   5  50  29   1\n",
      "  92]\n"
     ]
    }
   ],
   "source": [
    "print(rfe.ranking_)"
   ]
  },
  {
   "cell_type": "code",
   "execution_count": 538,
   "metadata": {},
   "outputs": [
    {
     "name": "stdout",
     "output_type": "stream",
     "text": [
      "RFE(estimator=LogisticRegression(C=1.0, class_weight=None, dual=False, fit_intercept=True,\n",
      "          intercept_scaling=1, max_iter=100, multi_class='ovr', n_jobs=1,\n",
      "          penalty='l2', random_state=None, solver='liblinear', tol=0.0001,\n",
      "          verbose=0, warm_start=False),\n",
      "  n_features_to_select=15, step=1, verbose=0)\n"
     ]
    }
   ],
   "source": [
    "# Need to select only the true variables\n",
    "print(rfe)"
   ]
  },
  {
   "cell_type": "code",
   "execution_count": 539,
   "metadata": {},
   "outputs": [],
   "source": [
    "# Locking the data set and selecting the X(Independent) and Y (Dependent) Variable \n",
    "X= CLANN.loc[:,['BMXARMC','DRQSDIET','RIDAGEMN','CBD070','CBD090','CBD150','DBD910','HSAQUEX','HUQ010','RXDUSE']]\n",
    "y= CLANN.loc[:,['DIQ010']]\n",
    "\n",
    "# Splitting the dataset into training and test\n",
    "\n",
    "X_train, X_test, y_train, y_test = train_test_split(X,y,test_size=0.30,random_state=0)"
   ]
  },
  {
   "cell_type": "code",
   "execution_count": 540,
   "metadata": {},
   "outputs": [
    {
     "data": {
      "text/plain": [
       "LogisticRegression(C=1.0, class_weight=None, dual=False, fit_intercept=True,\n",
       "          intercept_scaling=1, max_iter=100, multi_class='ovr', n_jobs=1,\n",
       "          penalty='l2', random_state=22, solver='liblinear', tol=0.0001,\n",
       "          verbose=0, warm_start=False)"
      ]
     },
     "execution_count": 540,
     "metadata": {},
     "output_type": "execute_result"
    }
   ],
   "source": [
    "# fit model with new selected variable\n",
    "regressor = LogisticRegression(random_state = 22)\n",
    "regressor.fit(X_train,y_train.values.ravel())"
   ]
  },
  {
   "cell_type": "code",
   "execution_count": 541,
   "metadata": {},
   "outputs": [],
   "source": [
    "# Predicting the Training data set accuracy\n",
    "y_pred = regressor.predict(X_test)"
   ]
  },
  {
   "cell_type": "code",
   "execution_count": 542,
   "metadata": {},
   "outputs": [
    {
     "name": "stdout",
     "output_type": "stream",
     "text": [
      "Test Accuracy score: 0.9125855713533438\n"
     ]
    }
   ],
   "source": [
    "from sklearn.metrics import accuracy_score\n",
    "print('Test Accuracy score:' , accuracy_score(y_test, y_pred))"
   ]
  },
  {
   "cell_type": "code",
   "execution_count": 543,
   "metadata": {},
   "outputs": [
    {
     "name": "stdout",
     "output_type": "stream",
     "text": [
      "             precision    recall  f1-score   support\n",
      "\n",
      "        Yes       0.00      0.00      0.00       163\n",
      "         No       0.91      1.00      0.95      1736\n",
      "\n",
      "avg / total       0.84      0.91      0.87      1899\n",
      "\n"
     ]
    }
   ],
   "source": [
    "target_names = ['Yes', 'No']\n",
    "print(classification_report(y_test, y_pred, target_names=target_names))"
   ]
  },
  {
   "cell_type": "code",
   "execution_count": 544,
   "metadata": {},
   "outputs": [
    {
     "ename": "ValueError",
     "evalue": "Data is not binary and pos_label is not specified",
     "output_type": "error",
     "traceback": [
      "\u001b[1;31m---------------------------------------------------------------------------\u001b[0m",
      "\u001b[1;31mValueError\u001b[0m                                Traceback (most recent call last)",
      "\u001b[1;32m<ipython-input-544-af2562f75360>\u001b[0m in \u001b[0;36m<module>\u001b[1;34m()\u001b[0m\n\u001b[0;32m      2\u001b[0m \u001b[1;32mfrom\u001b[0m \u001b[0msklearn\u001b[0m \u001b[1;32mimport\u001b[0m \u001b[0mmetrics\u001b[0m\u001b[1;33m\u001b[0m\u001b[0m\n\u001b[0;32m      3\u001b[0m \u001b[1;32mfrom\u001b[0m \u001b[0msklearn\u001b[0m\u001b[1;33m.\u001b[0m\u001b[0mmetrics\u001b[0m \u001b[1;32mimport\u001b[0m \u001b[0mroc_curve\u001b[0m\u001b[1;33m,\u001b[0m \u001b[0mauc\u001b[0m\u001b[1;33m\u001b[0m\u001b[0m\n\u001b[1;32m----> 4\u001b[1;33m \u001b[0mfalse_positive_rate\u001b[0m\u001b[1;33m,\u001b[0m \u001b[0mtrue_positive_rate\u001b[0m\u001b[1;33m,\u001b[0m \u001b[0mthresholds\u001b[0m \u001b[1;33m=\u001b[0m \u001b[0mroc_curve\u001b[0m\u001b[1;33m(\u001b[0m\u001b[0my_test\u001b[0m\u001b[1;33m,\u001b[0m \u001b[0my_pred\u001b[0m\u001b[1;33m)\u001b[0m\u001b[1;33m\u001b[0m\u001b[0m\n\u001b[0m\u001b[0;32m      5\u001b[0m \u001b[0mroc_auc\u001b[0m \u001b[1;33m=\u001b[0m \u001b[0mauc\u001b[0m\u001b[1;33m(\u001b[0m\u001b[0mfalse_positive_rate\u001b[0m\u001b[1;33m,\u001b[0m \u001b[0mtrue_positive_rate\u001b[0m\u001b[1;33m)\u001b[0m\u001b[1;33m\u001b[0m\u001b[0m\n\u001b[0;32m      6\u001b[0m \u001b[0mroc_auc\u001b[0m\u001b[1;33m\u001b[0m\u001b[0m\n",
      "\u001b[1;32mC:\\ProgramData\\Anaconda3\\lib\\site-packages\\sklearn\\metrics\\ranking.py\u001b[0m in \u001b[0;36mroc_curve\u001b[1;34m(y_true, y_score, pos_label, sample_weight, drop_intermediate)\u001b[0m\n\u001b[0;32m    532\u001b[0m     \"\"\"\n\u001b[0;32m    533\u001b[0m     fps, tps, thresholds = _binary_clf_curve(\n\u001b[1;32m--> 534\u001b[1;33m         y_true, y_score, pos_label=pos_label, sample_weight=sample_weight)\n\u001b[0m\u001b[0;32m    535\u001b[0m \u001b[1;33m\u001b[0m\u001b[0m\n\u001b[0;32m    536\u001b[0m     \u001b[1;31m# Attempt to drop thresholds corresponding to points in between and\u001b[0m\u001b[1;33m\u001b[0m\u001b[1;33m\u001b[0m\u001b[0m\n",
      "\u001b[1;32mC:\\ProgramData\\Anaconda3\\lib\\site-packages\\sklearn\\metrics\\ranking.py\u001b[0m in \u001b[0;36m_binary_clf_curve\u001b[1;34m(y_true, y_score, pos_label, sample_weight)\u001b[0m\n\u001b[0;32m    335\u001b[0m              \u001b[0mnp\u001b[0m\u001b[1;33m.\u001b[0m\u001b[0marray_equal\u001b[0m\u001b[1;33m(\u001b[0m\u001b[0mclasses\u001b[0m\u001b[1;33m,\u001b[0m \u001b[1;33m[\u001b[0m\u001b[1;33m-\u001b[0m\u001b[1;36m1\u001b[0m\u001b[1;33m]\u001b[0m\u001b[1;33m)\u001b[0m \u001b[1;32mor\u001b[0m\u001b[1;33m\u001b[0m\u001b[0m\n\u001b[0;32m    336\u001b[0m              np.array_equal(classes, [1]))):\n\u001b[1;32m--> 337\u001b[1;33m         \u001b[1;32mraise\u001b[0m \u001b[0mValueError\u001b[0m\u001b[1;33m(\u001b[0m\u001b[1;34m\"Data is not binary and pos_label is not specified\"\u001b[0m\u001b[1;33m)\u001b[0m\u001b[1;33m\u001b[0m\u001b[0m\n\u001b[0m\u001b[0;32m    338\u001b[0m     \u001b[1;32melif\u001b[0m \u001b[0mpos_label\u001b[0m \u001b[1;32mis\u001b[0m \u001b[1;32mNone\u001b[0m\u001b[1;33m:\u001b[0m\u001b[1;33m\u001b[0m\u001b[0m\n\u001b[0;32m    339\u001b[0m         \u001b[0mpos_label\u001b[0m \u001b[1;33m=\u001b[0m \u001b[1;36m1.\u001b[0m\u001b[1;33m\u001b[0m\u001b[0m\n",
      "\u001b[1;31mValueError\u001b[0m: Data is not binary and pos_label is not specified"
     ]
    }
   ],
   "source": [
    "from sklearn.model_selection import cross_val_score\n",
    "from sklearn import metrics\n",
    "from sklearn.metrics import roc_curve, auc\n",
    "false_positive_rate, true_positive_rate, thresholds = roc_curve(y_test, y_pred)\n",
    "roc_auc = auc(false_positive_rate, true_positive_rate)\n",
    "roc_auc"
   ]
  },
  {
   "cell_type": "markdown",
   "metadata": {},
   "source": [
    "#  K-Nearest Neighbors classifier"
   ]
  },
  {
   "cell_type": "code",
   "execution_count": 489,
   "metadata": {},
   "outputs": [],
   "source": [
    "# Importing the KNN model classifier\n",
    "from sklearn.neighbors import KNeighborsClassifier\n",
    "knn = KNeighborsClassifier(n_neighbors=25)"
   ]
  },
  {
   "cell_type": "code",
   "execution_count": 490,
   "metadata": {},
   "outputs": [],
   "source": [
    "# Fitting the Model\n",
    "knn = knn.fit(X_train, y_train.values.ravel())"
   ]
  },
  {
   "cell_type": "code",
   "execution_count": 491,
   "metadata": {},
   "outputs": [],
   "source": [
    "#Prediction\n",
    "y_pred = knn.predict(X_test)"
   ]
  },
  {
   "cell_type": "code",
   "execution_count": 492,
   "metadata": {},
   "outputs": [
    {
     "name": "stdout",
     "output_type": "stream",
     "text": [
      "Accuracy score: 0.9141653501843076\n"
     ]
    }
   ],
   "source": [
    "from sklearn.metrics import accuracy_score\n",
    "print('Accuracy score:' , accuracy_score(y_test, y_pred))"
   ]
  },
  {
   "cell_type": "code",
   "execution_count": 493,
   "metadata": {},
   "outputs": [
    {
     "name": "stdout",
     "output_type": "stream",
     "text": [
      "             precision    recall  f1-score   support\n",
      "\n",
      "        Yes       0.00      0.00      0.00       163\n",
      "         No       0.91      1.00      0.96      1736\n",
      "\n",
      "avg / total       0.84      0.91      0.87      1899\n",
      "\n"
     ]
    },
    {
     "name": "stderr",
     "output_type": "stream",
     "text": [
      "C:\\ProgramData\\Anaconda3\\lib\\site-packages\\sklearn\\metrics\\classification.py:1135: UndefinedMetricWarning: Precision and F-score are ill-defined and being set to 0.0 in labels with no predicted samples.\n",
      "  'precision', 'predicted', average, warn_for)\n"
     ]
    }
   ],
   "source": [
    "target_names = ['Yes', 'No']\n",
    "print(classification_report(y_test, y_pred, target_names=target_names))"
   ]
  },
  {
   "cell_type": "markdown",
   "metadata": {},
   "source": [
    "# Support Vector Machine Model"
   ]
  },
  {
   "cell_type": "code",
   "execution_count": 494,
   "metadata": {},
   "outputs": [],
   "source": [
    "# Importing the SVM model classifier\n",
    "from sklearn.svm import SVC\n",
    "Model_svc = SVC(gamma='auto')"
   ]
  },
  {
   "cell_type": "code",
   "execution_count": 495,
   "metadata": {},
   "outputs": [
    {
     "data": {
      "text/plain": [
       "SVC(C=1.0, cache_size=200, class_weight=None, coef0=0.0,\n",
       "  decision_function_shape='ovr', degree=3, gamma='auto', kernel='rbf',\n",
       "  max_iter=-1, probability=False, random_state=None, shrinking=True,\n",
       "  tol=0.001, verbose=False)"
      ]
     },
     "execution_count": 495,
     "metadata": {},
     "output_type": "execute_result"
    }
   ],
   "source": [
    "# Fitting the Model\n",
    "Model_svc.fit(X_train, y_train.values.ravel())"
   ]
  },
  {
   "cell_type": "code",
   "execution_count": 496,
   "metadata": {},
   "outputs": [],
   "source": [
    "#Prediction\n",
    "y_pred = Model_svc.predict(X_test)"
   ]
  },
  {
   "cell_type": "code",
   "execution_count": 497,
   "metadata": {},
   "outputs": [
    {
     "name": "stdout",
     "output_type": "stream",
     "text": [
      "Accuracy score: 0.9141653501843076\n"
     ]
    }
   ],
   "source": [
    "from sklearn.metrics import accuracy_score\n",
    "print('Accuracy score:' , accuracy_score(y_test, y_pred))"
   ]
  },
  {
   "cell_type": "code",
   "execution_count": 498,
   "metadata": {},
   "outputs": [
    {
     "name": "stdout",
     "output_type": "stream",
     "text": [
      "             precision    recall  f1-score   support\n",
      "\n",
      "        Yes       0.00      0.00      0.00       163\n",
      "         No       0.91      1.00      0.96      1736\n",
      "\n",
      "avg / total       0.84      0.91      0.87      1899\n",
      "\n"
     ]
    },
    {
     "name": "stderr",
     "output_type": "stream",
     "text": [
      "C:\\ProgramData\\Anaconda3\\lib\\site-packages\\sklearn\\metrics\\classification.py:1135: UndefinedMetricWarning: Precision and F-score are ill-defined and being set to 0.0 in labels with no predicted samples.\n",
      "  'precision', 'predicted', average, warn_for)\n"
     ]
    }
   ],
   "source": [
    "target_names = ['Yes', 'No']\n",
    "print(classification_report(y_test, y_pred, target_names=target_names))"
   ]
  },
  {
   "cell_type": "markdown",
   "metadata": {},
   "source": [
    "## Cross Validation using k-fold (10 fold cross validation) "
   ]
  },
  {
   "cell_type": "code",
   "execution_count": 499,
   "metadata": {},
   "outputs": [
    {
     "data": {
      "text/plain": [
       "array([0.90990991, 0.90990991, 0.91196388, 0.91196388, 0.91196388,\n",
       "       0.91196388, 0.91176471, 0.91176471, 0.91176471, 0.91176471])"
      ]
     },
     "execution_count": 499,
     "metadata": {},
     "output_type": "execute_result"
    }
   ],
   "source": [
    "# Cross Validation (Training dataset)\n",
    "\n",
    "from sklearn.model_selection import cross_val_score\n",
    "\n",
    "scores = cross_val_score(Model_svc,X_train,y_train.values.ravel(),cv=10)\n",
    "\n",
    "scores"
   ]
  },
  {
   "cell_type": "code",
   "execution_count": 500,
   "metadata": {},
   "outputs": [
    {
     "data": {
      "text/plain": [
       "array([0.91099476, 0.91099476, 0.91099476, 0.91578947, 0.91578947,\n",
       "       0.91578947, 0.91534392, 0.91534392, 0.91534392, 0.91534392])"
      ]
     },
     "execution_count": 500,
     "metadata": {},
     "output_type": "execute_result"
    }
   ],
   "source": [
    "# Cross Validation (Test dataset)\n",
    "scores = cross_val_score(Model_svc,X_test,y_test.values.ravel(),cv=10)\n",
    "\n",
    "scores"
   ]
  },
  {
   "cell_type": "code",
   "execution_count": 501,
   "metadata": {},
   "outputs": [
    {
     "name": "stdout",
     "output_type": "stream",
     "text": [
      "Accuracy score: 0.914 (+/- 0.004)\n"
     ]
    }
   ],
   "source": [
    "from sklearn.metrics import accuracy_score\n",
    "print('Accuracy score: %0.3f (+/- %0.3f)'%  (scores.mean(), scores.std()*2 ))"
   ]
  },
  {
   "cell_type": "code",
   "execution_count": 502,
   "metadata": {},
   "outputs": [
    {
     "name": "stdout",
     "output_type": "stream",
     "text": [
      "Accuracy score: 0.9141653501843076\n"
     ]
    }
   ],
   "source": [
    "from sklearn.metrics import accuracy_score\n",
    "print('Accuracy score:' , accuracy_score(y_test, y_pred))"
   ]
  },
  {
   "cell_type": "markdown",
   "metadata": {},
   "source": [
    "# Decision Tree Classifcation model"
   ]
  },
  {
   "cell_type": "code",
   "execution_count": 503,
   "metadata": {},
   "outputs": [],
   "source": [
    "# Imprting the Model and instantiating it into clf i.e. short name for classification\n",
    "from sklearn import tree\n",
    "clf_DT = tree.DecisionTreeClassifier()"
   ]
  },
  {
   "cell_type": "code",
   "execution_count": 504,
   "metadata": {},
   "outputs": [],
   "source": [
    "clf_DT = clf_DT.fit(X_train, y_train)"
   ]
  },
  {
   "cell_type": "code",
   "execution_count": 505,
   "metadata": {},
   "outputs": [],
   "source": [
    "y_pred = clf_DT.predict(X_test)"
   ]
  },
  {
   "cell_type": "code",
   "execution_count": 506,
   "metadata": {},
   "outputs": [
    {
     "name": "stdout",
     "output_type": "stream",
     "text": [
      "Accuracy score: 0.8794102159031069\n"
     ]
    }
   ],
   "source": [
    "from sklearn.metrics import accuracy_score\n",
    "print('Accuracy score:' , accuracy_score(y_test,y_pred))\n",
    "#print(\"Test set score: %f\" % clf.score(y_test, y_pred))"
   ]
  },
  {
   "cell_type": "code",
   "execution_count": 507,
   "metadata": {},
   "outputs": [
    {
     "name": "stdout",
     "output_type": "stream",
     "text": [
      "             precision    recall  f1-score   support\n",
      "\n",
      "        Yes       0.28      0.26      0.27       163\n",
      "         No       0.93      0.94      0.93      1736\n",
      "\n",
      "avg / total       0.88      0.88      0.88      1899\n",
      "\n"
     ]
    }
   ],
   "source": [
    "target_names = ['Yes', 'No']\n",
    "print(classification_report(y_test, y_pred, target_names=target_names))"
   ]
  },
  {
   "cell_type": "markdown",
   "metadata": {},
   "source": [
    "## Cross Validation using k-fold (10 fold cross validation)"
   ]
  },
  {
   "cell_type": "code",
   "execution_count": 508,
   "metadata": {},
   "outputs": [
    {
     "data": {
      "text/plain": [
       "array([0.88063063, 0.86036036, 0.86907449, 0.8510158 , 0.86004515,\n",
       "       0.86455982, 0.86425339, 0.86877828, 0.85972851, 0.87782805])"
      ]
     },
     "execution_count": 508,
     "metadata": {},
     "output_type": "execute_result"
    }
   ],
   "source": [
    "# Cross Validation Training dataset\n",
    "\n",
    "from sklearn.model_selection import cross_val_score\n",
    "\n",
    "scores = cross_val_score(clf_DT,X_train,y_train.values.ravel(),cv=10)\n",
    "\n",
    "scores"
   ]
  },
  {
   "cell_type": "code",
   "execution_count": 509,
   "metadata": {},
   "outputs": [
    {
     "data": {
      "text/plain": [
       "array([0.86387435, 0.86910995, 0.86387435, 0.9       , 0.88421053,\n",
       "       0.84736842, 0.85185185, 0.88888889, 0.84126984, 0.86243386])"
      ]
     },
     "execution_count": 509,
     "metadata": {},
     "output_type": "execute_result"
    }
   ],
   "source": [
    "# Cross Validation (Test dataset)\n",
    "scores = cross_val_score(clf_DT,X_test,y_test.values.ravel(),cv=10)\n",
    "\n",
    "scores"
   ]
  },
  {
   "cell_type": "code",
   "execution_count": 510,
   "metadata": {},
   "outputs": [
    {
     "name": "stdout",
     "output_type": "stream",
     "text": [
      "Accuracy score: 0.867 (+/- 0.036)\n"
     ]
    }
   ],
   "source": [
    "from sklearn.metrics import accuracy_score\n",
    "print('Accuracy score: %0.3f (+/- %0.3f)'%  (scores.mean(), scores.std()*2 ))"
   ]
  },
  {
   "cell_type": "markdown",
   "metadata": {},
   "source": [
    "#  Neural Network Model"
   ]
  },
  {
   "cell_type": "code",
   "execution_count": 511,
   "metadata": {},
   "outputs": [
    {
     "name": "stdout",
     "output_type": "stream",
     "text": [
      "[ True  True  True  True  True  True  True  True  True  True]\n",
      "[1 1 1 1 1 1 1 1 1 1]\n"
     ]
    }
   ],
   "source": [
    "from sklearn.neural_network import MLPClassifier\n",
    "from sklearn.feature_selection import RFE\n",
    "X = (X_train)\n",
    "y = (y_train)\n",
    "clf = MLPClassifier(solver='lbfgs', alpha=1e-5,\n",
    "     hidden_layer_sizes=(5,2),random_state=1)\n",
    "rfe = RFE(clf, 10)\n",
    "rfe = rfe.fit(X_train,y_train.values.ravel())\n",
    "#X_train, X_test, y_train, y_test = train_test_split(rfe,y,test_size=0.30,random_state=0)\n",
    "#rfe = RFE(regressor,20 )\n",
    "#rfe = rfe.fit(X, Y )\n",
    "print(rfe.support_)\n",
    "print(rfe.ranking_)"
   ]
  },
  {
   "cell_type": "code",
   "execution_count": 512,
   "metadata": {},
   "outputs": [
    {
     "data": {
      "text/plain": [
       "MLPClassifier(activation='relu', alpha=1e-05, batch_size='auto', beta_1=0.9,\n",
       "       beta_2=0.999, early_stopping=False, epsilon=1e-08,\n",
       "       hidden_layer_sizes=(5, 2), learning_rate='constant',\n",
       "       learning_rate_init=0.001, max_iter=200, momentum=0.9,\n",
       "       nesterovs_momentum=True, power_t=0.5, random_state=1, shuffle=True,\n",
       "       solver='lbfgs', tol=0.0001, validation_fraction=0.1, verbose=False,\n",
       "       warm_start=False)"
      ]
     },
     "execution_count": 512,
     "metadata": {},
     "output_type": "execute_result"
    }
   ],
   "source": [
    "from sklearn.neural_network import MLPClassifier\n",
    "X = (X_train)\n",
    "y = (y_train)\n",
    "clf = MLPClassifier(solver='lbfgs', alpha=1e-5,\n",
    "     hidden_layer_sizes=(5,2),random_state=1)\n",
    "\n",
    "clf.fit(X, y.values.ravel())  "
   ]
  },
  {
   "cell_type": "code",
   "execution_count": 513,
   "metadata": {},
   "outputs": [
    {
     "data": {
      "text/plain": [
       "array([2., 2., 2., ..., 2., 2., 2.])"
      ]
     },
     "execution_count": 513,
     "metadata": {},
     "output_type": "execute_result"
    }
   ],
   "source": [
    "clf.predict(X_test)"
   ]
  },
  {
   "cell_type": "code",
   "execution_count": 114,
   "metadata": {},
   "outputs": [],
   "source": [
    "#print(\"Training set score: %f\" % clf.score(X_train, y_train))\n",
    "#print(\"Test set score: %f\" % clf.score(X_test, y_test))"
   ]
  },
  {
   "cell_type": "code",
   "execution_count": 514,
   "metadata": {},
   "outputs": [
    {
     "name": "stdout",
     "output_type": "stream",
     "text": [
      "Accuracy score: 0.8794102159031069\n"
     ]
    }
   ],
   "source": [
    "from sklearn.metrics import accuracy_score\n",
    "print('Accuracy score:' , accuracy_score(y_test,y_pred))"
   ]
  },
  {
   "cell_type": "code",
   "execution_count": 515,
   "metadata": {},
   "outputs": [
    {
     "name": "stdout",
     "output_type": "stream",
     "text": [
      "             precision    recall  f1-score   support\n",
      "\n",
      "        Yes       0.28      0.26      0.27       163\n",
      "         No       0.93      0.94      0.93      1736\n",
      "\n",
      "avg / total       0.88      0.88      0.88      1899\n",
      "\n"
     ]
    }
   ],
   "source": [
    "target_names = ['Yes', 'No']\n",
    "print(classification_report(y_test, y_pred, target_names=target_names))"
   ]
  },
  {
   "cell_type": "code",
   "execution_count": 516,
   "metadata": {},
   "outputs": [
    {
     "name": "stderr",
     "output_type": "stream",
     "text": [
      "C:\\ProgramData\\Anaconda3\\lib\\site-packages\\sklearn\\preprocessing\\label.py:151: DeprecationWarning: The truth value of an empty array is ambiguous. Returning False, but in future this will result in an error. Use `array.size > 0` to check that an array is not empty.\n",
      "  if diff:\n",
      "C:\\ProgramData\\Anaconda3\\lib\\site-packages\\sklearn\\preprocessing\\label.py:151: DeprecationWarning: The truth value of an empty array is ambiguous. Returning False, but in future this will result in an error. Use `array.size > 0` to check that an array is not empty.\n",
      "  if diff:\n",
      "C:\\ProgramData\\Anaconda3\\lib\\site-packages\\sklearn\\preprocessing\\label.py:151: DeprecationWarning: The truth value of an empty array is ambiguous. Returning False, but in future this will result in an error. Use `array.size > 0` to check that an array is not empty.\n",
      "  if diff:\n",
      "C:\\ProgramData\\Anaconda3\\lib\\site-packages\\sklearn\\preprocessing\\label.py:151: DeprecationWarning: The truth value of an empty array is ambiguous. Returning False, but in future this will result in an error. Use `array.size > 0` to check that an array is not empty.\n",
      "  if diff:\n",
      "C:\\ProgramData\\Anaconda3\\lib\\site-packages\\sklearn\\preprocessing\\label.py:151: DeprecationWarning: The truth value of an empty array is ambiguous. Returning False, but in future this will result in an error. Use `array.size > 0` to check that an array is not empty.\n",
      "  if diff:\n",
      "C:\\ProgramData\\Anaconda3\\lib\\site-packages\\sklearn\\preprocessing\\label.py:151: DeprecationWarning: The truth value of an empty array is ambiguous. Returning False, but in future this will result in an error. Use `array.size > 0` to check that an array is not empty.\n",
      "  if diff:\n",
      "C:\\ProgramData\\Anaconda3\\lib\\site-packages\\sklearn\\preprocessing\\label.py:151: DeprecationWarning: The truth value of an empty array is ambiguous. Returning False, but in future this will result in an error. Use `array.size > 0` to check that an array is not empty.\n",
      "  if diff:\n",
      "C:\\ProgramData\\Anaconda3\\lib\\site-packages\\sklearn\\preprocessing\\label.py:151: DeprecationWarning: The truth value of an empty array is ambiguous. Returning False, but in future this will result in an error. Use `array.size > 0` to check that an array is not empty.\n",
      "  if diff:\n",
      "C:\\ProgramData\\Anaconda3\\lib\\site-packages\\sklearn\\preprocessing\\label.py:151: DeprecationWarning: The truth value of an empty array is ambiguous. Returning False, but in future this will result in an error. Use `array.size > 0` to check that an array is not empty.\n",
      "  if diff:\n"
     ]
    },
    {
     "name": "stdout",
     "output_type": "stream",
     "text": [
      "0.9076294904139812\n"
     ]
    },
    {
     "name": "stderr",
     "output_type": "stream",
     "text": [
      "C:\\ProgramData\\Anaconda3\\lib\\site-packages\\sklearn\\preprocessing\\label.py:151: DeprecationWarning: The truth value of an empty array is ambiguous. Returning False, but in future this will result in an error. Use `array.size > 0` to check that an array is not empty.\n",
      "  if diff:\n"
     ]
    }
   ],
   "source": [
    "# Average Ensemble for Classification for CLANN\n",
    "\n",
    "import pandas\n",
    "from sklearn import model_selection\n",
    "from sklearn.linear_model import LogisticRegression\n",
    "from sklearn.tree import DecisionTreeClassifier\n",
    "from sklearn.svm import SVC\n",
    "from sklearn.neighbors import KNeighborsClassifier\n",
    "from sklearn.ensemble import VotingClassifier\n",
    "\n",
    "\n",
    "X = X_train\n",
    "Y = y_train.values.ravel()\n",
    "seed = 22\n",
    "kfold = model_selection.KFold(n_splits=10, random_state=seed)\n",
    "# create the sub models\n",
    "estimators = []\n",
    "model1 = LogisticRegression()\n",
    "estimators.append(('logistic', model1))\n",
    "model2 = DecisionTreeClassifier()\n",
    "estimators.append(('cart', model2))\n",
    "model3 = SVC()\n",
    "estimators.append(('svm', model3))\n",
    "model4 = KNeighborsClassifier()\n",
    "estimators.append(('knn', model4))\n",
    "# create the ensemble model\n",
    "ensemble = VotingClassifier(estimators)\n",
    "results = model_selection.cross_val_score(ensemble, X, Y, cv=kfold)\n",
    "print(results.mean())"
   ]
  },
  {
   "cell_type": "code",
   "execution_count": 517,
   "metadata": {},
   "outputs": [
    {
     "name": "stderr",
     "output_type": "stream",
     "text": [
      "C:\\ProgramData\\Anaconda3\\lib\\site-packages\\sklearn\\preprocessing\\label.py:95: DataConversionWarning: A column-vector y was passed when a 1d array was expected. Please change the shape of y to (n_samples, ), for example using ravel().\n",
      "  y = column_or_1d(y, warn=True)\n",
      "C:\\ProgramData\\Anaconda3\\lib\\site-packages\\sklearn\\preprocessing\\label.py:128: DataConversionWarning: A column-vector y was passed when a 1d array was expected. Please change the shape of y to (n_samples, ), for example using ravel().\n",
      "  y = column_or_1d(y, warn=True)\n",
      "C:\\ProgramData\\Anaconda3\\lib\\site-packages\\sklearn\\preprocessing\\label.py:151: DeprecationWarning: The truth value of an empty array is ambiguous. Returning False, but in future this will result in an error. Use `array.size > 0` to check that an array is not empty.\n",
      "  if diff:\n",
      "C:\\ProgramData\\Anaconda3\\lib\\site-packages\\sklearn\\preprocessing\\label.py:95: DataConversionWarning: A column-vector y was passed when a 1d array was expected. Please change the shape of y to (n_samples, ), for example using ravel().\n",
      "  y = column_or_1d(y, warn=True)\n",
      "C:\\ProgramData\\Anaconda3\\lib\\site-packages\\sklearn\\preprocessing\\label.py:128: DataConversionWarning: A column-vector y was passed when a 1d array was expected. Please change the shape of y to (n_samples, ), for example using ravel().\n",
      "  y = column_or_1d(y, warn=True)\n",
      "C:\\ProgramData\\Anaconda3\\lib\\site-packages\\sklearn\\preprocessing\\label.py:151: DeprecationWarning: The truth value of an empty array is ambiguous. Returning False, but in future this will result in an error. Use `array.size > 0` to check that an array is not empty.\n",
      "  if diff:\n",
      "C:\\ProgramData\\Anaconda3\\lib\\site-packages\\sklearn\\preprocessing\\label.py:95: DataConversionWarning: A column-vector y was passed when a 1d array was expected. Please change the shape of y to (n_samples, ), for example using ravel().\n",
      "  y = column_or_1d(y, warn=True)\n",
      "C:\\ProgramData\\Anaconda3\\lib\\site-packages\\sklearn\\preprocessing\\label.py:128: DataConversionWarning: A column-vector y was passed when a 1d array was expected. Please change the shape of y to (n_samples, ), for example using ravel().\n",
      "  y = column_or_1d(y, warn=True)\n",
      "C:\\ProgramData\\Anaconda3\\lib\\site-packages\\sklearn\\preprocessing\\label.py:151: DeprecationWarning: The truth value of an empty array is ambiguous. Returning False, but in future this will result in an error. Use `array.size > 0` to check that an array is not empty.\n",
      "  if diff:\n",
      "C:\\ProgramData\\Anaconda3\\lib\\site-packages\\sklearn\\preprocessing\\label.py:95: DataConversionWarning: A column-vector y was passed when a 1d array was expected. Please change the shape of y to (n_samples, ), for example using ravel().\n",
      "  y = column_or_1d(y, warn=True)\n",
      "C:\\ProgramData\\Anaconda3\\lib\\site-packages\\sklearn\\preprocessing\\label.py:128: DataConversionWarning: A column-vector y was passed when a 1d array was expected. Please change the shape of y to (n_samples, ), for example using ravel().\n",
      "  y = column_or_1d(y, warn=True)\n",
      "C:\\ProgramData\\Anaconda3\\lib\\site-packages\\sklearn\\preprocessing\\label.py:151: DeprecationWarning: The truth value of an empty array is ambiguous. Returning False, but in future this will result in an error. Use `array.size > 0` to check that an array is not empty.\n",
      "  if diff:\n",
      "C:\\ProgramData\\Anaconda3\\lib\\site-packages\\sklearn\\preprocessing\\label.py:95: DataConversionWarning: A column-vector y was passed when a 1d array was expected. Please change the shape of y to (n_samples, ), for example using ravel().\n",
      "  y = column_or_1d(y, warn=True)\n",
      "C:\\ProgramData\\Anaconda3\\lib\\site-packages\\sklearn\\preprocessing\\label.py:128: DataConversionWarning: A column-vector y was passed when a 1d array was expected. Please change the shape of y to (n_samples, ), for example using ravel().\n",
      "  y = column_or_1d(y, warn=True)\n",
      "C:\\ProgramData\\Anaconda3\\lib\\site-packages\\sklearn\\preprocessing\\label.py:151: DeprecationWarning: The truth value of an empty array is ambiguous. Returning False, but in future this will result in an error. Use `array.size > 0` to check that an array is not empty.\n",
      "  if diff:\n",
      "C:\\ProgramData\\Anaconda3\\lib\\site-packages\\sklearn\\preprocessing\\label.py:95: DataConversionWarning: A column-vector y was passed when a 1d array was expected. Please change the shape of y to (n_samples, ), for example using ravel().\n",
      "  y = column_or_1d(y, warn=True)\n",
      "C:\\ProgramData\\Anaconda3\\lib\\site-packages\\sklearn\\preprocessing\\label.py:128: DataConversionWarning: A column-vector y was passed when a 1d array was expected. Please change the shape of y to (n_samples, ), for example using ravel().\n",
      "  y = column_or_1d(y, warn=True)\n",
      "C:\\ProgramData\\Anaconda3\\lib\\site-packages\\sklearn\\preprocessing\\label.py:151: DeprecationWarning: The truth value of an empty array is ambiguous. Returning False, but in future this will result in an error. Use `array.size > 0` to check that an array is not empty.\n",
      "  if diff:\n",
      "C:\\ProgramData\\Anaconda3\\lib\\site-packages\\sklearn\\preprocessing\\label.py:95: DataConversionWarning: A column-vector y was passed when a 1d array was expected. Please change the shape of y to (n_samples, ), for example using ravel().\n",
      "  y = column_or_1d(y, warn=True)\n",
      "C:\\ProgramData\\Anaconda3\\lib\\site-packages\\sklearn\\preprocessing\\label.py:128: DataConversionWarning: A column-vector y was passed when a 1d array was expected. Please change the shape of y to (n_samples, ), for example using ravel().\n",
      "  y = column_or_1d(y, warn=True)\n",
      "C:\\ProgramData\\Anaconda3\\lib\\site-packages\\sklearn\\preprocessing\\label.py:151: DeprecationWarning: The truth value of an empty array is ambiguous. Returning False, but in future this will result in an error. Use `array.size > 0` to check that an array is not empty.\n",
      "  if diff:\n",
      "C:\\ProgramData\\Anaconda3\\lib\\site-packages\\sklearn\\preprocessing\\label.py:95: DataConversionWarning: A column-vector y was passed when a 1d array was expected. Please change the shape of y to (n_samples, ), for example using ravel().\n",
      "  y = column_or_1d(y, warn=True)\n",
      "C:\\ProgramData\\Anaconda3\\lib\\site-packages\\sklearn\\preprocessing\\label.py:128: DataConversionWarning: A column-vector y was passed when a 1d array was expected. Please change the shape of y to (n_samples, ), for example using ravel().\n",
      "  y = column_or_1d(y, warn=True)\n",
      "C:\\ProgramData\\Anaconda3\\lib\\site-packages\\sklearn\\preprocessing\\label.py:151: DeprecationWarning: The truth value of an empty array is ambiguous. Returning False, but in future this will result in an error. Use `array.size > 0` to check that an array is not empty.\n",
      "  if diff:\n",
      "C:\\ProgramData\\Anaconda3\\lib\\site-packages\\sklearn\\preprocessing\\label.py:95: DataConversionWarning: A column-vector y was passed when a 1d array was expected. Please change the shape of y to (n_samples, ), for example using ravel().\n",
      "  y = column_or_1d(y, warn=True)\n",
      "C:\\ProgramData\\Anaconda3\\lib\\site-packages\\sklearn\\preprocessing\\label.py:128: DataConversionWarning: A column-vector y was passed when a 1d array was expected. Please change the shape of y to (n_samples, ), for example using ravel().\n",
      "  y = column_or_1d(y, warn=True)\n",
      "C:\\ProgramData\\Anaconda3\\lib\\site-packages\\sklearn\\preprocessing\\label.py:151: DeprecationWarning: The truth value of an empty array is ambiguous. Returning False, but in future this will result in an error. Use `array.size > 0` to check that an array is not empty.\n",
      "  if diff:\n",
      "C:\\ProgramData\\Anaconda3\\lib\\site-packages\\sklearn\\preprocessing\\label.py:95: DataConversionWarning: A column-vector y was passed when a 1d array was expected. Please change the shape of y to (n_samples, ), for example using ravel().\n",
      "  y = column_or_1d(y, warn=True)\n",
      "C:\\ProgramData\\Anaconda3\\lib\\site-packages\\sklearn\\preprocessing\\label.py:128: DataConversionWarning: A column-vector y was passed when a 1d array was expected. Please change the shape of y to (n_samples, ), for example using ravel().\n",
      "  y = column_or_1d(y, warn=True)\n"
     ]
    },
    {
     "name": "stdout",
     "output_type": "stream",
     "text": [
      "0.9141631857421331\n"
     ]
    },
    {
     "name": "stderr",
     "output_type": "stream",
     "text": [
      "C:\\ProgramData\\Anaconda3\\lib\\site-packages\\sklearn\\preprocessing\\label.py:151: DeprecationWarning: The truth value of an empty array is ambiguous. Returning False, but in future this will result in an error. Use `array.size > 0` to check that an array is not empty.\n",
      "  if diff:\n"
     ]
    }
   ],
   "source": [
    "# Average Ensemble for Classification for CLANN\n",
    "\n",
    "import pandas\n",
    "from sklearn import model_selection\n",
    "from sklearn.linear_model import LogisticRegression\n",
    "from sklearn.tree import DecisionTreeClassifier\n",
    "from sklearn.svm import SVC\n",
    "from sklearn.ensemble import VotingClassifier\n",
    "from sklearn.metrics import accuracy_score\n",
    "\n",
    "X = X_test\n",
    "Y = y_test\n",
    "seed = 22\n",
    "kfold = model_selection.KFold(n_splits=10, random_state=seed)\n",
    "# create the sub models\n",
    "estimators = []\n",
    "model1 = LogisticRegression()\n",
    "\n",
    "estimators.append(('logistic', model1))\n",
    "model2 = DecisionTreeClassifier()\n",
    "estimators.append(('cart', model2))\n",
    "model3 = SVC()\n",
    "estimators.append(('svm', model3))\n",
    "model4 = KNeighborsClassifier()\n",
    "estimators.append(('knn', model4))\n",
    "# create the ensemble model\n",
    "ensemble = VotingClassifier(estimators)\n",
    "results = model_selection.cross_val_score(ensemble, X, Y, cv=kfold)\n",
    "print(results.mean())"
   ]
  },
  {
   "cell_type": "code",
   "execution_count": 518,
   "metadata": {},
   "outputs": [
    {
     "name": "stdout",
     "output_type": "stream",
     "text": [
      "             precision    recall  f1-score   support\n",
      "\n",
      "        Yes       0.28      0.26      0.27       163\n",
      "         No       0.93      0.94      0.93      1736\n",
      "\n",
      "avg / total       0.88      0.88      0.88      1899\n",
      "\n"
     ]
    }
   ],
   "source": [
    "target_names = ['Yes', 'No']\n",
    "print(classification_report(y_test, y_pred, target_names=target_names))"
   ]
  },
  {
   "cell_type": "code",
   "execution_count": 151,
   "metadata": {},
   "outputs": [
    {
     "ename": "NameError",
     "evalue": "name 'P' is not defined",
     "output_type": "error",
     "traceback": [
      "\u001b[1;31m---------------------------------------------------------------------------\u001b[0m",
      "\u001b[1;31mNameError\u001b[0m                                 Traceback (most recent call last)",
      "\u001b[1;32m<ipython-input-151-c9c2201a8cab>\u001b[0m in \u001b[0;36m<module>\u001b[1;34m()\u001b[0m\n\u001b[0;32m     26\u001b[0m \u001b[1;33m\u001b[0m\u001b[0m\n\u001b[0;32m     27\u001b[0m \u001b[1;33m\u001b[0m\u001b[0m\n\u001b[1;32m---> 28\u001b[1;33m \u001b[0mplot_roc_curve\u001b[0m\u001b[1;33m(\u001b[0m\u001b[0my_test\u001b[0m\u001b[1;33m,\u001b[0m \u001b[0mP\u001b[0m\u001b[1;33m.\u001b[0m\u001b[0mvalues\u001b[0m\u001b[1;33m,\u001b[0m \u001b[0mP\u001b[0m\u001b[1;33m.\u001b[0m\u001b[0mmean\u001b[0m\u001b[1;33m(\u001b[0m\u001b[0maxis\u001b[0m\u001b[1;33m=\u001b[0m\u001b[1;36m1\u001b[0m\u001b[1;33m)\u001b[0m\u001b[1;33m,\u001b[0m \u001b[0mlist\u001b[0m\u001b[1;33m(\u001b[0m\u001b[0mP\u001b[0m\u001b[1;33m.\u001b[0m\u001b[0mcolumns\u001b[0m\u001b[1;33m)\u001b[0m\u001b[1;33m,\u001b[0m \u001b[1;34m\"ensemble\"\u001b[0m\u001b[1;33m)\u001b[0m\u001b[1;33m\u001b[0m\u001b[0m\n\u001b[0m",
      "\u001b[1;31mNameError\u001b[0m: name 'P' is not defined"
     ]
    }
   ],
   "source": [
    "# ROC curve for the learning representation of all models -\n",
    "\n",
    "from sklearn.metrics import roc_curve\n",
    "\n",
    "def plot_roc_curve(ytest, regressor, knn, model_svc, clf_DT):\n",
    "    \"\"\"Plot the roc curve for base learners and ensemble.\"\"\"\n",
    "    plt.figure(figsize=(10, 8))\n",
    "    plt.plot([0, 1], [0, 1], 'k--')\n",
    "    \n",
    "    cm = [plt.cm.rainbow(i)\n",
    "      for i in np.linspace(0, 1.0, regressor.shape[1] + 1)]\n",
    "    \n",
    "    for i in range(regressor.shape[1]):\n",
    "        p = regressor[:, i]\n",
    "        fpr, tpr, _ = roc_curve(ytest, p)\n",
    "        plt.plot(fpr, tpr, knn=knn[i], c=cm[i + 1])\n",
    "\n",
    "    fpr, tpr, _ = roc_curve(ytest, model_svc)\n",
    "    plt.plot(fpr, tpr, label=clf_DT, c=cm[0])\n",
    "        \n",
    "    plt.xlabel('False positive rate')\n",
    "    plt.ylabel('True positive rate')\n",
    "    plt.title('ROC curve')\n",
    "    plt.legend(frameon=False)\n",
    "    plt.show()\n",
    "\n",
    "\n",
    "plot_roc_curve(y_test, P.values, P.mean(axis=1), list(P.columns), \"ensemble\")"
   ]
  },
  {
   "cell_type": "code",
   "execution_count": null,
   "metadata": {},
   "outputs": [],
   "source": []
  }
 ],
 "metadata": {
  "kernelspec": {
   "display_name": "Python 3",
   "language": "python",
   "name": "python3"
  },
  "language_info": {
   "codemirror_mode": {
    "name": "ipython",
    "version": 3
   },
   "file_extension": ".py",
   "mimetype": "text/x-python",
   "name": "python",
   "nbconvert_exporter": "python",
   "pygments_lexer": "ipython3",
   "version": "3.6.4"
  }
 },
 "nbformat": 4,
 "nbformat_minor": 2
}
