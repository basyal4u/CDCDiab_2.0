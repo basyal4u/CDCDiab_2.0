{
 "cells": [
  {
   "cell_type": "markdown",
   "metadata": {},
   "source": [
    "#  Processing Questionnaire - Diabetes (DIQ) file"
   ]
  },
  {
   "cell_type": "code",
   "execution_count": 1,
   "metadata": {},
   "outputs": [],
   "source": [
    "import numpy as np\n",
    "import pandas as pd\n",
    "import glob \n",
    "import os\n",
    "import sys"
   ]
  },
  {
   "cell_type": "code",
   "execution_count": 2,
   "metadata": {},
   "outputs": [
    {
     "data": {
      "text/plain": [
       "'C:\\\\Users\\\\Ganga\\\\Desktop\\\\Research\\\\CDCDiab_2.0\\\\Code'"
      ]
     },
     "execution_count": 2,
     "metadata": {},
     "output_type": "execute_result"
    }
   ],
   "source": [
    "os.getcwd()"
   ]
  },
  {
   "cell_type": "code",
   "execution_count": 3,
   "metadata": {},
   "outputs": [
    {
     "name": "stdout",
     "output_type": "stream",
     "text": [
      "['C:\\\\Users\\\\Ganga\\\\Desktop\\\\Research\\\\CDCDiab_2.0\\\\Data\\\\07-08\\\\Quest\\\\ACQ_E.XPT', 'C:\\\\Users\\\\Ganga\\\\Desktop\\\\Research\\\\CDCDiab_2.0\\\\Data\\\\07-08\\\\Quest\\\\ALQ_E.XPT', 'C:\\\\Users\\\\Ganga\\\\Desktop\\\\Research\\\\CDCDiab_2.0\\\\Data\\\\07-08\\\\Quest\\\\AQQ_E.XPT', 'C:\\\\Users\\\\Ganga\\\\Desktop\\\\Research\\\\CDCDiab_2.0\\\\Data\\\\07-08\\\\Quest\\\\AUQ_E.XPT', 'C:\\\\Users\\\\Ganga\\\\Desktop\\\\Research\\\\CDCDiab_2.0\\\\Data\\\\07-08\\\\Quest\\\\BHQ_E.XPT', 'C:\\\\Users\\\\Ganga\\\\Desktop\\\\Research\\\\CDCDiab_2.0\\\\Data\\\\07-08\\\\Quest\\\\BPQ_E.XPT', 'C:\\\\Users\\\\Ganga\\\\Desktop\\\\Research\\\\CDCDiab_2.0\\\\Data\\\\07-08\\\\Quest\\\\CBQPFA_E.XPT', 'C:\\\\Users\\\\Ganga\\\\Desktop\\\\Research\\\\CDCDiab_2.0\\\\Data\\\\07-08\\\\Quest\\\\CBQPFC_E.XPT', 'C:\\\\Users\\\\Ganga\\\\Desktop\\\\Research\\\\CDCDiab_2.0\\\\Data\\\\07-08\\\\Quest\\\\CBQ_E.XPT', 'C:\\\\Users\\\\Ganga\\\\Desktop\\\\Research\\\\CDCDiab_2.0\\\\Data\\\\07-08\\\\Quest\\\\CDQ_E.XPT', 'C:\\\\Users\\\\Ganga\\\\Desktop\\\\Research\\\\CDCDiab_2.0\\\\Data\\\\07-08\\\\Quest\\\\DBQ_E.XPT', 'C:\\\\Users\\\\Ganga\\\\Desktop\\\\Research\\\\CDCDiab_2.0\\\\Data\\\\07-08\\\\Quest\\\\DIQ_E.XPT', 'C:\\\\Users\\\\Ganga\\\\Desktop\\\\Research\\\\CDCDiab_2.0\\\\Data\\\\07-08\\\\Quest\\\\DPQ_E.XPT', 'C:\\\\Users\\\\Ganga\\\\Desktop\\\\Research\\\\CDCDiab_2.0\\\\Data\\\\07-08\\\\Quest\\\\DUQ_E.XPT', 'C:\\\\Users\\\\Ganga\\\\Desktop\\\\Research\\\\CDCDiab_2.0\\\\Data\\\\07-08\\\\Quest\\\\ECQ_E.XPT', 'C:\\\\Users\\\\Ganga\\\\Desktop\\\\Research\\\\CDCDiab_2.0\\\\Data\\\\07-08\\\\Quest\\\\FSQ_E.XPT', 'C:\\\\Users\\\\Ganga\\\\Desktop\\\\Research\\\\CDCDiab_2.0\\\\Data\\\\07-08\\\\Quest\\\\HCQ_E.XPT', 'C:\\\\Users\\\\Ganga\\\\Desktop\\\\Research\\\\CDCDiab_2.0\\\\Data\\\\07-08\\\\Quest\\\\HIQ_E.XPT', 'C:\\\\Users\\\\Ganga\\\\Desktop\\\\Research\\\\CDCDiab_2.0\\\\Data\\\\07-08\\\\Quest\\\\HOQ_E.XPT', 'C:\\\\Users\\\\Ganga\\\\Desktop\\\\Research\\\\CDCDiab_2.0\\\\Data\\\\07-08\\\\Quest\\\\HSQ_E.XPT', 'C:\\\\Users\\\\Ganga\\\\Desktop\\\\Research\\\\CDCDiab_2.0\\\\Data\\\\07-08\\\\Quest\\\\HUQ_E.XPT', 'C:\\\\Users\\\\Ganga\\\\Desktop\\\\Research\\\\CDCDiab_2.0\\\\Data\\\\07-08\\\\Quest\\\\IMQ_E.XPT', 'C:\\\\Users\\\\Ganga\\\\Desktop\\\\Research\\\\CDCDiab_2.0\\\\Data\\\\07-08\\\\Quest\\\\INQ_E.XPT', 'C:\\\\Users\\\\Ganga\\\\Desktop\\\\Research\\\\CDCDiab_2.0\\\\Data\\\\07-08\\\\Quest\\\\KIQ_P_E.XPT', 'C:\\\\Users\\\\Ganga\\\\Desktop\\\\Research\\\\CDCDiab_2.0\\\\Data\\\\07-08\\\\Quest\\\\KIQ_U_E.XPT', 'C:\\\\Users\\\\Ganga\\\\Desktop\\\\Research\\\\CDCDiab_2.0\\\\Data\\\\07-08\\\\Quest\\\\MCQ_E.XPT', 'C:\\\\Users\\\\Ganga\\\\Desktop\\\\Research\\\\CDCDiab_2.0\\\\Data\\\\07-08\\\\Quest\\\\OCQ_E.XPT', 'C:\\\\Users\\\\Ganga\\\\Desktop\\\\Research\\\\CDCDiab_2.0\\\\Data\\\\07-08\\\\Quest\\\\OHQ_E.XPT', 'C:\\\\Users\\\\Ganga\\\\Desktop\\\\Research\\\\CDCDiab_2.0\\\\Data\\\\07-08\\\\Quest\\\\OSQ_E.XPT', 'C:\\\\Users\\\\Ganga\\\\Desktop\\\\Research\\\\CDCDiab_2.0\\\\Data\\\\07-08\\\\Quest\\\\PAQ_E.XPT', 'C:\\\\Users\\\\Ganga\\\\Desktop\\\\Research\\\\CDCDiab_2.0\\\\Data\\\\07-08\\\\Quest\\\\PFQ_E.XPT', 'C:\\\\Users\\\\Ganga\\\\Desktop\\\\Research\\\\CDCDiab_2.0\\\\Data\\\\07-08\\\\Quest\\\\PUQMEC_E.XPT', 'C:\\\\Users\\\\Ganga\\\\Desktop\\\\Research\\\\CDCDiab_2.0\\\\Data\\\\07-08\\\\Quest\\\\RDQ_E.XPT', 'C:\\\\Users\\\\Ganga\\\\Desktop\\\\Research\\\\CDCDiab_2.0\\\\Data\\\\07-08\\\\Quest\\\\RHQ_E.XPT', 'C:\\\\Users\\\\Ganga\\\\Desktop\\\\Research\\\\CDCDiab_2.0\\\\Data\\\\07-08\\\\Quest\\\\RXQ_RX_E.XPT', 'C:\\\\Users\\\\Ganga\\\\Desktop\\\\Research\\\\CDCDiab_2.0\\\\Data\\\\07-08\\\\Quest\\\\SLQ_E.XPT', 'C:\\\\Users\\\\Ganga\\\\Desktop\\\\Research\\\\CDCDiab_2.0\\\\Data\\\\07-08\\\\Quest\\\\SMQFAM_E.XPT', 'C:\\\\Users\\\\Ganga\\\\Desktop\\\\Research\\\\CDCDiab_2.0\\\\Data\\\\07-08\\\\Quest\\\\SMQRTU_E.XPT', 'C:\\\\Users\\\\Ganga\\\\Desktop\\\\Research\\\\CDCDiab_2.0\\\\Data\\\\07-08\\\\Quest\\\\SMQ_E.XPT', 'C:\\\\Users\\\\Ganga\\\\Desktop\\\\Research\\\\CDCDiab_2.0\\\\Data\\\\07-08\\\\Quest\\\\SSQ_E.XPT', 'C:\\\\Users\\\\Ganga\\\\Desktop\\\\Research\\\\CDCDiab_2.0\\\\Data\\\\07-08\\\\Quest\\\\SXQ_E.XPT', 'C:\\\\Users\\\\Ganga\\\\Desktop\\\\Research\\\\CDCDiab_2.0\\\\Data\\\\07-08\\\\Quest\\\\VIQ_E.XPT', 'C:\\\\Users\\\\Ganga\\\\Desktop\\\\Research\\\\CDCDiab_2.0\\\\Data\\\\07-08\\\\Quest\\\\WHQMEC_E.XPT', 'C:\\\\Users\\\\Ganga\\\\Desktop\\\\Research\\\\CDCDiab_2.0\\\\Data\\\\07-08\\\\Quest\\\\WHQ_E.XPT']\n"
     ]
    }
   ],
   "source": [
    "path = 'C:\\\\Users\\\\Ganga\\\\Desktop\\\\Research\\\\CDCDiab_2.0\\\\Data\\\\07-08\\\\Quest'\n",
    "allFiles = glob.glob(os.path.join(path,\"*.XPT\"))\n",
    "print(allFiles)"
   ]
  },
  {
   "cell_type": "code",
   "execution_count": 4,
   "metadata": {},
   "outputs": [
    {
     "data": {
      "text/plain": [
       "(9666, 35)"
      ]
     },
     "execution_count": 4,
     "metadata": {},
     "output_type": "execute_result"
    }
   ],
   "source": [
    "DIQ = pd.read_sas('C:\\\\Users\\\\Ganga\\\\Desktop\\\\Research\\\\CDCDiab_2.0\\\\Data\\\\07-08\\\\Quest\\\\DIQ_E.XPT', index='SEQN')\n",
    "DIQ.shape  "
   ]
  },
  {
   "cell_type": "markdown",
   "metadata": {},
   "source": [
    "# Processing Column of DIQ"
   ]
  },
  {
   "cell_type": "code",
   "execution_count": 5,
   "metadata": {},
   "outputs": [
    {
     "name": "stdout",
     "output_type": "stream",
     "text": [
      "DIQ_reading1 shape =  (9666,)\n",
      "SEQN\n",
      "41475.0    2.0\n",
      "41476.0    2.0\n",
      "41477.0    1.0\n",
      "41478.0    2.0\n",
      "41479.0    2.0\n",
      "Name: DIQ010, dtype: float64\n",
      "count    9666.000000\n",
      "mean        1.937099\n",
      "std         0.364736\n",
      "min         1.000000\n",
      "25%         2.000000\n",
      "50%         2.000000\n",
      "75%         2.000000\n",
      "max         9.000000\n",
      "Name: DIQ010, dtype: float64\n"
     ]
    }
   ],
   "source": [
    "# DIQ010 ever been told by a doctor or health professional that {you have/{he/she/SP} has} diabetes or sugar diabetes?\n",
    "DIQ_reading1 = DIQ['DIQ010']\n",
    "print('DIQ_reading1 shape = ', DIQ_reading1.shape)\n",
    "print(DIQ_reading1.head())\n",
    "print(DIQ_reading1.describe())"
   ]
  },
  {
   "cell_type": "code",
   "execution_count": 6,
   "metadata": {},
   "outputs": [
    {
     "name": "stdout",
     "output_type": "stream",
     "text": [
      "DIQ_reading2 shape =  (9666,)\n",
      "SEQN\n",
      "41475.0    2.0\n",
      "41476.0    2.0\n",
      "41477.0    2.0\n",
      "41478.0    2.0\n",
      "41479.0    2.0\n",
      "Name: DIQ050, dtype: float64\n",
      "count    9666.000000\n",
      "mean        1.977343\n",
      "std         0.148814\n",
      "min         1.000000\n",
      "25%         2.000000\n",
      "50%         2.000000\n",
      "75%         2.000000\n",
      "max         2.000000\n",
      "Name: DIQ050, dtype: float64\n"
     ]
    }
   ],
   "source": [
    "# DIQ050 - Taking insulin now\n",
    "DIQ_reading2 = DIQ['DIQ050']\n",
    "print('DIQ_reading2 shape = ', DIQ_reading2.shape)\n",
    "print(DIQ_reading2.head())\n",
    "print(DIQ_reading2.describe())"
   ]
  },
  {
   "cell_type": "code",
   "execution_count": 8,
   "metadata": {},
   "outputs": [
    {
     "name": "stdout",
     "output_type": "stream",
     "text": [
      "DIQ_reading3 shape =  (9666,)\n",
      "SEQN\n",
      "41475.0    NaN\n",
      "41476.0    NaN\n",
      "41477.0    1.0\n",
      "41478.0    NaN\n",
      "41479.0    NaN\n",
      "Name: DID070, dtype: float64\n",
      "count    1125.000000\n",
      "mean        1.477333\n",
      "std         0.670072\n",
      "min         1.000000\n",
      "25%         1.000000\n",
      "50%         1.000000\n",
      "75%         2.000000\n",
      "max         9.000000\n",
      "Name: DID070, dtype: float64\n"
     ]
    }
   ],
   "source": [
    "#DID070 - Take diabetic pills to lower blood sugar\n",
    "DIQ_reading3 = DIQ['DID070']\n",
    "print('DIQ_reading3 shape = ', DIQ_reading3.shape)\n",
    "print(DIQ_reading3.head())\n",
    "print(DIQ_reading3.describe())"
   ]
  },
  {
   "cell_type": "code",
   "execution_count": 13,
   "metadata": {},
   "outputs": [
    {
     "name": "stdout",
     "output_type": "stream",
     "text": [
      "DIQ_reading4 shape =  (9666,)\n",
      "SEQN\n",
      "41475.0    2.0\n",
      "41476.0    NaN\n",
      "41477.0    NaN\n",
      "41478.0    NaN\n",
      "41479.0    2.0\n",
      "Name: DIQ160, dtype: float64\n",
      "count    6305.000000\n",
      "mean        1.973830\n",
      "std         0.351005\n",
      "min         1.000000\n",
      "25%         2.000000\n",
      "50%         2.000000\n",
      "75%         2.000000\n",
      "max         9.000000\n",
      "Name: DIQ160, dtype: float64\n"
     ]
    }
   ],
   "source": [
    "# DIQ160 - Ever told you have prediabetes (ever been told by a doctor or other health professional that {you have/SP has} any \n",
    "# of the following: prediabetes, impaired fasting glucose, impaired glucose tolerance, borderline diabetes or that{your/her/his}\n",
    "# blood sugar is higher than normal but not high enough to be called diabetes or sugar diabetes?)\n",
    "DIQ_reading4 = DIQ['DIQ160']\n",
    "print('DIQ_reading4 shape = ', DIQ_reading4.shape)\n",
    "print(DIQ_reading4.head())\n",
    "print(DIQ_reading4.describe())"
   ]
  },
  {
   "cell_type": "code",
   "execution_count": 16,
   "metadata": {},
   "outputs": [
    {
     "name": "stdout",
     "output_type": "stream",
     "text": [
      "DIQ_reading5 shape =  (9666,)\n",
      "SEQN\n",
      "41475.0    1.0\n",
      "41476.0    NaN\n",
      "41477.0    NaN\n",
      "41478.0    NaN\n",
      "41479.0    2.0\n",
      "Name: DIQ170, dtype: float64\n",
      "count    6404.000000\n",
      "mean        1.900531\n",
      "std         0.460469\n",
      "min         1.000000\n",
      "25%         2.000000\n",
      "50%         2.000000\n",
      "75%         2.000000\n",
      "max         9.000000\n",
      "Name: DIQ170, dtype: float64\n"
     ]
    }
   ],
   "source": [
    "#DIQ170 - Ever told have health risk for diabetes\n",
    "DIQ_reading5 = DIQ['DIQ170']\n",
    "print('DIQ_reading5 shape = ', DIQ_reading5.shape)\n",
    "print(DIQ_reading5.head())\n",
    "print(DIQ_reading5.describe())"
   ]
  },
  {
   "cell_type": "code",
   "execution_count": 17,
   "metadata": {},
   "outputs": [
    {
     "name": "stdout",
     "output_type": "stream",
     "text": [
      "DIQ_reading1 missing values =   0 from  9666 observations\n",
      "DIQ_reading2 missing values =   0 from  9666 observations\n",
      "DIQ_reading3 missing values =   8541 from  9666 observations\n",
      "DIQ_reading4 missing values =   3361 from  9666 observations\n",
      "DIQ_reading5 missing values =   3262 from  9666 observations\n"
     ]
    }
   ],
   "source": [
    "print('DIQ_reading1 missing values =  ', DIQ_reading1.isnull().sum(), 'from ', DIQ_reading1.shape[0], 'observations')\n",
    "print('DIQ_reading2 missing values =  ', DIQ_reading2.isnull().sum(), 'from ', DIQ_reading2.shape[0], 'observations')\n",
    "print('DIQ_reading3 missing values =  ', DIQ_reading3.isnull().sum(), 'from ', DIQ_reading3.shape[0], 'observations')\n",
    "print('DIQ_reading4 missing values =  ', DIQ_reading4.isnull().sum(), 'from ', DIQ_reading4.shape[0], 'observations')\n",
    "print('DIQ_reading5 missing values =  ', DIQ_reading5.isnull().sum(), 'from ', DIQ_reading5.shape[0], 'observations')"
   ]
  },
  {
   "cell_type": "code",
   "execution_count": 18,
   "metadata": {},
   "outputs": [
    {
     "name": "stdout",
     "output_type": "stream",
     "text": [
      "All_DIQ shape =  (9666, 5)\n",
      "         DIQ010  DIQ050  DID070  DIQ160  DIQ170\n",
      "SEQN                                           \n",
      "41475.0     2.0     2.0     NaN     2.0     1.0\n",
      "41476.0     2.0     2.0     NaN     NaN     NaN\n",
      "41477.0     1.0     2.0     1.0     NaN     NaN\n",
      "41478.0     2.0     2.0     NaN     NaN     NaN\n",
      "41479.0     2.0     2.0     NaN     2.0     2.0\n"
     ]
    },
    {
     "data": {
      "text/html": [
       "<div>\n",
       "<style scoped>\n",
       "    .dataframe tbody tr th:only-of-type {\n",
       "        vertical-align: middle;\n",
       "    }\n",
       "\n",
       "    .dataframe tbody tr th {\n",
       "        vertical-align: top;\n",
       "    }\n",
       "\n",
       "    .dataframe thead th {\n",
       "        text-align: right;\n",
       "    }\n",
       "</style>\n",
       "<table border=\"1\" class=\"dataframe\">\n",
       "  <thead>\n",
       "    <tr style=\"text-align: right;\">\n",
       "      <th></th>\n",
       "      <th>DIQ010</th>\n",
       "      <th>DIQ050</th>\n",
       "      <th>DID070</th>\n",
       "      <th>DIQ160</th>\n",
       "      <th>DIQ170</th>\n",
       "    </tr>\n",
       "  </thead>\n",
       "  <tbody>\n",
       "    <tr>\n",
       "      <th>count</th>\n",
       "      <td>9666.000000</td>\n",
       "      <td>9666.000000</td>\n",
       "      <td>1125.000000</td>\n",
       "      <td>6305.000000</td>\n",
       "      <td>6404.000000</td>\n",
       "    </tr>\n",
       "    <tr>\n",
       "      <th>mean</th>\n",
       "      <td>1.937099</td>\n",
       "      <td>1.977343</td>\n",
       "      <td>1.477333</td>\n",
       "      <td>1.973830</td>\n",
       "      <td>1.900531</td>\n",
       "    </tr>\n",
       "    <tr>\n",
       "      <th>std</th>\n",
       "      <td>0.364736</td>\n",
       "      <td>0.148814</td>\n",
       "      <td>0.670072</td>\n",
       "      <td>0.351005</td>\n",
       "      <td>0.460469</td>\n",
       "    </tr>\n",
       "    <tr>\n",
       "      <th>min</th>\n",
       "      <td>1.000000</td>\n",
       "      <td>1.000000</td>\n",
       "      <td>1.000000</td>\n",
       "      <td>1.000000</td>\n",
       "      <td>1.000000</td>\n",
       "    </tr>\n",
       "    <tr>\n",
       "      <th>25%</th>\n",
       "      <td>2.000000</td>\n",
       "      <td>2.000000</td>\n",
       "      <td>1.000000</td>\n",
       "      <td>2.000000</td>\n",
       "      <td>2.000000</td>\n",
       "    </tr>\n",
       "    <tr>\n",
       "      <th>50%</th>\n",
       "      <td>2.000000</td>\n",
       "      <td>2.000000</td>\n",
       "      <td>1.000000</td>\n",
       "      <td>2.000000</td>\n",
       "      <td>2.000000</td>\n",
       "    </tr>\n",
       "    <tr>\n",
       "      <th>75%</th>\n",
       "      <td>2.000000</td>\n",
       "      <td>2.000000</td>\n",
       "      <td>2.000000</td>\n",
       "      <td>2.000000</td>\n",
       "      <td>2.000000</td>\n",
       "    </tr>\n",
       "    <tr>\n",
       "      <th>max</th>\n",
       "      <td>9.000000</td>\n",
       "      <td>2.000000</td>\n",
       "      <td>9.000000</td>\n",
       "      <td>9.000000</td>\n",
       "      <td>9.000000</td>\n",
       "    </tr>\n",
       "  </tbody>\n",
       "</table>\n",
       "</div>"
      ],
      "text/plain": [
       "            DIQ010       DIQ050       DID070       DIQ160       DIQ170\n",
       "count  9666.000000  9666.000000  1125.000000  6305.000000  6404.000000\n",
       "mean      1.937099     1.977343     1.477333     1.973830     1.900531\n",
       "std       0.364736     0.148814     0.670072     0.351005     0.460469\n",
       "min       1.000000     1.000000     1.000000     1.000000     1.000000\n",
       "25%       2.000000     2.000000     1.000000     2.000000     2.000000\n",
       "50%       2.000000     2.000000     1.000000     2.000000     2.000000\n",
       "75%       2.000000     2.000000     2.000000     2.000000     2.000000\n",
       "max       9.000000     2.000000     9.000000     9.000000     9.000000"
      ]
     },
     "execution_count": 18,
     "metadata": {},
     "output_type": "execute_result"
    }
   ],
   "source": [
    "All_DIQ = pd.concat([DIQ_reading1,DIQ_reading2,DIQ_reading3,DIQ_reading4,DIQ_reading5],axis=1)\n",
    "print('All_DIQ shape = ', All_DIQ.shape)\n",
    "print(All_DIQ.head())\n",
    "All_DIQ.describe()"
   ]
  },
  {
   "cell_type": "code",
   "execution_count": 15,
   "metadata": {},
   "outputs": [],
   "source": [
    "All_DIQ.to_csv('all_DIQ.csv')"
   ]
  },
  {
   "cell_type": "code",
   "execution_count": null,
   "metadata": {},
   "outputs": [],
   "source": []
  }
 ],
 "metadata": {
  "kernelspec": {
   "display_name": "Python 3",
   "language": "python",
   "name": "python3"
  },
  "language_info": {
   "codemirror_mode": {
    "name": "ipython",
    "version": 3
   },
   "file_extension": ".py",
   "mimetype": "text/x-python",
   "name": "python",
   "nbconvert_exporter": "python",
   "pygments_lexer": "ipython3",
   "version": "3.6.4"
  }
 },
 "nbformat": 4,
 "nbformat_minor": 2
}
