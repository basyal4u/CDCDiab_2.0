{
 "cells": [
  {
   "cell_type": "markdown",
   "metadata": {},
   "source": [
    "# 13-14 Merging the data set\n",
    "\n",
    "### We have acquired the dataset from NAHNES under CDC.gov website. This is an open data repository. We had downloaded the data into 5 part- 1) Demographic, 2) Diatery, 3) Laboratory, 4) Examination, 5) Questionair. All the data is merged into one single file. \n"
   ]
  },
  {
   "cell_type": "code",
   "execution_count": 16,
   "metadata": {},
   "outputs": [],
   "source": [
    "import numpy as np\n",
    "import pandas as pd\n",
    "import matplotlib.pyplot as plt\n",
    "import glob \n",
    "import os\n",
    "import sys"
   ]
  },
  {
   "cell_type": "code",
   "execution_count": 17,
   "metadata": {},
   "outputs": [
    {
     "data": {
      "text/plain": [
       "'C:\\\\Users\\\\Ganga\\\\Desktop\\\\Research\\\\CDCDiab1\\\\13-14'"
      ]
     },
     "execution_count": 17,
     "metadata": {},
     "output_type": "execute_result"
    }
   ],
   "source": [
    "os.getcwd()"
   ]
  },
  {
   "cell_type": "code",
   "execution_count": 29,
   "metadata": {},
   "outputs": [
    {
     "name": "stdout",
     "output_type": "stream",
     "text": [
      "C:\\Users\\Ganga\\Desktop\\Research\\CDCDiab1\\13-14\\All\\ACQ_H.XPT\n",
      "C:\\Users\\Ganga\\Desktop\\Research\\CDCDiab1\\13-14\\All\\ALB_CR_H.XPT\n",
      "C:\\Users\\Ganga\\Desktop\\Research\\CDCDiab1\\13-14\\All\\ALQ_H.XPT\n",
      "C:\\Users\\Ganga\\Desktop\\Research\\CDCDiab1\\13-14\\All\\APOB_H.XPT\n",
      "C:\\Users\\Ganga\\Desktop\\Research\\CDCDiab1\\13-14\\All\\BIOPRO_H.XPT\n",
      "C:\\Users\\Ganga\\Desktop\\Research\\CDCDiab1\\13-14\\All\\BMX_H.XPT\n",
      "C:\\Users\\Ganga\\Desktop\\Research\\CDCDiab1\\13-14\\All\\BPQ_H.XPT\n",
      "C:\\Users\\Ganga\\Desktop\\Research\\CDCDiab1\\13-14\\All\\BPX_H.XPT\n",
      "C:\\Users\\Ganga\\Desktop\\Research\\CDCDiab1\\13-14\\All\\CBC_H.XPT\n",
      "C:\\Users\\Ganga\\Desktop\\Research\\CDCDiab1\\13-14\\All\\CBQ_H.XPT\n",
      "C:\\Users\\Ganga\\Desktop\\Research\\CDCDiab1\\13-14\\All\\CDQ_H.XPT\n",
      "C:\\Users\\Ganga\\Desktop\\Research\\CDCDiab1\\13-14\\All\\CFQ_H.XPT\n",
      "C:\\Users\\Ganga\\Desktop\\Research\\CDCDiab1\\13-14\\All\\CHLMDA_H.XPT\n",
      "C:\\Users\\Ganga\\Desktop\\Research\\CDCDiab1\\13-14\\All\\CKQ_H.XPT\n",
      "C:\\Users\\Ganga\\Desktop\\Research\\CDCDiab1\\13-14\\All\\COT_H.XPT\n",
      "C:\\Users\\Ganga\\Desktop\\Research\\CDCDiab1\\13-14\\All\\CSQ_H.XPT\n",
      "C:\\Users\\Ganga\\Desktop\\Research\\CDCDiab1\\13-14\\All\\CSX_H.XPT\n",
      "C:\\Users\\Ganga\\Desktop\\Research\\CDCDiab1\\13-14\\All\\CUSEZN_H.XPT\n",
      "C:\\Users\\Ganga\\Desktop\\Research\\CDCDiab1\\13-14\\All\\DBQ_H.XPT\n",
      "C:\\Users\\Ganga\\Desktop\\Research\\CDCDiab1\\13-14\\All\\DEET_H.XPT\n",
      "C:\\Users\\Ganga\\Desktop\\Research\\CDCDiab1\\13-14\\All\\DEMO_H.XPT\n",
      "C:\\Users\\Ganga\\Desktop\\Research\\CDCDiab1\\13-14\\All\\DEQ_H.XPT\n",
      "C:\\Users\\Ganga\\Desktop\\Research\\CDCDiab1\\13-14\\All\\DIQ_H.XPT\n",
      "C:\\Users\\Ganga\\Desktop\\Research\\CDCDiab1\\13-14\\All\\DLQ_H.XPT\n",
      "C:\\Users\\Ganga\\Desktop\\Research\\CDCDiab1\\13-14\\All\\DPQ_H.XPT\n",
      "C:\\Users\\Ganga\\Desktop\\Research\\CDCDiab1\\13-14\\All\\DR1IFF_H.XPT\n",
      "C:\\Users\\Ganga\\Desktop\\Research\\CDCDiab1\\13-14\\All\\DR1TOT_H.XPT\n",
      "C:\\Users\\Ganga\\Desktop\\Research\\CDCDiab1\\13-14\\All\\DR2IFF_H.XPT\n",
      "C:\\Users\\Ganga\\Desktop\\Research\\CDCDiab1\\13-14\\All\\DR2TOT_H.XPT\n",
      "C:\\Users\\Ganga\\Desktop\\Research\\CDCDiab1\\13-14\\All\\DS1IDS_H.XPT\n",
      "C:\\Users\\Ganga\\Desktop\\Research\\CDCDiab1\\13-14\\All\\DS1TOT_H.XPT\n",
      "C:\\Users\\Ganga\\Desktop\\Research\\CDCDiab1\\13-14\\All\\DS2IDS_H.XPT\n",
      "C:\\Users\\Ganga\\Desktop\\Research\\CDCDiab1\\13-14\\All\\DS2TOT_H.XPT\n",
      "C:\\Users\\Ganga\\Desktop\\Research\\CDCDiab1\\13-14\\All\\DSQIDS_H.XPT\n",
      "C:\\Users\\Ganga\\Desktop\\Research\\CDCDiab1\\13-14\\All\\DSQTOT_H.XPT\n",
      "C:\\Users\\Ganga\\Desktop\\Research\\CDCDiab1\\13-14\\All\\DUQ_H.XPT\n",
      "C:\\Users\\Ganga\\Desktop\\Research\\CDCDiab1\\13-14\\All\\DXXFEM_H.XPT\n",
      "C:\\Users\\Ganga\\Desktop\\Research\\CDCDiab1\\13-14\\All\\DXXFRX_H.XPT\n",
      "C:\\Users\\Ganga\\Desktop\\Research\\CDCDiab1\\13-14\\All\\DXXSPN_H.XPT\n",
      "C:\\Users\\Ganga\\Desktop\\Research\\CDCDiab1\\13-14\\All\\DXXVFA_H.XPT\n",
      "C:\\Users\\Ganga\\Desktop\\Research\\CDCDiab1\\13-14\\All\\ECQ_H.XPT\n",
      "C:\\Users\\Ganga\\Desktop\\Research\\CDCDiab1\\13-14\\All\\EPHPP_H.XPT\n",
      "C:\\Users\\Ganga\\Desktop\\Research\\CDCDiab1\\13-14\\All\\FASTQX_H.XPT\n",
      "C:\\Users\\Ganga\\Desktop\\Research\\CDCDiab1\\13-14\\All\\FLDEP_H.XPT\n",
      "C:\\Users\\Ganga\\Desktop\\Research\\CDCDiab1\\13-14\\All\\FLDEW_H.XPT\n",
      "C:\\Users\\Ganga\\Desktop\\Research\\CDCDiab1\\13-14\\All\\FSQ_H.XPT\n",
      "C:\\Users\\Ganga\\Desktop\\Research\\CDCDiab1\\13-14\\All\\GHB_H.XPT\n",
      "C:\\Users\\Ganga\\Desktop\\Research\\CDCDiab1\\13-14\\All\\GLU_H.XPT\n",
      "C:\\Users\\Ganga\\Desktop\\Research\\CDCDiab1\\13-14\\All\\HCAAS_H.XPT\n",
      "C:\\Users\\Ganga\\Desktop\\Research\\CDCDiab1\\13-14\\All\\HCAA_H.XPT\n",
      "C:\\Users\\Ganga\\Desktop\\Research\\CDCDiab1\\13-14\\All\\HDL_H.XPT\n",
      "C:\\Users\\Ganga\\Desktop\\Research\\CDCDiab1\\13-14\\All\\HEPA_H.XPT\n",
      "C:\\Users\\Ganga\\Desktop\\Research\\CDCDiab1\\13-14\\All\\HEPBD_H.XPT\n",
      "C:\\Users\\Ganga\\Desktop\\Research\\CDCDiab1\\13-14\\All\\HEPB_S_H.XPT\n",
      "C:\\Users\\Ganga\\Desktop\\Research\\CDCDiab1\\13-14\\All\\HEPC_H.XPT\n",
      "C:\\Users\\Ganga\\Desktop\\Research\\CDCDiab1\\13-14\\All\\HEPE_H.XPT\n",
      "C:\\Users\\Ganga\\Desktop\\Research\\CDCDiab1\\13-14\\All\\HEQ_H.XPT\n",
      "C:\\Users\\Ganga\\Desktop\\Research\\CDCDiab1\\13-14\\All\\HIQ_H.XPT\n",
      "C:\\Users\\Ganga\\Desktop\\Research\\CDCDiab1\\13-14\\All\\HIV_H.XPT\n",
      "C:\\Users\\Ganga\\Desktop\\Research\\CDCDiab1\\13-14\\All\\HOQ_H.XPT\n",
      "C:\\Users\\Ganga\\Desktop\\Research\\CDCDiab1\\13-14\\All\\HPVP_H.XPT\n",
      "C:\\Users\\Ganga\\Desktop\\Research\\CDCDiab1\\13-14\\All\\HPVSWR_H.XPT\n",
      "C:\\Users\\Ganga\\Desktop\\Research\\CDCDiab1\\13-14\\All\\HSQ_H.XPT\n",
      "C:\\Users\\Ganga\\Desktop\\Research\\CDCDiab1\\13-14\\All\\HSV_H.XPT\n",
      "C:\\Users\\Ganga\\Desktop\\Research\\CDCDiab1\\13-14\\All\\HUQ_H.XPT\n",
      "C:\\Users\\Ganga\\Desktop\\Research\\CDCDiab1\\13-14\\All\\IHGEM_H.XPT\n",
      "C:\\Users\\Ganga\\Desktop\\Research\\CDCDiab1\\13-14\\All\\IMQ_H.XPT\n",
      "C:\\Users\\Ganga\\Desktop\\Research\\CDCDiab1\\13-14\\All\\INQ_H.XPT\n",
      "C:\\Users\\Ganga\\Desktop\\Research\\CDCDiab1\\13-14\\All\\INS_H.XPT\n",
      "C:\\Users\\Ganga\\Desktop\\Research\\CDCDiab1\\13-14\\All\\KIQ_U_H.XPT\n",
      "C:\\Users\\Ganga\\Desktop\\Research\\CDCDiab1\\13-14\\All\\MCQ_H.XPT\n",
      "C:\\Users\\Ganga\\Desktop\\Research\\CDCDiab1\\13-14\\All\\MGX_H.XPT\n",
      "C:\\Users\\Ganga\\Desktop\\Research\\CDCDiab1\\13-14\\All\\OCQ_H.XPT\n",
      "C:\\Users\\Ganga\\Desktop\\Research\\CDCDiab1\\13-14\\All\\OGTT_H.XPT\n",
      "C:\\Users\\Ganga\\Desktop\\Research\\CDCDiab1\\13-14\\All\\OHQ_H.XPT\n",
      "C:\\Users\\Ganga\\Desktop\\Research\\CDCDiab1\\13-14\\All\\OHXDEN_H.XPT\n",
      "C:\\Users\\Ganga\\Desktop\\Research\\CDCDiab1\\13-14\\All\\OHXPER_H.XPT\n",
      "C:\\Users\\Ganga\\Desktop\\Research\\CDCDiab1\\13-14\\All\\OHXREF_H.XPT\n",
      "C:\\Users\\Ganga\\Desktop\\Research\\CDCDiab1\\13-14\\All\\ORHPV_H.XPT\n",
      "C:\\Users\\Ganga\\Desktop\\Research\\CDCDiab1\\13-14\\All\\OSQ_H.XPT\n",
      "C:\\Users\\Ganga\\Desktop\\Research\\CDCDiab1\\13-14\\All\\PAH_H.XPT\n",
      "C:\\Users\\Ganga\\Desktop\\Research\\CDCDiab1\\13-14\\All\\PAQ_H.XPT\n",
      "C:\\Users\\Ganga\\Desktop\\Research\\CDCDiab1\\13-14\\All\\PBCD_H.XPT\n",
      "C:\\Users\\Ganga\\Desktop\\Research\\CDCDiab1\\13-14\\All\\PERNTS_H.XPT\n",
      "C:\\Users\\Ganga\\Desktop\\Research\\CDCDiab1\\13-14\\All\\PERNT_H.XPT\n",
      "C:\\Users\\Ganga\\Desktop\\Research\\CDCDiab1\\13-14\\All\\PFAS_H.XPT\n",
      "C:\\Users\\Ganga\\Desktop\\Research\\CDCDiab1\\13-14\\All\\PFQ_H.XPT\n",
      "C:\\Users\\Ganga\\Desktop\\Research\\CDCDiab1\\13-14\\All\\PHTHTE_H.XPT\n",
      "C:\\Users\\Ganga\\Desktop\\Research\\CDCDiab1\\13-14\\All\\POOLTF_H.XPT\n",
      "C:\\Users\\Ganga\\Desktop\\Research\\CDCDiab1\\13-14\\All\\PUQMEC_H.XPT\n",
      "C:\\Users\\Ganga\\Desktop\\Research\\CDCDiab1\\13-14\\All\\RHQ_H.XPT\n",
      "C:\\Users\\Ganga\\Desktop\\Research\\CDCDiab1\\13-14\\All\\RXQASA_H.XPT\n",
      "C:\\Users\\Ganga\\Desktop\\Research\\CDCDiab1\\13-14\\All\\RXQ_RX_H.XPT\n",
      "C:\\Users\\Ganga\\Desktop\\Research\\CDCDiab1\\13-14\\All\\SLQ_H.XPT\n",
      "C:\\Users\\Ganga\\Desktop\\Research\\CDCDiab1\\13-14\\All\\SMQFAM_H.XPT\n",
      "C:\\Users\\Ganga\\Desktop\\Research\\CDCDiab1\\13-14\\All\\SMQRTU_H.XPT\n",
      "C:\\Users\\Ganga\\Desktop\\Research\\CDCDiab1\\13-14\\All\\SMQSHS_H.XPT\n",
      "C:\\Users\\Ganga\\Desktop\\Research\\CDCDiab1\\13-14\\All\\SMQ_H.XPT\n",
      "C:\\Users\\Ganga\\Desktop\\Research\\CDCDiab1\\13-14\\All\\SSFLRT_H.XPT\n",
      "C:\\Users\\Ganga\\Desktop\\Research\\CDCDiab1\\13-14\\All\\SSHEPC_H.XPT\n",
      "C:\\Users\\Ganga\\Desktop\\Research\\CDCDiab1\\13-14\\All\\SSPFAC_H.XPT\n",
      "C:\\Users\\Ganga\\Desktop\\Research\\CDCDiab1\\13-14\\All\\SSPFAS_H.XPT\n",
      "C:\\Users\\Ganga\\Desktop\\Research\\CDCDiab1\\13-14\\All\\SSPHTE_H.XPT\n",
      "C:\\Users\\Ganga\\Desktop\\Research\\CDCDiab1\\13-14\\All\\SSTOCA_H.XPT\n",
      "C:\\Users\\Ganga\\Desktop\\Research\\CDCDiab1\\13-14\\All\\SSTOXO_H.XPT\n",
      "C:\\Users\\Ganga\\Desktop\\Research\\CDCDiab1\\13-14\\All\\SXQ_H.XPT\n",
      "C:\\Users\\Ganga\\Desktop\\Research\\CDCDiab1\\13-14\\All\\TCHOL_H.XPT\n",
      "C:\\Users\\Ganga\\Desktop\\Research\\CDCDiab1\\13-14\\All\\TGEMA_H.XPT\n",
      "C:\\Users\\Ganga\\Desktop\\Research\\CDCDiab1\\13-14\\All\\TRICH_H.XPT\n",
      "C:\\Users\\Ganga\\Desktop\\Research\\CDCDiab1\\13-14\\All\\TRIGLY_H.XPT\n",
      "C:\\Users\\Ganga\\Desktop\\Research\\CDCDiab1\\13-14\\All\\UASS_H.XPT\n",
      "C:\\Users\\Ganga\\Desktop\\Research\\CDCDiab1\\13-14\\All\\UAS_H.XPT\n",
      "C:\\Users\\Ganga\\Desktop\\Research\\CDCDiab1\\13-14\\All\\UCFLOW_H.XPT\n",
      "C:\\Users\\Ganga\\Desktop\\Research\\CDCDiab1\\13-14\\All\\UCPREG_H.XPT\n",
      "C:\\Users\\Ganga\\Desktop\\Research\\CDCDiab1\\13-14\\All\\UHG_H.XPT\n",
      "C:\\Users\\Ganga\\Desktop\\Research\\CDCDiab1\\13-14\\All\\UIO_H.XPT\n",
      "C:\\Users\\Ganga\\Desktop\\Research\\CDCDiab1\\13-14\\All\\UMS_H.XPT\n",
      "C:\\Users\\Ganga\\Desktop\\Research\\CDCDiab1\\13-14\\All\\UM_H.XPT\n",
      "C:\\Users\\Ganga\\Desktop\\Research\\CDCDiab1\\13-14\\All\\UTASS_H.XPT\n",
      "C:\\Users\\Ganga\\Desktop\\Research\\CDCDiab1\\13-14\\All\\UTAS_H.XPT\n",
      "C:\\Users\\Ganga\\Desktop\\Research\\CDCDiab1\\13-14\\All\\UVOCS_H.XPT\n",
      "C:\\Users\\Ganga\\Desktop\\Research\\CDCDiab1\\13-14\\All\\UVOC_H.XPT\n",
      "C:\\Users\\Ganga\\Desktop\\Research\\CDCDiab1\\13-14\\All\\VID_H.XPT\n",
      "C:\\Users\\Ganga\\Desktop\\Research\\CDCDiab1\\13-14\\All\\VITB12_H.XPT\n",
      "C:\\Users\\Ganga\\Desktop\\Research\\CDCDiab1\\13-14\\All\\VOCWBS_H.XPT\n",
      "C:\\Users\\Ganga\\Desktop\\Research\\CDCDiab1\\13-14\\All\\VOCWB_H.XPT\n",
      "C:\\Users\\Ganga\\Desktop\\Research\\CDCDiab1\\13-14\\All\\VTQ_H.XPT\n",
      "C:\\Users\\Ganga\\Desktop\\Research\\CDCDiab1\\13-14\\All\\WHQMEC_H.XPT\n",
      "C:\\Users\\Ganga\\Desktop\\Research\\CDCDiab1\\13-14\\All\\WHQ_H.XPT\n"
     ]
    }
   ],
   "source": [
    "path = 'C:\\\\Users\\\\Ganga\\\\Desktop\\\\Research\\\\CDCDiab1\\\\13-14\\\\All'\n",
    "allFiles = glob.glob(os.path.join(path,\"*.xpt\"))\n",
    "\n",
    "data = np.array([np.arange(73557,83733)]).T\n",
    "All =pd.DataFrame(data, index = range(73556,83732),columns=['SEQN'])\n",
    "\n",
    "for infile in allFiles:\n",
    "    print(infile)\n",
    "    df = pd.read_sas(infile)\n",
    "    df['SEQN']=df['SEQN'].astype(int)\n",
    "    All = All.merge(df.drop_duplicates(subset=['SEQN']),on='SEQN', how='left')"
   ]
  },
  {
   "cell_type": "code",
   "execution_count": 30,
   "metadata": {},
   "outputs": [
    {
     "data": {
      "text/plain": [
       "(10176, 3540)"
      ]
     },
     "execution_count": 30,
     "metadata": {},
     "output_type": "execute_result"
    }
   ],
   "source": [
    "All.shape"
   ]
  },
  {
   "cell_type": "code",
   "execution_count": 26,
   "metadata": {},
   "outputs": [
    {
     "data": {
      "text/plain": [
       "SEQN              0\n",
       "ACD011A       39241\n",
       "ACD011B       44984\n",
       "ACD011C       44829\n",
       "ACD040        42626\n",
       "ACD110        43993\n",
       "URXUMA        36948\n",
       "URXUMS        36948\n",
       "URXUCR_x      36948\n",
       "URXCRS        36948\n",
       "URDACT        36948\n",
       "ALQ101        39579\n",
       "ALQ110        43369\n",
       "ALQ120Q       40521\n",
       "ALQ120U       41407\n",
       "ALQ130        41404\n",
       "ALQ141Q       41405\n",
       "ALQ141U       43536\n",
       "ALQ151        40523\n",
       "ALQ160        43134\n",
       "WTSAF2YR_x    41671\n",
       "LBXAPB        41855\n",
       "LBDAPBSI      41855\n",
       "LBXSAL        38447\n",
       "LBDSALSI      38447\n",
       "LBXSAPSI      38448\n",
       "LBXSASSI      38449\n",
       "LBXSATSI      38449\n",
       "LBXSBU        38447\n",
       "LBDSBUSI      38447\n",
       "              ...  \n",
       "WHQ040        38536\n",
       "WHD050        38578\n",
       "WHQ060        43761\n",
       "WHQ070        39326\n",
       "WHD080A       43307\n",
       "WHD080B       44117\n",
       "WHD080C       44198\n",
       "WHD080D       43170\n",
       "WHD080E       44601\n",
       "WHD080F       44767\n",
       "WHD080G       44885\n",
       "WHD080H       44886\n",
       "WHD080I       44916\n",
       "WHD080J       44800\n",
       "WHD080K       44974\n",
       "WHD080M       43967\n",
       "WHD080N       44825\n",
       "WHD080O       44311\n",
       "WHD080P       44981\n",
       "WHD080Q       43879\n",
       "WHD080R       43978\n",
       "WHD080S       44057\n",
       "WHD080T       44004\n",
       "WHD080U       44985\n",
       "WHD080L       44971\n",
       "WHD110        40821\n",
       "WHD120        39976\n",
       "WHD130        42235\n",
       "WHD140        38897\n",
       "WHQ150        38980\n",
       "Length: 3540, dtype: int64"
      ]
     },
     "execution_count": 26,
     "metadata": {},
     "output_type": "execute_result"
    }
   ],
   "source": [
    "All.isnull().sum()"
   ]
  },
  {
   "cell_type": "code",
   "execution_count": 31,
   "metadata": {},
   "outputs": [],
   "source": [
    "All.to_csv('All13-14.csv')"
   ]
  },
  {
   "cell_type": "code",
   "execution_count": null,
   "metadata": {},
   "outputs": [],
   "source": []
  }
 ],
 "metadata": {
  "kernelspec": {
   "display_name": "Python 3",
   "language": "python",
   "name": "python3"
  },
  "language_info": {
   "codemirror_mode": {
    "name": "ipython",
    "version": 3
   },
   "file_extension": ".py",
   "mimetype": "text/x-python",
   "name": "python",
   "nbconvert_exporter": "python",
   "pygments_lexer": "ipython3",
   "version": "3.6.4"
  }
 },
 "nbformat": 4,
 "nbformat_minor": 2
}
