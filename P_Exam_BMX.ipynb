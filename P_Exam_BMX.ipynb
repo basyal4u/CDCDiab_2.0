{
 "cells": [
  {
   "cell_type": "markdown",
   "metadata": {},
   "source": [
    "# Processing Examination - Body Mass Index file (BMX)"
   ]
  },
  {
   "cell_type": "code",
   "execution_count": 2,
   "metadata": {},
   "outputs": [],
   "source": [
    "import numpy as np\n",
    "import pandas as pd\n",
    "import glob \n",
    "import os\n",
    "import sys"
   ]
  },
  {
   "cell_type": "code",
   "execution_count": 3,
   "metadata": {},
   "outputs": [
    {
     "data": {
      "text/plain": [
       "'C:\\\\Users\\\\Ganga\\\\Desktop\\\\Research\\\\CDCDiab_2.0\\\\Code'"
      ]
     },
     "execution_count": 3,
     "metadata": {},
     "output_type": "execute_result"
    }
   ],
   "source": [
    "os.getcwd()"
   ]
  },
  {
   "cell_type": "code",
   "execution_count": 4,
   "metadata": {},
   "outputs": [
    {
     "name": "stdout",
     "output_type": "stream",
     "text": [
      "['C:\\\\Users\\\\Ganga\\\\Desktop\\\\Research\\\\CDCDiab_2.0\\\\Data\\\\07-08\\\\Examination\\\\AUXAR_E.XPT', 'C:\\\\Users\\\\Ganga\\\\Desktop\\\\Research\\\\CDCDiab_2.0\\\\Data\\\\07-08\\\\Examination\\\\AUXTYM_E.XPT', 'C:\\\\Users\\\\Ganga\\\\Desktop\\\\Research\\\\CDCDiab_2.0\\\\Data\\\\07-08\\\\Examination\\\\AUX_E.XPT', 'C:\\\\Users\\\\Ganga\\\\Desktop\\\\Research\\\\CDCDiab_2.0\\\\Data\\\\07-08\\\\Examination\\\\BMX_E.XPT', 'C:\\\\Users\\\\Ganga\\\\Desktop\\\\Research\\\\CDCDiab_2.0\\\\Data\\\\07-08\\\\Examination\\\\BPX_E.XPT', 'C:\\\\Users\\\\Ganga\\\\Desktop\\\\Research\\\\CDCDiab_2.0\\\\Data\\\\07-08\\\\Examination\\\\DXXFEM_E.XPT', 'C:\\\\Users\\\\Ganga\\\\Desktop\\\\Research\\\\CDCDiab_2.0\\\\Data\\\\07-08\\\\Examination\\\\DXXSPN_E.XPT', 'C:\\\\Users\\\\Ganga\\\\Desktop\\\\Research\\\\CDCDiab_2.0\\\\Data\\\\07-08\\\\Examination\\\\ENX_E.XPT', 'C:\\\\Users\\\\Ganga\\\\Desktop\\\\Research\\\\CDCDiab_2.0\\\\Data\\\\07-08\\\\Examination\\\\OHX_E.XPT', 'C:\\\\Users\\\\Ganga\\\\Desktop\\\\Research\\\\CDCDiab_2.0\\\\Data\\\\07-08\\\\Examination\\\\OPXFDT_E.XPT', 'C:\\\\Users\\\\Ganga\\\\Desktop\\\\Research\\\\CDCDiab_2.0\\\\Data\\\\07-08\\\\Examination\\\\OPXRET_E.XPT', 'C:\\\\Users\\\\Ganga\\\\Desktop\\\\Research\\\\CDCDiab_2.0\\\\Data\\\\07-08\\\\Examination\\\\SPX_E.XPT', 'C:\\\\Users\\\\Ganga\\\\Desktop\\\\Research\\\\CDCDiab_2.0\\\\Data\\\\07-08\\\\Examination\\\\VIX_E.XPT']\n"
     ]
    }
   ],
   "source": [
    "path = 'C:\\\\Users\\\\Ganga\\\\Desktop\\\\Research\\\\CDCDiab_2.0\\\\Data\\\\07-08\\\\Examination'\n",
    "allFiles = glob.glob(os.path.join(path,\"*.XPT\"))\n",
    "print(allFiles)"
   ]
  },
  {
   "cell_type": "code",
   "execution_count": 5,
   "metadata": {},
   "outputs": [
    {
     "data": {
      "text/plain": [
       "(9762, 22)"
      ]
     },
     "execution_count": 5,
     "metadata": {},
     "output_type": "execute_result"
    }
   ],
   "source": [
    "BMX = pd.read_sas('C:\\\\Users\\\\Ganga\\\\Desktop\\\\Research\\\\CDCDiab_2.0\\\\Data\\\\07-08\\\\Examination\\\\BMX_E.XPT', index='SEQN')\n",
    "BMX.shape"
   ]
  },
  {
   "cell_type": "code",
   "execution_count": 7,
   "metadata": {},
   "outputs": [
    {
     "name": "stdout",
     "output_type": "stream",
     "text": [
      "['BMDSTATS', 'BMIARMC', 'BMIARML', 'BMIHEAD', 'BMIHT', 'BMILEG', 'BMIRECUM', 'BMISUB', 'BMITRI', 'BMIWAIST', 'BMIWT', 'BMXARMC', 'BMXARML', 'BMXBMI', 'BMXHEAD', 'BMXHT', 'BMXLEG', 'BMXRECUM', 'BMXSUB', 'BMXTRI', 'BMXWAIST', 'BMXWT']\n"
     ]
    }
   ],
   "source": [
    "A = set(BMX.columns)\n",
    "print(sorted(A))"
   ]
  },
  {
   "cell_type": "markdown",
   "metadata": {},
   "source": [
    "# Processing Column of BMX\n",
    "## BMXHT is standing hieght\n",
    "## BMXBMI is Body mass index(KG/m**2)"
   ]
  },
  {
   "cell_type": "code",
   "execution_count": 16,
   "metadata": {},
   "outputs": [
    {
     "name": "stdout",
     "output_type": "stream",
     "text": [
      "BMX_reading1 shape =  (9762,)\n",
      "SEQN\n",
      "41475.0    154.7\n",
      "41476.0    120.4\n",
      "41477.0    167.1\n",
      "41478.0      NaN\n",
      "41479.0    154.4\n",
      "Name: BMXHT, dtype: float64\n",
      "count    8873.000000\n",
      "mean      156.086882\n",
      "std        23.530941\n",
      "min        81.500000\n",
      "25%       150.300000\n",
      "50%       162.400000\n",
      "75%       171.700000\n",
      "max       203.800000\n",
      "Name: BMXHT, dtype: float64\n",
      "Null Value in BMXHT is=  889 from  9762 observations\n"
     ]
    }
   ],
   "source": [
    "BMX_reading1 = BMX['BMXHT']\n",
    "print('BMX_reading1 shape = ', BMX_reading1.shape)\n",
    "print(BMX_reading1.head())\n",
    "print(BMX_reading1.describe())\n",
    "print('Null Value in BMXHT is= ',BMX_reading1.isnull().sum(),'from ', BMX_reading1.shape[0], 'observations')"
   ]
  },
  {
   "cell_type": "code",
   "execution_count": 17,
   "metadata": {},
   "outputs": [
    {
     "name": "stdout",
     "output_type": "stream",
     "text": [
      "BMX_reading2 shape =  (9762,)\n",
      "SEQN\n",
      "41475.0    58.04\n",
      "41476.0    15.18\n",
      "41477.0    30.05\n",
      "41478.0      NaN\n",
      "41479.0    27.56\n",
      "Name: BMXBMI, dtype: float64\n",
      "count    8861.000000\n",
      "mean       25.705713\n",
      "std         7.608628\n",
      "min        12.500000\n",
      "25%        19.970000\n",
      "50%        25.160000\n",
      "75%        30.080000\n",
      "max        73.430000\n",
      "Name: BMXBMI, dtype: float64\n",
      "Null Value in BMXBMI is=  901 from  9762 observations\n"
     ]
    }
   ],
   "source": [
    "BMX_reading2 = BMX['BMXBMI']\n",
    "print('BMX_reading2 shape = ', BMX_reading2.shape)\n",
    "print(BMX_reading2.head())\n",
    "print(BMX_reading2.describe())\n",
    "print('Null Value in BMXBMI is= ',BMX_reading2.isnull().sum(),'from ', BMX_reading2.shape[0], 'observations')"
   ]
  },
  {
   "cell_type": "code",
   "execution_count": null,
   "metadata": {},
   "outputs": [],
   "source": []
  }
 ],
 "metadata": {
  "kernelspec": {
   "display_name": "Python 3",
   "language": "python",
   "name": "python3"
  },
  "language_info": {
   "codemirror_mode": {
    "name": "ipython",
    "version": 3
   },
   "file_extension": ".py",
   "mimetype": "text/x-python",
   "name": "python",
   "nbconvert_exporter": "python",
   "pygments_lexer": "ipython3",
   "version": "3.6.4"
  }
 },
 "nbformat": 4,
 "nbformat_minor": 2
}
