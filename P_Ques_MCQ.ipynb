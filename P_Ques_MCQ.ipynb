{
 "cells": [
  {
   "cell_type": "markdown",
   "metadata": {},
   "source": [
    "#  Processing Questionnaire - Medical Conditions (MCQ) file"
   ]
  },
  {
   "cell_type": "code",
   "execution_count": 1,
   "metadata": {},
   "outputs": [],
   "source": [
    "import numpy as np\n",
    "import pandas as pd\n",
    "import glob \n",
    "import os\n",
    "import sys"
   ]
  },
  {
   "cell_type": "code",
   "execution_count": 2,
   "metadata": {},
   "outputs": [
    {
     "data": {
      "text/plain": [
       "'C:\\\\Users\\\\Ganga\\\\Desktop\\\\Research\\\\CDCDiab_2.0\\\\Code'"
      ]
     },
     "execution_count": 2,
     "metadata": {},
     "output_type": "execute_result"
    }
   ],
   "source": [
    "os.getcwd()"
   ]
  },
  {
   "cell_type": "code",
   "execution_count": 3,
   "metadata": {},
   "outputs": [
    {
     "name": "stdout",
     "output_type": "stream",
     "text": [
      "['C:\\\\Users\\\\Ganga\\\\Desktop\\\\Research\\\\CDCDiab_2.0\\\\Data\\\\07-08\\\\Quest\\\\ACQ_E.XPT', 'C:\\\\Users\\\\Ganga\\\\Desktop\\\\Research\\\\CDCDiab_2.0\\\\Data\\\\07-08\\\\Quest\\\\ALQ_E.XPT', 'C:\\\\Users\\\\Ganga\\\\Desktop\\\\Research\\\\CDCDiab_2.0\\\\Data\\\\07-08\\\\Quest\\\\AQQ_E.XPT', 'C:\\\\Users\\\\Ganga\\\\Desktop\\\\Research\\\\CDCDiab_2.0\\\\Data\\\\07-08\\\\Quest\\\\AUQ_E.XPT', 'C:\\\\Users\\\\Ganga\\\\Desktop\\\\Research\\\\CDCDiab_2.0\\\\Data\\\\07-08\\\\Quest\\\\BHQ_E.XPT', 'C:\\\\Users\\\\Ganga\\\\Desktop\\\\Research\\\\CDCDiab_2.0\\\\Data\\\\07-08\\\\Quest\\\\BPQ_E.XPT', 'C:\\\\Users\\\\Ganga\\\\Desktop\\\\Research\\\\CDCDiab_2.0\\\\Data\\\\07-08\\\\Quest\\\\CBQPFA_E.XPT', 'C:\\\\Users\\\\Ganga\\\\Desktop\\\\Research\\\\CDCDiab_2.0\\\\Data\\\\07-08\\\\Quest\\\\CBQPFC_E.XPT', 'C:\\\\Users\\\\Ganga\\\\Desktop\\\\Research\\\\CDCDiab_2.0\\\\Data\\\\07-08\\\\Quest\\\\CBQ_E.XPT', 'C:\\\\Users\\\\Ganga\\\\Desktop\\\\Research\\\\CDCDiab_2.0\\\\Data\\\\07-08\\\\Quest\\\\CDQ_E.XPT', 'C:\\\\Users\\\\Ganga\\\\Desktop\\\\Research\\\\CDCDiab_2.0\\\\Data\\\\07-08\\\\Quest\\\\DBQ_E.XPT', 'C:\\\\Users\\\\Ganga\\\\Desktop\\\\Research\\\\CDCDiab_2.0\\\\Data\\\\07-08\\\\Quest\\\\DIQ_E.XPT', 'C:\\\\Users\\\\Ganga\\\\Desktop\\\\Research\\\\CDCDiab_2.0\\\\Data\\\\07-08\\\\Quest\\\\DPQ_E.XPT', 'C:\\\\Users\\\\Ganga\\\\Desktop\\\\Research\\\\CDCDiab_2.0\\\\Data\\\\07-08\\\\Quest\\\\DUQ_E.XPT', 'C:\\\\Users\\\\Ganga\\\\Desktop\\\\Research\\\\CDCDiab_2.0\\\\Data\\\\07-08\\\\Quest\\\\ECQ_E.XPT', 'C:\\\\Users\\\\Ganga\\\\Desktop\\\\Research\\\\CDCDiab_2.0\\\\Data\\\\07-08\\\\Quest\\\\FSQ_E.XPT', 'C:\\\\Users\\\\Ganga\\\\Desktop\\\\Research\\\\CDCDiab_2.0\\\\Data\\\\07-08\\\\Quest\\\\HCQ_E.XPT', 'C:\\\\Users\\\\Ganga\\\\Desktop\\\\Research\\\\CDCDiab_2.0\\\\Data\\\\07-08\\\\Quest\\\\HIQ_E.XPT', 'C:\\\\Users\\\\Ganga\\\\Desktop\\\\Research\\\\CDCDiab_2.0\\\\Data\\\\07-08\\\\Quest\\\\HOQ_E.XPT', 'C:\\\\Users\\\\Ganga\\\\Desktop\\\\Research\\\\CDCDiab_2.0\\\\Data\\\\07-08\\\\Quest\\\\HSQ_E.XPT', 'C:\\\\Users\\\\Ganga\\\\Desktop\\\\Research\\\\CDCDiab_2.0\\\\Data\\\\07-08\\\\Quest\\\\HUQ_E.XPT', 'C:\\\\Users\\\\Ganga\\\\Desktop\\\\Research\\\\CDCDiab_2.0\\\\Data\\\\07-08\\\\Quest\\\\IMQ_E.XPT', 'C:\\\\Users\\\\Ganga\\\\Desktop\\\\Research\\\\CDCDiab_2.0\\\\Data\\\\07-08\\\\Quest\\\\INQ_E.XPT', 'C:\\\\Users\\\\Ganga\\\\Desktop\\\\Research\\\\CDCDiab_2.0\\\\Data\\\\07-08\\\\Quest\\\\KIQ_P_E.XPT', 'C:\\\\Users\\\\Ganga\\\\Desktop\\\\Research\\\\CDCDiab_2.0\\\\Data\\\\07-08\\\\Quest\\\\KIQ_U_E.XPT', 'C:\\\\Users\\\\Ganga\\\\Desktop\\\\Research\\\\CDCDiab_2.0\\\\Data\\\\07-08\\\\Quest\\\\MCQ_E.XPT', 'C:\\\\Users\\\\Ganga\\\\Desktop\\\\Research\\\\CDCDiab_2.0\\\\Data\\\\07-08\\\\Quest\\\\OCQ_E.XPT', 'C:\\\\Users\\\\Ganga\\\\Desktop\\\\Research\\\\CDCDiab_2.0\\\\Data\\\\07-08\\\\Quest\\\\OHQ_E.XPT', 'C:\\\\Users\\\\Ganga\\\\Desktop\\\\Research\\\\CDCDiab_2.0\\\\Data\\\\07-08\\\\Quest\\\\OSQ_E.XPT', 'C:\\\\Users\\\\Ganga\\\\Desktop\\\\Research\\\\CDCDiab_2.0\\\\Data\\\\07-08\\\\Quest\\\\PAQ_E.XPT', 'C:\\\\Users\\\\Ganga\\\\Desktop\\\\Research\\\\CDCDiab_2.0\\\\Data\\\\07-08\\\\Quest\\\\PFQ_E.XPT', 'C:\\\\Users\\\\Ganga\\\\Desktop\\\\Research\\\\CDCDiab_2.0\\\\Data\\\\07-08\\\\Quest\\\\PUQMEC_E.XPT', 'C:\\\\Users\\\\Ganga\\\\Desktop\\\\Research\\\\CDCDiab_2.0\\\\Data\\\\07-08\\\\Quest\\\\RDQ_E.XPT', 'C:\\\\Users\\\\Ganga\\\\Desktop\\\\Research\\\\CDCDiab_2.0\\\\Data\\\\07-08\\\\Quest\\\\RHQ_E.XPT', 'C:\\\\Users\\\\Ganga\\\\Desktop\\\\Research\\\\CDCDiab_2.0\\\\Data\\\\07-08\\\\Quest\\\\RXQ_RX_E.XPT', 'C:\\\\Users\\\\Ganga\\\\Desktop\\\\Research\\\\CDCDiab_2.0\\\\Data\\\\07-08\\\\Quest\\\\SLQ_E.XPT', 'C:\\\\Users\\\\Ganga\\\\Desktop\\\\Research\\\\CDCDiab_2.0\\\\Data\\\\07-08\\\\Quest\\\\SMQFAM_E.XPT', 'C:\\\\Users\\\\Ganga\\\\Desktop\\\\Research\\\\CDCDiab_2.0\\\\Data\\\\07-08\\\\Quest\\\\SMQRTU_E.XPT', 'C:\\\\Users\\\\Ganga\\\\Desktop\\\\Research\\\\CDCDiab_2.0\\\\Data\\\\07-08\\\\Quest\\\\SMQ_E.XPT', 'C:\\\\Users\\\\Ganga\\\\Desktop\\\\Research\\\\CDCDiab_2.0\\\\Data\\\\07-08\\\\Quest\\\\SSQ_E.XPT', 'C:\\\\Users\\\\Ganga\\\\Desktop\\\\Research\\\\CDCDiab_2.0\\\\Data\\\\07-08\\\\Quest\\\\SXQ_E.XPT', 'C:\\\\Users\\\\Ganga\\\\Desktop\\\\Research\\\\CDCDiab_2.0\\\\Data\\\\07-08\\\\Quest\\\\VIQ_E.XPT', 'C:\\\\Users\\\\Ganga\\\\Desktop\\\\Research\\\\CDCDiab_2.0\\\\Data\\\\07-08\\\\Quest\\\\WHQMEC_E.XPT', 'C:\\\\Users\\\\Ganga\\\\Desktop\\\\Research\\\\CDCDiab_2.0\\\\Data\\\\07-08\\\\Quest\\\\WHQ_E.XPT']\n"
     ]
    }
   ],
   "source": [
    "path = 'C:\\\\Users\\\\Ganga\\\\Desktop\\\\Research\\\\CDCDiab_2.0\\\\Data\\\\07-08\\\\Quest'\n",
    "allFiles = glob.glob(os.path.join(path,\"*.XPT\"))\n",
    "print(allFiles)"
   ]
  },
  {
   "cell_type": "code",
   "execution_count": 4,
   "metadata": {},
   "outputs": [
    {
     "data": {
      "text/plain": [
       "(9666, 91)"
      ]
     },
     "execution_count": 4,
     "metadata": {},
     "output_type": "execute_result"
    }
   ],
   "source": [
    "MCQ = pd.read_sas('C:\\\\Users\\\\Ganga\\\\Desktop\\\\Research\\\\CDCDiab_2.0\\\\Data\\\\07-08\\\\Quest\\\\MCQ_E.XPT', index='SEQN')\n",
    "MCQ.shape  "
   ]
  },
  {
   "cell_type": "code",
   "execution_count": 7,
   "metadata": {},
   "outputs": [
    {
     "data": {
      "text/plain": [
       "(10149, 9)"
      ]
     },
     "execution_count": 7,
     "metadata": {},
     "output_type": "execute_result"
    }
   ],
   "source": [
    "HUQ = pd.read_sas('C:\\\\Users\\\\Ganga\\\\Desktop\\\\Research\\\\CDCDiab_2.0\\\\Data\\\\07-08\\\\Quest\\\\HUQ_E.XPT', index='SEQN')\n",
    "HUQ.shape  "
   ]
  },
  {
   "cell_type": "code",
   "execution_count": 8,
   "metadata": {},
   "outputs": [
    {
     "data": {
      "text/plain": [
       "(9666, 35)"
      ]
     },
     "execution_count": 8,
     "metadata": {},
     "output_type": "execute_result"
    }
   ],
   "source": [
    "DIQ = pd.read_sas('C:\\\\Users\\\\Ganga\\\\Desktop\\\\Research\\\\CDCDiab_2.0\\\\Data\\\\07-08\\\\Quest\\\\DIQ_E.XPT', index='SEQN')\n",
    "DIQ.shape"
   ]
  },
  {
   "cell_type": "markdown",
   "metadata": {},
   "source": [
    "# Processing Column of MCQ"
   ]
  },
  {
   "cell_type": "code",
   "execution_count": 9,
   "metadata": {},
   "outputs": [
    {
     "name": "stdout",
     "output_type": "stream",
     "text": [
      "HUQ_reading1 shape =  (10149,)\n",
      "SEQN\n",
      "41475.0    4.0\n",
      "41476.0    1.0\n",
      "41477.0    3.0\n",
      "41478.0    3.0\n",
      "41479.0    3.0\n",
      "Name: HUQ010, dtype: float64\n",
      "count    10149.000000\n",
      "mean         2.418662\n",
      "std          1.142235\n",
      "min          1.000000\n",
      "25%          1.000000\n",
      "50%          2.000000\n",
      "75%          3.000000\n",
      "max          9.000000\n",
      "Name: HUQ010, dtype: float64\n"
     ]
    }
   ],
   "source": [
    "# HUQ010 - General health condition\n",
    "HUQ_reading1 = HUQ['HUQ010']\n",
    "print('HUQ_reading1 shape = ', HUQ_reading1.shape)\n",
    "print(HUQ_reading1.head())\n",
    "print(HUQ_reading1.describe())"
   ]
  },
  {
   "cell_type": "code",
   "execution_count": 10,
   "metadata": {},
   "outputs": [
    {
     "name": "stdout",
     "output_type": "stream",
     "text": [
      "MCQ_reading1 shape =  (9666,)\n",
      "SEQN\n",
      "41475.0    1.0\n",
      "41476.0    NaN\n",
      "41477.0    2.0\n",
      "41478.0    NaN\n",
      "41479.0    2.0\n",
      "Name: MCQ300C, dtype: float64\n",
      "count    5935.000000\n",
      "mean        1.751643\n",
      "std         1.198944\n",
      "min         1.000000\n",
      "25%         1.000000\n",
      "50%         2.000000\n",
      "75%         2.000000\n",
      "max         9.000000\n",
      "Name: MCQ300C, dtype: float64\n"
     ]
    }
   ],
   "source": [
    "# MCQ300C - Close relative had diabetes?\n",
    "MCQ_reading1 = MCQ['MCQ300C']\n",
    "print('MCQ_reading1 shape = ', MCQ_reading1.shape)\n",
    "print(MCQ_reading1.head())\n",
    "print(MCQ_reading1.describe())"
   ]
  },
  {
   "cell_type": "code",
   "execution_count": 11,
   "metadata": {},
   "outputs": [
    {
     "name": "stdout",
     "output_type": "stream",
     "text": [
      "DIQ_reading1 shape =  (9666,)\n",
      "SEQN\n",
      "41475.0    2.0\n",
      "41476.0    2.0\n",
      "41477.0    1.0\n",
      "41478.0    2.0\n",
      "41479.0    2.0\n",
      "Name: DIQ010, dtype: float64\n",
      "count    9666.000000\n",
      "mean        1.937099\n",
      "std         0.364736\n",
      "min         1.000000\n",
      "25%         2.000000\n",
      "50%         2.000000\n",
      "75%         2.000000\n",
      "max         9.000000\n",
      "Name: DIQ010, dtype: float64\n"
     ]
    }
   ],
   "source": [
    "DIQ_reading1 = DIQ['DIQ010']\n",
    "print('DIQ_reading1 shape = ', DIQ_reading1.shape)\n",
    "print(DIQ_reading1.head())\n",
    "print(DIQ_reading1.describe())"
   ]
  },
  {
   "cell_type": "code",
   "execution_count": 12,
   "metadata": {},
   "outputs": [
    {
     "name": "stdout",
     "output_type": "stream",
     "text": [
      "HUQ_reading1 missing values =   0 from  10149 observations\n",
      "MCQ_reading1 missing values =   3731 from  9666 observations\n",
      "DIQ_reading1 missing values =   0 from  9666 observations\n"
     ]
    }
   ],
   "source": [
    "print('HUQ_reading1 missing values =  ', HUQ_reading1.isnull().sum(), 'from ', HUQ_reading1.shape[0], 'observations')\n",
    "print('MCQ_reading1 missing values =  ', MCQ_reading1.isnull().sum(), 'from ', MCQ_reading1.shape[0], 'observations')\n",
    "print('DIQ_reading1 missing values =  ', DIQ_reading1.isnull().sum(), 'from ', DIQ_reading1.shape[0], 'observations')"
   ]
  },
  {
   "cell_type": "code",
   "execution_count": 13,
   "metadata": {},
   "outputs": [
    {
     "name": "stdout",
     "output_type": "stream",
     "text": [
      "All_MCQ shape =  (10149, 3)\n",
      "         MCQ300C  HUQ010  DIQ010\n",
      "SEQN                            \n",
      "41475.0      1.0     4.0     2.0\n",
      "41476.0      NaN     1.0     2.0\n",
      "41477.0      2.0     3.0     1.0\n",
      "41478.0      NaN     3.0     2.0\n",
      "41479.0      2.0     3.0     2.0\n"
     ]
    },
    {
     "data": {
      "text/html": [
       "<div>\n",
       "<style scoped>\n",
       "    .dataframe tbody tr th:only-of-type {\n",
       "        vertical-align: middle;\n",
       "    }\n",
       "\n",
       "    .dataframe tbody tr th {\n",
       "        vertical-align: top;\n",
       "    }\n",
       "\n",
       "    .dataframe thead th {\n",
       "        text-align: right;\n",
       "    }\n",
       "</style>\n",
       "<table border=\"1\" class=\"dataframe\">\n",
       "  <thead>\n",
       "    <tr style=\"text-align: right;\">\n",
       "      <th></th>\n",
       "      <th>MCQ300C</th>\n",
       "      <th>HUQ010</th>\n",
       "      <th>DIQ010</th>\n",
       "    </tr>\n",
       "  </thead>\n",
       "  <tbody>\n",
       "    <tr>\n",
       "      <th>count</th>\n",
       "      <td>5935.000000</td>\n",
       "      <td>10149.000000</td>\n",
       "      <td>9666.000000</td>\n",
       "    </tr>\n",
       "    <tr>\n",
       "      <th>mean</th>\n",
       "      <td>1.751643</td>\n",
       "      <td>2.418662</td>\n",
       "      <td>1.937099</td>\n",
       "    </tr>\n",
       "    <tr>\n",
       "      <th>std</th>\n",
       "      <td>1.198944</td>\n",
       "      <td>1.142235</td>\n",
       "      <td>0.364736</td>\n",
       "    </tr>\n",
       "    <tr>\n",
       "      <th>min</th>\n",
       "      <td>1.000000</td>\n",
       "      <td>1.000000</td>\n",
       "      <td>1.000000</td>\n",
       "    </tr>\n",
       "    <tr>\n",
       "      <th>25%</th>\n",
       "      <td>1.000000</td>\n",
       "      <td>1.000000</td>\n",
       "      <td>2.000000</td>\n",
       "    </tr>\n",
       "    <tr>\n",
       "      <th>50%</th>\n",
       "      <td>2.000000</td>\n",
       "      <td>2.000000</td>\n",
       "      <td>2.000000</td>\n",
       "    </tr>\n",
       "    <tr>\n",
       "      <th>75%</th>\n",
       "      <td>2.000000</td>\n",
       "      <td>3.000000</td>\n",
       "      <td>2.000000</td>\n",
       "    </tr>\n",
       "    <tr>\n",
       "      <th>max</th>\n",
       "      <td>9.000000</td>\n",
       "      <td>9.000000</td>\n",
       "      <td>9.000000</td>\n",
       "    </tr>\n",
       "  </tbody>\n",
       "</table>\n",
       "</div>"
      ],
      "text/plain": [
       "           MCQ300C        HUQ010       DIQ010\n",
       "count  5935.000000  10149.000000  9666.000000\n",
       "mean      1.751643      2.418662     1.937099\n",
       "std       1.198944      1.142235     0.364736\n",
       "min       1.000000      1.000000     1.000000\n",
       "25%       1.000000      1.000000     2.000000\n",
       "50%       2.000000      2.000000     2.000000\n",
       "75%       2.000000      3.000000     2.000000\n",
       "max       9.000000      9.000000     9.000000"
      ]
     },
     "execution_count": 13,
     "metadata": {},
     "output_type": "execute_result"
    }
   ],
   "source": [
    "All_MCQ = pd.concat([MCQ_reading1,HUQ_reading1,DIQ_reading1],axis=1)\n",
    "print('All_MCQ shape = ', All_MCQ.shape)\n",
    "print(All_MCQ.head())\n",
    "All_MCQ.describe()"
   ]
  },
  {
   "cell_type": "code",
   "execution_count": 14,
   "metadata": {},
   "outputs": [],
   "source": [
    "All_MCQ.to_csv('all_MCQ.csv')"
   ]
  },
  {
   "cell_type": "code",
   "execution_count": null,
   "metadata": {},
   "outputs": [],
   "source": []
  }
 ],
 "metadata": {
  "kernelspec": {
   "display_name": "Python 3",
   "language": "python",
   "name": "python3"
  },
  "language_info": {
   "codemirror_mode": {
    "name": "ipython",
    "version": 3
   },
   "file_extension": ".py",
   "mimetype": "text/x-python",
   "name": "python",
   "nbconvert_exporter": "python",
   "pygments_lexer": "ipython3",
   "version": "3.6.4"
  }
 },
 "nbformat": 4,
 "nbformat_minor": 2
}
