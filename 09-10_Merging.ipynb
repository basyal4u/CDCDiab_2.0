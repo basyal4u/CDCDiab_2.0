{
 "cells": [
  {
   "cell_type": "markdown",
   "metadata": {},
   "source": [
    "# 09-10 Merging the data set\n",
    "\n",
    "### We have acquired the dataset from NAHNES under CDC.gov website. This is an open data repository. We had downloaded the data into 5 part- 1) Demographic, 2) Diatery, 3) Laboratory, 4) Examination, 5) Questionair. All the data is merged into one single file. \n"
   ]
  },
  {
   "cell_type": "code",
   "execution_count": 17,
   "metadata": {},
   "outputs": [],
   "source": [
    "import numpy as np\n",
    "import pandas as pd\n",
    "import matplotlib.pyplot as plt\n",
    "import glob \n",
    "import os\n",
    "import sys"
   ]
  },
  {
   "cell_type": "code",
   "execution_count": 18,
   "metadata": {},
   "outputs": [
    {
     "data": {
      "text/plain": [
       "'C:\\\\Users\\\\Ganga\\\\Desktop\\\\Research\\\\CDCDiab1\\\\09-10'"
      ]
     },
     "execution_count": 18,
     "metadata": {},
     "output_type": "execute_result"
    }
   ],
   "source": [
    "os.getcwd()"
   ]
  },
  {
   "cell_type": "code",
   "execution_count": 41,
   "metadata": {},
   "outputs": [
    {
     "name": "stdout",
     "output_type": "stream",
     "text": [
      "C:\\Users\\Ganga\\Desktop\\Research\\CDCDiab1\\09-10\\Diatery\\DR1IFF_F.XPT\n",
      "C:\\Users\\Ganga\\Desktop\\Research\\CDCDiab1\\09-10\\Diatery\\DR1TOT_F.XPT\n",
      "C:\\Users\\Ganga\\Desktop\\Research\\CDCDiab1\\09-10\\Diatery\\DR2IFF_F.XPT\n",
      "C:\\Users\\Ganga\\Desktop\\Research\\CDCDiab1\\09-10\\Diatery\\DR2TOT_F.XPT\n",
      "C:\\Users\\Ganga\\Desktop\\Research\\CDCDiab1\\09-10\\Diatery\\DS1IDS_F.XPT\n",
      "C:\\Users\\Ganga\\Desktop\\Research\\CDCDiab1\\09-10\\Diatery\\DS1TOT_F.XPT\n",
      "C:\\Users\\Ganga\\Desktop\\Research\\CDCDiab1\\09-10\\Diatery\\DS2IDS_F.XPT\n",
      "C:\\Users\\Ganga\\Desktop\\Research\\CDCDiab1\\09-10\\Diatery\\DS2TOT_F.XPT\n",
      "C:\\Users\\Ganga\\Desktop\\Research\\CDCDiab1\\09-10\\Diatery\\DSQIDS_F.XPT\n",
      "C:\\Users\\Ganga\\Desktop\\Research\\CDCDiab1\\09-10\\Diatery\\DSQTOT_F.XPT\n",
      "C:\\Users\\Ganga\\Desktop\\Research\\CDCDiab1\\09-10\\Diatery\\DTQ_F.XPT\n"
     ]
    }
   ],
   "source": [
    "path = 'C:\\\\Users\\\\Ganga\\\\Desktop\\\\Research\\\\CDCDiab1\\\\09-10\\\\Diatery'\n",
    "allFiles = glob.glob(os.path.join(path,\"*.xpt\"))\n",
    "\n",
    "data = np.array([np.arange(51624,62161)]).T\n",
    "Diatery =pd.DataFrame(data, index = range(51623,62160),columns=['SEQN'])\n",
    "\n",
    "for infile in allFiles:\n",
    "    print(infile)\n",
    "    df = pd.read_sas(infile)\n",
    "    df['SEQN']=df['SEQN'].astype(int)\n",
    "    Diatery = Diatery.merge(df.drop_duplicates(subset=['SEQN']),on='SEQN', how='left')"
   ]
  },
  {
   "cell_type": "code",
   "execution_count": 43,
   "metadata": {},
   "outputs": [
    {
     "data": {
      "text/plain": [
       "(10537, 779)"
      ]
     },
     "execution_count": 43,
     "metadata": {},
     "output_type": "execute_result"
    }
   ],
   "source": [
    "Diatery.shape"
   ]
  },
  {
   "cell_type": "code",
   "execution_count": 45,
   "metadata": {},
   "outputs": [],
   "source": [
    "Diatery.to_csv('Diatery.csv')"
   ]
  },
  {
   "cell_type": "code",
   "execution_count": 46,
   "metadata": {},
   "outputs": [
    {
     "name": "stdout",
     "output_type": "stream",
     "text": [
      "C:\\Users\\Ganga\\Desktop\\Research\\CDCDiab1\\09-10\\Lab\\ALB_CR_F.XPT\n",
      "C:\\Users\\Ganga\\Desktop\\Research\\CDCDiab1\\09-10\\Lab\\APOB_F.XPT\n",
      "C:\\Users\\Ganga\\Desktop\\Research\\CDCDiab1\\09-10\\Lab\\BIOPRO_F.XPT\n",
      "C:\\Users\\Ganga\\Desktop\\Research\\CDCDiab1\\09-10\\Lab\\CAFE_F.XPT\n",
      "C:\\Users\\Ganga\\Desktop\\Research\\CDCDiab1\\09-10\\Lab\\CBC_F.XPT\n",
      "C:\\Users\\Ganga\\Desktop\\Research\\CDCDiab1\\09-10\\Lab\\CHLMDA_F.XPT\n",
      "C:\\Users\\Ganga\\Desktop\\Research\\CDCDiab1\\09-10\\Lab\\COTNAL_F.XPT\n",
      "C:\\Users\\Ganga\\Desktop\\Research\\CDCDiab1\\09-10\\Lab\\CRP_F.XPT\n",
      "C:\\Users\\Ganga\\Desktop\\Research\\CDCDiab1\\09-10\\Lab\\DEET_F.XPT\n",
      "C:\\Users\\Ganga\\Desktop\\Research\\CDCDiab1\\09-10\\Lab\\EPH_F.XPT\n",
      "C:\\Users\\Ganga\\Desktop\\Research\\CDCDiab1\\09-10\\Lab\\FASTQX_F.XPT\n",
      "C:\\Users\\Ganga\\Desktop\\Research\\CDCDiab1\\09-10\\Lab\\FERTIN_F.XPT\n",
      "C:\\Users\\Ganga\\Desktop\\Research\\CDCDiab1\\09-10\\Lab\\FOLATE_F.XPT\n",
      "C:\\Users\\Ganga\\Desktop\\Research\\CDCDiab1\\09-10\\Lab\\GHB_F.XPT\n",
      "C:\\Users\\Ganga\\Desktop\\Research\\CDCDiab1\\09-10\\Lab\\GLU_F.XPT\n",
      "C:\\Users\\Ganga\\Desktop\\Research\\CDCDiab1\\09-10\\Lab\\HDL_F.XPT\n",
      "C:\\Users\\Ganga\\Desktop\\Research\\CDCDiab1\\09-10\\Lab\\HEPA_F.XPT\n",
      "C:\\Users\\Ganga\\Desktop\\Research\\CDCDiab1\\09-10\\Lab\\HEPBD_F.XPT\n",
      "C:\\Users\\Ganga\\Desktop\\Research\\CDCDiab1\\09-10\\Lab\\HEPB_S_F.XPT\n",
      "C:\\Users\\Ganga\\Desktop\\Research\\CDCDiab1\\09-10\\Lab\\HEPC_F.XPT\n",
      "C:\\Users\\Ganga\\Desktop\\Research\\CDCDiab1\\09-10\\Lab\\HEPE_F.XPT\n",
      "C:\\Users\\Ganga\\Desktop\\Research\\CDCDiab1\\09-10\\Lab\\HIV_F.XPT\n",
      "C:\\Users\\Ganga\\Desktop\\Research\\CDCDiab1\\09-10\\Lab\\HPVSER_F.XPT\n",
      "C:\\Users\\Ganga\\Desktop\\Research\\CDCDiab1\\09-10\\Lab\\HPVSWR_F.XPT\n",
      "C:\\Users\\Ganga\\Desktop\\Research\\CDCDiab1\\09-10\\Lab\\HSV_F.XPT\n",
      "C:\\Users\\Ganga\\Desktop\\Research\\CDCDiab1\\09-10\\Lab\\IHG_F.XPT\n",
      "C:\\Users\\Ganga\\Desktop\\Research\\CDCDiab1\\09-10\\Lab\\MMRV_F.XPT\n",
      "C:\\Users\\Ganga\\Desktop\\Research\\CDCDiab1\\09-10\\Lab\\OGTT_F.XPT\n",
      "C:\\Users\\Ganga\\Desktop\\Research\\CDCDiab1\\09-10\\Lab\\ORHPV_F.XPT\n",
      "C:\\Users\\Ganga\\Desktop\\Research\\CDCDiab1\\09-10\\Lab\\PAH_F.XPT\n",
      "C:\\Users\\Ganga\\Desktop\\Research\\CDCDiab1\\09-10\\Lab\\PBCD_F.XPT\n",
      "C:\\Users\\Ganga\\Desktop\\Research\\CDCDiab1\\09-10\\Lab\\PERNT_F.XPT\n",
      "C:\\Users\\Ganga\\Desktop\\Research\\CDCDiab1\\09-10\\Lab\\PFC_F.XPT\n",
      "C:\\Users\\Ganga\\Desktop\\Research\\CDCDiab1\\09-10\\Lab\\PHTHTE_F.XPT\n",
      "C:\\Users\\Ganga\\Desktop\\Research\\CDCDiab1\\09-10\\Lab\\PHYTO_F.XPT\n",
      "C:\\Users\\Ganga\\Desktop\\Research\\CDCDiab1\\09-10\\Lab\\POOLTF_F.XPT\n",
      "C:\\Users\\Ganga\\Desktop\\Research\\CDCDiab1\\09-10\\Lab\\PP_F.XPT\n",
      "C:\\Users\\Ganga\\Desktop\\Research\\CDCDiab1\\09-10\\Lab\\PSA_F.XPT\n",
      "C:\\Users\\Ganga\\Desktop\\Research\\CDCDiab1\\09-10\\Lab\\SSEBV_F.XPT\n",
      "C:\\Users\\Ganga\\Desktop\\Research\\CDCDiab1\\09-10\\Lab\\SSHCV_E.XPT\n",
      "C:\\Users\\Ganga\\Desktop\\Research\\CDCDiab1\\09-10\\Lab\\SSHPV_F.XPT\n",
      "C:\\Users\\Ganga\\Desktop\\Research\\CDCDiab1\\09-10\\Lab\\SSPOLI_F.XPT\n",
      "C:\\Users\\Ganga\\Desktop\\Research\\CDCDiab1\\09-10\\Lab\\SSTOXO_F.XPT\n",
      "C:\\Users\\Ganga\\Desktop\\Research\\CDCDiab1\\09-10\\Lab\\TCHOL_F.XPT\n",
      "C:\\Users\\Ganga\\Desktop\\Research\\CDCDiab1\\09-10\\Lab\\TFA_F.XPT\n",
      "C:\\Users\\Ganga\\Desktop\\Research\\CDCDiab1\\09-10\\Lab\\TFR_F.XPT\n",
      "C:\\Users\\Ganga\\Desktop\\Research\\CDCDiab1\\09-10\\Lab\\TGEMA_F.XPT\n",
      "C:\\Users\\Ganga\\Desktop\\Research\\CDCDiab1\\09-10\\Lab\\THYROD_F.XPT\n",
      "C:\\Users\\Ganga\\Desktop\\Research\\CDCDiab1\\09-10\\Lab\\TRIGLY_F.XPT\n",
      "C:\\Users\\Ganga\\Desktop\\Research\\CDCDiab1\\09-10\\Lab\\UAS_F.XPT\n",
      "C:\\Users\\Ganga\\Desktop\\Research\\CDCDiab1\\09-10\\Lab\\UCFLOW_F.XPT\n",
      "C:\\Users\\Ganga\\Desktop\\Research\\CDCDiab1\\09-10\\Lab\\UCOSMO_F.XPT\n",
      "C:\\Users\\Ganga\\Desktop\\Research\\CDCDiab1\\09-10\\Lab\\UCPREG_F.XPT\n",
      "C:\\Users\\Ganga\\Desktop\\Research\\CDCDiab1\\09-10\\Lab\\UHG_F.XPT\n",
      "C:\\Users\\Ganga\\Desktop\\Research\\CDCDiab1\\09-10\\Lab\\UHM_F.XPT\n",
      "C:\\Users\\Ganga\\Desktop\\Research\\CDCDiab1\\09-10\\Lab\\UIO_F.XPT\n",
      "C:\\Users\\Ganga\\Desktop\\Research\\CDCDiab1\\09-10\\Lab\\UPHOPM_F.XPT\n",
      "C:\\Users\\Ganga\\Desktop\\Research\\CDCDiab1\\09-10\\Lab\\VID_F.XPT\n",
      "C:\\Users\\Ganga\\Desktop\\Research\\CDCDiab1\\09-10\\Lab\\VIT_B6_F.XPT\n",
      "C:\\Users\\Ganga\\Desktop\\Research\\CDCDiab1\\09-10\\Lab\\VOCMWB_F.XPT\n",
      "C:\\Users\\Ganga\\Desktop\\Research\\CDCDiab1\\09-10\\Lab\\VOCWB_F.XPT\n",
      "C:\\Users\\Ganga\\Desktop\\Research\\CDCDiab1\\09-10\\Lab\\VOC_F.XPT\n"
     ]
    }
   ],
   "source": [
    "path = 'C:\\\\Users\\\\Ganga\\\\Desktop\\\\Research\\\\CDCDiab1\\\\09-10\\\\Lab'\n",
    "allFiles = glob.glob(os.path.join(path,\"*.xpt\"))\n",
    "\n",
    "data = np.array([np.arange(51624,62161)]).T\n",
    "Lab =pd.DataFrame(data, index = range(51623,62160),columns=['SEQN'])\n",
    "\n",
    "for infile in allFiles:\n",
    "    print(infile)\n",
    "    df = pd.read_sas(infile)\n",
    "    df['SEQN']=df['SEQN'].astype(int)\n",
    "    Lab = Lab.merge(df.drop_duplicates(subset=['SEQN']),on='SEQN', how='left')"
   ]
  },
  {
   "cell_type": "code",
   "execution_count": 47,
   "metadata": {},
   "outputs": [
    {
     "data": {
      "text/plain": [
       "(10537, 657)"
      ]
     },
     "execution_count": 47,
     "metadata": {},
     "output_type": "execute_result"
    }
   ],
   "source": [
    "Lab.shape"
   ]
  },
  {
   "cell_type": "code",
   "execution_count": 48,
   "metadata": {},
   "outputs": [],
   "source": [
    "Lab.to_csv('Lab0910.csv')"
   ]
  },
  {
   "cell_type": "code",
   "execution_count": 49,
   "metadata": {},
   "outputs": [
    {
     "name": "stdout",
     "output_type": "stream",
     "text": [
      "C:\\Users\\Ganga\\Desktop\\Research\\CDCDiab1\\09-10\\Quest\\ACQ_F.XPT\n",
      "C:\\Users\\Ganga\\Desktop\\Research\\CDCDiab1\\09-10\\Quest\\ALQY_F.XPT\n",
      "C:\\Users\\Ganga\\Desktop\\Research\\CDCDiab1\\09-10\\Quest\\ALQ_F.XPT\n",
      "C:\\Users\\Ganga\\Desktop\\Research\\CDCDiab1\\09-10\\Quest\\AQQ_F.XPT\n",
      "C:\\Users\\Ganga\\Desktop\\Research\\CDCDiab1\\09-10\\Quest\\ARQ_F.XPT\n",
      "C:\\Users\\Ganga\\Desktop\\Research\\CDCDiab1\\09-10\\Quest\\AUQ_F.XPT\n",
      "C:\\Users\\Ganga\\Desktop\\Research\\CDCDiab1\\09-10\\Quest\\BHQ_F.XPT\n",
      "C:\\Users\\Ganga\\Desktop\\Research\\CDCDiab1\\09-10\\Quest\\BPQ_F.XPT\n",
      "C:\\Users\\Ganga\\Desktop\\Research\\CDCDiab1\\09-10\\Quest\\CBQPFA_F.XPT\n",
      "C:\\Users\\Ganga\\Desktop\\Research\\CDCDiab1\\09-10\\Quest\\CBQPFC_F.XPT\n",
      "C:\\Users\\Ganga\\Desktop\\Research\\CDCDiab1\\09-10\\Quest\\CBQ_F.XPT\n",
      "C:\\Users\\Ganga\\Desktop\\Research\\CDCDiab1\\09-10\\Quest\\CDQ_F.XPT\n",
      "C:\\Users\\Ganga\\Desktop\\Research\\CDCDiab1\\09-10\\Quest\\DBQ_F.XPT\n",
      "C:\\Users\\Ganga\\Desktop\\Research\\CDCDiab1\\09-10\\Quest\\DEQ_F.XPT\n",
      "C:\\Users\\Ganga\\Desktop\\Research\\CDCDiab1\\09-10\\Quest\\DIQ_F.XPT\n",
      "C:\\Users\\Ganga\\Desktop\\Research\\CDCDiab1\\09-10\\Quest\\DPQ_F.XPT\n",
      "C:\\Users\\Ganga\\Desktop\\Research\\CDCDiab1\\09-10\\Quest\\DUQ_F.XPT\n",
      "C:\\Users\\Ganga\\Desktop\\Research\\CDCDiab1\\09-10\\Quest\\ECQ_F.XPT\n",
      "C:\\Users\\Ganga\\Desktop\\Research\\CDCDiab1\\09-10\\Quest\\FSQ_F.XPT\n",
      "C:\\Users\\Ganga\\Desktop\\Research\\CDCDiab1\\09-10\\Quest\\HCQ_F.XPT\n",
      "C:\\Users\\Ganga\\Desktop\\Research\\CDCDiab1\\09-10\\Quest\\HIQ_F.XPT\n",
      "C:\\Users\\Ganga\\Desktop\\Research\\CDCDiab1\\09-10\\Quest\\HOQ_F.XPT\n",
      "C:\\Users\\Ganga\\Desktop\\Research\\CDCDiab1\\09-10\\Quest\\HSQ_F.XPT\n",
      "C:\\Users\\Ganga\\Desktop\\Research\\CDCDiab1\\09-10\\Quest\\HUQ_F.XPT\n",
      "C:\\Users\\Ganga\\Desktop\\Research\\CDCDiab1\\09-10\\Quest\\IMQ_F.XPT\n",
      "C:\\Users\\Ganga\\Desktop\\Research\\CDCDiab1\\09-10\\Quest\\INQ_F.XPT\n",
      "C:\\Users\\Ganga\\Desktop\\Research\\CDCDiab1\\09-10\\Quest\\KIQ_U_F.XPT\n",
      "C:\\Users\\Ganga\\Desktop\\Research\\CDCDiab1\\09-10\\Quest\\MCQ_F.XPT\n",
      "C:\\Users\\Ganga\\Desktop\\Research\\CDCDiab1\\09-10\\Quest\\OCQ_F.XPT\n",
      "C:\\Users\\Ganga\\Desktop\\Research\\CDCDiab1\\09-10\\Quest\\OHQ_F.XPT\n",
      "C:\\Users\\Ganga\\Desktop\\Research\\CDCDiab1\\09-10\\Quest\\OSQ_F.XPT\n",
      "C:\\Users\\Ganga\\Desktop\\Research\\CDCDiab1\\09-10\\Quest\\PAQ_F.XPT\n",
      "C:\\Users\\Ganga\\Desktop\\Research\\CDCDiab1\\09-10\\Quest\\PFQ_F.XPT\n",
      "C:\\Users\\Ganga\\Desktop\\Research\\CDCDiab1\\09-10\\Quest\\PUQMEC_F.XPT\n",
      "C:\\Users\\Ganga\\Desktop\\Research\\CDCDiab1\\09-10\\Quest\\RDQ_F.XPT\n",
      "C:\\Users\\Ganga\\Desktop\\Research\\CDCDiab1\\09-10\\Quest\\RHQ_F.XPT\n",
      "C:\\Users\\Ganga\\Desktop\\Research\\CDCDiab1\\09-10\\Quest\\RXQ_RX_F.XPT\n",
      "C:\\Users\\Ganga\\Desktop\\Research\\CDCDiab1\\09-10\\Quest\\SLQ_F.XPT\n",
      "C:\\Users\\Ganga\\Desktop\\Research\\CDCDiab1\\09-10\\Quest\\SMQFAM_F.XPT\n",
      "C:\\Users\\Ganga\\Desktop\\Research\\CDCDiab1\\09-10\\Quest\\SMQRTU_F.XPT\n",
      "C:\\Users\\Ganga\\Desktop\\Research\\CDCDiab1\\09-10\\Quest\\SMQ_F.XPT\n",
      "C:\\Users\\Ganga\\Desktop\\Research\\CDCDiab1\\09-10\\Quest\\SXQ_F.XPT\n",
      "C:\\Users\\Ganga\\Desktop\\Research\\CDCDiab1\\09-10\\Quest\\VTQ_F.XPT\n",
      "C:\\Users\\Ganga\\Desktop\\Research\\CDCDiab1\\09-10\\Quest\\WHQMEC_F.XPT\n",
      "C:\\Users\\Ganga\\Desktop\\Research\\CDCDiab1\\09-10\\Quest\\WHQ_F.XPT\n"
     ]
    }
   ],
   "source": [
    "path = 'C:\\\\Users\\\\Ganga\\\\Desktop\\\\Research\\\\CDCDiab1\\\\09-10\\\\Quest'\n",
    "allFiles = glob.glob(os.path.join(path,\"*.xpt\"))\n",
    "\n",
    "data = np.array([np.arange(51624,62161)]).T\n",
    "Quest =pd.DataFrame(data, index = range(51623,62160),columns=['SEQN'])\n",
    "\n",
    "for infile in allFiles:\n",
    "    print(infile)\n",
    "    df = pd.read_sas(infile)\n",
    "    df['SEQN']=df['SEQN'].astype(int)\n",
    "    Quest = Quest.merge(df.drop_duplicates(subset=['SEQN']),on='SEQN', how='left')"
   ]
  },
  {
   "cell_type": "code",
   "execution_count": 50,
   "metadata": {},
   "outputs": [
    {
     "data": {
      "text/plain": [
       "(10537, 1258)"
      ]
     },
     "execution_count": 50,
     "metadata": {},
     "output_type": "execute_result"
    }
   ],
   "source": [
    "Quest.shape"
   ]
  },
  {
   "cell_type": "code",
   "execution_count": 51,
   "metadata": {},
   "outputs": [],
   "source": [
    "Quest.to_csv('Quest0910.csv')"
   ]
  },
  {
   "cell_type": "code",
   "execution_count": 52,
   "metadata": {},
   "outputs": [
    {
     "name": "stdout",
     "output_type": "stream",
     "text": [
      "C:\\Users\\Ganga\\Desktop\\Research\\CDCDiab1\\09-10\\Examination\\ARX_F.XPT\n",
      "C:\\Users\\Ganga\\Desktop\\Research\\CDCDiab1\\09-10\\Examination\\AUXAR_F.XPT\n",
      "C:\\Users\\Ganga\\Desktop\\Research\\CDCDiab1\\09-10\\Examination\\AUXTYM_F.XPT\n",
      "C:\\Users\\Ganga\\Desktop\\Research\\CDCDiab1\\09-10\\Examination\\AUX_F.XPT\n",
      "C:\\Users\\Ganga\\Desktop\\Research\\CDCDiab1\\09-10\\Examination\\BMX_F.XPT\n",
      "C:\\Users\\Ganga\\Desktop\\Research\\CDCDiab1\\09-10\\Examination\\BPX_F.XPT\n",
      "C:\\Users\\Ganga\\Desktop\\Research\\CDCDiab1\\09-10\\Examination\\DXXFEM_F.XPT\n",
      "C:\\Users\\Ganga\\Desktop\\Research\\CDCDiab1\\09-10\\Examination\\DXXSPN_F.XPT\n",
      "C:\\Users\\Ganga\\Desktop\\Research\\CDCDiab1\\09-10\\Examination\\ENX_F.XPT\n",
      "C:\\Users\\Ganga\\Desktop\\Research\\CDCDiab1\\09-10\\Examination\\OHXDEN_F.XPT\n",
      "C:\\Users\\Ganga\\Desktop\\Research\\CDCDiab1\\09-10\\Examination\\OHXPER_F.XPT\n",
      "C:\\Users\\Ganga\\Desktop\\Research\\CDCDiab1\\09-10\\Examination\\OHXREF_F.XPT\n",
      "C:\\Users\\Ganga\\Desktop\\Research\\CDCDiab1\\09-10\\Examination\\SPX_F.XPT\n"
     ]
    }
   ],
   "source": [
    "path = 'C:\\\\Users\\\\Ganga\\\\Desktop\\\\Research\\\\CDCDiab1\\\\09-10\\\\Examination'\n",
    "allFiles = glob.glob(os.path.join(path,\"*.xpt\"))\n",
    "\n",
    "data = np.array([np.arange(51624,62161)]).T\n",
    "Examination =pd.DataFrame(data, index = range(51623,62160),columns=['SEQN'])\n",
    "\n",
    "for infile in allFiles:\n",
    "    print(infile)\n",
    "    df = pd.read_sas(infile)\n",
    "    df['SEQN']=df['SEQN'].astype(int)\n",
    "    Examination = Examination.merge(df.drop_duplicates(subset=['SEQN']),on='SEQN', how='left')"
   ]
  },
  {
   "cell_type": "code",
   "execution_count": 53,
   "metadata": {},
   "outputs": [],
   "source": [
    "Examination.to_csv('Exam0910.csv')"
   ]
  },
  {
   "cell_type": "code",
   "execution_count": 54,
   "metadata": {},
   "outputs": [
    {
     "data": {
      "text/plain": [
       "(10537, 1304)"
      ]
     },
     "execution_count": 54,
     "metadata": {},
     "output_type": "execute_result"
    }
   ],
   "source": [
    "Examination.shape"
   ]
  },
  {
   "cell_type": "code",
   "execution_count": 58,
   "metadata": {},
   "outputs": [
    {
     "name": "stdout",
     "output_type": "stream",
     "text": [
      "C:\\Users\\Ganga\\Desktop\\Research\\CDCDiab1\\09-10\\All\\ACQ_F.XPT\n",
      "C:\\Users\\Ganga\\Desktop\\Research\\CDCDiab1\\09-10\\All\\ALB_CR_F.XPT\n",
      "C:\\Users\\Ganga\\Desktop\\Research\\CDCDiab1\\09-10\\All\\ALQY_F.XPT\n",
      "C:\\Users\\Ganga\\Desktop\\Research\\CDCDiab1\\09-10\\All\\ALQ_F.XPT\n",
      "C:\\Users\\Ganga\\Desktop\\Research\\CDCDiab1\\09-10\\All\\APOB_F.XPT\n",
      "C:\\Users\\Ganga\\Desktop\\Research\\CDCDiab1\\09-10\\All\\AQQ_F.XPT\n",
      "C:\\Users\\Ganga\\Desktop\\Research\\CDCDiab1\\09-10\\All\\ARQ_F.XPT\n",
      "C:\\Users\\Ganga\\Desktop\\Research\\CDCDiab1\\09-10\\All\\ARX_F.XPT\n",
      "C:\\Users\\Ganga\\Desktop\\Research\\CDCDiab1\\09-10\\All\\AUQ_F.XPT\n",
      "C:\\Users\\Ganga\\Desktop\\Research\\CDCDiab1\\09-10\\All\\AUXAR_F.XPT\n",
      "C:\\Users\\Ganga\\Desktop\\Research\\CDCDiab1\\09-10\\All\\AUXTYM_F.XPT\n",
      "C:\\Users\\Ganga\\Desktop\\Research\\CDCDiab1\\09-10\\All\\AUX_F.XPT\n",
      "C:\\Users\\Ganga\\Desktop\\Research\\CDCDiab1\\09-10\\All\\BHQ_F.XPT\n",
      "C:\\Users\\Ganga\\Desktop\\Research\\CDCDiab1\\09-10\\All\\BIOPRO_F.XPT\n",
      "C:\\Users\\Ganga\\Desktop\\Research\\CDCDiab1\\09-10\\All\\BMX_F.XPT\n",
      "C:\\Users\\Ganga\\Desktop\\Research\\CDCDiab1\\09-10\\All\\BPQ_F.XPT\n",
      "C:\\Users\\Ganga\\Desktop\\Research\\CDCDiab1\\09-10\\All\\BPX_F.XPT\n",
      "C:\\Users\\Ganga\\Desktop\\Research\\CDCDiab1\\09-10\\All\\CAFE_F.XPT\n",
      "C:\\Users\\Ganga\\Desktop\\Research\\CDCDiab1\\09-10\\All\\CBC_F.XPT\n",
      "C:\\Users\\Ganga\\Desktop\\Research\\CDCDiab1\\09-10\\All\\CBQPFA_F.XPT\n",
      "C:\\Users\\Ganga\\Desktop\\Research\\CDCDiab1\\09-10\\All\\CBQPFC_F.XPT\n",
      "C:\\Users\\Ganga\\Desktop\\Research\\CDCDiab1\\09-10\\All\\CBQ_F.XPT\n",
      "C:\\Users\\Ganga\\Desktop\\Research\\CDCDiab1\\09-10\\All\\CDQ_F.XPT\n",
      "C:\\Users\\Ganga\\Desktop\\Research\\CDCDiab1\\09-10\\All\\CHLMDA_F.XPT\n",
      "C:\\Users\\Ganga\\Desktop\\Research\\CDCDiab1\\09-10\\All\\COTNAL_F.XPT\n",
      "C:\\Users\\Ganga\\Desktop\\Research\\CDCDiab1\\09-10\\All\\CRP_F.XPT\n",
      "C:\\Users\\Ganga\\Desktop\\Research\\CDCDiab1\\09-10\\All\\DBQ_F.XPT\n",
      "C:\\Users\\Ganga\\Desktop\\Research\\CDCDiab1\\09-10\\All\\DEET_F.XPT\n",
      "C:\\Users\\Ganga\\Desktop\\Research\\CDCDiab1\\09-10\\All\\DEMO_F.XPT\n",
      "C:\\Users\\Ganga\\Desktop\\Research\\CDCDiab1\\09-10\\All\\DEQ_F.XPT\n",
      "C:\\Users\\Ganga\\Desktop\\Research\\CDCDiab1\\09-10\\All\\DIQ_F.XPT\n",
      "C:\\Users\\Ganga\\Desktop\\Research\\CDCDiab1\\09-10\\All\\DPQ_F.XPT\n",
      "C:\\Users\\Ganga\\Desktop\\Research\\CDCDiab1\\09-10\\All\\DR1IFF_F.XPT\n",
      "C:\\Users\\Ganga\\Desktop\\Research\\CDCDiab1\\09-10\\All\\DR1TOT_F.XPT\n",
      "C:\\Users\\Ganga\\Desktop\\Research\\CDCDiab1\\09-10\\All\\DR2IFF_F.XPT\n",
      "C:\\Users\\Ganga\\Desktop\\Research\\CDCDiab1\\09-10\\All\\DR2TOT_F.XPT\n",
      "C:\\Users\\Ganga\\Desktop\\Research\\CDCDiab1\\09-10\\All\\DS1IDS_F.XPT\n",
      "C:\\Users\\Ganga\\Desktop\\Research\\CDCDiab1\\09-10\\All\\DS1TOT_F.XPT\n",
      "C:\\Users\\Ganga\\Desktop\\Research\\CDCDiab1\\09-10\\All\\DS2IDS_F.XPT\n",
      "C:\\Users\\Ganga\\Desktop\\Research\\CDCDiab1\\09-10\\All\\DS2TOT_F.XPT\n",
      "C:\\Users\\Ganga\\Desktop\\Research\\CDCDiab1\\09-10\\All\\DSQIDS_F.XPT\n",
      "C:\\Users\\Ganga\\Desktop\\Research\\CDCDiab1\\09-10\\All\\DSQTOT_F.XPT\n",
      "C:\\Users\\Ganga\\Desktop\\Research\\CDCDiab1\\09-10\\All\\DTQ_F.XPT\n",
      "C:\\Users\\Ganga\\Desktop\\Research\\CDCDiab1\\09-10\\All\\DUQ_F.XPT\n",
      "C:\\Users\\Ganga\\Desktop\\Research\\CDCDiab1\\09-10\\All\\DXXFEM_F.XPT\n",
      "C:\\Users\\Ganga\\Desktop\\Research\\CDCDiab1\\09-10\\All\\DXXSPN_F.XPT\n",
      "C:\\Users\\Ganga\\Desktop\\Research\\CDCDiab1\\09-10\\All\\ECQ_F.XPT\n",
      "C:\\Users\\Ganga\\Desktop\\Research\\CDCDiab1\\09-10\\All\\ENX_F.XPT\n",
      "C:\\Users\\Ganga\\Desktop\\Research\\CDCDiab1\\09-10\\All\\EPH_F.XPT\n",
      "C:\\Users\\Ganga\\Desktop\\Research\\CDCDiab1\\09-10\\All\\FASTQX_F.XPT\n",
      "C:\\Users\\Ganga\\Desktop\\Research\\CDCDiab1\\09-10\\All\\FERTIN_F.XPT\n",
      "C:\\Users\\Ganga\\Desktop\\Research\\CDCDiab1\\09-10\\All\\FOLATE_F.XPT\n",
      "C:\\Users\\Ganga\\Desktop\\Research\\CDCDiab1\\09-10\\All\\FSQ_F.XPT\n",
      "C:\\Users\\Ganga\\Desktop\\Research\\CDCDiab1\\09-10\\All\\GHB_F.XPT\n",
      "C:\\Users\\Ganga\\Desktop\\Research\\CDCDiab1\\09-10\\All\\GLU_F.XPT\n",
      "C:\\Users\\Ganga\\Desktop\\Research\\CDCDiab1\\09-10\\All\\HCQ_F.XPT\n",
      "C:\\Users\\Ganga\\Desktop\\Research\\CDCDiab1\\09-10\\All\\HDL_F.XPT\n",
      "C:\\Users\\Ganga\\Desktop\\Research\\CDCDiab1\\09-10\\All\\HEPA_F.XPT\n",
      "C:\\Users\\Ganga\\Desktop\\Research\\CDCDiab1\\09-10\\All\\HEPBD_F.XPT\n",
      "C:\\Users\\Ganga\\Desktop\\Research\\CDCDiab1\\09-10\\All\\HEPB_S_F.XPT\n",
      "C:\\Users\\Ganga\\Desktop\\Research\\CDCDiab1\\09-10\\All\\HEPC_F.XPT\n",
      "C:\\Users\\Ganga\\Desktop\\Research\\CDCDiab1\\09-10\\All\\HEPE_F.XPT\n",
      "C:\\Users\\Ganga\\Desktop\\Research\\CDCDiab1\\09-10\\All\\HIQ_F.XPT\n",
      "C:\\Users\\Ganga\\Desktop\\Research\\CDCDiab1\\09-10\\All\\HIV_F.XPT\n",
      "C:\\Users\\Ganga\\Desktop\\Research\\CDCDiab1\\09-10\\All\\HOQ_F.XPT\n",
      "C:\\Users\\Ganga\\Desktop\\Research\\CDCDiab1\\09-10\\All\\HPVSER_F.XPT\n",
      "C:\\Users\\Ganga\\Desktop\\Research\\CDCDiab1\\09-10\\All\\HPVSWR_F.XPT\n",
      "C:\\Users\\Ganga\\Desktop\\Research\\CDCDiab1\\09-10\\All\\HSQ_F.XPT\n",
      "C:\\Users\\Ganga\\Desktop\\Research\\CDCDiab1\\09-10\\All\\HSV_F.XPT\n",
      "C:\\Users\\Ganga\\Desktop\\Research\\CDCDiab1\\09-10\\All\\HUQ_F.XPT\n",
      "C:\\Users\\Ganga\\Desktop\\Research\\CDCDiab1\\09-10\\All\\IHG_F.XPT\n",
      "C:\\Users\\Ganga\\Desktop\\Research\\CDCDiab1\\09-10\\All\\IMQ_F.XPT\n",
      "C:\\Users\\Ganga\\Desktop\\Research\\CDCDiab1\\09-10\\All\\INQ_F.XPT\n",
      "C:\\Users\\Ganga\\Desktop\\Research\\CDCDiab1\\09-10\\All\\KIQ_U_F.XPT\n",
      "C:\\Users\\Ganga\\Desktop\\Research\\CDCDiab1\\09-10\\All\\MCQ_F.XPT\n",
      "C:\\Users\\Ganga\\Desktop\\Research\\CDCDiab1\\09-10\\All\\MMRV_F.XPT\n",
      "C:\\Users\\Ganga\\Desktop\\Research\\CDCDiab1\\09-10\\All\\OCQ_F.XPT\n",
      "C:\\Users\\Ganga\\Desktop\\Research\\CDCDiab1\\09-10\\All\\OGTT_F.XPT\n",
      "C:\\Users\\Ganga\\Desktop\\Research\\CDCDiab1\\09-10\\All\\OHQ_F.XPT\n",
      "C:\\Users\\Ganga\\Desktop\\Research\\CDCDiab1\\09-10\\All\\OHXDEN_F.XPT\n",
      "C:\\Users\\Ganga\\Desktop\\Research\\CDCDiab1\\09-10\\All\\OHXPER_F.XPT\n",
      "C:\\Users\\Ganga\\Desktop\\Research\\CDCDiab1\\09-10\\All\\OHXREF_F.XPT\n",
      "C:\\Users\\Ganga\\Desktop\\Research\\CDCDiab1\\09-10\\All\\ORHPV_F.XPT\n",
      "C:\\Users\\Ganga\\Desktop\\Research\\CDCDiab1\\09-10\\All\\OSQ_F.XPT\n",
      "C:\\Users\\Ganga\\Desktop\\Research\\CDCDiab1\\09-10\\All\\PAH_F.XPT\n",
      "C:\\Users\\Ganga\\Desktop\\Research\\CDCDiab1\\09-10\\All\\PAQ_F.XPT\n",
      "C:\\Users\\Ganga\\Desktop\\Research\\CDCDiab1\\09-10\\All\\PBCD_F.XPT\n",
      "C:\\Users\\Ganga\\Desktop\\Research\\CDCDiab1\\09-10\\All\\PERNT_F.XPT\n",
      "C:\\Users\\Ganga\\Desktop\\Research\\CDCDiab1\\09-10\\All\\PFC_F.XPT\n",
      "C:\\Users\\Ganga\\Desktop\\Research\\CDCDiab1\\09-10\\All\\PFQ_F.XPT\n",
      "C:\\Users\\Ganga\\Desktop\\Research\\CDCDiab1\\09-10\\All\\PHTHTE_F.XPT\n",
      "C:\\Users\\Ganga\\Desktop\\Research\\CDCDiab1\\09-10\\All\\PHYTO_F.XPT\n",
      "C:\\Users\\Ganga\\Desktop\\Research\\CDCDiab1\\09-10\\All\\POOLTF_F.XPT\n",
      "C:\\Users\\Ganga\\Desktop\\Research\\CDCDiab1\\09-10\\All\\PP_F.XPT\n",
      "C:\\Users\\Ganga\\Desktop\\Research\\CDCDiab1\\09-10\\All\\PSA_F.XPT\n",
      "C:\\Users\\Ganga\\Desktop\\Research\\CDCDiab1\\09-10\\All\\PUQMEC_F.XPT\n",
      "C:\\Users\\Ganga\\Desktop\\Research\\CDCDiab1\\09-10\\All\\RDQ_F.XPT\n",
      "C:\\Users\\Ganga\\Desktop\\Research\\CDCDiab1\\09-10\\All\\RHQ_F.XPT\n",
      "C:\\Users\\Ganga\\Desktop\\Research\\CDCDiab1\\09-10\\All\\RXQ_RX_F.XPT\n",
      "C:\\Users\\Ganga\\Desktop\\Research\\CDCDiab1\\09-10\\All\\SLQ_F.XPT\n",
      "C:\\Users\\Ganga\\Desktop\\Research\\CDCDiab1\\09-10\\All\\SMQFAM_F.XPT\n",
      "C:\\Users\\Ganga\\Desktop\\Research\\CDCDiab1\\09-10\\All\\SMQRTU_F.XPT\n",
      "C:\\Users\\Ganga\\Desktop\\Research\\CDCDiab1\\09-10\\All\\SMQ_F.XPT\n",
      "C:\\Users\\Ganga\\Desktop\\Research\\CDCDiab1\\09-10\\All\\SPX_F.XPT\n",
      "C:\\Users\\Ganga\\Desktop\\Research\\CDCDiab1\\09-10\\All\\SSEBV_F.XPT\n",
      "C:\\Users\\Ganga\\Desktop\\Research\\CDCDiab1\\09-10\\All\\SSHCV_E.XPT\n",
      "C:\\Users\\Ganga\\Desktop\\Research\\CDCDiab1\\09-10\\All\\SSHPV_F.XPT\n",
      "C:\\Users\\Ganga\\Desktop\\Research\\CDCDiab1\\09-10\\All\\SSPOLI_F.XPT\n",
      "C:\\Users\\Ganga\\Desktop\\Research\\CDCDiab1\\09-10\\All\\SSTOXO_F.XPT\n",
      "C:\\Users\\Ganga\\Desktop\\Research\\CDCDiab1\\09-10\\All\\SXQ_F.XPT\n",
      "C:\\Users\\Ganga\\Desktop\\Research\\CDCDiab1\\09-10\\All\\TCHOL_F.XPT\n",
      "C:\\Users\\Ganga\\Desktop\\Research\\CDCDiab1\\09-10\\All\\TFA_F.XPT\n",
      "C:\\Users\\Ganga\\Desktop\\Research\\CDCDiab1\\09-10\\All\\TFR_F.XPT\n",
      "C:\\Users\\Ganga\\Desktop\\Research\\CDCDiab1\\09-10\\All\\TGEMA_F.XPT\n",
      "C:\\Users\\Ganga\\Desktop\\Research\\CDCDiab1\\09-10\\All\\THYROD_F.XPT\n",
      "C:\\Users\\Ganga\\Desktop\\Research\\CDCDiab1\\09-10\\All\\TRIGLY_F.XPT\n",
      "C:\\Users\\Ganga\\Desktop\\Research\\CDCDiab1\\09-10\\All\\UAS_F.XPT\n",
      "C:\\Users\\Ganga\\Desktop\\Research\\CDCDiab1\\09-10\\All\\UCFLOW_F.XPT\n",
      "C:\\Users\\Ganga\\Desktop\\Research\\CDCDiab1\\09-10\\All\\UCOSMO_F.XPT\n",
      "C:\\Users\\Ganga\\Desktop\\Research\\CDCDiab1\\09-10\\All\\UCPREG_F.XPT\n",
      "C:\\Users\\Ganga\\Desktop\\Research\\CDCDiab1\\09-10\\All\\UHG_F.XPT\n",
      "C:\\Users\\Ganga\\Desktop\\Research\\CDCDiab1\\09-10\\All\\UHM_F.XPT\n",
      "C:\\Users\\Ganga\\Desktop\\Research\\CDCDiab1\\09-10\\All\\UIO_F.XPT\n",
      "C:\\Users\\Ganga\\Desktop\\Research\\CDCDiab1\\09-10\\All\\UPHOPM_F.XPT\n",
      "C:\\Users\\Ganga\\Desktop\\Research\\CDCDiab1\\09-10\\All\\VID_F.XPT\n",
      "C:\\Users\\Ganga\\Desktop\\Research\\CDCDiab1\\09-10\\All\\VIT_B6_F.XPT\n",
      "C:\\Users\\Ganga\\Desktop\\Research\\CDCDiab1\\09-10\\All\\VOCMWB_F.XPT\n",
      "C:\\Users\\Ganga\\Desktop\\Research\\CDCDiab1\\09-10\\All\\VOCWB_F.XPT\n",
      "C:\\Users\\Ganga\\Desktop\\Research\\CDCDiab1\\09-10\\All\\VOC_F.XPT\n",
      "C:\\Users\\Ganga\\Desktop\\Research\\CDCDiab1\\09-10\\All\\VTQ_F.XPT\n",
      "C:\\Users\\Ganga\\Desktop\\Research\\CDCDiab1\\09-10\\All\\WHQMEC_F.XPT\n",
      "C:\\Users\\Ganga\\Desktop\\Research\\CDCDiab1\\09-10\\All\\WHQ_F.XPT\n"
     ]
    }
   ],
   "source": [
    "path = 'C:\\\\Users\\\\Ganga\\\\Desktop\\\\Research\\\\CDCDiab1\\\\09-10\\\\All'\n",
    "allFiles = glob.glob(os.path.join(path,\"*.xpt\"))\n",
    "\n",
    "data = np.array([np.arange(51624,62161)]).T\n",
    "All =pd.DataFrame(data, index = range(51623,62160),columns=['SEQN'])\n",
    "\n",
    "for infile in allFiles:\n",
    "    print(infile)\n",
    "    df = pd.read_sas(infile)\n",
    "    df['SEQN']=df['SEQN'].astype(int)\n",
    "    All = All.merge(df.drop_duplicates(subset=['SEQN']),on='SEQN', how='left')"
   ]
  },
  {
   "cell_type": "code",
   "execution_count": 59,
   "metadata": {},
   "outputs": [
    {
     "data": {
      "text/plain": [
       "(10537, 4037)"
      ]
     },
     "execution_count": 59,
     "metadata": {},
     "output_type": "execute_result"
    }
   ],
   "source": [
    "All.shape"
   ]
  },
  {
   "cell_type": "code",
   "execution_count": 68,
   "metadata": {},
   "outputs": [
    {
     "name": "stdout",
     "output_type": "stream",
     "text": [
      "C:\\Users\\Ganga\\Desktop\\Research\\CDCDiab1\\09-10\\Demographic\\DEMO_F.XPT\n"
     ]
    }
   ],
   "source": [
    "path = 'C:\\\\Users\\\\Ganga\\\\Desktop\\\\Research\\\\CDCDiab1\\\\09-10\\\\Demographic'\n",
    "allFiles = glob.glob(os.path.join(path,\"*.xpt\"))\n",
    "\n",
    "data = np.array([np.arange(51624,62161)]).T\n",
    "Demo =pd.DataFrame(data, index = range(51623,62160),columns=['SEQN'])\n",
    "\n",
    "for infile in allFiles:\n",
    "    print(infile)\n",
    "    df = pd.read_sas(infile)\n",
    "    df['SEQN']=df['SEQN'].astype(int)\n",
    "    Demo = Demo.merge(df.drop_duplicates(subset=['SEQN']),on='SEQN', how='left')"
   ]
  },
  {
   "cell_type": "code",
   "execution_count": 69,
   "metadata": {},
   "outputs": [
    {
     "data": {
      "text/plain": [
       "(10537, 43)"
      ]
     },
     "execution_count": 69,
     "metadata": {},
     "output_type": "execute_result"
    }
   ],
   "source": [
    "Demo.shape"
   ]
  },
  {
   "cell_type": "code",
   "execution_count": 70,
   "metadata": {},
   "outputs": [],
   "source": [
    "All.to_csv('All.csv')"
   ]
  },
  {
   "cell_type": "code",
   "execution_count": null,
   "metadata": {},
   "outputs": [],
   "source": []
  }
 ],
 "metadata": {
  "kernelspec": {
   "display_name": "Python 3",
   "language": "python",
   "name": "python3"
  },
  "language_info": {
   "codemirror_mode": {
    "name": "ipython",
    "version": 3
   },
   "file_extension": ".py",
   "mimetype": "text/x-python",
   "name": "python",
   "nbconvert_exporter": "python",
   "pygments_lexer": "ipython3",
   "version": "3.6.4"
  }
 },
 "nbformat": 4,
 "nbformat_minor": 2
}
