{
 "cells": [
  {
   "cell_type": "markdown",
   "metadata": {},
   "source": [
    "#  Processing Questionnaire - Current Health Status (HSQ) file"
   ]
  },
  {
   "cell_type": "code",
   "execution_count": 1,
   "metadata": {},
   "outputs": [],
   "source": [
    "import numpy as np\n",
    "import pandas as pd\n",
    "import glob \n",
    "import os\n",
    "import sys"
   ]
  },
  {
   "cell_type": "code",
   "execution_count": 2,
   "metadata": {},
   "outputs": [
    {
     "data": {
      "text/plain": [
       "'C:\\\\Users\\\\Ganga\\\\Desktop\\\\Research\\\\CDCDiab_2.0\\\\Code'"
      ]
     },
     "execution_count": 2,
     "metadata": {},
     "output_type": "execute_result"
    }
   ],
   "source": [
    "os.getcwd()"
   ]
  },
  {
   "cell_type": "code",
   "execution_count": 3,
   "metadata": {},
   "outputs": [
    {
     "name": "stdout",
     "output_type": "stream",
     "text": [
      "['C:\\\\Users\\\\Ganga\\\\Desktop\\\\Research\\\\CDCDiab_2.0\\\\Data\\\\07-08\\\\Quest\\\\ACQ_E.XPT', 'C:\\\\Users\\\\Ganga\\\\Desktop\\\\Research\\\\CDCDiab_2.0\\\\Data\\\\07-08\\\\Quest\\\\ALQ_E.XPT', 'C:\\\\Users\\\\Ganga\\\\Desktop\\\\Research\\\\CDCDiab_2.0\\\\Data\\\\07-08\\\\Quest\\\\AQQ_E.XPT', 'C:\\\\Users\\\\Ganga\\\\Desktop\\\\Research\\\\CDCDiab_2.0\\\\Data\\\\07-08\\\\Quest\\\\AUQ_E.XPT', 'C:\\\\Users\\\\Ganga\\\\Desktop\\\\Research\\\\CDCDiab_2.0\\\\Data\\\\07-08\\\\Quest\\\\BHQ_E.XPT', 'C:\\\\Users\\\\Ganga\\\\Desktop\\\\Research\\\\CDCDiab_2.0\\\\Data\\\\07-08\\\\Quest\\\\BPQ_E.XPT', 'C:\\\\Users\\\\Ganga\\\\Desktop\\\\Research\\\\CDCDiab_2.0\\\\Data\\\\07-08\\\\Quest\\\\CBQPFA_E.XPT', 'C:\\\\Users\\\\Ganga\\\\Desktop\\\\Research\\\\CDCDiab_2.0\\\\Data\\\\07-08\\\\Quest\\\\CBQPFC_E.XPT', 'C:\\\\Users\\\\Ganga\\\\Desktop\\\\Research\\\\CDCDiab_2.0\\\\Data\\\\07-08\\\\Quest\\\\CBQ_E.XPT', 'C:\\\\Users\\\\Ganga\\\\Desktop\\\\Research\\\\CDCDiab_2.0\\\\Data\\\\07-08\\\\Quest\\\\CDQ_E.XPT', 'C:\\\\Users\\\\Ganga\\\\Desktop\\\\Research\\\\CDCDiab_2.0\\\\Data\\\\07-08\\\\Quest\\\\DBQ_E.XPT', 'C:\\\\Users\\\\Ganga\\\\Desktop\\\\Research\\\\CDCDiab_2.0\\\\Data\\\\07-08\\\\Quest\\\\DIQ_E.XPT', 'C:\\\\Users\\\\Ganga\\\\Desktop\\\\Research\\\\CDCDiab_2.0\\\\Data\\\\07-08\\\\Quest\\\\DPQ_E.XPT', 'C:\\\\Users\\\\Ganga\\\\Desktop\\\\Research\\\\CDCDiab_2.0\\\\Data\\\\07-08\\\\Quest\\\\DUQ_E.XPT', 'C:\\\\Users\\\\Ganga\\\\Desktop\\\\Research\\\\CDCDiab_2.0\\\\Data\\\\07-08\\\\Quest\\\\ECQ_E.XPT', 'C:\\\\Users\\\\Ganga\\\\Desktop\\\\Research\\\\CDCDiab_2.0\\\\Data\\\\07-08\\\\Quest\\\\FSQ_E.XPT', 'C:\\\\Users\\\\Ganga\\\\Desktop\\\\Research\\\\CDCDiab_2.0\\\\Data\\\\07-08\\\\Quest\\\\HCQ_E.XPT', 'C:\\\\Users\\\\Ganga\\\\Desktop\\\\Research\\\\CDCDiab_2.0\\\\Data\\\\07-08\\\\Quest\\\\HIQ_E.XPT', 'C:\\\\Users\\\\Ganga\\\\Desktop\\\\Research\\\\CDCDiab_2.0\\\\Data\\\\07-08\\\\Quest\\\\HOQ_E.XPT', 'C:\\\\Users\\\\Ganga\\\\Desktop\\\\Research\\\\CDCDiab_2.0\\\\Data\\\\07-08\\\\Quest\\\\HSQ_E.XPT', 'C:\\\\Users\\\\Ganga\\\\Desktop\\\\Research\\\\CDCDiab_2.0\\\\Data\\\\07-08\\\\Quest\\\\HUQ_E.XPT', 'C:\\\\Users\\\\Ganga\\\\Desktop\\\\Research\\\\CDCDiab_2.0\\\\Data\\\\07-08\\\\Quest\\\\IMQ_E.XPT', 'C:\\\\Users\\\\Ganga\\\\Desktop\\\\Research\\\\CDCDiab_2.0\\\\Data\\\\07-08\\\\Quest\\\\INQ_E.XPT', 'C:\\\\Users\\\\Ganga\\\\Desktop\\\\Research\\\\CDCDiab_2.0\\\\Data\\\\07-08\\\\Quest\\\\KIQ_P_E.XPT', 'C:\\\\Users\\\\Ganga\\\\Desktop\\\\Research\\\\CDCDiab_2.0\\\\Data\\\\07-08\\\\Quest\\\\KIQ_U_E.XPT', 'C:\\\\Users\\\\Ganga\\\\Desktop\\\\Research\\\\CDCDiab_2.0\\\\Data\\\\07-08\\\\Quest\\\\MCQ_E.XPT', 'C:\\\\Users\\\\Ganga\\\\Desktop\\\\Research\\\\CDCDiab_2.0\\\\Data\\\\07-08\\\\Quest\\\\OCQ_E.XPT', 'C:\\\\Users\\\\Ganga\\\\Desktop\\\\Research\\\\CDCDiab_2.0\\\\Data\\\\07-08\\\\Quest\\\\OHQ_E.XPT', 'C:\\\\Users\\\\Ganga\\\\Desktop\\\\Research\\\\CDCDiab_2.0\\\\Data\\\\07-08\\\\Quest\\\\OSQ_E.XPT', 'C:\\\\Users\\\\Ganga\\\\Desktop\\\\Research\\\\CDCDiab_2.0\\\\Data\\\\07-08\\\\Quest\\\\PAQ_E.XPT', 'C:\\\\Users\\\\Ganga\\\\Desktop\\\\Research\\\\CDCDiab_2.0\\\\Data\\\\07-08\\\\Quest\\\\PFQ_E.XPT', 'C:\\\\Users\\\\Ganga\\\\Desktop\\\\Research\\\\CDCDiab_2.0\\\\Data\\\\07-08\\\\Quest\\\\PUQMEC_E.XPT', 'C:\\\\Users\\\\Ganga\\\\Desktop\\\\Research\\\\CDCDiab_2.0\\\\Data\\\\07-08\\\\Quest\\\\RDQ_E.XPT', 'C:\\\\Users\\\\Ganga\\\\Desktop\\\\Research\\\\CDCDiab_2.0\\\\Data\\\\07-08\\\\Quest\\\\RHQ_E.XPT', 'C:\\\\Users\\\\Ganga\\\\Desktop\\\\Research\\\\CDCDiab_2.0\\\\Data\\\\07-08\\\\Quest\\\\RXQ_RX_E.XPT', 'C:\\\\Users\\\\Ganga\\\\Desktop\\\\Research\\\\CDCDiab_2.0\\\\Data\\\\07-08\\\\Quest\\\\SLQ_E.XPT', 'C:\\\\Users\\\\Ganga\\\\Desktop\\\\Research\\\\CDCDiab_2.0\\\\Data\\\\07-08\\\\Quest\\\\SMQFAM_E.XPT', 'C:\\\\Users\\\\Ganga\\\\Desktop\\\\Research\\\\CDCDiab_2.0\\\\Data\\\\07-08\\\\Quest\\\\SMQRTU_E.XPT', 'C:\\\\Users\\\\Ganga\\\\Desktop\\\\Research\\\\CDCDiab_2.0\\\\Data\\\\07-08\\\\Quest\\\\SMQ_E.XPT', 'C:\\\\Users\\\\Ganga\\\\Desktop\\\\Research\\\\CDCDiab_2.0\\\\Data\\\\07-08\\\\Quest\\\\SSQ_E.XPT', 'C:\\\\Users\\\\Ganga\\\\Desktop\\\\Research\\\\CDCDiab_2.0\\\\Data\\\\07-08\\\\Quest\\\\SXQ_E.XPT', 'C:\\\\Users\\\\Ganga\\\\Desktop\\\\Research\\\\CDCDiab_2.0\\\\Data\\\\07-08\\\\Quest\\\\VIQ_E.XPT', 'C:\\\\Users\\\\Ganga\\\\Desktop\\\\Research\\\\CDCDiab_2.0\\\\Data\\\\07-08\\\\Quest\\\\WHQMEC_E.XPT', 'C:\\\\Users\\\\Ganga\\\\Desktop\\\\Research\\\\CDCDiab_2.0\\\\Data\\\\07-08\\\\Quest\\\\WHQ_E.XPT']\n"
     ]
    }
   ],
   "source": [
    "path = 'C:\\\\Users\\\\Ganga\\\\Desktop\\\\Research\\\\CDCDiab_2.0\\\\Data\\\\07-08\\\\Quest'\n",
    "allFiles = glob.glob(os.path.join(path,\"*.XPT\"))\n",
    "print(allFiles)"
   ]
  },
  {
   "cell_type": "code",
   "execution_count": 4,
   "metadata": {},
   "outputs": [
    {
     "data": {
      "text/plain": [
       "(9307, 13)"
      ]
     },
     "execution_count": 4,
     "metadata": {},
     "output_type": "execute_result"
    }
   ],
   "source": [
    "HSQ = pd.read_sas('C:\\\\Users\\\\Ganga\\\\Desktop\\\\Research\\\\CDCDiab_2.0\\\\Data\\\\07-08\\\\Quest\\\\HSQ_E.XPT', index='SEQN')\n",
    "HSQ.shape  "
   ]
  },
  {
   "cell_type": "code",
   "execution_count": 7,
   "metadata": {},
   "outputs": [
    {
     "data": {
      "text/plain": [
       "(9666, 35)"
      ]
     },
     "execution_count": 7,
     "metadata": {},
     "output_type": "execute_result"
    }
   ],
   "source": [
    "DIQ = pd.read_sas('C:\\\\Users\\\\Ganga\\\\Desktop\\\\Research\\\\CDCDiab_2.0\\\\Data\\\\07-08\\\\Quest\\\\DIQ_E.XPT', index='SEQN')\n",
    "DIQ.shape  "
   ]
  },
  {
   "cell_type": "markdown",
   "metadata": {},
   "source": [
    "# Processing Column of HSQ"
   ]
  },
  {
   "cell_type": "code",
   "execution_count": 5,
   "metadata": {},
   "outputs": [
    {
     "name": "stdout",
     "output_type": "stream",
     "text": [
      "HSQ_reading1 shape =  (9307,)\n",
      "SEQN\n",
      "41475.0    3.0\n",
      "41476.0    NaN\n",
      "41477.0    3.0\n",
      "41478.0    NaN\n",
      "41479.0    4.0\n",
      "Name: HSD010, dtype: float64\n",
      "count    6356.000000\n",
      "mean        2.779264\n",
      "std         0.999237\n",
      "min         1.000000\n",
      "25%         2.000000\n",
      "50%         3.000000\n",
      "75%         3.000000\n",
      "max         9.000000\n",
      "Name: HSD010, dtype: float64\n"
     ]
    }
   ],
   "source": [
    "# HSD010 - General health condition\n",
    "HSQ_reading1 = HSQ['HSD010']\n",
    "print('HSQ_reading1 shape = ', HSQ_reading1.shape)\n",
    "print(HSQ_reading1.head())\n",
    "print(HSQ_reading1.describe())"
   ]
  },
  {
   "cell_type": "code",
   "execution_count": 8,
   "metadata": {},
   "outputs": [
    {
     "name": "stdout",
     "output_type": "stream",
     "text": [
      "DIQ_reading1 shape =  (9666,)\n",
      "SEQN\n",
      "41475.0    2.0\n",
      "41476.0    2.0\n",
      "41477.0    1.0\n",
      "41478.0    2.0\n",
      "41479.0    2.0\n",
      "Name: DIQ010, dtype: float64\n",
      "count    9666.000000\n",
      "mean        1.937099\n",
      "std         0.364736\n",
      "min         1.000000\n",
      "25%         2.000000\n",
      "50%         2.000000\n",
      "75%         2.000000\n",
      "max         9.000000\n",
      "Name: DIQ010, dtype: float64\n"
     ]
    }
   ],
   "source": [
    "DIQ_reading1 = DIQ['DIQ010']\n",
    "print('DIQ_reading1 shape = ', DIQ_reading1.shape)\n",
    "print(DIQ_reading1.head())\n",
    "print(DIQ_reading1.describe())"
   ]
  },
  {
   "cell_type": "code",
   "execution_count": 6,
   "metadata": {},
   "outputs": [
    {
     "name": "stdout",
     "output_type": "stream",
     "text": [
      "HSQ_reading1 missing values =   2951 from  9307 observations\n"
     ]
    }
   ],
   "source": [
    "print('HSQ_reading1 missing values =  ', HSQ_reading1.isnull().sum(), 'from ', HSQ_reading1.shape[0], 'observations')"
   ]
  },
  {
   "cell_type": "code",
   "execution_count": 9,
   "metadata": {},
   "outputs": [
    {
     "name": "stdout",
     "output_type": "stream",
     "text": [
      "All_HSQ shape =  (9666, 2)\n",
      "         HSD010  DIQ010\n",
      "SEQN                   \n",
      "41475.0     3.0     2.0\n",
      "41476.0     NaN     2.0\n",
      "41477.0     3.0     1.0\n",
      "41478.0     NaN     2.0\n",
      "41479.0     4.0     2.0\n"
     ]
    },
    {
     "data": {
      "text/html": [
       "<div>\n",
       "<style scoped>\n",
       "    .dataframe tbody tr th:only-of-type {\n",
       "        vertical-align: middle;\n",
       "    }\n",
       "\n",
       "    .dataframe tbody tr th {\n",
       "        vertical-align: top;\n",
       "    }\n",
       "\n",
       "    .dataframe thead th {\n",
       "        text-align: right;\n",
       "    }\n",
       "</style>\n",
       "<table border=\"1\" class=\"dataframe\">\n",
       "  <thead>\n",
       "    <tr style=\"text-align: right;\">\n",
       "      <th></th>\n",
       "      <th>HSD010</th>\n",
       "      <th>DIQ010</th>\n",
       "    </tr>\n",
       "  </thead>\n",
       "  <tbody>\n",
       "    <tr>\n",
       "      <th>count</th>\n",
       "      <td>6356.000000</td>\n",
       "      <td>9666.000000</td>\n",
       "    </tr>\n",
       "    <tr>\n",
       "      <th>mean</th>\n",
       "      <td>2.779264</td>\n",
       "      <td>1.937099</td>\n",
       "    </tr>\n",
       "    <tr>\n",
       "      <th>std</th>\n",
       "      <td>0.999237</td>\n",
       "      <td>0.364736</td>\n",
       "    </tr>\n",
       "    <tr>\n",
       "      <th>min</th>\n",
       "      <td>1.000000</td>\n",
       "      <td>1.000000</td>\n",
       "    </tr>\n",
       "    <tr>\n",
       "      <th>25%</th>\n",
       "      <td>2.000000</td>\n",
       "      <td>2.000000</td>\n",
       "    </tr>\n",
       "    <tr>\n",
       "      <th>50%</th>\n",
       "      <td>3.000000</td>\n",
       "      <td>2.000000</td>\n",
       "    </tr>\n",
       "    <tr>\n",
       "      <th>75%</th>\n",
       "      <td>3.000000</td>\n",
       "      <td>2.000000</td>\n",
       "    </tr>\n",
       "    <tr>\n",
       "      <th>max</th>\n",
       "      <td>9.000000</td>\n",
       "      <td>9.000000</td>\n",
       "    </tr>\n",
       "  </tbody>\n",
       "</table>\n",
       "</div>"
      ],
      "text/plain": [
       "            HSD010       DIQ010\n",
       "count  6356.000000  9666.000000\n",
       "mean      2.779264     1.937099\n",
       "std       0.999237     0.364736\n",
       "min       1.000000     1.000000\n",
       "25%       2.000000     2.000000\n",
       "50%       3.000000     2.000000\n",
       "75%       3.000000     2.000000\n",
       "max       9.000000     9.000000"
      ]
     },
     "execution_count": 9,
     "metadata": {},
     "output_type": "execute_result"
    }
   ],
   "source": [
    "All_HSQ = pd.concat([HSQ_reading1,DIQ_reading1],axis=1)\n",
    "print('All_HSQ shape = ', All_HSQ.shape)\n",
    "print(All_HSQ.head())\n",
    "All_HSQ.describe()"
   ]
  },
  {
   "cell_type": "code",
   "execution_count": 10,
   "metadata": {},
   "outputs": [],
   "source": [
    "All_HSQ.to_csv('all_HSQ.csv')"
   ]
  },
  {
   "cell_type": "code",
   "execution_count": null,
   "metadata": {},
   "outputs": [],
   "source": []
  }
 ],
 "metadata": {
  "kernelspec": {
   "display_name": "Python 3",
   "language": "python",
   "name": "python3"
  },
  "language_info": {
   "codemirror_mode": {
    "name": "ipython",
    "version": 3
   },
   "file_extension": ".py",
   "mimetype": "text/x-python",
   "name": "python",
   "nbconvert_exporter": "python",
   "pygments_lexer": "ipython3",
   "version": "3.6.4"
  }
 },
 "nbformat": 4,
 "nbformat_minor": 2
}
