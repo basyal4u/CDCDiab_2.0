{
 "cells": [
  {
   "cell_type": "markdown",
   "metadata": {},
   "source": [
    "#  Processing Examination - Blood Pressure File (BP)"
   ]
  },
  {
   "cell_type": "code",
   "execution_count": 2,
   "metadata": {},
   "outputs": [],
   "source": [
    "import numpy as np\n",
    "import pandas as pd\n",
    "import glob \n",
    "import os\n",
    "import sys"
   ]
  },
  {
   "cell_type": "code",
   "execution_count": 3,
   "metadata": {},
   "outputs": [
    {
     "data": {
      "text/plain": [
       "'C:\\\\Users\\\\Ganga\\\\Desktop\\\\Research\\\\CDCDiab_2.0\\\\Code'"
      ]
     },
     "execution_count": 3,
     "metadata": {},
     "output_type": "execute_result"
    }
   ],
   "source": [
    "os.getcwd()"
   ]
  },
  {
   "cell_type": "code",
   "execution_count": 9,
   "metadata": {},
   "outputs": [
    {
     "name": "stdout",
     "output_type": "stream",
     "text": [
      "['C:\\\\Users\\\\Ganga\\\\Desktop\\\\Research\\\\CDCDiab_2.0\\\\Data\\\\07-08\\\\Examination\\\\AUXAR_E.XPT', 'C:\\\\Users\\\\Ganga\\\\Desktop\\\\Research\\\\CDCDiab_2.0\\\\Data\\\\07-08\\\\Examination\\\\AUXTYM_E.XPT', 'C:\\\\Users\\\\Ganga\\\\Desktop\\\\Research\\\\CDCDiab_2.0\\\\Data\\\\07-08\\\\Examination\\\\AUX_E.XPT', 'C:\\\\Users\\\\Ganga\\\\Desktop\\\\Research\\\\CDCDiab_2.0\\\\Data\\\\07-08\\\\Examination\\\\BMX_E.XPT', 'C:\\\\Users\\\\Ganga\\\\Desktop\\\\Research\\\\CDCDiab_2.0\\\\Data\\\\07-08\\\\Examination\\\\BPX_E.XPT', 'C:\\\\Users\\\\Ganga\\\\Desktop\\\\Research\\\\CDCDiab_2.0\\\\Data\\\\07-08\\\\Examination\\\\DXXFEM_E.XPT', 'C:\\\\Users\\\\Ganga\\\\Desktop\\\\Research\\\\CDCDiab_2.0\\\\Data\\\\07-08\\\\Examination\\\\DXXSPN_E.XPT', 'C:\\\\Users\\\\Ganga\\\\Desktop\\\\Research\\\\CDCDiab_2.0\\\\Data\\\\07-08\\\\Examination\\\\ENX_E.XPT', 'C:\\\\Users\\\\Ganga\\\\Desktop\\\\Research\\\\CDCDiab_2.0\\\\Data\\\\07-08\\\\Examination\\\\OHX_E.XPT', 'C:\\\\Users\\\\Ganga\\\\Desktop\\\\Research\\\\CDCDiab_2.0\\\\Data\\\\07-08\\\\Examination\\\\OPXFDT_E.XPT', 'C:\\\\Users\\\\Ganga\\\\Desktop\\\\Research\\\\CDCDiab_2.0\\\\Data\\\\07-08\\\\Examination\\\\OPXRET_E.XPT', 'C:\\\\Users\\\\Ganga\\\\Desktop\\\\Research\\\\CDCDiab_2.0\\\\Data\\\\07-08\\\\Examination\\\\SPX_E.XPT', 'C:\\\\Users\\\\Ganga\\\\Desktop\\\\Research\\\\CDCDiab_2.0\\\\Data\\\\07-08\\\\Examination\\\\VIX_E.XPT']\n"
     ]
    }
   ],
   "source": [
    "path = 'C:\\\\Users\\\\Ganga\\\\Desktop\\\\Research\\\\CDCDiab_2.0\\\\Data\\\\07-08\\\\Examination'\n",
    "allFiles = glob.glob(os.path.join(path,\"*.XPT\"))\n",
    "print(allFiles)"
   ]
  },
  {
   "cell_type": "code",
   "execution_count": 10,
   "metadata": {},
   "outputs": [
    {
     "data": {
      "text/plain": [
       "(9762, 26)"
      ]
     },
     "execution_count": 10,
     "metadata": {},
     "output_type": "execute_result"
    }
   ],
   "source": [
    "BPX = pd.read_sas('C:\\\\Users\\\\Ganga\\\\Desktop\\\\Research\\\\CDCDiab_2.0\\\\Data\\\\07-08\\\\Examination\\\\BPX_E.XPT', index='SEQN')\n",
    "BPX.shape"
   ]
  },
  {
   "cell_type": "code",
   "execution_count": 17,
   "metadata": {},
   "outputs": [
    {
     "name": "stdout",
     "output_type": "stream",
     "text": [
      "['BPAARM', 'BPACSZ', 'BPAEN1', 'BPAEN2', 'BPAEN3', 'BPAEN4', 'BPQ150A', 'BPQ150B', 'BPQ150C', 'BPQ150D', 'BPXCHR', 'BPXDI1', 'BPXDI2', 'BPXDI3', 'BPXDI4', 'BPXML1', 'BPXPLS', 'BPXPTY', 'BPXPULS', 'BPXSY1', 'BPXSY2', 'BPXSY3', 'BPXSY4', 'PEASCCT1', 'PEASCST1', 'PEASCTM1']\n"
     ]
    }
   ],
   "source": [
    "A = set(BPX.columns)\n",
    "print(sorted(A))"
   ]
  },
  {
   "cell_type": "code",
   "execution_count": 18,
   "metadata": {},
   "outputs": [
    {
     "name": "stdout",
     "output_type": "stream",
     "text": [
      "{'BPXSY4', 'BPXPLS', 'PEASCCT1', 'BPXSY2', 'BPAEN1', 'BPXCHR', 'BPXDI3', 'BPAEN4', 'BPQ150D', 'BPXDI4', 'BPXPTY', 'BPAEN2', 'BPAEN3', 'BPXSY1', 'BPXML1', 'BPXPULS', 'BPXDI1', 'PEASCST1', 'BPQ150A', 'BPQ150C', 'BPXSY3', 'BPAARM', 'BPQ150B', 'BPXDI2', 'PEASCTM1', 'BPACSZ'}\n"
     ]
    }
   ],
   "source": [
    "A = set(BPX.columns)\n",
    "print(A)"
   ]
  },
  {
   "cell_type": "markdown",
   "metadata": {},
   "source": [
    "# Processing Column of BPX\n",
    "\n",
    "## Blood pressure reading is taken 3 times and if any inconsistency found then even fourth time. Below we -\n",
    "### Provided the description of all 4 readings (Systolic) \n",
    "### merge for mean of all four.\n",
    "### BP readings of age 8 and more had been recorded. All readings are in mm/hg\n",
    "### Reading for systolic cannot be zero and should always be grater then diastolic"
   ]
  },
  {
   "cell_type": "code",
   "execution_count": 23,
   "metadata": {},
   "outputs": [
    {
     "name": "stdout",
     "output_type": "stream",
     "text": [
      "bp_reading1 shape =  (9762,)\n",
      "SEQN\n",
      "41475.0    64.0\n",
      "41476.0     NaN\n",
      "41477.0    60.0\n",
      "41478.0     NaN\n",
      "41479.0    70.0\n",
      "Name: BPXDI1, dtype: float64\n",
      "count    7.147000e+03\n",
      "mean     6.695984e+01\n",
      "std      1.444818e+01\n",
      "min      5.397605e-79\n",
      "25%      5.800000e+01\n",
      "50%      6.800000e+01\n",
      "75%      7.600000e+01\n",
      "max      1.160000e+02\n",
      "Name: BPXDI1, dtype: float64\n"
     ]
    }
   ],
   "source": [
    "bp_reading1 = BPX['BPXDI1']\n",
    "print('bp_reading1 shape = ', bp_reading1.shape)\n",
    "print(bp_reading1.head())\n",
    "print(bp_reading1.describe())"
   ]
  },
  {
   "cell_type": "code",
   "execution_count": 30,
   "metadata": {},
   "outputs": [
    {
     "name": "stdout",
     "output_type": "stream",
     "text": [
      "bp_reading2 shape =  (9762,)\n",
      "SEQN\n",
      "41475.0    60.0\n",
      "41476.0     NaN\n",
      "41477.0    60.0\n",
      "41478.0     NaN\n",
      "41479.0    66.0\n",
      "Name: BPXDI2, dtype: float64\n",
      "count    6.876000e+03\n",
      "mean     6.696015e+01\n",
      "std      1.422390e+01\n",
      "min      5.397605e-79\n",
      "25%      5.950000e+01\n",
      "50%      6.800000e+01\n",
      "75%      7.600000e+01\n",
      "max      1.220000e+02\n",
      "Name: BPXDI2, dtype: float64\n"
     ]
    }
   ],
   "source": [
    "bp_reading2 = BPX['BPXDI2']\n",
    "print('bp_reading2 shape = ', bp_reading2.shape)\n",
    "print(bp_reading2.head())\n",
    "print(bp_reading2.describe())"
   ]
  },
  {
   "cell_type": "code",
   "execution_count": 31,
   "metadata": {},
   "outputs": [
    {
     "name": "stdout",
     "output_type": "stream",
     "text": [
      "bp_reading3 shape =  (9762,)\n",
      "SEQN\n",
      "41475.0    58.0\n",
      "41476.0     NaN\n",
      "41477.0    38.0\n",
      "41478.0     NaN\n",
      "41479.0    66.0\n",
      "Name: BPXDI3, dtype: float64\n",
      "count    6.759000e+03\n",
      "mean     6.671786e+01\n",
      "std      1.442908e+01\n",
      "min      5.397605e-79\n",
      "25%      5.800000e+01\n",
      "50%      6.800000e+01\n",
      "75%      7.600000e+01\n",
      "max      1.200000e+02\n",
      "Name: BPXDI3, dtype: float64\n"
     ]
    }
   ],
   "source": [
    "bp_reading3 = BPX['BPXDI3']\n",
    "print('bp_reading3 shape = ', bp_reading3.shape)\n",
    "print(bp_reading3.head())\n",
    "print(bp_reading3.describe())"
   ]
  },
  {
   "cell_type": "code",
   "execution_count": 32,
   "metadata": {},
   "outputs": [
    {
     "name": "stdout",
     "output_type": "stream",
     "text": [
      "bp_reading4 shape =  (9762,)\n",
      "SEQN\n",
      "41475.0   NaN\n",
      "41476.0   NaN\n",
      "41477.0   NaN\n",
      "41478.0   NaN\n",
      "41479.0   NaN\n",
      "Name: BPXDI4, dtype: float64\n",
      "count    2.250000e+02\n",
      "mean     7.102222e+01\n",
      "std      1.650986e+01\n",
      "min      5.397605e-79\n",
      "25%      6.200000e+01\n",
      "50%      7.200000e+01\n",
      "75%      8.200000e+01\n",
      "max      1.180000e+02\n",
      "Name: BPXDI4, dtype: float64\n"
     ]
    }
   ],
   "source": [
    "bp_reading4 = BPX['BPXDI4']\n",
    "print('bp_reading4 shape = ', bp_reading4.shape)\n",
    "print(bp_reading4.head())\n",
    "print(bp_reading4.describe())"
   ]
  },
  {
   "cell_type": "code",
   "execution_count": 33,
   "metadata": {},
   "outputs": [
    {
     "name": "stdout",
     "output_type": "stream",
     "text": [
      "bp_reading1 missing values =   2615 from  9762 observations\n",
      "bp_reading2 missing values =  2886 from  9762 observations\n",
      "bp_reading3 missing values =   3003 from  9762 observations\n",
      "bp_reading4 missing values =  9537 from  9762 observations\n"
     ]
    }
   ],
   "source": [
    "print('bp_reading1 missing values =  ', bp_reading1.isnull().sum(), 'from ', bp_reading1.shape[0], 'observations')\n",
    "print('bp_reading2 missing values = ', bp_reading2.isnull().sum(), 'from ', bp_reading2.shape[0], 'observations')\n",
    "print('bp_reading3 missing values =  ', bp_reading3.isnull().sum(), 'from ', bp_reading3.shape[0], 'observations')\n",
    "print('bp_reading4 missing values = ', bp_reading4.isnull().sum(), 'from ', bp_reading4.shape[0], 'observations')"
   ]
  },
  {
   "cell_type": "code",
   "execution_count": 34,
   "metadata": {},
   "outputs": [
    {
     "name": "stdout",
     "output_type": "stream",
     "text": [
      "bp_reading_all shape =  (9762, 4)\n",
      "         BPXDI1  BPXDI2  BPXDI3  BPXDI4\n",
      "SEQN                                   \n",
      "41475.0    64.0    60.0    58.0     NaN\n",
      "41476.0     NaN     NaN     NaN     NaN\n",
      "41477.0    60.0    60.0    38.0     NaN\n",
      "41478.0     NaN     NaN     NaN     NaN\n",
      "41479.0    70.0    66.0    66.0     NaN\n"
     ]
    }
   ],
   "source": [
    "bp_reading_all = pd.concat([bp_reading1, bp_reading2,bp_reading3,bp_reading4], axis=1)\n",
    "print('bp_reading_all shape = ', bp_reading_all.shape)\n",
    "print(bp_reading_all.head())"
   ]
  },
  {
   "cell_type": "code",
   "execution_count": 37,
   "metadata": {},
   "outputs": [
    {
     "name": "stdout",
     "output_type": "stream",
     "text": [
      "Type of bp_reading_all_mean =  float64\n",
      "None\n",
      "Total_bp_mean\n"
     ]
    },
    {
     "data": {
      "text/plain": [
       "2412"
      ]
     },
     "execution_count": 37,
     "metadata": {},
     "output_type": "execute_result"
    }
   ],
   "source": [
    "bp_reading_all_mean = bp_reading_all.mean(axis=1, skipna=1)\n",
    "print('Type of bp_reading_all_mean = ', bp_reading_all_mean.dtype)\n",
    "print(bp_reading_all_mean.name)\n",
    "bp_reading_all_mean.name = 'Total_bp_mean'\n",
    "print(bp_reading_all_mean.name)\n",
    "bp_reading_all_mean.isnull().sum()"
   ]
  },
  {
   "cell_type": "code",
   "execution_count": 38,
   "metadata": {},
   "outputs": [
    {
     "name": "stdout",
     "output_type": "stream",
     "text": [
      "bp_mean_all shape =  (9762, 5)\n",
      "         BPXDI1  BPXDI2  BPXDI3  BPXDI4  Total_bp_mean\n",
      "SEQN                                                  \n",
      "41475.0    64.0    60.0    58.0     NaN      60.666667\n",
      "41476.0     NaN     NaN     NaN     NaN            NaN\n",
      "41477.0    60.0    60.0    38.0     NaN      52.666667\n",
      "41478.0     NaN     NaN     NaN     NaN            NaN\n",
      "41479.0    70.0    66.0    66.0     NaN      67.333333\n"
     ]
    }
   ],
   "source": [
    "bp_mean_all = pd.concat([bp_reading_all, bp_reading_all_mean], axis=1)\n",
    "print('bp_mean_all shape = ', bp_mean_all.shape)\n",
    "print(bp_mean_all.head())"
   ]
  },
  {
   "cell_type": "code",
   "execution_count": null,
   "metadata": {},
   "outputs": [],
   "source": []
  }
 ],
 "metadata": {
  "kernelspec": {
   "display_name": "Python 3",
   "language": "python",
   "name": "python3"
  },
  "language_info": {
   "codemirror_mode": {
    "name": "ipython",
    "version": 3
   },
   "file_extension": ".py",
   "mimetype": "text/x-python",
   "name": "python",
   "nbconvert_exporter": "python",
   "pygments_lexer": "ipython3",
   "version": "3.6.4"
  }
 },
 "nbformat": 4,
 "nbformat_minor": 2
}
