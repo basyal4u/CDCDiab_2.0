{
 "cells": [
  {
   "cell_type": "markdown",
   "metadata": {},
   "source": [
    "#  Processing Examination - Vision (VIX)"
   ]
  },
  {
   "cell_type": "code",
   "execution_count": 1,
   "metadata": {},
   "outputs": [],
   "source": [
    "import numpy as np\n",
    "import pandas as pd\n",
    "import glob \n",
    "import os\n",
    "import sys"
   ]
  },
  {
   "cell_type": "code",
   "execution_count": 2,
   "metadata": {},
   "outputs": [
    {
     "data": {
      "text/plain": [
       "'C:\\\\Users\\\\Ganga\\\\Desktop\\\\Research\\\\CDCDiab_2.0\\\\Code'"
      ]
     },
     "execution_count": 2,
     "metadata": {},
     "output_type": "execute_result"
    }
   ],
   "source": [
    "os.getcwd()"
   ]
  },
  {
   "cell_type": "code",
   "execution_count": 3,
   "metadata": {},
   "outputs": [
    {
     "name": "stdout",
     "output_type": "stream",
     "text": [
      "['C:\\\\Users\\\\Ganga\\\\Desktop\\\\Research\\\\CDCDiab_2.0\\\\Data\\\\07-08\\\\Examination\\\\AUXAR_E.XPT', 'C:\\\\Users\\\\Ganga\\\\Desktop\\\\Research\\\\CDCDiab_2.0\\\\Data\\\\07-08\\\\Examination\\\\AUXTYM_E.XPT', 'C:\\\\Users\\\\Ganga\\\\Desktop\\\\Research\\\\CDCDiab_2.0\\\\Data\\\\07-08\\\\Examination\\\\AUX_E.XPT', 'C:\\\\Users\\\\Ganga\\\\Desktop\\\\Research\\\\CDCDiab_2.0\\\\Data\\\\07-08\\\\Examination\\\\BMX_E.XPT', 'C:\\\\Users\\\\Ganga\\\\Desktop\\\\Research\\\\CDCDiab_2.0\\\\Data\\\\07-08\\\\Examination\\\\BPX_E.XPT', 'C:\\\\Users\\\\Ganga\\\\Desktop\\\\Research\\\\CDCDiab_2.0\\\\Data\\\\07-08\\\\Examination\\\\DXXFEM_E.XPT', 'C:\\\\Users\\\\Ganga\\\\Desktop\\\\Research\\\\CDCDiab_2.0\\\\Data\\\\07-08\\\\Examination\\\\DXXSPN_E.XPT', 'C:\\\\Users\\\\Ganga\\\\Desktop\\\\Research\\\\CDCDiab_2.0\\\\Data\\\\07-08\\\\Examination\\\\ENX_E.XPT', 'C:\\\\Users\\\\Ganga\\\\Desktop\\\\Research\\\\CDCDiab_2.0\\\\Data\\\\07-08\\\\Examination\\\\OHX_E.XPT', 'C:\\\\Users\\\\Ganga\\\\Desktop\\\\Research\\\\CDCDiab_2.0\\\\Data\\\\07-08\\\\Examination\\\\OPXFDT_E.XPT', 'C:\\\\Users\\\\Ganga\\\\Desktop\\\\Research\\\\CDCDiab_2.0\\\\Data\\\\07-08\\\\Examination\\\\OPXRET_E.XPT', 'C:\\\\Users\\\\Ganga\\\\Desktop\\\\Research\\\\CDCDiab_2.0\\\\Data\\\\07-08\\\\Examination\\\\SPX_E.XPT', 'C:\\\\Users\\\\Ganga\\\\Desktop\\\\Research\\\\CDCDiab_2.0\\\\Data\\\\07-08\\\\Examination\\\\VIX_E.XPT']\n"
     ]
    }
   ],
   "source": [
    "path = 'C:\\\\Users\\\\Ganga\\\\Desktop\\\\Research\\\\CDCDiab_2.0\\\\Data\\\\07-08\\\\Examination'\n",
    "allFiles = glob.glob(os.path.join(path,\"*.XPT\"))\n",
    "print(allFiles)"
   ]
  },
  {
   "cell_type": "code",
   "execution_count": 4,
   "metadata": {},
   "outputs": [
    {
     "data": {
      "text/plain": [
       "(6917, 56)"
      ]
     },
     "execution_count": 4,
     "metadata": {},
     "output_type": "execute_result"
    }
   ],
   "source": [
    "VIX = pd.read_sas('C:\\\\Users\\\\Ganga\\\\Desktop\\\\Research\\\\CDCDiab_2.0\\\\Data\\\\07-08\\\\Examination\\\\VIX_E.XPT', index='SEQN')\n",
    "VIX.shape"
   ]
  },
  {
   "cell_type": "code",
   "execution_count": 5,
   "metadata": {},
   "outputs": [
    {
     "name": "stdout",
     "output_type": "stream",
     "text": [
      "['VIDLOVA', 'VIDLVA', 'VIDOLFM', 'VIDORFM', 'VIDROVA', 'VIDRVA', 'VIQ110', 'VIQ121', 'VIQ130', 'VIQ141', 'VIQ150', 'VIQ160', 'VIQ170', 'VIQ180', 'VIQ191', 'VIQ200', 'VIQ211', 'VIQ220', 'VIQ230', 'VIQ240', 'VIQ250', 'VIXKLCD', 'VIXKLCG', 'VIXKLD1', 'VIXKLD2', 'VIXKLDM', 'VIXKLG1', 'VIXKLG2', 'VIXKLM1', 'VIXKLM2', 'VIXKLMM', 'VIXKRCD', 'VIXKRCG', 'VIXKRD1', 'VIXKRD2', 'VIXKRDM', 'VIXKRG1', 'VIXKRG2', 'VIXKRM1', 'VIXKRM2', 'VIXKRMM', 'VIXNC1', 'VIXNC2', 'VIXOCMT', 'VIXOLAM', 'VIXOLCM', 'VIXOLSM', 'VIXORAM', 'VIXORCM', 'VIXORSM', 'VIXPLA', 'VIXPLC', 'VIXPLS', 'VIXPRA', 'VIXPRC', 'VIXPRS']\n"
     ]
    }
   ],
   "source": [
    "A = set(VIX.columns)\n",
    "print(sorted(A))"
   ]
  },
  {
   "cell_type": "markdown",
   "metadata": {},
   "source": [
    "# Processing Column of VIX (Vision) file"
   ]
  },
  {
   "cell_type": "code",
   "execution_count": 6,
   "metadata": {},
   "outputs": [
    {
     "name": "stdout",
     "output_type": "stream",
     "text": [
      "VIX_reading1 shape =  (6917,)\n",
      "SEQN\n",
      "41475.0    1.0\n",
      "41477.0    1.0\n",
      "41479.0    2.0\n",
      "41481.0    NaN\n",
      "41482.0    1.0\n",
      "Name: VIQ150, dtype: float64\n",
      "count    2788.000000\n",
      "mean        1.151363\n",
      "std         0.434486\n",
      "min         1.000000\n",
      "25%         1.000000\n",
      "50%         1.000000\n",
      "75%         1.000000\n",
      "max         9.000000\n",
      "Name: VIQ150, dtype: float64\n"
     ]
    }
   ],
   "source": [
    "VIX_reading1 = VIX['VIQ150']\n",
    "print('VIX_reading1 shape = ', VIX_reading1.shape)\n",
    "print(VIX_reading1.head())\n",
    "print(VIX_reading1.describe())"
   ]
  },
  {
   "cell_type": "code",
   "execution_count": 7,
   "metadata": {},
   "outputs": [
    {
     "name": "stdout",
     "output_type": "stream",
     "text": [
      "VIX_reading2 shape =  (6917,)\n",
      "SEQN\n",
      "41475.0    2.0\n",
      "41477.0    2.0\n",
      "41479.0    2.0\n",
      "41481.0    2.0\n",
      "41482.0    1.0\n",
      "Name: VIQ220, dtype: float64\n",
      "count    6527.000000\n",
      "mean        1.547265\n",
      "std         0.523017\n",
      "min         1.000000\n",
      "25%         1.000000\n",
      "50%         2.000000\n",
      "75%         2.000000\n",
      "max         9.000000\n",
      "Name: VIQ220, dtype: float64\n"
     ]
    }
   ],
   "source": [
    "VIX_reading2 = VIX['VIQ220']\n",
    "print('VIX_reading2 shape = ', VIX_reading2.shape)\n",
    "print(VIX_reading2.head())\n",
    "print(VIX_reading2.describe())"
   ]
  },
  {
   "cell_type": "code",
   "execution_count": 9,
   "metadata": {},
   "outputs": [
    {
     "name": "stdout",
     "output_type": "stream",
     "text": [
      "VIX_reading1 missing values =   4129 from  6917 observations\n",
      "VIX_reading2 missing values =  390 from  6917 observations\n"
     ]
    }
   ],
   "source": [
    "print('VIX_reading1 missing values =  ', VIX_reading1.isnull().sum(), 'from ', VIX_reading1.shape[0], 'observations')\n",
    "print('VIX_reading2 missing values = ', VIX_reading2.isnull().sum(), 'from ', VIX_reading2.shape[0], 'observations')"
   ]
  },
  {
   "cell_type": "code",
   "execution_count": 10,
   "metadata": {},
   "outputs": [
    {
     "name": "stdout",
     "output_type": "stream",
     "text": [
      "VIX_reading_all shape =  (6917, 2)\n",
      "         VIQ150  VIQ220\n",
      "SEQN                   \n",
      "41475.0     1.0     2.0\n",
      "41477.0     1.0     2.0\n",
      "41479.0     2.0     2.0\n",
      "41481.0     NaN     2.0\n",
      "41482.0     1.0     1.0\n"
     ]
    }
   ],
   "source": [
    "VIX_reading_all = pd.concat([VIX_reading1, VIX_reading2], axis=1)\n",
    "print('VIX_reading_all shape = ', VIX_reading_all.shape)\n",
    "print(VIX_reading_all.head())"
   ]
  },
  {
   "cell_type": "code",
   "execution_count": 11,
   "metadata": {},
   "outputs": [
    {
     "name": "stdout",
     "output_type": "stream",
     "text": [
      "Type of VIX_reading_all_mean =  float64\n",
      "None\n",
      "Total_VIX_mean\n"
     ]
    },
    {
     "data": {
      "text/plain": [
       "389"
      ]
     },
     "execution_count": 11,
     "metadata": {},
     "output_type": "execute_result"
    }
   ],
   "source": [
    "VIX_reading_all_mean = VIX_reading_all.mean(axis=1, skipna=1)\n",
    "print('Type of VIX_reading_all_mean = ', VIX_reading_all_mean.dtype)\n",
    "print(VIX_reading_all_mean.name)\n",
    "VIX_reading_all_mean.name = 'Total_VIX_mean'\n",
    "print(VIX_reading_all_mean.name)\n",
    "VIX_reading_all_mean.isnull().sum()"
   ]
  },
  {
   "cell_type": "code",
   "execution_count": 12,
   "metadata": {},
   "outputs": [
    {
     "name": "stdout",
     "output_type": "stream",
     "text": [
      "VIX_mean_all shape =  (6917, 3)\n",
      "         VIQ150  VIQ220  Total_VIX_mean\n",
      "SEQN                                   \n",
      "41475.0     1.0     2.0             1.5\n",
      "41477.0     1.0     2.0             1.5\n",
      "41479.0     2.0     2.0             2.0\n",
      "41481.0     NaN     2.0             2.0\n",
      "41482.0     1.0     1.0             1.0\n"
     ]
    }
   ],
   "source": [
    "VIX_mean_all = pd.concat([VIX_reading_all, VIX_reading_all_mean], axis=1)\n",
    "print('VIX_mean_all shape = ', VIX_mean_all.shape)\n",
    "print(VIX_mean_all.head())"
   ]
  },
  {
   "cell_type": "code",
   "execution_count": null,
   "metadata": {},
   "outputs": [],
   "source": []
  }
 ],
 "metadata": {
  "kernelspec": {
   "display_name": "Python 3",
   "language": "python",
   "name": "python3"
  },
  "language_info": {
   "codemirror_mode": {
    "name": "ipython",
    "version": 3
   },
   "file_extension": ".py",
   "mimetype": "text/x-python",
   "name": "python",
   "nbconvert_exporter": "python",
   "pygments_lexer": "ipython3",
   "version": "3.6.4"
  }
 },
 "nbformat": 4,
 "nbformat_minor": 2
}
