{
 "cells": [
  {
   "cell_type": "markdown",
   "metadata": {},
   "source": [
    "#  Processing Examination - Vision (VIX)"
   ]
  },
  {
   "cell_type": "code",
   "execution_count": 6,
   "metadata": {},
   "outputs": [],
   "source": [
    "import numpy as np\n",
    "import pandas as pd\n",
    "import glob \n",
    "import os\n",
    "import sys"
   ]
  },
  {
   "cell_type": "code",
   "execution_count": 7,
   "metadata": {},
   "outputs": [
    {
     "data": {
      "text/plain": [
       "'C:\\\\Users\\\\Ganga\\\\Desktop\\\\Research\\\\CDCDiab_2.0\\\\Code'"
      ]
     },
     "execution_count": 7,
     "metadata": {},
     "output_type": "execute_result"
    }
   ],
   "source": [
    "os.getcwd()"
   ]
  },
  {
   "cell_type": "code",
   "execution_count": 8,
   "metadata": {},
   "outputs": [
    {
     "name": "stdout",
     "output_type": "stream",
     "text": [
      "['C:\\\\Users\\\\Ganga\\\\Desktop\\\\Research\\\\CDCDiab_2.0\\\\Data\\\\07-08\\\\Examination\\\\AUXAR_E.XPT', 'C:\\\\Users\\\\Ganga\\\\Desktop\\\\Research\\\\CDCDiab_2.0\\\\Data\\\\07-08\\\\Examination\\\\AUXTYM_E.XPT', 'C:\\\\Users\\\\Ganga\\\\Desktop\\\\Research\\\\CDCDiab_2.0\\\\Data\\\\07-08\\\\Examination\\\\AUX_E.XPT', 'C:\\\\Users\\\\Ganga\\\\Desktop\\\\Research\\\\CDCDiab_2.0\\\\Data\\\\07-08\\\\Examination\\\\BMX_E.XPT', 'C:\\\\Users\\\\Ganga\\\\Desktop\\\\Research\\\\CDCDiab_2.0\\\\Data\\\\07-08\\\\Examination\\\\BPX_E.XPT', 'C:\\\\Users\\\\Ganga\\\\Desktop\\\\Research\\\\CDCDiab_2.0\\\\Data\\\\07-08\\\\Examination\\\\DXXFEM_E.XPT', 'C:\\\\Users\\\\Ganga\\\\Desktop\\\\Research\\\\CDCDiab_2.0\\\\Data\\\\07-08\\\\Examination\\\\DXXSPN_E.XPT', 'C:\\\\Users\\\\Ganga\\\\Desktop\\\\Research\\\\CDCDiab_2.0\\\\Data\\\\07-08\\\\Examination\\\\ENX_E.XPT', 'C:\\\\Users\\\\Ganga\\\\Desktop\\\\Research\\\\CDCDiab_2.0\\\\Data\\\\07-08\\\\Examination\\\\OHX_E.XPT', 'C:\\\\Users\\\\Ganga\\\\Desktop\\\\Research\\\\CDCDiab_2.0\\\\Data\\\\07-08\\\\Examination\\\\OPXFDT_E.XPT', 'C:\\\\Users\\\\Ganga\\\\Desktop\\\\Research\\\\CDCDiab_2.0\\\\Data\\\\07-08\\\\Examination\\\\OPXRET_E.XPT', 'C:\\\\Users\\\\Ganga\\\\Desktop\\\\Research\\\\CDCDiab_2.0\\\\Data\\\\07-08\\\\Examination\\\\SPX_E.XPT', 'C:\\\\Users\\\\Ganga\\\\Desktop\\\\Research\\\\CDCDiab_2.0\\\\Data\\\\07-08\\\\Examination\\\\VIX_E.XPT']\n"
     ]
    }
   ],
   "source": [
    "path = 'C:\\\\Users\\\\Ganga\\\\Desktop\\\\Research\\\\CDCDiab_2.0\\\\Data\\\\07-08\\\\Examination'\n",
    "allFiles = glob.glob(os.path.join(path,\"*.XPT\"))\n",
    "print(allFiles)\n",
    "#%cd /Users/elgayaro/Main/Research/Healthcare/CDC-NHANES/Data/07-08/Examination -Omar"
   ]
  },
  {
   "cell_type": "code",
   "execution_count": 9,
   "metadata": {},
   "outputs": [
    {
     "data": {
      "text/plain": [
       "(6917, 56)"
      ]
     },
     "execution_count": 9,
     "metadata": {},
     "output_type": "execute_result"
    }
   ],
   "source": [
    "#allFiles = glob.glob(os.path.join('.',\"*.XPT\")) Omar\n",
    "#print(allFiles) Omar\n",
    "VIX = pd.read_sas('C:\\\\Users\\\\Ganga\\\\Desktop\\\\Research\\\\CDCDiab_2.0\\\\Data\\\\07-08\\\\Examination\\\\VIX_E.XPT', index='SEQN')\n",
    "VIX.shape"
   ]
  },
  {
   "cell_type": "code",
   "execution_count": 10,
   "metadata": {},
   "outputs": [
    {
     "name": "stdout",
     "output_type": "stream",
     "text": [
      "['VIDLOVA', 'VIDLVA', 'VIDOLFM', 'VIDORFM', 'VIDROVA', 'VIDRVA', 'VIQ110', 'VIQ121', 'VIQ130', 'VIQ141', 'VIQ150', 'VIQ160', 'VIQ170', 'VIQ180', 'VIQ191', 'VIQ200', 'VIQ211', 'VIQ220', 'VIQ230', 'VIQ240', 'VIQ250', 'VIXKLCD', 'VIXKLCG', 'VIXKLD1', 'VIXKLD2', 'VIXKLDM', 'VIXKLG1', 'VIXKLG2', 'VIXKLM1', 'VIXKLM2', 'VIXKLMM', 'VIXKRCD', 'VIXKRCG', 'VIXKRD1', 'VIXKRD2', 'VIXKRDM', 'VIXKRG1', 'VIXKRG2', 'VIXKRM1', 'VIXKRM2', 'VIXKRMM', 'VIXNC1', 'VIXNC2', 'VIXOCMT', 'VIXOLAM', 'VIXOLCM', 'VIXOLSM', 'VIXORAM', 'VIXORCM', 'VIXORSM', 'VIXPLA', 'VIXPLC', 'VIXPLS', 'VIXPRA', 'VIXPRC', 'VIXPRS']\n"
     ]
    }
   ],
   "source": [
    "A = set(VIX.columns)\n",
    "print(sorted(A))"
   ]
  },
  {
   "cell_type": "code",
   "execution_count": 11,
   "metadata": {},
   "outputs": [
    {
     "data": {
      "text/plain": [
       "VIQ110     float64\n",
       "VIQ121     float64\n",
       "VIQ130     float64\n",
       "VIQ141     float64\n",
       "VIQ150     float64\n",
       "VIQ160     float64\n",
       "VIQ170     float64\n",
       "VIXNC1     float64\n",
       "VIXNC2     float64\n",
       "VIQ180     float64\n",
       "VIQ191     float64\n",
       "VIQ200     float64\n",
       "VIQ211     float64\n",
       "VIQ220     float64\n",
       "VIQ230     float64\n",
       "VIQ240     float64\n",
       "VIQ250     float64\n",
       "VIXPRS     float64\n",
       "VIXPRC     float64\n",
       "VIXPRA     float64\n",
       "VIXPLS     float64\n",
       "VIXPLC     float64\n",
       "VIXPLA     float64\n",
       "VIXOCMT    float64\n",
       "VIXORSM    float64\n",
       "VIXORCM    float64\n",
       "VIXORAM    float64\n",
       "VIDORFM    float64\n",
       "VIXOLSM    float64\n",
       "VIXOLCM    float64\n",
       "VIXOLAM    float64\n",
       "VIDOLFM    float64\n",
       "VIXKRM1    float64\n",
       "VIXKRD1    float64\n",
       "VIXKRG1    float64\n",
       "VIXKRM2    float64\n",
       "VIXKRD2    float64\n",
       "VIXKRG2    float64\n",
       "VIXKRMM    float64\n",
       "VIXKRDM    float64\n",
       "VIXKRCD    float64\n",
       "VIXKRCG    float64\n",
       "VIXKLM1    float64\n",
       "VIXKLD1    float64\n",
       "VIXKLG1    float64\n",
       "VIXKLM2    float64\n",
       "VIXKLD2    float64\n",
       "VIXKLG2    float64\n",
       "VIXKLMM    float64\n",
       "VIXKLDM    float64\n",
       "VIXKLCD    float64\n",
       "VIXKLCG    float64\n",
       "VIDRVA     float64\n",
       "VIDLVA     float64\n",
       "VIDROVA    float64\n",
       "VIDLOVA    float64\n",
       "dtype: object"
      ]
     },
     "execution_count": 11,
     "metadata": {},
     "output_type": "execute_result"
    }
   ],
   "source": [
    "VIX.dtypes"
   ]
  },
  {
   "cell_type": "code",
   "execution_count": 12,
   "metadata": {},
   "outputs": [
    {
     "data": {
      "text/html": [
       "<div>\n",
       "<style scoped>\n",
       "    .dataframe tbody tr th:only-of-type {\n",
       "        vertical-align: middle;\n",
       "    }\n",
       "\n",
       "    .dataframe tbody tr th {\n",
       "        vertical-align: top;\n",
       "    }\n",
       "\n",
       "    .dataframe thead th {\n",
       "        text-align: right;\n",
       "    }\n",
       "</style>\n",
       "<table border=\"1\" class=\"dataframe\">\n",
       "  <thead>\n",
       "    <tr style=\"text-align: right;\">\n",
       "      <th></th>\n",
       "      <th>VIQ110</th>\n",
       "      <th>VIQ121</th>\n",
       "      <th>VIQ130</th>\n",
       "      <th>VIQ141</th>\n",
       "      <th>VIQ150</th>\n",
       "      <th>VIQ160</th>\n",
       "      <th>VIQ170</th>\n",
       "      <th>VIXNC1</th>\n",
       "      <th>VIXNC2</th>\n",
       "      <th>VIQ180</th>\n",
       "      <th>...</th>\n",
       "      <th>VIXKLD2</th>\n",
       "      <th>VIXKLG2</th>\n",
       "      <th>VIXKLMM</th>\n",
       "      <th>VIXKLDM</th>\n",
       "      <th>VIXKLCD</th>\n",
       "      <th>VIXKLCG</th>\n",
       "      <th>VIDRVA</th>\n",
       "      <th>VIDLVA</th>\n",
       "      <th>VIDROVA</th>\n",
       "      <th>VIDLOVA</th>\n",
       "    </tr>\n",
       "    <tr>\n",
       "      <th>SEQN</th>\n",
       "      <th></th>\n",
       "      <th></th>\n",
       "      <th></th>\n",
       "      <th></th>\n",
       "      <th></th>\n",
       "      <th></th>\n",
       "      <th></th>\n",
       "      <th></th>\n",
       "      <th></th>\n",
       "      <th></th>\n",
       "      <th></th>\n",
       "      <th></th>\n",
       "      <th></th>\n",
       "      <th></th>\n",
       "      <th></th>\n",
       "      <th></th>\n",
       "      <th></th>\n",
       "      <th></th>\n",
       "      <th></th>\n",
       "      <th></th>\n",
       "      <th></th>\n",
       "    </tr>\n",
       "  </thead>\n",
       "  <tbody>\n",
       "    <tr>\n",
       "      <th>41475.0</th>\n",
       "      <td>2.0</td>\n",
       "      <td>NaN</td>\n",
       "      <td>2.0</td>\n",
       "      <td>NaN</td>\n",
       "      <td>1.0</td>\n",
       "      <td>1.0</td>\n",
       "      <td>1.0</td>\n",
       "      <td>5.0</td>\n",
       "      <td>15.0</td>\n",
       "      <td>2.0</td>\n",
       "      <td>...</td>\n",
       "      <td>44.25</td>\n",
       "      <td>94.0</td>\n",
       "      <td>7.72</td>\n",
       "      <td>43.75</td>\n",
       "      <td>1.00</td>\n",
       "      <td>94.0</td>\n",
       "      <td>25.0</td>\n",
       "      <td>25.0</td>\n",
       "      <td>NaN</td>\n",
       "      <td>NaN</td>\n",
       "    </tr>\n",
       "    <tr>\n",
       "      <th>41477.0</th>\n",
       "      <td>2.0</td>\n",
       "      <td>NaN</td>\n",
       "      <td>2.0</td>\n",
       "      <td>NaN</td>\n",
       "      <td>1.0</td>\n",
       "      <td>1.0</td>\n",
       "      <td>1.0</td>\n",
       "      <td>5.0</td>\n",
       "      <td>13.0</td>\n",
       "      <td>2.0</td>\n",
       "      <td>...</td>\n",
       "      <td>44.75</td>\n",
       "      <td>46.0</td>\n",
       "      <td>7.63</td>\n",
       "      <td>44.25</td>\n",
       "      <td>0.75</td>\n",
       "      <td>46.0</td>\n",
       "      <td>25.0</td>\n",
       "      <td>25.0</td>\n",
       "      <td>NaN</td>\n",
       "      <td>NaN</td>\n",
       "    </tr>\n",
       "    <tr>\n",
       "      <th>41479.0</th>\n",
       "      <td>2.0</td>\n",
       "      <td>NaN</td>\n",
       "      <td>2.0</td>\n",
       "      <td>NaN</td>\n",
       "      <td>2.0</td>\n",
       "      <td>NaN</td>\n",
       "      <td>NaN</td>\n",
       "      <td>3.0</td>\n",
       "      <td>15.0</td>\n",
       "      <td>2.0</td>\n",
       "      <td>...</td>\n",
       "      <td>45.00</td>\n",
       "      <td>83.0</td>\n",
       "      <td>7.58</td>\n",
       "      <td>44.50</td>\n",
       "      <td>1.00</td>\n",
       "      <td>83.0</td>\n",
       "      <td>20.0</td>\n",
       "      <td>25.0</td>\n",
       "      <td>NaN</td>\n",
       "      <td>NaN</td>\n",
       "    </tr>\n",
       "    <tr>\n",
       "      <th>41481.0</th>\n",
       "      <td>2.0</td>\n",
       "      <td>NaN</td>\n",
       "      <td>2.0</td>\n",
       "      <td>NaN</td>\n",
       "      <td>NaN</td>\n",
       "      <td>NaN</td>\n",
       "      <td>NaN</td>\n",
       "      <td>NaN</td>\n",
       "      <td>NaN</td>\n",
       "      <td>2.0</td>\n",
       "      <td>...</td>\n",
       "      <td>42.50</td>\n",
       "      <td>100.0</td>\n",
       "      <td>7.97</td>\n",
       "      <td>42.25</td>\n",
       "      <td>0.25</td>\n",
       "      <td>100.0</td>\n",
       "      <td>20.0</td>\n",
       "      <td>20.0</td>\n",
       "      <td>NaN</td>\n",
       "      <td>NaN</td>\n",
       "    </tr>\n",
       "    <tr>\n",
       "      <th>41482.0</th>\n",
       "      <td>2.0</td>\n",
       "      <td>NaN</td>\n",
       "      <td>2.0</td>\n",
       "      <td>NaN</td>\n",
       "      <td>1.0</td>\n",
       "      <td>1.0</td>\n",
       "      <td>1.0</td>\n",
       "      <td>5.0</td>\n",
       "      <td>18.0</td>\n",
       "      <td>2.0</td>\n",
       "      <td>...</td>\n",
       "      <td>42.00</td>\n",
       "      <td>154.0</td>\n",
       "      <td>8.10</td>\n",
       "      <td>41.75</td>\n",
       "      <td>0.50</td>\n",
       "      <td>154.0</td>\n",
       "      <td>25.0</td>\n",
       "      <td>20.0</td>\n",
       "      <td>NaN</td>\n",
       "      <td>NaN</td>\n",
       "    </tr>\n",
       "  </tbody>\n",
       "</table>\n",
       "<p>5 rows × 56 columns</p>\n",
       "</div>"
      ],
      "text/plain": [
       "         VIQ110  VIQ121  VIQ130  VIQ141  VIQ150  VIQ160  VIQ170  VIXNC1  \\\n",
       "SEQN                                                                      \n",
       "41475.0     2.0     NaN     2.0     NaN     1.0     1.0     1.0     5.0   \n",
       "41477.0     2.0     NaN     2.0     NaN     1.0     1.0     1.0     5.0   \n",
       "41479.0     2.0     NaN     2.0     NaN     2.0     NaN     NaN     3.0   \n",
       "41481.0     2.0     NaN     2.0     NaN     NaN     NaN     NaN     NaN   \n",
       "41482.0     2.0     NaN     2.0     NaN     1.0     1.0     1.0     5.0   \n",
       "\n",
       "         VIXNC2  VIQ180   ...     VIXKLD2  VIXKLG2  VIXKLMM  VIXKLDM  VIXKLCD  \\\n",
       "SEQN                      ...                                                   \n",
       "41475.0    15.0     2.0   ...       44.25     94.0     7.72    43.75     1.00   \n",
       "41477.0    13.0     2.0   ...       44.75     46.0     7.63    44.25     0.75   \n",
       "41479.0    15.0     2.0   ...       45.00     83.0     7.58    44.50     1.00   \n",
       "41481.0     NaN     2.0   ...       42.50    100.0     7.97    42.25     0.25   \n",
       "41482.0    18.0     2.0   ...       42.00    154.0     8.10    41.75     0.50   \n",
       "\n",
       "         VIXKLCG  VIDRVA  VIDLVA  VIDROVA  VIDLOVA  \n",
       "SEQN                                                \n",
       "41475.0     94.0    25.0    25.0      NaN      NaN  \n",
       "41477.0     46.0    25.0    25.0      NaN      NaN  \n",
       "41479.0     83.0    20.0    25.0      NaN      NaN  \n",
       "41481.0    100.0    20.0    20.0      NaN      NaN  \n",
       "41482.0    154.0    25.0    20.0      NaN      NaN  \n",
       "\n",
       "[5 rows x 56 columns]"
      ]
     },
     "execution_count": 12,
     "metadata": {},
     "output_type": "execute_result"
    }
   ],
   "source": [
    "VIX.head()"
   ]
  },
  {
   "cell_type": "code",
   "execution_count": 14,
   "metadata": {},
   "outputs": [
    {
     "data": {
      "text/plain": [
       "(6917, 56)"
      ]
     },
     "execution_count": 14,
     "metadata": {},
     "output_type": "execute_result"
    }
   ],
   "source": [
    "VIX.shape"
   ]
  },
  {
   "cell_type": "code",
   "execution_count": 16,
   "metadata": {},
   "outputs": [],
   "source": [
    "VIX_Select = VIX.filter(['VIQ180','VIQ200','VIQ220','VIXORSM','VIDORFM','VIDOLFM','VIDRVA','VIDLVA'])"
   ]
  },
  {
   "cell_type": "code",
   "execution_count": 17,
   "metadata": {},
   "outputs": [
    {
     "data": {
      "text/html": [
       "<div>\n",
       "<style scoped>\n",
       "    .dataframe tbody tr th:only-of-type {\n",
       "        vertical-align: middle;\n",
       "    }\n",
       "\n",
       "    .dataframe tbody tr th {\n",
       "        vertical-align: top;\n",
       "    }\n",
       "\n",
       "    .dataframe thead th {\n",
       "        text-align: right;\n",
       "    }\n",
       "</style>\n",
       "<table border=\"1\" class=\"dataframe\">\n",
       "  <thead>\n",
       "    <tr style=\"text-align: right;\">\n",
       "      <th></th>\n",
       "      <th>count</th>\n",
       "      <th>mean</th>\n",
       "      <th>std</th>\n",
       "      <th>min</th>\n",
       "      <th>25%</th>\n",
       "      <th>50%</th>\n",
       "      <th>75%</th>\n",
       "      <th>max</th>\n",
       "    </tr>\n",
       "  </thead>\n",
       "  <tbody>\n",
       "    <tr>\n",
       "      <th>VIQ180</th>\n",
       "      <td>6527.0</td>\n",
       "      <td>2.006435</td>\n",
       "      <td>0.406379</td>\n",
       "      <td>1.0</td>\n",
       "      <td>2.0</td>\n",
       "      <td>2.0</td>\n",
       "      <td>2.00</td>\n",
       "      <td>9.0</td>\n",
       "    </tr>\n",
       "    <tr>\n",
       "      <th>VIQ200</th>\n",
       "      <td>6527.0</td>\n",
       "      <td>1.929983</td>\n",
       "      <td>0.399395</td>\n",
       "      <td>1.0</td>\n",
       "      <td>2.0</td>\n",
       "      <td>2.0</td>\n",
       "      <td>2.00</td>\n",
       "      <td>9.0</td>\n",
       "    </tr>\n",
       "    <tr>\n",
       "      <th>VIQ220</th>\n",
       "      <td>6527.0</td>\n",
       "      <td>1.547265</td>\n",
       "      <td>0.523017</td>\n",
       "      <td>1.0</td>\n",
       "      <td>1.0</td>\n",
       "      <td>2.0</td>\n",
       "      <td>2.00</td>\n",
       "      <td>9.0</td>\n",
       "    </tr>\n",
       "    <tr>\n",
       "      <th>VIXORSM</th>\n",
       "      <td>6506.0</td>\n",
       "      <td>2.742003</td>\n",
       "      <td>17.765980</td>\n",
       "      <td>-18.0</td>\n",
       "      <td>-1.5</td>\n",
       "      <td>-0.5</td>\n",
       "      <td>0.25</td>\n",
       "      <td>88.0</td>\n",
       "    </tr>\n",
       "    <tr>\n",
       "      <th>VIDORFM</th>\n",
       "      <td>6291.0</td>\n",
       "      <td>8.663996</td>\n",
       "      <td>0.694078</td>\n",
       "      <td>5.0</td>\n",
       "      <td>8.7</td>\n",
       "      <td>9.0</td>\n",
       "      <td>9.00</td>\n",
       "      <td>9.0</td>\n",
       "    </tr>\n",
       "    <tr>\n",
       "      <th>VIDOLFM</th>\n",
       "      <td>6295.0</td>\n",
       "      <td>8.660508</td>\n",
       "      <td>0.702875</td>\n",
       "      <td>5.0</td>\n",
       "      <td>8.7</td>\n",
       "      <td>9.0</td>\n",
       "      <td>9.00</td>\n",
       "      <td>9.0</td>\n",
       "    </tr>\n",
       "    <tr>\n",
       "      <th>VIDRVA</th>\n",
       "      <td>6441.0</td>\n",
       "      <td>39.225586</td>\n",
       "      <td>67.017101</td>\n",
       "      <td>20.0</td>\n",
       "      <td>20.0</td>\n",
       "      <td>25.0</td>\n",
       "      <td>30.00</td>\n",
       "      <td>666.0</td>\n",
       "    </tr>\n",
       "    <tr>\n",
       "      <th>VIDLVA</th>\n",
       "      <td>6452.0</td>\n",
       "      <td>39.400496</td>\n",
       "      <td>68.627218</td>\n",
       "      <td>20.0</td>\n",
       "      <td>20.0</td>\n",
       "      <td>25.0</td>\n",
       "      <td>30.00</td>\n",
       "      <td>666.0</td>\n",
       "    </tr>\n",
       "  </tbody>\n",
       "</table>\n",
       "</div>"
      ],
      "text/plain": [
       "          count       mean        std   min   25%   50%    75%    max\n",
       "VIQ180   6527.0   2.006435   0.406379   1.0   2.0   2.0   2.00    9.0\n",
       "VIQ200   6527.0   1.929983   0.399395   1.0   2.0   2.0   2.00    9.0\n",
       "VIQ220   6527.0   1.547265   0.523017   1.0   1.0   2.0   2.00    9.0\n",
       "VIXORSM  6506.0   2.742003  17.765980 -18.0  -1.5  -0.5   0.25   88.0\n",
       "VIDORFM  6291.0   8.663996   0.694078   5.0   8.7   9.0   9.00    9.0\n",
       "VIDOLFM  6295.0   8.660508   0.702875   5.0   8.7   9.0   9.00    9.0\n",
       "VIDRVA   6441.0  39.225586  67.017101  20.0  20.0  25.0  30.00  666.0\n",
       "VIDLVA   6452.0  39.400496  68.627218  20.0  20.0  25.0  30.00  666.0"
      ]
     },
     "execution_count": 17,
     "metadata": {},
     "output_type": "execute_result"
    }
   ],
   "source": [
    "VIX_Select.describe().T"
   ]
  },
  {
   "cell_type": "code",
   "execution_count": 18,
   "metadata": {},
   "outputs": [],
   "source": [
    "VIX_Select.describe().T.to_csv('VIX.csv')"
   ]
  },
  {
   "cell_type": "markdown",
   "metadata": {},
   "source": [
    "# Processing Column of VIX (Vision) file"
   ]
  },
  {
   "cell_type": "code",
   "execution_count": 6,
   "metadata": {},
   "outputs": [
    {
     "name": "stdout",
     "output_type": "stream",
     "text": [
      "VIX_reading1 shape =  (6917,)\n",
      "SEQN\n",
      "41475.0    1.0\n",
      "41477.0    1.0\n",
      "41479.0    2.0\n",
      "41481.0    NaN\n",
      "41482.0    1.0\n",
      "Name: VIQ150, dtype: float64\n",
      "count    2788.000000\n",
      "mean        1.151363\n",
      "std         0.434486\n",
      "min         1.000000\n",
      "25%         1.000000\n",
      "50%         1.000000\n",
      "75%         1.000000\n",
      "max         9.000000\n",
      "Name: VIQ150, dtype: float64\n"
     ]
    }
   ],
   "source": [
    "VIX_reading1 = VIX['VIQ150']\n",
    "print('VIX_reading1 shape = ', VIX_reading1.shape)\n",
    "print(VIX_reading1.head())\n",
    "print(VIX_reading1.describe())"
   ]
  },
  {
   "cell_type": "code",
   "execution_count": 7,
   "metadata": {},
   "outputs": [
    {
     "name": "stdout",
     "output_type": "stream",
     "text": [
      "VIX_reading2 shape =  (6917,)\n",
      "SEQN\n",
      "41475.0    2.0\n",
      "41477.0    2.0\n",
      "41479.0    2.0\n",
      "41481.0    2.0\n",
      "41482.0    1.0\n",
      "Name: VIQ220, dtype: float64\n",
      "count    6527.000000\n",
      "mean        1.547265\n",
      "std         0.523017\n",
      "min         1.000000\n",
      "25%         1.000000\n",
      "50%         2.000000\n",
      "75%         2.000000\n",
      "max         9.000000\n",
      "Name: VIQ220, dtype: float64\n"
     ]
    }
   ],
   "source": [
    "VIX_reading2 = VIX['VIQ220']\n",
    "print('VIX_reading2 shape = ', VIX_reading2.shape)\n",
    "print(VIX_reading2.head())\n",
    "print(VIX_reading2.describe())"
   ]
  },
  {
   "cell_type": "code",
   "execution_count": 9,
   "metadata": {},
   "outputs": [
    {
     "name": "stdout",
     "output_type": "stream",
     "text": [
      "VIX_reading1 missing values =   4129 from  6917 observations\n",
      "VIX_reading2 missing values =  390 from  6917 observations\n"
     ]
    }
   ],
   "source": [
    "print('VIX_reading1 missing values =  ', VIX_reading1.isnull().sum(), 'from ', VIX_reading1.shape[0], 'observations')\n",
    "print('VIX_reading2 missing values = ', VIX_reading2.isnull().sum(), 'from ', VIX_reading2.shape[0], 'observations')"
   ]
  },
  {
   "cell_type": "code",
   "execution_count": 10,
   "metadata": {},
   "outputs": [
    {
     "name": "stdout",
     "output_type": "stream",
     "text": [
      "VIX_reading_all shape =  (6917, 2)\n",
      "         VIQ150  VIQ220\n",
      "SEQN                   \n",
      "41475.0     1.0     2.0\n",
      "41477.0     1.0     2.0\n",
      "41479.0     2.0     2.0\n",
      "41481.0     NaN     2.0\n",
      "41482.0     1.0     1.0\n"
     ]
    }
   ],
   "source": [
    "VIX_reading_all = pd.concat([VIX_reading1, VIX_reading2], axis=1)\n",
    "print('VIX_reading_all shape = ', VIX_reading_all.shape)\n",
    "print(VIX_reading_all.head())"
   ]
  },
  {
   "cell_type": "code",
   "execution_count": 11,
   "metadata": {},
   "outputs": [
    {
     "name": "stdout",
     "output_type": "stream",
     "text": [
      "Type of VIX_reading_all_mean =  float64\n",
      "None\n",
      "Total_VIX_mean\n"
     ]
    },
    {
     "data": {
      "text/plain": [
       "389"
      ]
     },
     "execution_count": 11,
     "metadata": {},
     "output_type": "execute_result"
    }
   ],
   "source": [
    "VIX_reading_all_mean = VIX_reading_all.mean(axis=1, skipna=1)\n",
    "print('Type of VIX_reading_all_mean = ', VIX_reading_all_mean.dtype)\n",
    "print(VIX_reading_all_mean.name)\n",
    "VIX_reading_all_mean.name = 'Total_VIX_mean'\n",
    "print(VIX_reading_all_mean.name)\n",
    "VIX_reading_all_mean.isnull().sum()"
   ]
  },
  {
   "cell_type": "code",
   "execution_count": 12,
   "metadata": {},
   "outputs": [
    {
     "name": "stdout",
     "output_type": "stream",
     "text": [
      "VIX_mean_all shape =  (6917, 3)\n",
      "         VIQ150  VIQ220  Total_VIX_mean\n",
      "SEQN                                   \n",
      "41475.0     1.0     2.0             1.5\n",
      "41477.0     1.0     2.0             1.5\n",
      "41479.0     2.0     2.0             2.0\n",
      "41481.0     NaN     2.0             2.0\n",
      "41482.0     1.0     1.0             1.0\n"
     ]
    }
   ],
   "source": [
    "VIX_mean_all = pd.concat([VIX_reading_all, VIX_reading_all_mean], axis=1)\n",
    "print('VIX_mean_all shape = ', VIX_mean_all.shape)\n",
    "print(VIX_mean_all.head())"
   ]
  },
  {
   "cell_type": "code",
   "execution_count": null,
   "metadata": {},
   "outputs": [],
   "source": []
  }
 ],
 "metadata": {
  "kernelspec": {
   "display_name": "Python 3",
   "language": "python",
   "name": "python3"
  },
  "language_info": {
   "codemirror_mode": {
    "name": "ipython",
    "version": 3
   },
   "file_extension": ".py",
   "mimetype": "text/x-python",
   "name": "python",
   "nbconvert_exporter": "python",
   "pygments_lexer": "ipython3",
   "version": "3.6.4"
  }
 },
 "nbformat": 4,
 "nbformat_minor": 2
}
