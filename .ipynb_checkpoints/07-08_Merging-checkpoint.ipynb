{
 "cells": [
  {
   "cell_type": "code",
   "execution_count": 1,
   "metadata": {},
   "outputs": [],
   "source": [
    "import numpy as np\n",
    "import pandas as pd\n",
    "import matplotlib.pyplot as plt\n",
    "import glob \n",
    "import os\n",
    "import sys"
   ]
  },
  {
   "cell_type": "code",
   "execution_count": 2,
   "metadata": {},
   "outputs": [],
   "source": [
    "os.chdir('C:\\\\Users\\\\Ganga\\\\Desktop\\\\Research\\\\CDCDiab1\\\\07-08')"
   ]
  },
  {
   "cell_type": "code",
   "execution_count": 3,
   "metadata": {},
   "outputs": [
    {
     "data": {
      "text/plain": [
       "'C:\\\\Users\\\\Ganga\\\\Desktop\\\\Research\\\\CDCDiab1\\\\07-08'"
      ]
     },
     "execution_count": 3,
     "metadata": {},
     "output_type": "execute_result"
    }
   ],
   "source": [
    "os.getcwd()"
   ]
  },
  {
   "cell_type": "code",
   "execution_count": 4,
   "metadata": {},
   "outputs": [
    {
     "name": "stdout",
     "output_type": "stream",
     "text": [
      "C:\\Users\\Ganga\\Desktop\\Research\\CDCDiab1\\07-08\\Lab\\ALB_CR_E.XPT\n",
      "C:\\Users\\Ganga\\Desktop\\Research\\CDCDiab1\\07-08\\Lab\\APOB_E.XPT\n",
      "C:\\Users\\Ganga\\Desktop\\Research\\CDCDiab1\\07-08\\Lab\\BIOPRO_E.XPT\n",
      "C:\\Users\\Ganga\\Desktop\\Research\\CDCDiab1\\07-08\\Lab\\CARB_E.XPT\n",
      "C:\\Users\\Ganga\\Desktop\\Research\\CDCDiab1\\07-08\\Lab\\CBC_E.XPT\n",
      "C:\\Users\\Ganga\\Desktop\\Research\\CDCDiab1\\07-08\\Lab\\CHLMDA_E.XPT\n",
      "C:\\Users\\Ganga\\Desktop\\Research\\CDCDiab1\\07-08\\Lab\\COTNAL_E.XPT\n",
      "C:\\Users\\Ganga\\Desktop\\Research\\CDCDiab1\\07-08\\Lab\\CRP_E.XPT\n",
      "C:\\Users\\Ganga\\Desktop\\Research\\CDCDiab1\\07-08\\Lab\\DEET_E.XPT\n",
      "C:\\Users\\Ganga\\Desktop\\Research\\CDCDiab1\\07-08\\Lab\\EPH_E.XPT\n",
      "C:\\Users\\Ganga\\Desktop\\Research\\CDCDiab1\\07-08\\Lab\\FASTQX_E.XPT\n",
      "C:\\Users\\Ganga\\Desktop\\Research\\CDCDiab1\\07-08\\Lab\\FERTIN_E.XPT\n",
      "C:\\Users\\Ganga\\Desktop\\Research\\CDCDiab1\\07-08\\Lab\\FOLATE_E.XPT\n",
      "C:\\Users\\Ganga\\Desktop\\Research\\CDCDiab1\\07-08\\Lab\\FOLFMS_E.XPT\n",
      "C:\\Users\\Ganga\\Desktop\\Research\\CDCDiab1\\07-08\\Lab\\GHB_E.XPT\n",
      "C:\\Users\\Ganga\\Desktop\\Research\\CDCDiab1\\07-08\\Lab\\GLU_E.XPT\n",
      "C:\\Users\\Ganga\\Desktop\\Research\\CDCDiab1\\07-08\\Lab\\HDL_E.XPT\n",
      "C:\\Users\\Ganga\\Desktop\\Research\\CDCDiab1\\07-08\\Lab\\HEPA_E.XPT\n",
      "C:\\Users\\Ganga\\Desktop\\Research\\CDCDiab1\\07-08\\Lab\\HEPBD_E.XPT\n",
      "C:\\Users\\Ganga\\Desktop\\Research\\CDCDiab1\\07-08\\Lab\\HEPB_S_E.XPT\n",
      "C:\\Users\\Ganga\\Desktop\\Research\\CDCDiab1\\07-08\\Lab\\HEPC_E.XPT\n",
      "C:\\Users\\Ganga\\Desktop\\Research\\CDCDiab1\\07-08\\Lab\\HIV_E.XPT\n",
      "C:\\Users\\Ganga\\Desktop\\Research\\CDCDiab1\\07-08\\Lab\\HPVSER_E.XPT\n",
      "C:\\Users\\Ganga\\Desktop\\Research\\CDCDiab1\\07-08\\Lab\\HPVSWR_E.XPT\n",
      "C:\\Users\\Ganga\\Desktop\\Research\\CDCDiab1\\07-08\\Lab\\HSV_E.XPT\n",
      "C:\\Users\\Ganga\\Desktop\\Research\\CDCDiab1\\07-08\\Lab\\IHG_E.XPT\n",
      "C:\\Users\\Ganga\\Desktop\\Research\\CDCDiab1\\07-08\\Lab\\OGTT_E.XPT\n",
      "C:\\Users\\Ganga\\Desktop\\Research\\CDCDiab1\\07-08\\Lab\\OPD_E.XPT\n",
      "C:\\Users\\Ganga\\Desktop\\Research\\CDCDiab1\\07-08\\Lab\\PAH_E.XPT\n",
      "C:\\Users\\Ganga\\Desktop\\Research\\CDCDiab1\\07-08\\Lab\\PBCD_E.XPT\n",
      "C:\\Users\\Ganga\\Desktop\\Research\\CDCDiab1\\07-08\\Lab\\PERNT_E.XPT\n",
      "C:\\Users\\Ganga\\Desktop\\Research\\CDCDiab1\\07-08\\Lab\\PFC_E.XPT\n",
      "C:\\Users\\Ganga\\Desktop\\Research\\CDCDiab1\\07-08\\Lab\\PHTHTE_E.XPT\n",
      "C:\\Users\\Ganga\\Desktop\\Research\\CDCDiab1\\07-08\\Lab\\PHYTO_E.XPT\n",
      "C:\\Users\\Ganga\\Desktop\\Research\\CDCDiab1\\07-08\\Lab\\PP_E.XPT\n",
      "C:\\Users\\Ganga\\Desktop\\Research\\CDCDiab1\\07-08\\Lab\\PSA_E.XPT\n",
      "C:\\Users\\Ganga\\Desktop\\Research\\CDCDiab1\\07-08\\Lab\\SSEBV_E.XPT\n",
      "C:\\Users\\Ganga\\Desktop\\Research\\CDCDiab1\\07-08\\Lab\\SSHCV_E.XPT\n",
      "C:\\Users\\Ganga\\Desktop\\Research\\CDCDiab1\\07-08\\Lab\\SSUSG_E.XPT\n",
      "C:\\Users\\Ganga\\Desktop\\Research\\CDCDiab1\\07-08\\Lab\\TCHOL_E.XPT\n",
      "C:\\Users\\Ganga\\Desktop\\Research\\CDCDiab1\\07-08\\Lab\\TFR_E.XPT\n",
      "C:\\Users\\Ganga\\Desktop\\Research\\CDCDiab1\\07-08\\Lab\\THYROD_E.XPT\n",
      "C:\\Users\\Ganga\\Desktop\\Research\\CDCDiab1\\07-08\\Lab\\TRIGLY_E.XPT\n",
      "C:\\Users\\Ganga\\Desktop\\Research\\CDCDiab1\\07-08\\Lab\\UAM_E.XPT\n",
      "C:\\Users\\Ganga\\Desktop\\Research\\CDCDiab1\\07-08\\Lab\\UAS_E.XPT\n",
      "C:\\Users\\Ganga\\Desktop\\Research\\CDCDiab1\\07-08\\Lab\\UCPREG_E.XPT\n",
      "C:\\Users\\Ganga\\Desktop\\Research\\CDCDiab1\\07-08\\Lab\\UHG_E.XPT\n",
      "C:\\Users\\Ganga\\Desktop\\Research\\CDCDiab1\\07-08\\Lab\\UHM_E.XPT\n",
      "C:\\Users\\Ganga\\Desktop\\Research\\CDCDiab1\\07-08\\Lab\\UIO_E.XPT\n",
      "C:\\Users\\Ganga\\Desktop\\Research\\CDCDiab1\\07-08\\Lab\\UPHOPM_E.XPT\n",
      "C:\\Users\\Ganga\\Desktop\\Research\\CDCDiab1\\07-08\\Lab\\UPP_E.XPT\n",
      "C:\\Users\\Ganga\\Desktop\\Research\\CDCDiab1\\07-08\\Lab\\VID_E.XPT\n",
      "C:\\Users\\Ganga\\Desktop\\Research\\CDCDiab1\\07-08\\Lab\\VIT_B6_E.XPT\n",
      "C:\\Users\\Ganga\\Desktop\\Research\\CDCDiab1\\07-08\\Lab\\VOCMWB_E.XPT\n",
      "C:\\Users\\Ganga\\Desktop\\Research\\CDCDiab1\\07-08\\Lab\\VOCWB_E.XPT\n",
      "C:\\Users\\Ganga\\Desktop\\Research\\CDCDiab1\\07-08\\Lab\\VOC_E.XPT\n"
     ]
    }
   ],
   "source": [
    "path = 'C:\\\\Users\\\\Ganga\\\\Desktop\\\\Research\\\\CDCDiab1\\\\07-08\\\\Lab'\n",
    "allFiles = glob.glob(os.path.join(path,\"*.xpt\"))\n",
    "\n",
    "data = np.array([np.arange(41475,51624)]).T\n",
    "x_Lab =pd.DataFrame(data, index = range(41474,51623),columns=['SEQN'])\n",
    "\n",
    "for infile in allFiles:\n",
    "    print(infile)\n",
    "    df = pd.read_sas(infile)\n",
    "    df['SEQN']=df['SEQN'].astype(int)\n",
    "    x_Lab = x_Lab.merge(df.drop_duplicates(subset=['SEQN']),on='SEQN', how='left')"
   ]
  },
  {
   "cell_type": "code",
   "execution_count": 5,
   "metadata": {},
   "outputs": [
    {
     "data": {
      "text/plain": [
       "(10149, 683)"
      ]
     },
     "execution_count": 5,
     "metadata": {},
     "output_type": "execute_result"
    }
   ],
   "source": [
    "x_Lab.shape"
   ]
  },
  {
   "cell_type": "code",
   "execution_count": 6,
   "metadata": {},
   "outputs": [
    {
     "name": "stdout",
     "output_type": "stream",
     "text": [
      "C:\\Users\\Ganga\\Desktop\\Research\\CDCDiab1\\07-08\\Quest\\ACQ_E.XPT\n",
      "C:\\Users\\Ganga\\Desktop\\Research\\CDCDiab1\\07-08\\Quest\\ALQ_E.XPT\n",
      "C:\\Users\\Ganga\\Desktop\\Research\\CDCDiab1\\07-08\\Quest\\AQQ_E.XPT\n",
      "C:\\Users\\Ganga\\Desktop\\Research\\CDCDiab1\\07-08\\Quest\\AUQ_E.XPT\n",
      "C:\\Users\\Ganga\\Desktop\\Research\\CDCDiab1\\07-08\\Quest\\BHQ_E.XPT\n",
      "C:\\Users\\Ganga\\Desktop\\Research\\CDCDiab1\\07-08\\Quest\\BPQ_E.XPT\n",
      "C:\\Users\\Ganga\\Desktop\\Research\\CDCDiab1\\07-08\\Quest\\CBQPFA_E.XPT\n",
      "C:\\Users\\Ganga\\Desktop\\Research\\CDCDiab1\\07-08\\Quest\\CBQPFC_E.XPT\n",
      "C:\\Users\\Ganga\\Desktop\\Research\\CDCDiab1\\07-08\\Quest\\CBQ_E.XPT\n",
      "C:\\Users\\Ganga\\Desktop\\Research\\CDCDiab1\\07-08\\Quest\\CDQ_E.XPT\n",
      "C:\\Users\\Ganga\\Desktop\\Research\\CDCDiab1\\07-08\\Quest\\DBQ_E.XPT\n",
      "C:\\Users\\Ganga\\Desktop\\Research\\CDCDiab1\\07-08\\Quest\\DIQ_E.XPT\n",
      "C:\\Users\\Ganga\\Desktop\\Research\\CDCDiab1\\07-08\\Quest\\DPQ_E.XPT\n",
      "C:\\Users\\Ganga\\Desktop\\Research\\CDCDiab1\\07-08\\Quest\\DUQ_E.XPT\n",
      "C:\\Users\\Ganga\\Desktop\\Research\\CDCDiab1\\07-08\\Quest\\ECQ_E.XPT\n",
      "C:\\Users\\Ganga\\Desktop\\Research\\CDCDiab1\\07-08\\Quest\\FSQ_E.XPT\n",
      "C:\\Users\\Ganga\\Desktop\\Research\\CDCDiab1\\07-08\\Quest\\HCQ_E.XPT\n",
      "C:\\Users\\Ganga\\Desktop\\Research\\CDCDiab1\\07-08\\Quest\\HIQ_E.XPT\n",
      "C:\\Users\\Ganga\\Desktop\\Research\\CDCDiab1\\07-08\\Quest\\HOQ_E.XPT\n",
      "C:\\Users\\Ganga\\Desktop\\Research\\CDCDiab1\\07-08\\Quest\\HSQ_E.XPT\n",
      "C:\\Users\\Ganga\\Desktop\\Research\\CDCDiab1\\07-08\\Quest\\HUQ_E.XPT\n",
      "C:\\Users\\Ganga\\Desktop\\Research\\CDCDiab1\\07-08\\Quest\\IMQ_E.XPT\n",
      "C:\\Users\\Ganga\\Desktop\\Research\\CDCDiab1\\07-08\\Quest\\INQ_E.XPT\n",
      "C:\\Users\\Ganga\\Desktop\\Research\\CDCDiab1\\07-08\\Quest\\KIQ_P_E.XPT\n",
      "C:\\Users\\Ganga\\Desktop\\Research\\CDCDiab1\\07-08\\Quest\\KIQ_U_E.XPT\n",
      "C:\\Users\\Ganga\\Desktop\\Research\\CDCDiab1\\07-08\\Quest\\MCQ_E.XPT\n",
      "C:\\Users\\Ganga\\Desktop\\Research\\CDCDiab1\\07-08\\Quest\\OCQ_E.XPT\n",
      "C:\\Users\\Ganga\\Desktop\\Research\\CDCDiab1\\07-08\\Quest\\OHQ_E.XPT\n",
      "C:\\Users\\Ganga\\Desktop\\Research\\CDCDiab1\\07-08\\Quest\\OSQ_E.XPT\n",
      "C:\\Users\\Ganga\\Desktop\\Research\\CDCDiab1\\07-08\\Quest\\PAQ_E.XPT\n",
      "C:\\Users\\Ganga\\Desktop\\Research\\CDCDiab1\\07-08\\Quest\\PFQ_E.XPT\n",
      "C:\\Users\\Ganga\\Desktop\\Research\\CDCDiab1\\07-08\\Quest\\PUQMEC_E.XPT\n",
      "C:\\Users\\Ganga\\Desktop\\Research\\CDCDiab1\\07-08\\Quest\\RDQ_E.XPT\n",
      "C:\\Users\\Ganga\\Desktop\\Research\\CDCDiab1\\07-08\\Quest\\RHQ_E.XPT\n",
      "C:\\Users\\Ganga\\Desktop\\Research\\CDCDiab1\\07-08\\Quest\\RXQ_RX_E.XPT\n",
      "C:\\Users\\Ganga\\Desktop\\Research\\CDCDiab1\\07-08\\Quest\\SLQ_E.XPT\n",
      "C:\\Users\\Ganga\\Desktop\\Research\\CDCDiab1\\07-08\\Quest\\SMQFAM_E.XPT\n",
      "C:\\Users\\Ganga\\Desktop\\Research\\CDCDiab1\\07-08\\Quest\\SMQRTU_E.XPT\n",
      "C:\\Users\\Ganga\\Desktop\\Research\\CDCDiab1\\07-08\\Quest\\SMQ_E.XPT\n",
      "C:\\Users\\Ganga\\Desktop\\Research\\CDCDiab1\\07-08\\Quest\\SSQ_E.XPT\n",
      "C:\\Users\\Ganga\\Desktop\\Research\\CDCDiab1\\07-08\\Quest\\SXQ_E.XPT\n",
      "C:\\Users\\Ganga\\Desktop\\Research\\CDCDiab1\\07-08\\Quest\\VIQ_E.XPT\n",
      "C:\\Users\\Ganga\\Desktop\\Research\\CDCDiab1\\07-08\\Quest\\WHQMEC_E.XPT\n",
      "C:\\Users\\Ganga\\Desktop\\Research\\CDCDiab1\\07-08\\Quest\\WHQ_E.XPT\n"
     ]
    }
   ],
   "source": [
    "path = 'C:\\\\Users\\\\Ganga\\\\Desktop\\\\Research\\\\CDCDiab1\\\\07-08\\\\Quest'\n",
    "allFiles = glob.glob(os.path.join(path,\"*.xpt\"))\n",
    "\n",
    "data = np.array([np.arange(41475,51624)]).T\n",
    "x_Quest =pd.DataFrame(data, index = range(41474,51623),columns=['SEQN'])\n",
    "\n",
    "for infile in allFiles:\n",
    "    print(infile)\n",
    "    df = pd.read_sas(infile)\n",
    "    df['SEQN']=df['SEQN'].astype(int)\n",
    "    x_Quest = x_Quest.merge(df.drop_duplicates(subset=['SEQN']),on='SEQN', how='left')"
   ]
  },
  {
   "cell_type": "code",
   "execution_count": 7,
   "metadata": {},
   "outputs": [
    {
     "data": {
      "text/plain": [
       "(10149, 1139)"
      ]
     },
     "execution_count": 7,
     "metadata": {},
     "output_type": "execute_result"
    }
   ],
   "source": [
    "x_Quest.shape"
   ]
  },
  {
   "cell_type": "code",
   "execution_count": 8,
   "metadata": {},
   "outputs": [
    {
     "name": "stdout",
     "output_type": "stream",
     "text": [
      "C:\\Users\\Ganga\\Desktop\\Research\\CDCDiab1\\07-08\\Examination\\AUXAR_E.XPT\n",
      "C:\\Users\\Ganga\\Desktop\\Research\\CDCDiab1\\07-08\\Examination\\AUXTYM_E.XPT\n",
      "C:\\Users\\Ganga\\Desktop\\Research\\CDCDiab1\\07-08\\Examination\\AUX_E.XPT\n",
      "C:\\Users\\Ganga\\Desktop\\Research\\CDCDiab1\\07-08\\Examination\\BMX_E.XPT\n",
      "C:\\Users\\Ganga\\Desktop\\Research\\CDCDiab1\\07-08\\Examination\\BPX_E.XPT\n",
      "C:\\Users\\Ganga\\Desktop\\Research\\CDCDiab1\\07-08\\Examination\\DXXFEM_E.XPT\n",
      "C:\\Users\\Ganga\\Desktop\\Research\\CDCDiab1\\07-08\\Examination\\DXXSPN_E.XPT\n",
      "C:\\Users\\Ganga\\Desktop\\Research\\CDCDiab1\\07-08\\Examination\\ENX_E.XPT\n",
      "C:\\Users\\Ganga\\Desktop\\Research\\CDCDiab1\\07-08\\Examination\\OHX_E.XPT\n",
      "C:\\Users\\Ganga\\Desktop\\Research\\CDCDiab1\\07-08\\Examination\\OPXFDT_E.XPT\n",
      "C:\\Users\\Ganga\\Desktop\\Research\\CDCDiab1\\07-08\\Examination\\OPXRET_E.XPT\n",
      "C:\\Users\\Ganga\\Desktop\\Research\\CDCDiab1\\07-08\\Examination\\SPX_E.XPT\n",
      "C:\\Users\\Ganga\\Desktop\\Research\\CDCDiab1\\07-08\\Examination\\VIX_E.XPT\n"
     ]
    }
   ],
   "source": [
    "path = 'C:\\\\Users\\\\Ganga\\\\Desktop\\\\Research\\\\CDCDiab1\\\\07-08\\\\Examination'\n",
    "allFiles = glob.glob(os.path.join(path,\"*.xpt\"))\n",
    "\n",
    "data = np.array([np.arange(41475,51624)]).T\n",
    "x_Examination =pd.DataFrame(data, index = range(41474,51623),columns=['SEQN'])\n",
    "\n",
    "for infile in allFiles:\n",
    "    print(infile)\n",
    "    df = pd.read_sas(infile)\n",
    "    df['SEQN']=df['SEQN'].astype(int)\n",
    "    x_Examination = x_Examination.merge(df.drop_duplicates(subset=['SEQN']),on='SEQN', how='left')"
   ]
  },
  {
   "cell_type": "code",
   "execution_count": 9,
   "metadata": {},
   "outputs": [
    {
     "data": {
      "text/plain": [
       "(10149, 1177)"
      ]
     },
     "execution_count": 9,
     "metadata": {},
     "output_type": "execute_result"
    }
   ],
   "source": [
    "x_Examination.shape"
   ]
  },
  {
   "cell_type": "code",
   "execution_count": 10,
   "metadata": {},
   "outputs": [
    {
     "name": "stdout",
     "output_type": "stream",
     "text": [
      "C:\\Users\\Ganga\\Desktop\\Research\\CDCDiab1\\07-08\\Diatery\\DR1IFF_E.XPT\n",
      "C:\\Users\\Ganga\\Desktop\\Research\\CDCDiab1\\07-08\\Diatery\\DR1TOT_E.XPT\n",
      "C:\\Users\\Ganga\\Desktop\\Research\\CDCDiab1\\07-08\\Diatery\\DR2IFF_E.XPT\n",
      "C:\\Users\\Ganga\\Desktop\\Research\\CDCDiab1\\07-08\\Diatery\\DR2TOT_E.XPT\n",
      "C:\\Users\\Ganga\\Desktop\\Research\\CDCDiab1\\07-08\\Diatery\\DS1IDS_E.XPT\n",
      "C:\\Users\\Ganga\\Desktop\\Research\\CDCDiab1\\07-08\\Diatery\\DS1TOT_E.XPT\n",
      "C:\\Users\\Ganga\\Desktop\\Research\\CDCDiab1\\07-08\\Diatery\\DS2IDS_E.XPT\n",
      "C:\\Users\\Ganga\\Desktop\\Research\\CDCDiab1\\07-08\\Diatery\\DS2TOT_E.XPT\n",
      "C:\\Users\\Ganga\\Desktop\\Research\\CDCDiab1\\07-08\\Diatery\\DSQIDS_E.XPT\n",
      "C:\\Users\\Ganga\\Desktop\\Research\\CDCDiab1\\07-08\\Diatery\\DSQTOT_E.XPT\n"
     ]
    }
   ],
   "source": [
    "path = 'C:\\\\Users\\\\Ganga\\\\Desktop\\\\Research\\\\CDCDiab1\\\\07-08\\\\Diatery'\n",
    "allFiles = glob.glob(os.path.join(path,\"*.xpt\"))\n",
    "\n",
    "data = np.array([np.arange(41475,51624)]).T\n",
    "x_Diatery =pd.DataFrame(data, index = range(41474,51623),columns=['SEQN'])\n",
    "\n",
    "for infile in allFiles:\n",
    "    print(infile)\n",
    "    df = pd.read_sas(infile)\n",
    "    df['SEQN']=df['SEQN'].astype(int)\n",
    "    x_Diatery = x_Diatery.merge(df.drop_duplicates(subset=['SEQN']),on='SEQN', how='left')"
   ]
  },
  {
   "cell_type": "code",
   "execution_count": 11,
   "metadata": {},
   "outputs": [
    {
     "data": {
      "text/plain": [
       "(10149, 714)"
      ]
     },
     "execution_count": 11,
     "metadata": {},
     "output_type": "execute_result"
    }
   ],
   "source": [
    "x_Diatery.shape"
   ]
  },
  {
   "cell_type": "code",
   "execution_count": 12,
   "metadata": {},
   "outputs": [
    {
     "name": "stdout",
     "output_type": "stream",
     "text": [
      "C:\\Users\\Ganga\\Desktop\\Research\\CDCDiab1\\07-08\\Demographic\\DEMO_E.XPT\n"
     ]
    }
   ],
   "source": [
    "path = 'C:\\\\Users\\\\Ganga\\\\Desktop\\\\Research\\\\CDCDiab1\\\\07-08\\\\Demographic'\n",
    "allFiles = glob.glob(os.path.join(path,\"*.xpt\"))\n",
    "\n",
    "data = np.array([np.arange(41475,51624)]).T\n",
    "x_Demographic =pd.DataFrame(data, index = range(41474,51623),columns=['SEQN'])\n",
    "\n",
    "for infile in allFiles:\n",
    "    print(infile)\n",
    "    df = pd.read_sas(infile)\n",
    "    df['SEQN']=df['SEQN'].astype(int)\n",
    "    x_Demographic = x_Demographic.merge(df.drop_duplicates(subset=['SEQN']),on='SEQN', how='left')"
   ]
  },
  {
   "cell_type": "code",
   "execution_count": 13,
   "metadata": {},
   "outputs": [
    {
     "data": {
      "text/plain": [
       "(10149, 43)"
      ]
     },
     "execution_count": 13,
     "metadata": {},
     "output_type": "execute_result"
    }
   ],
   "source": [
    "x_Demographic.shape"
   ]
  },
  {
   "cell_type": "code",
   "execution_count": 14,
   "metadata": {},
   "outputs": [],
   "source": [
    "# Mergin All files with left joint.\n",
    "\n",
    "dfQL =pd.merge(x_Lab, x_Quest, on='SEQN', how='left')"
   ]
  },
  {
   "cell_type": "code",
   "execution_count": 15,
   "metadata": {},
   "outputs": [
    {
     "data": {
      "text/plain": [
       "(10149, 1821)"
      ]
     },
     "execution_count": 15,
     "metadata": {},
     "output_type": "execute_result"
    }
   ],
   "source": [
    "dfQL.shape"
   ]
  },
  {
   "cell_type": "code",
   "execution_count": 16,
   "metadata": {},
   "outputs": [],
   "source": [
    "dfED = pd.merge(x_Examination, x_Diatery, on='SEQN', how='left')"
   ]
  },
  {
   "cell_type": "code",
   "execution_count": 17,
   "metadata": {},
   "outputs": [
    {
     "data": {
      "text/plain": [
       "(10149, 1890)"
      ]
     },
     "execution_count": 17,
     "metadata": {},
     "output_type": "execute_result"
    }
   ],
   "source": [
    "dfED.shape"
   ]
  },
  {
   "cell_type": "code",
   "execution_count": 18,
   "metadata": {},
   "outputs": [],
   "source": [
    "dfD = pd.merge(dfED, x_Demographic, on='SEQN', how='left')"
   ]
  },
  {
   "cell_type": "code",
   "execution_count": 19,
   "metadata": {},
   "outputs": [],
   "source": [
    "df07_08 = dfD.merge(dfQL, on='SEQN',how ='left')"
   ]
  },
  {
   "cell_type": "code",
   "execution_count": 20,
   "metadata": {},
   "outputs": [
    {
     "data": {
      "text/html": [
       "<div>\n",
       "<style scoped>\n",
       "    .dataframe tbody tr th:only-of-type {\n",
       "        vertical-align: middle;\n",
       "    }\n",
       "\n",
       "    .dataframe tbody tr th {\n",
       "        vertical-align: top;\n",
       "    }\n",
       "\n",
       "    .dataframe thead th {\n",
       "        text-align: right;\n",
       "    }\n",
       "</style>\n",
       "<table border=\"1\" class=\"dataframe\">\n",
       "  <thead>\n",
       "    <tr style=\"text-align: right;\">\n",
       "      <th></th>\n",
       "      <th>SEQN</th>\n",
       "      <th>AUXRR101</th>\n",
       "      <th>AUXRR102</th>\n",
       "      <th>AUXRR103</th>\n",
       "      <th>AUXRR104</th>\n",
       "      <th>AUXRR105</th>\n",
       "      <th>AUXRR106</th>\n",
       "      <th>AUXRR107</th>\n",
       "      <th>AUXRR108</th>\n",
       "      <th>AUXRR109</th>\n",
       "      <th>...</th>\n",
       "      <th>WHD100Q</th>\n",
       "      <th>WHD100R</th>\n",
       "      <th>WHD100S</th>\n",
       "      <th>WHQ210</th>\n",
       "      <th>WHD220</th>\n",
       "      <th>WHD110</th>\n",
       "      <th>WHD120</th>\n",
       "      <th>WHD130</th>\n",
       "      <th>WHD140</th>\n",
       "      <th>WHQ150</th>\n",
       "    </tr>\n",
       "  </thead>\n",
       "  <tbody>\n",
       "    <tr>\n",
       "      <th>0</th>\n",
       "      <td>41475</td>\n",
       "      <td>NaN</td>\n",
       "      <td>NaN</td>\n",
       "      <td>NaN</td>\n",
       "      <td>NaN</td>\n",
       "      <td>NaN</td>\n",
       "      <td>NaN</td>\n",
       "      <td>NaN</td>\n",
       "      <td>NaN</td>\n",
       "      <td>NaN</td>\n",
       "      <td>...</td>\n",
       "      <td>NaN</td>\n",
       "      <td>NaN</td>\n",
       "      <td>NaN</td>\n",
       "      <td>NaN</td>\n",
       "      <td>67.0</td>\n",
       "      <td>250.0</td>\n",
       "      <td>180.0</td>\n",
       "      <td>62.0</td>\n",
       "      <td>308.0</td>\n",
       "      <td>62.0</td>\n",
       "    </tr>\n",
       "    <tr>\n",
       "      <th>1</th>\n",
       "      <td>41476</td>\n",
       "      <td>NaN</td>\n",
       "      <td>NaN</td>\n",
       "      <td>NaN</td>\n",
       "      <td>NaN</td>\n",
       "      <td>NaN</td>\n",
       "      <td>NaN</td>\n",
       "      <td>NaN</td>\n",
       "      <td>NaN</td>\n",
       "      <td>NaN</td>\n",
       "      <td>...</td>\n",
       "      <td>NaN</td>\n",
       "      <td>NaN</td>\n",
       "      <td>NaN</td>\n",
       "      <td>NaN</td>\n",
       "      <td>NaN</td>\n",
       "      <td>NaN</td>\n",
       "      <td>NaN</td>\n",
       "      <td>NaN</td>\n",
       "      <td>NaN</td>\n",
       "      <td>NaN</td>\n",
       "    </tr>\n",
       "    <tr>\n",
       "      <th>2</th>\n",
       "      <td>41477</td>\n",
       "      <td>NaN</td>\n",
       "      <td>NaN</td>\n",
       "      <td>NaN</td>\n",
       "      <td>NaN</td>\n",
       "      <td>NaN</td>\n",
       "      <td>NaN</td>\n",
       "      <td>NaN</td>\n",
       "      <td>NaN</td>\n",
       "      <td>NaN</td>\n",
       "      <td>...</td>\n",
       "      <td>NaN</td>\n",
       "      <td>NaN</td>\n",
       "      <td>NaN</td>\n",
       "      <td>2.0</td>\n",
       "      <td>NaN</td>\n",
       "      <td>205.0</td>\n",
       "      <td>175.0</td>\n",
       "      <td>68.0</td>\n",
       "      <td>205.0</td>\n",
       "      <td>40.0</td>\n",
       "    </tr>\n",
       "    <tr>\n",
       "      <th>3</th>\n",
       "      <td>41478</td>\n",
       "      <td>NaN</td>\n",
       "      <td>NaN</td>\n",
       "      <td>NaN</td>\n",
       "      <td>NaN</td>\n",
       "      <td>NaN</td>\n",
       "      <td>NaN</td>\n",
       "      <td>NaN</td>\n",
       "      <td>NaN</td>\n",
       "      <td>NaN</td>\n",
       "      <td>...</td>\n",
       "      <td>NaN</td>\n",
       "      <td>NaN</td>\n",
       "      <td>NaN</td>\n",
       "      <td>NaN</td>\n",
       "      <td>NaN</td>\n",
       "      <td>NaN</td>\n",
       "      <td>NaN</td>\n",
       "      <td>NaN</td>\n",
       "      <td>NaN</td>\n",
       "      <td>NaN</td>\n",
       "    </tr>\n",
       "    <tr>\n",
       "      <th>4</th>\n",
       "      <td>41479</td>\n",
       "      <td>NaN</td>\n",
       "      <td>NaN</td>\n",
       "      <td>NaN</td>\n",
       "      <td>NaN</td>\n",
       "      <td>NaN</td>\n",
       "      <td>NaN</td>\n",
       "      <td>NaN</td>\n",
       "      <td>NaN</td>\n",
       "      <td>NaN</td>\n",
       "      <td>...</td>\n",
       "      <td>NaN</td>\n",
       "      <td>NaN</td>\n",
       "      <td>NaN</td>\n",
       "      <td>2.0</td>\n",
       "      <td>NaN</td>\n",
       "      <td>130.0</td>\n",
       "      <td>120.0</td>\n",
       "      <td>66.0</td>\n",
       "      <td>150.0</td>\n",
       "      <td>47.0</td>\n",
       "    </tr>\n",
       "    <tr>\n",
       "      <th>5</th>\n",
       "      <td>41480</td>\n",
       "      <td>NaN</td>\n",
       "      <td>NaN</td>\n",
       "      <td>NaN</td>\n",
       "      <td>NaN</td>\n",
       "      <td>NaN</td>\n",
       "      <td>NaN</td>\n",
       "      <td>NaN</td>\n",
       "      <td>NaN</td>\n",
       "      <td>NaN</td>\n",
       "      <td>...</td>\n",
       "      <td>NaN</td>\n",
       "      <td>NaN</td>\n",
       "      <td>NaN</td>\n",
       "      <td>NaN</td>\n",
       "      <td>NaN</td>\n",
       "      <td>NaN</td>\n",
       "      <td>NaN</td>\n",
       "      <td>NaN</td>\n",
       "      <td>NaN</td>\n",
       "      <td>NaN</td>\n",
       "    </tr>\n",
       "    <tr>\n",
       "      <th>6</th>\n",
       "      <td>41481</td>\n",
       "      <td>NaN</td>\n",
       "      <td>NaN</td>\n",
       "      <td>NaN</td>\n",
       "      <td>NaN</td>\n",
       "      <td>NaN</td>\n",
       "      <td>NaN</td>\n",
       "      <td>NaN</td>\n",
       "      <td>NaN</td>\n",
       "      <td>NaN</td>\n",
       "      <td>...</td>\n",
       "      <td>NaN</td>\n",
       "      <td>NaN</td>\n",
       "      <td>NaN</td>\n",
       "      <td>2.0</td>\n",
       "      <td>NaN</td>\n",
       "      <td>NaN</td>\n",
       "      <td>NaN</td>\n",
       "      <td>NaN</td>\n",
       "      <td>175.0</td>\n",
       "      <td>20.0</td>\n",
       "    </tr>\n",
       "    <tr>\n",
       "      <th>7</th>\n",
       "      <td>41482</td>\n",
       "      <td>NaN</td>\n",
       "      <td>NaN</td>\n",
       "      <td>NaN</td>\n",
       "      <td>NaN</td>\n",
       "      <td>NaN</td>\n",
       "      <td>NaN</td>\n",
       "      <td>NaN</td>\n",
       "      <td>NaN</td>\n",
       "      <td>NaN</td>\n",
       "      <td>...</td>\n",
       "      <td>NaN</td>\n",
       "      <td>NaN</td>\n",
       "      <td>NaN</td>\n",
       "      <td>1.0</td>\n",
       "      <td>30.0</td>\n",
       "      <td>190.0</td>\n",
       "      <td>143.0</td>\n",
       "      <td>68.0</td>\n",
       "      <td>238.0</td>\n",
       "      <td>63.0</td>\n",
       "    </tr>\n",
       "    <tr>\n",
       "      <th>8</th>\n",
       "      <td>41483</td>\n",
       "      <td>NaN</td>\n",
       "      <td>NaN</td>\n",
       "      <td>NaN</td>\n",
       "      <td>NaN</td>\n",
       "      <td>NaN</td>\n",
       "      <td>NaN</td>\n",
       "      <td>NaN</td>\n",
       "      <td>NaN</td>\n",
       "      <td>NaN</td>\n",
       "      <td>...</td>\n",
       "      <td>NaN</td>\n",
       "      <td>NaN</td>\n",
       "      <td>NaN</td>\n",
       "      <td>2.0</td>\n",
       "      <td>NaN</td>\n",
       "      <td>275.0</td>\n",
       "      <td>260.0</td>\n",
       "      <td>71.0</td>\n",
       "      <td>300.0</td>\n",
       "      <td>50.0</td>\n",
       "    </tr>\n",
       "    <tr>\n",
       "      <th>9</th>\n",
       "      <td>41484</td>\n",
       "      <td>NaN</td>\n",
       "      <td>NaN</td>\n",
       "      <td>NaN</td>\n",
       "      <td>NaN</td>\n",
       "      <td>NaN</td>\n",
       "      <td>NaN</td>\n",
       "      <td>NaN</td>\n",
       "      <td>NaN</td>\n",
       "      <td>NaN</td>\n",
       "      <td>...</td>\n",
       "      <td>NaN</td>\n",
       "      <td>NaN</td>\n",
       "      <td>NaN</td>\n",
       "      <td>NaN</td>\n",
       "      <td>NaN</td>\n",
       "      <td>NaN</td>\n",
       "      <td>NaN</td>\n",
       "      <td>NaN</td>\n",
       "      <td>NaN</td>\n",
       "      <td>NaN</td>\n",
       "    </tr>\n",
       "  </tbody>\n",
       "</table>\n",
       "<p>10 rows × 3752 columns</p>\n",
       "</div>"
      ],
      "text/plain": [
       "    SEQN  AUXRR101  AUXRR102  AUXRR103  AUXRR104  AUXRR105  AUXRR106  \\\n",
       "0  41475       NaN       NaN       NaN       NaN       NaN       NaN   \n",
       "1  41476       NaN       NaN       NaN       NaN       NaN       NaN   \n",
       "2  41477       NaN       NaN       NaN       NaN       NaN       NaN   \n",
       "3  41478       NaN       NaN       NaN       NaN       NaN       NaN   \n",
       "4  41479       NaN       NaN       NaN       NaN       NaN       NaN   \n",
       "5  41480       NaN       NaN       NaN       NaN       NaN       NaN   \n",
       "6  41481       NaN       NaN       NaN       NaN       NaN       NaN   \n",
       "7  41482       NaN       NaN       NaN       NaN       NaN       NaN   \n",
       "8  41483       NaN       NaN       NaN       NaN       NaN       NaN   \n",
       "9  41484       NaN       NaN       NaN       NaN       NaN       NaN   \n",
       "\n",
       "   AUXRR107  AUXRR108  AUXRR109   ...    WHD100Q  WHD100R  WHD100S  WHQ210  \\\n",
       "0       NaN       NaN       NaN   ...        NaN      NaN      NaN     NaN   \n",
       "1       NaN       NaN       NaN   ...        NaN      NaN      NaN     NaN   \n",
       "2       NaN       NaN       NaN   ...        NaN      NaN      NaN     2.0   \n",
       "3       NaN       NaN       NaN   ...        NaN      NaN      NaN     NaN   \n",
       "4       NaN       NaN       NaN   ...        NaN      NaN      NaN     2.0   \n",
       "5       NaN       NaN       NaN   ...        NaN      NaN      NaN     NaN   \n",
       "6       NaN       NaN       NaN   ...        NaN      NaN      NaN     2.0   \n",
       "7       NaN       NaN       NaN   ...        NaN      NaN      NaN     1.0   \n",
       "8       NaN       NaN       NaN   ...        NaN      NaN      NaN     2.0   \n",
       "9       NaN       NaN       NaN   ...        NaN      NaN      NaN     NaN   \n",
       "\n",
       "   WHD220  WHD110  WHD120  WHD130  WHD140  WHQ150  \n",
       "0    67.0   250.0   180.0    62.0   308.0    62.0  \n",
       "1     NaN     NaN     NaN     NaN     NaN     NaN  \n",
       "2     NaN   205.0   175.0    68.0   205.0    40.0  \n",
       "3     NaN     NaN     NaN     NaN     NaN     NaN  \n",
       "4     NaN   130.0   120.0    66.0   150.0    47.0  \n",
       "5     NaN     NaN     NaN     NaN     NaN     NaN  \n",
       "6     NaN     NaN     NaN     NaN   175.0    20.0  \n",
       "7    30.0   190.0   143.0    68.0   238.0    63.0  \n",
       "8     NaN   275.0   260.0    71.0   300.0    50.0  \n",
       "9     NaN     NaN     NaN     NaN     NaN     NaN  \n",
       "\n",
       "[10 rows x 3752 columns]"
      ]
     },
     "execution_count": 20,
     "metadata": {},
     "output_type": "execute_result"
    }
   ],
   "source": [
    "df07_08.head(10)"
   ]
  },
  {
   "cell_type": "code",
   "execution_count": 21,
   "metadata": {},
   "outputs": [],
   "source": [
    "df07_08.to_csv('07_08Final.csv')"
   ]
  },
  {
   "cell_type": "code",
   "execution_count": null,
   "metadata": {},
   "outputs": [],
   "source": []
  }
 ],
 "metadata": {
  "kernelspec": {
   "display_name": "Python 3",
   "language": "python",
   "name": "python3"
  },
  "language_info": {
   "codemirror_mode": {
    "name": "ipython",
    "version": 3
   },
   "file_extension": ".py",
   "mimetype": "text/x-python",
   "name": "python",
   "nbconvert_exporter": "python",
   "pygments_lexer": "ipython3",
   "version": "3.6.4"
  }
 },
 "nbformat": 4,
 "nbformat_minor": 2
}
