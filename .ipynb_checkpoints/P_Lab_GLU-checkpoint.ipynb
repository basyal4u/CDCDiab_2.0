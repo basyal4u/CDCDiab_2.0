{
 "cells": [
  {
   "cell_type": "markdown",
   "metadata": {},
   "source": [
    "#  Processing Laboratory - Plasma Fasting Glucose & Insulin (GLU) file"
   ]
  },
  {
   "cell_type": "code",
   "execution_count": 1,
   "metadata": {},
   "outputs": [],
   "source": [
    "import numpy as np\n",
    "import pandas as pd\n",
    "import glob \n",
    "import os\n",
    "import sys"
   ]
  },
  {
   "cell_type": "code",
   "execution_count": 2,
   "metadata": {},
   "outputs": [
    {
     "data": {
      "text/plain": [
       "'C:\\\\Users\\\\Ganga\\\\Desktop\\\\Research\\\\CDCDiab_2.0\\\\Code'"
      ]
     },
     "execution_count": 2,
     "metadata": {},
     "output_type": "execute_result"
    }
   ],
   "source": [
    "os.getcwd()"
   ]
  },
  {
   "cell_type": "code",
   "execution_count": null,
   "metadata": {},
   "outputs": [],
   "source": [
    "# Select working directory\n",
    "# %cd C:\\Users\\Ganga\\Desktop\\Research\\CDCDiab_2.0\\Data\\07-08\\Examination\n",
    "#%cd /Users/elgayaro/Main/Research/Healthcare/CDC-NHANES/Data/07-08/Examination"
   ]
  },
  {
   "cell_type": "code",
   "execution_count": null,
   "metadata": {},
   "outputs": [],
   "source": [
    "#os.getcwd()"
   ]
  },
  {
   "cell_type": "code",
   "execution_count": null,
   "metadata": {},
   "outputs": [],
   "source": [
    "# Omar\n",
    "#allFiles = glob.glob(os.path.join('.',\"*.XPT\"))\n",
    "#print(allFiles)"
   ]
  },
  {
   "cell_type": "code",
   "execution_count": null,
   "metadata": {},
   "outputs": [],
   "source": [
    "# Omar\n",
    "# Set desired file name\n",
    "# fname = '.\\\\BMX_E.XPT'  # Ganga\n",
    "#fname = './BMX_E.XPT'   # Omar\n",
    "#BMX = pd.read_sas(fname, index='SEQN')\n",
    "#BMX.shape"
   ]
  },
  {
   "cell_type": "code",
   "execution_count": 3,
   "metadata": {},
   "outputs": [
    {
     "name": "stdout",
     "output_type": "stream",
     "text": [
      "['C:\\\\Users\\\\Ganga\\\\Desktop\\\\Research\\\\CDCDiab_2.0\\\\Data\\\\07-08\\\\Lab\\\\ALB_CR_E.XPT', 'C:\\\\Users\\\\Ganga\\\\Desktop\\\\Research\\\\CDCDiab_2.0\\\\Data\\\\07-08\\\\Lab\\\\APOB_E.XPT', 'C:\\\\Users\\\\Ganga\\\\Desktop\\\\Research\\\\CDCDiab_2.0\\\\Data\\\\07-08\\\\Lab\\\\BIOPRO_E.XPT', 'C:\\\\Users\\\\Ganga\\\\Desktop\\\\Research\\\\CDCDiab_2.0\\\\Data\\\\07-08\\\\Lab\\\\CARB_E.XPT', 'C:\\\\Users\\\\Ganga\\\\Desktop\\\\Research\\\\CDCDiab_2.0\\\\Data\\\\07-08\\\\Lab\\\\CBC_E.XPT', 'C:\\\\Users\\\\Ganga\\\\Desktop\\\\Research\\\\CDCDiab_2.0\\\\Data\\\\07-08\\\\Lab\\\\CHLMDA_E.XPT', 'C:\\\\Users\\\\Ganga\\\\Desktop\\\\Research\\\\CDCDiab_2.0\\\\Data\\\\07-08\\\\Lab\\\\COTNAL_E.XPT', 'C:\\\\Users\\\\Ganga\\\\Desktop\\\\Research\\\\CDCDiab_2.0\\\\Data\\\\07-08\\\\Lab\\\\CRP_E.XPT', 'C:\\\\Users\\\\Ganga\\\\Desktop\\\\Research\\\\CDCDiab_2.0\\\\Data\\\\07-08\\\\Lab\\\\DEET_E.XPT', 'C:\\\\Users\\\\Ganga\\\\Desktop\\\\Research\\\\CDCDiab_2.0\\\\Data\\\\07-08\\\\Lab\\\\EPH_E.XPT', 'C:\\\\Users\\\\Ganga\\\\Desktop\\\\Research\\\\CDCDiab_2.0\\\\Data\\\\07-08\\\\Lab\\\\FASTQX_E.XPT', 'C:\\\\Users\\\\Ganga\\\\Desktop\\\\Research\\\\CDCDiab_2.0\\\\Data\\\\07-08\\\\Lab\\\\FERTIN_E.XPT', 'C:\\\\Users\\\\Ganga\\\\Desktop\\\\Research\\\\CDCDiab_2.0\\\\Data\\\\07-08\\\\Lab\\\\FOLATE_E.XPT', 'C:\\\\Users\\\\Ganga\\\\Desktop\\\\Research\\\\CDCDiab_2.0\\\\Data\\\\07-08\\\\Lab\\\\FOLFMS_E.XPT', 'C:\\\\Users\\\\Ganga\\\\Desktop\\\\Research\\\\CDCDiab_2.0\\\\Data\\\\07-08\\\\Lab\\\\GHB_E.XPT', 'C:\\\\Users\\\\Ganga\\\\Desktop\\\\Research\\\\CDCDiab_2.0\\\\Data\\\\07-08\\\\Lab\\\\GLU_E.XPT', 'C:\\\\Users\\\\Ganga\\\\Desktop\\\\Research\\\\CDCDiab_2.0\\\\Data\\\\07-08\\\\Lab\\\\HDL_E.XPT', 'C:\\\\Users\\\\Ganga\\\\Desktop\\\\Research\\\\CDCDiab_2.0\\\\Data\\\\07-08\\\\Lab\\\\HEPA_E.XPT', 'C:\\\\Users\\\\Ganga\\\\Desktop\\\\Research\\\\CDCDiab_2.0\\\\Data\\\\07-08\\\\Lab\\\\HEPBD_E.XPT', 'C:\\\\Users\\\\Ganga\\\\Desktop\\\\Research\\\\CDCDiab_2.0\\\\Data\\\\07-08\\\\Lab\\\\HEPB_S_E.XPT', 'C:\\\\Users\\\\Ganga\\\\Desktop\\\\Research\\\\CDCDiab_2.0\\\\Data\\\\07-08\\\\Lab\\\\HEPC_E.XPT', 'C:\\\\Users\\\\Ganga\\\\Desktop\\\\Research\\\\CDCDiab_2.0\\\\Data\\\\07-08\\\\Lab\\\\HIV_E.XPT', 'C:\\\\Users\\\\Ganga\\\\Desktop\\\\Research\\\\CDCDiab_2.0\\\\Data\\\\07-08\\\\Lab\\\\HPVSER_E.XPT', 'C:\\\\Users\\\\Ganga\\\\Desktop\\\\Research\\\\CDCDiab_2.0\\\\Data\\\\07-08\\\\Lab\\\\HPVSWR_E.XPT', 'C:\\\\Users\\\\Ganga\\\\Desktop\\\\Research\\\\CDCDiab_2.0\\\\Data\\\\07-08\\\\Lab\\\\HSV_E.XPT', 'C:\\\\Users\\\\Ganga\\\\Desktop\\\\Research\\\\CDCDiab_2.0\\\\Data\\\\07-08\\\\Lab\\\\IHG_E.XPT', 'C:\\\\Users\\\\Ganga\\\\Desktop\\\\Research\\\\CDCDiab_2.0\\\\Data\\\\07-08\\\\Lab\\\\OGTT_E.XPT', 'C:\\\\Users\\\\Ganga\\\\Desktop\\\\Research\\\\CDCDiab_2.0\\\\Data\\\\07-08\\\\Lab\\\\OPD_E.XPT', 'C:\\\\Users\\\\Ganga\\\\Desktop\\\\Research\\\\CDCDiab_2.0\\\\Data\\\\07-08\\\\Lab\\\\PAH_E.XPT', 'C:\\\\Users\\\\Ganga\\\\Desktop\\\\Research\\\\CDCDiab_2.0\\\\Data\\\\07-08\\\\Lab\\\\PBCD_E.XPT', 'C:\\\\Users\\\\Ganga\\\\Desktop\\\\Research\\\\CDCDiab_2.0\\\\Data\\\\07-08\\\\Lab\\\\PERNT_E.XPT', 'C:\\\\Users\\\\Ganga\\\\Desktop\\\\Research\\\\CDCDiab_2.0\\\\Data\\\\07-08\\\\Lab\\\\PFC_E.XPT', 'C:\\\\Users\\\\Ganga\\\\Desktop\\\\Research\\\\CDCDiab_2.0\\\\Data\\\\07-08\\\\Lab\\\\PHTHTE_E.XPT', 'C:\\\\Users\\\\Ganga\\\\Desktop\\\\Research\\\\CDCDiab_2.0\\\\Data\\\\07-08\\\\Lab\\\\PHYTO_E.XPT', 'C:\\\\Users\\\\Ganga\\\\Desktop\\\\Research\\\\CDCDiab_2.0\\\\Data\\\\07-08\\\\Lab\\\\PP_E.XPT', 'C:\\\\Users\\\\Ganga\\\\Desktop\\\\Research\\\\CDCDiab_2.0\\\\Data\\\\07-08\\\\Lab\\\\PSA_E.XPT', 'C:\\\\Users\\\\Ganga\\\\Desktop\\\\Research\\\\CDCDiab_2.0\\\\Data\\\\07-08\\\\Lab\\\\SSEBV_E.XPT', 'C:\\\\Users\\\\Ganga\\\\Desktop\\\\Research\\\\CDCDiab_2.0\\\\Data\\\\07-08\\\\Lab\\\\SSHCV_E.XPT', 'C:\\\\Users\\\\Ganga\\\\Desktop\\\\Research\\\\CDCDiab_2.0\\\\Data\\\\07-08\\\\Lab\\\\SSUSG_E.XPT', 'C:\\\\Users\\\\Ganga\\\\Desktop\\\\Research\\\\CDCDiab_2.0\\\\Data\\\\07-08\\\\Lab\\\\TCHOL_E.XPT', 'C:\\\\Users\\\\Ganga\\\\Desktop\\\\Research\\\\CDCDiab_2.0\\\\Data\\\\07-08\\\\Lab\\\\TFR_E.XPT', 'C:\\\\Users\\\\Ganga\\\\Desktop\\\\Research\\\\CDCDiab_2.0\\\\Data\\\\07-08\\\\Lab\\\\THYROD_E.XPT', 'C:\\\\Users\\\\Ganga\\\\Desktop\\\\Research\\\\CDCDiab_2.0\\\\Data\\\\07-08\\\\Lab\\\\TRIGLY_E.XPT', 'C:\\\\Users\\\\Ganga\\\\Desktop\\\\Research\\\\CDCDiab_2.0\\\\Data\\\\07-08\\\\Lab\\\\UAM_E.XPT', 'C:\\\\Users\\\\Ganga\\\\Desktop\\\\Research\\\\CDCDiab_2.0\\\\Data\\\\07-08\\\\Lab\\\\UAS_E.XPT', 'C:\\\\Users\\\\Ganga\\\\Desktop\\\\Research\\\\CDCDiab_2.0\\\\Data\\\\07-08\\\\Lab\\\\UCPREG_E.XPT', 'C:\\\\Users\\\\Ganga\\\\Desktop\\\\Research\\\\CDCDiab_2.0\\\\Data\\\\07-08\\\\Lab\\\\UHG_E.XPT', 'C:\\\\Users\\\\Ganga\\\\Desktop\\\\Research\\\\CDCDiab_2.0\\\\Data\\\\07-08\\\\Lab\\\\UHM_E.XPT', 'C:\\\\Users\\\\Ganga\\\\Desktop\\\\Research\\\\CDCDiab_2.0\\\\Data\\\\07-08\\\\Lab\\\\UIO_E.XPT', 'C:\\\\Users\\\\Ganga\\\\Desktop\\\\Research\\\\CDCDiab_2.0\\\\Data\\\\07-08\\\\Lab\\\\UPHOPM_E.XPT', 'C:\\\\Users\\\\Ganga\\\\Desktop\\\\Research\\\\CDCDiab_2.0\\\\Data\\\\07-08\\\\Lab\\\\UPP_E.XPT', 'C:\\\\Users\\\\Ganga\\\\Desktop\\\\Research\\\\CDCDiab_2.0\\\\Data\\\\07-08\\\\Lab\\\\VID_E.XPT', 'C:\\\\Users\\\\Ganga\\\\Desktop\\\\Research\\\\CDCDiab_2.0\\\\Data\\\\07-08\\\\Lab\\\\VIT_B6_E.XPT', 'C:\\\\Users\\\\Ganga\\\\Desktop\\\\Research\\\\CDCDiab_2.0\\\\Data\\\\07-08\\\\Lab\\\\VOCMWB_E.XPT', 'C:\\\\Users\\\\Ganga\\\\Desktop\\\\Research\\\\CDCDiab_2.0\\\\Data\\\\07-08\\\\Lab\\\\VOCWB_E.XPT', 'C:\\\\Users\\\\Ganga\\\\Desktop\\\\Research\\\\CDCDiab_2.0\\\\Data\\\\07-08\\\\Lab\\\\VOC_E.XPT']\n"
     ]
    }
   ],
   "source": [
    "path = 'C:\\\\Users\\\\Ganga\\\\Desktop\\\\Research\\\\CDCDiab_2.0\\\\Data\\\\07-08\\\\Lab'\n",
    "allFiles = glob.glob(os.path.join(path,\"*.XPT\"))\n",
    "print(allFiles)"
   ]
  },
  {
   "cell_type": "code",
   "execution_count": 4,
   "metadata": {},
   "outputs": [
    {
     "data": {
      "text/plain": [
       "(3315, 7)"
      ]
     },
     "execution_count": 4,
     "metadata": {},
     "output_type": "execute_result"
    }
   ],
   "source": [
    "GLU = pd.read_sas('C:\\\\Users\\\\Ganga\\\\Desktop\\\\Research\\\\CDCDiab_2.0\\\\Data\\\\07-08\\\\Lab\\\\GLU_E.XPT', index='SEQN')\n",
    "GLU.shape  "
   ]
  },
  {
   "cell_type": "code",
   "execution_count": 5,
   "metadata": {},
   "outputs": [
    {
     "name": "stdout",
     "output_type": "stream",
     "text": [
      "['LBDGLUSI', 'LBDINSI', 'LBXGLU', 'LBXIN', 'PHAFSTHR', 'PHAFSTMN', 'WTSAF2YR']\n"
     ]
    }
   ],
   "source": [
    "A = set(GLU.columns)\n",
    "print(sorted(A))"
   ]
  },
  {
   "cell_type": "code",
   "execution_count": 6,
   "metadata": {},
   "outputs": [
    {
     "data": {
      "text/plain": [
       "WTSAF2YR    float64\n",
       "LBXGLU      float64\n",
       "LBDGLUSI    float64\n",
       "LBXIN       float64\n",
       "LBDINSI     float64\n",
       "PHAFSTHR    float64\n",
       "PHAFSTMN    float64\n",
       "dtype: object"
      ]
     },
     "execution_count": 6,
     "metadata": {},
     "output_type": "execute_result"
    }
   ],
   "source": [
    "GLU.dtypes"
   ]
  },
  {
   "cell_type": "code",
   "execution_count": 7,
   "metadata": {},
   "outputs": [
    {
     "data": {
      "text/plain": [
       "WTSAF2YR    3315\n",
       "LBXGLU      3315\n",
       "LBDGLUSI    3315\n",
       "LBXIN       3315\n",
       "LBDINSI     3315\n",
       "PHAFSTHR    3315\n",
       "PHAFSTMN    3315\n",
       "dtype: int64"
      ]
     },
     "execution_count": 7,
     "metadata": {},
     "output_type": "execute_result"
    }
   ],
   "source": [
    "GLU.isnull().count()"
   ]
  },
  {
   "cell_type": "code",
   "execution_count": 8,
   "metadata": {},
   "outputs": [
    {
     "data": {
      "text/html": [
       "<div>\n",
       "<style scoped>\n",
       "    .dataframe tbody tr th:only-of-type {\n",
       "        vertical-align: middle;\n",
       "    }\n",
       "\n",
       "    .dataframe tbody tr th {\n",
       "        vertical-align: top;\n",
       "    }\n",
       "\n",
       "    .dataframe thead th {\n",
       "        text-align: right;\n",
       "    }\n",
       "</style>\n",
       "<table border=\"1\" class=\"dataframe\">\n",
       "  <thead>\n",
       "    <tr style=\"text-align: right;\">\n",
       "      <th></th>\n",
       "      <th>count</th>\n",
       "      <th>mean</th>\n",
       "      <th>std</th>\n",
       "      <th>min</th>\n",
       "      <th>25%</th>\n",
       "      <th>50%</th>\n",
       "      <th>75%</th>\n",
       "      <th>max</th>\n",
       "    </tr>\n",
       "  </thead>\n",
       "  <tbody>\n",
       "    <tr>\n",
       "      <th>WTSAF2YR</th>\n",
       "      <td>3315.0</td>\n",
       "      <td>74986.722745</td>\n",
       "      <td>72617.987905</td>\n",
       "      <td>5.397605e-79</td>\n",
       "      <td>26034.830</td>\n",
       "      <td>54827.201</td>\n",
       "      <td>94336.2335</td>\n",
       "      <td>404655.623</td>\n",
       "    </tr>\n",
       "    <tr>\n",
       "      <th>LBXGLU</th>\n",
       "      <td>3110.0</td>\n",
       "      <td>109.750804</td>\n",
       "      <td>39.622186</td>\n",
       "      <td>3.800000e+01</td>\n",
       "      <td>94.000</td>\n",
       "      <td>101.000</td>\n",
       "      <td>111.0000</td>\n",
       "      <td>584.000</td>\n",
       "    </tr>\n",
       "    <tr>\n",
       "      <th>LBDGLUSI</th>\n",
       "      <td>3110.0</td>\n",
       "      <td>6.092241</td>\n",
       "      <td>2.199446</td>\n",
       "      <td>2.109000e+00</td>\n",
       "      <td>5.218</td>\n",
       "      <td>5.607</td>\n",
       "      <td>6.1620</td>\n",
       "      <td>32.418</td>\n",
       "    </tr>\n",
       "    <tr>\n",
       "      <th>LBXIN</th>\n",
       "      <td>3071.0</td>\n",
       "      <td>13.595454</td>\n",
       "      <td>12.958137</td>\n",
       "      <td>1.000000e+00</td>\n",
       "      <td>6.310</td>\n",
       "      <td>10.030</td>\n",
       "      <td>16.3950</td>\n",
       "      <td>231.670</td>\n",
       "    </tr>\n",
       "    <tr>\n",
       "      <th>LBDINSI</th>\n",
       "      <td>3071.0</td>\n",
       "      <td>81.572725</td>\n",
       "      <td>77.748821</td>\n",
       "      <td>6.000000e+00</td>\n",
       "      <td>37.860</td>\n",
       "      <td>60.180</td>\n",
       "      <td>98.3700</td>\n",
       "      <td>1390.020</td>\n",
       "    </tr>\n",
       "    <tr>\n",
       "      <th>PHAFSTHR</th>\n",
       "      <td>3223.0</td>\n",
       "      <td>10.773503</td>\n",
       "      <td>3.655334</td>\n",
       "      <td>5.397605e-79</td>\n",
       "      <td>10.000</td>\n",
       "      <td>11.000</td>\n",
       "      <td>13.0000</td>\n",
       "      <td>40.000</td>\n",
       "    </tr>\n",
       "    <tr>\n",
       "      <th>PHAFSTMN</th>\n",
       "      <td>3223.0</td>\n",
       "      <td>30.130934</td>\n",
       "      <td>17.319440</td>\n",
       "      <td>5.397605e-79</td>\n",
       "      <td>15.000</td>\n",
       "      <td>31.000</td>\n",
       "      <td>45.0000</td>\n",
       "      <td>59.000</td>\n",
       "    </tr>\n",
       "  </tbody>\n",
       "</table>\n",
       "</div>"
      ],
      "text/plain": [
       "           count          mean           std           min        25%  \\\n",
       "WTSAF2YR  3315.0  74986.722745  72617.987905  5.397605e-79  26034.830   \n",
       "LBXGLU    3110.0    109.750804     39.622186  3.800000e+01     94.000   \n",
       "LBDGLUSI  3110.0      6.092241      2.199446  2.109000e+00      5.218   \n",
       "LBXIN     3071.0     13.595454     12.958137  1.000000e+00      6.310   \n",
       "LBDINSI   3071.0     81.572725     77.748821  6.000000e+00     37.860   \n",
       "PHAFSTHR  3223.0     10.773503      3.655334  5.397605e-79     10.000   \n",
       "PHAFSTMN  3223.0     30.130934     17.319440  5.397605e-79     15.000   \n",
       "\n",
       "                50%         75%         max  \n",
       "WTSAF2YR  54827.201  94336.2335  404655.623  \n",
       "LBXGLU      101.000    111.0000     584.000  \n",
       "LBDGLUSI      5.607      6.1620      32.418  \n",
       "LBXIN        10.030     16.3950     231.670  \n",
       "LBDINSI      60.180     98.3700    1390.020  \n",
       "PHAFSTHR     11.000     13.0000      40.000  \n",
       "PHAFSTMN     31.000     45.0000      59.000  "
      ]
     },
     "execution_count": 8,
     "metadata": {},
     "output_type": "execute_result"
    }
   ],
   "source": [
    "GLU.describe().T"
   ]
  },
  {
   "cell_type": "code",
   "execution_count": 9,
   "metadata": {},
   "outputs": [],
   "source": [
    "GLU.describe().T.to_csv('GLU_Select.csv')"
   ]
  },
  {
   "cell_type": "code",
   "execution_count": null,
   "metadata": {},
   "outputs": [],
   "source": [
    "GLU.reset_index()"
   ]
  },
  {
   "cell_type": "code",
   "execution_count": 9,
   "metadata": {},
   "outputs": [],
   "source": [
    "GLU.to_csv('GLU_Lab_filter.csv')"
   ]
  },
  {
   "cell_type": "markdown",
   "metadata": {},
   "source": [
    "# Processing Column of GLU"
   ]
  },
  {
   "cell_type": "code",
   "execution_count": 7,
   "metadata": {},
   "outputs": [
    {
     "name": "stdout",
     "output_type": "stream",
     "text": [
      "GLU_reading1 shape =  (3315,)\n",
      "SEQN\n",
      "41479.0    113.0\n",
      "41481.0      NaN\n",
      "41485.0     97.0\n",
      "41486.0    123.0\n",
      "41487.0    108.0\n",
      "Name: LBXGLU, dtype: float64\n",
      "count    3110.000000\n",
      "mean      109.750804\n",
      "std        39.622186\n",
      "min        38.000000\n",
      "25%        94.000000\n",
      "50%       101.000000\n",
      "75%       111.000000\n",
      "max       584.000000\n",
      "Name: LBXGLU, dtype: float64\n"
     ]
    }
   ],
   "source": [
    "# Fasting Glucose mg/dl\n",
    "GLU_reading1 = GLU['LBXGLU']\n",
    "print('GLU_reading1 shape = ', GLU_reading1.shape)\n",
    "print(GLU_reading1.head())\n",
    "print(GLU_reading1.describe())"
   ]
  },
  {
   "cell_type": "code",
   "execution_count": 8,
   "metadata": {},
   "outputs": [
    {
     "name": "stdout",
     "output_type": "stream",
     "text": [
      "GLU_reading2 shape =  (3315,)\n",
      "SEQN\n",
      "41479.0     9.60\n",
      "41481.0      NaN\n",
      "41485.0     8.54\n",
      "41486.0    21.17\n",
      "41487.0    11.92\n",
      "Name: LBXIN, dtype: float64\n",
      "count    3071.000000\n",
      "mean       13.595454\n",
      "std        12.958137\n",
      "min         1.000000\n",
      "25%         6.310000\n",
      "50%        10.030000\n",
      "75%        16.395000\n",
      "max       231.670000\n",
      "Name: LBXIN, dtype: float64\n"
     ]
    }
   ],
   "source": [
    "# Insulin uU/ml\n",
    "GLU_reading2 = GLU['LBXIN']\n",
    "print('GLU_reading2 shape = ', GLU_reading2.shape)\n",
    "print(GLU_reading2.head())\n",
    "print(GLU_reading2.describe())"
   ]
  },
  {
   "cell_type": "code",
   "execution_count": 9,
   "metadata": {},
   "outputs": [
    {
     "name": "stdout",
     "output_type": "stream",
     "text": [
      "GLU_reading3 shape =  (3315,)\n",
      "SEQN\n",
      "41479.0    14.0\n",
      "41481.0    12.0\n",
      "41485.0     9.0\n",
      "41486.0    12.0\n",
      "41487.0     9.0\n",
      "Name: PHAFSTHR, dtype: float64\n",
      "count    3.223000e+03\n",
      "mean     1.077350e+01\n",
      "std      3.655334e+00\n",
      "min      5.397605e-79\n",
      "25%      1.000000e+01\n",
      "50%      1.100000e+01\n",
      "75%      1.300000e+01\n",
      "max      4.000000e+01\n",
      "Name: PHAFSTHR, dtype: float64\n"
     ]
    }
   ],
   "source": [
    "# PHAFSTHR - total length of food fast\n",
    "GLU_reading3 = GLU['PHAFSTHR']\n",
    "print('GLU_reading3 shape = ', GLU_reading3.shape)\n",
    "print(GLU_reading3.head())\n",
    "print(GLU_reading3.describe())"
   ]
  },
  {
   "cell_type": "code",
   "execution_count": 10,
   "metadata": {},
   "outputs": [
    {
     "name": "stdout",
     "output_type": "stream",
     "text": [
      "GLU_reading1 missing values =   205 from  3315 observations\n",
      "GLU_reading2 missing values =   244 from  3315 observations\n",
      "GLU_reading3 missing values =   92 from  3315 observations\n"
     ]
    }
   ],
   "source": [
    "print('GLU_reading1 missing values =  ', GLU_reading1.isnull().sum(), 'from ', GLU_reading1.shape[0], 'observations')\n",
    "print('GLU_reading2 missing values =  ', GLU_reading2.isnull().sum(), 'from ', GLU_reading2.shape[0], 'observations')\n",
    "print('GLU_reading3 missing values =  ', GLU_reading3.isnull().sum(), 'from ', GLU_reading3.shape[0], 'observations')"
   ]
  },
  {
   "cell_type": "code",
   "execution_count": null,
   "metadata": {},
   "outputs": [],
   "source": []
  }
 ],
 "metadata": {
  "kernelspec": {
   "display_name": "Python 3",
   "language": "python",
   "name": "python3"
  },
  "language_info": {
   "codemirror_mode": {
    "name": "ipython",
    "version": 3
   },
   "file_extension": ".py",
   "mimetype": "text/x-python",
   "name": "python",
   "nbconvert_exporter": "python",
   "pygments_lexer": "ipython3",
   "version": "3.6.4"
  }
 },
 "nbformat": 4,
 "nbformat_minor": 2
}
