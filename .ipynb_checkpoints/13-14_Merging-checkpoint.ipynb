{
 "cells": [
  {
   "cell_type": "markdown",
   "metadata": {},
   "source": [
    "# 13-14 Merging the data set\n",
    "\n",
    "### We have acquired the dataset from NAHNES under CDC.gov website. This is an open data repository. We had downloaded the data into 5 part- 1) Demographic, 2) Diatery, 3) Laboratory, 4) Examination, 5) Questionair. All the data is merged into one single file. \n"
   ]
  },
  {
   "cell_type": "code",
   "execution_count": 1,
   "metadata": {},
   "outputs": [],
   "source": [
    "import numpy as np\n",
    "import pandas as pd\n",
    "import matplotlib.pyplot as plt\n",
    "import glob \n",
    "import os\n",
    "import sys"
   ]
  },
  {
   "cell_type": "code",
   "execution_count": 2,
   "metadata": {},
   "outputs": [],
   "source": [
    "os.chdir('C:\\\\Users\\\\Ganga\\\\Desktop\\\\Research\\\\CDCDiab_2.0\\\\Data\\\\13-14')"
   ]
  },
  {
   "cell_type": "code",
   "execution_count": 13,
   "metadata": {},
   "outputs": [
    {
     "name": "stdout",
     "output_type": "stream",
     "text": [
      "C:\\Users\\Ganga\\Desktop\\Research\\CDCDiab_2.0\\Data\\13-14\\Demographic\\DEMO_H.XPT\n"
     ]
    }
   ],
   "source": [
    "path = 'C:\\\\Users\\\\Ganga\\\\Desktop\\\\Research\\\\CDCDiab_2.0\\\\Data\\\\13-14\\\\Demographic'\n",
    "allFiles = glob.glob(os.path.join(path,\"*.xpt\"))\n",
    "\n",
    "data = np.array([np.arange(73557,83732)]).T\n",
    "Demo =pd.DataFrame(data, index = range(73556,83731),columns=['SEQN'])\n",
    "\n",
    "for infile in allFiles:\n",
    "    print(infile)\n",
    "    df = pd.read_sas(infile)\n",
    "    df['SEQN']=df['SEQN'].astype(int)\n",
    "    Demo = Demo.merge(df.drop_duplicates(subset=['SEQN']),on='SEQN', how='left')"
   ]
  },
  {
   "cell_type": "code",
   "execution_count": 14,
   "metadata": {},
   "outputs": [],
   "source": [
    "Demo.to_csv('Demo.csv')"
   ]
  },
  {
   "cell_type": "code",
   "execution_count": 15,
   "metadata": {},
   "outputs": [
    {
     "name": "stdout",
     "output_type": "stream",
     "text": [
      "C:\\Users\\Ganga\\Desktop\\Research\\CDCDiab_2.0\\Data\\13-14\\Diatery\\DR1IFF_H.XPT\n",
      "C:\\Users\\Ganga\\Desktop\\Research\\CDCDiab_2.0\\Data\\13-14\\Diatery\\DR1TOT_H.XPT\n",
      "C:\\Users\\Ganga\\Desktop\\Research\\CDCDiab_2.0\\Data\\13-14\\Diatery\\DR2IFF_H.XPT\n",
      "C:\\Users\\Ganga\\Desktop\\Research\\CDCDiab_2.0\\Data\\13-14\\Diatery\\DR2TOT_H.XPT\n",
      "C:\\Users\\Ganga\\Desktop\\Research\\CDCDiab_2.0\\Data\\13-14\\Diatery\\DS1IDS_H.XPT\n",
      "C:\\Users\\Ganga\\Desktop\\Research\\CDCDiab_2.0\\Data\\13-14\\Diatery\\DS1TOT_H.XPT\n",
      "C:\\Users\\Ganga\\Desktop\\Research\\CDCDiab_2.0\\Data\\13-14\\Diatery\\DS2IDS_H.XPT\n",
      "C:\\Users\\Ganga\\Desktop\\Research\\CDCDiab_2.0\\Data\\13-14\\Diatery\\DS2TOT_H.XPT\n",
      "C:\\Users\\Ganga\\Desktop\\Research\\CDCDiab_2.0\\Data\\13-14\\Diatery\\DSQIDS_H.XPT\n",
      "C:\\Users\\Ganga\\Desktop\\Research\\CDCDiab_2.0\\Data\\13-14\\Diatery\\DSQTOT_H.XPT\n"
     ]
    }
   ],
   "source": [
    "path = 'C:\\\\Users\\\\Ganga\\\\Desktop\\\\Research\\\\CDCDiab_2.0\\\\Data\\\\13-14\\\\Diatery'\n",
    "allFiles = glob.glob(os.path.join(path,\"*.xpt\"))\n",
    "\n",
    "data = np.array([np.arange(73557,83732)]).T\n",
    "Diatery =pd.DataFrame(data, index = range(73556,83731),columns=['SEQN'])\n",
    "\n",
    "for infile in allFiles:\n",
    "    print(infile)\n",
    "    df = pd.read_sas(infile)\n",
    "    df['SEQN']=df['SEQN'].astype(int)\n",
    "    Diatery = Diatery.merge(df.drop_duplicates(subset=['SEQN']),on='SEQN', how='left')"
   ]
  },
  {
   "cell_type": "code",
   "execution_count": 27,
   "metadata": {},
   "outputs": [],
   "source": [
    "Diatery.to_csv('Diatery.csv')"
   ]
  },
  {
   "cell_type": "code",
   "execution_count": 33,
   "metadata": {},
   "outputs": [
    {
     "name": "stdout",
     "output_type": "stream",
     "text": [
      "C:\\Users\\Ganga\\Desktop\\Research\\CDCDiab_2.0\\Data\\13-14\\Examination\\BMX_H.XPT\n",
      "C:\\Users\\Ganga\\Desktop\\Research\\CDCDiab_2.0\\Data\\13-14\\Examination\\BPX_H.XPT\n",
      "C:\\Users\\Ganga\\Desktop\\Research\\CDCDiab_2.0\\Data\\13-14\\Examination\\CSX_H.XPT\n",
      "C:\\Users\\Ganga\\Desktop\\Research\\CDCDiab_2.0\\Data\\13-14\\Examination\\DXXFEM_H.XPT\n",
      "C:\\Users\\Ganga\\Desktop\\Research\\CDCDiab_2.0\\Data\\13-14\\Examination\\DXXFRX_H.XPT\n",
      "C:\\Users\\Ganga\\Desktop\\Research\\CDCDiab_2.0\\Data\\13-14\\Examination\\DXXSPN_H.XPT\n",
      "C:\\Users\\Ganga\\Desktop\\Research\\CDCDiab_2.0\\Data\\13-14\\Examination\\DXXVFA_H.XPT\n",
      "C:\\Users\\Ganga\\Desktop\\Research\\CDCDiab_2.0\\Data\\13-14\\Examination\\MGX_H.XPT\n",
      "C:\\Users\\Ganga\\Desktop\\Research\\CDCDiab_2.0\\Data\\13-14\\Examination\\OHXDEN_H.XPT\n",
      "C:\\Users\\Ganga\\Desktop\\Research\\CDCDiab_2.0\\Data\\13-14\\Examination\\OHXPER_H.XPT\n",
      "C:\\Users\\Ganga\\Desktop\\Research\\CDCDiab_2.0\\Data\\13-14\\Examination\\OHXREF_H.XPT\n"
     ]
    }
   ],
   "source": [
    "path = 'C:\\\\Users\\\\Ganga\\\\Desktop\\\\Research\\\\CDCDiab_2.0\\\\Data\\\\13-14\\\\Examination'\n",
    "allFiles = glob.glob(os.path.join(path,\"*.xpt\"))\n",
    "\n",
    "data = np.array([np.arange(73557,83732)]).T\n",
    "Exam =pd.DataFrame(data, index = range(73556,83731),columns=['SEQN'])\n",
    "\n",
    "for infile in allFiles:\n",
    "    print(infile)\n",
    "    df = pd.read_sas(infile)\n",
    "    df['SEQN']=df['SEQN'].astype(int)\n",
    "    Exam = Exam.merge(df.drop_duplicates(subset=['SEQN']),on='SEQN', how='left')"
   ]
  },
  {
   "cell_type": "code",
   "execution_count": 34,
   "metadata": {},
   "outputs": [],
   "source": [
    "Exam.to_csv('Exam.csv')"
   ]
  },
  {
   "cell_type": "code",
   "execution_count": 35,
   "metadata": {},
   "outputs": [
    {
     "name": "stdout",
     "output_type": "stream",
     "text": [
      "C:\\Users\\Ganga\\Desktop\\Research\\CDCDiab_2.0\\Data\\13-14\\Lab\\ALB_CR_H.XPT\n",
      "C:\\Users\\Ganga\\Desktop\\Research\\CDCDiab_2.0\\Data\\13-14\\Lab\\APOB_H.XPT\n",
      "C:\\Users\\Ganga\\Desktop\\Research\\CDCDiab_2.0\\Data\\13-14\\Lab\\BIOPRO_H.XPT\n",
      "C:\\Users\\Ganga\\Desktop\\Research\\CDCDiab_2.0\\Data\\13-14\\Lab\\CBC_H.XPT\n",
      "C:\\Users\\Ganga\\Desktop\\Research\\CDCDiab_2.0\\Data\\13-14\\Lab\\CHLMDA_H.XPT\n",
      "C:\\Users\\Ganga\\Desktop\\Research\\CDCDiab_2.0\\Data\\13-14\\Lab\\COT_H.XPT\n",
      "C:\\Users\\Ganga\\Desktop\\Research\\CDCDiab_2.0\\Data\\13-14\\Lab\\CUSEZN_H.XPT\n",
      "C:\\Users\\Ganga\\Desktop\\Research\\CDCDiab_2.0\\Data\\13-14\\Lab\\DEET_H.XPT\n",
      "C:\\Users\\Ganga\\Desktop\\Research\\CDCDiab_2.0\\Data\\13-14\\Lab\\EPHPP_H.XPT\n",
      "C:\\Users\\Ganga\\Desktop\\Research\\CDCDiab_2.0\\Data\\13-14\\Lab\\FASTQX_H.XPT\n",
      "C:\\Users\\Ganga\\Desktop\\Research\\CDCDiab_2.0\\Data\\13-14\\Lab\\FLDEP_H.XPT\n",
      "C:\\Users\\Ganga\\Desktop\\Research\\CDCDiab_2.0\\Data\\13-14\\Lab\\FLDEW_H.XPT\n",
      "C:\\Users\\Ganga\\Desktop\\Research\\CDCDiab_2.0\\Data\\13-14\\Lab\\GHB_H.XPT\n",
      "C:\\Users\\Ganga\\Desktop\\Research\\CDCDiab_2.0\\Data\\13-14\\Lab\\GLU_H.XPT\n",
      "C:\\Users\\Ganga\\Desktop\\Research\\CDCDiab_2.0\\Data\\13-14\\Lab\\HCAAS_H.XPT\n",
      "C:\\Users\\Ganga\\Desktop\\Research\\CDCDiab_2.0\\Data\\13-14\\Lab\\HCAA_H.XPT\n",
      "C:\\Users\\Ganga\\Desktop\\Research\\CDCDiab_2.0\\Data\\13-14\\Lab\\HDL_H.XPT\n",
      "C:\\Users\\Ganga\\Desktop\\Research\\CDCDiab_2.0\\Data\\13-14\\Lab\\HEPA_H.XPT\n",
      "C:\\Users\\Ganga\\Desktop\\Research\\CDCDiab_2.0\\Data\\13-14\\Lab\\HEPBD_H.XPT\n",
      "C:\\Users\\Ganga\\Desktop\\Research\\CDCDiab_2.0\\Data\\13-14\\Lab\\HEPB_S_H.XPT\n",
      "C:\\Users\\Ganga\\Desktop\\Research\\CDCDiab_2.0\\Data\\13-14\\Lab\\HEPC_H.XPT\n",
      "C:\\Users\\Ganga\\Desktop\\Research\\CDCDiab_2.0\\Data\\13-14\\Lab\\HEPE_H.XPT\n",
      "C:\\Users\\Ganga\\Desktop\\Research\\CDCDiab_2.0\\Data\\13-14\\Lab\\HIV_H.XPT\n",
      "C:\\Users\\Ganga\\Desktop\\Research\\CDCDiab_2.0\\Data\\13-14\\Lab\\HPVP_H.XPT\n",
      "C:\\Users\\Ganga\\Desktop\\Research\\CDCDiab_2.0\\Data\\13-14\\Lab\\HPVSWR_H.XPT\n",
      "C:\\Users\\Ganga\\Desktop\\Research\\CDCDiab_2.0\\Data\\13-14\\Lab\\HSV_H.XPT\n",
      "C:\\Users\\Ganga\\Desktop\\Research\\CDCDiab_2.0\\Data\\13-14\\Lab\\IHGEM_H.XPT\n",
      "C:\\Users\\Ganga\\Desktop\\Research\\CDCDiab_2.0\\Data\\13-14\\Lab\\INS_H.XPT\n",
      "C:\\Users\\Ganga\\Desktop\\Research\\CDCDiab_2.0\\Data\\13-14\\Lab\\OGTT_H.XPT\n",
      "C:\\Users\\Ganga\\Desktop\\Research\\CDCDiab_2.0\\Data\\13-14\\Lab\\ORHPV_H.XPT\n",
      "C:\\Users\\Ganga\\Desktop\\Research\\CDCDiab_2.0\\Data\\13-14\\Lab\\PAH_H.XPT\n",
      "C:\\Users\\Ganga\\Desktop\\Research\\CDCDiab_2.0\\Data\\13-14\\Lab\\PBCD_H.XPT\n",
      "C:\\Users\\Ganga\\Desktop\\Research\\CDCDiab_2.0\\Data\\13-14\\Lab\\PERNTS_H.XPT\n",
      "C:\\Users\\Ganga\\Desktop\\Research\\CDCDiab_2.0\\Data\\13-14\\Lab\\PERNT_H.XPT\n",
      "C:\\Users\\Ganga\\Desktop\\Research\\CDCDiab_2.0\\Data\\13-14\\Lab\\PFAS_H.XPT\n",
      "C:\\Users\\Ganga\\Desktop\\Research\\CDCDiab_2.0\\Data\\13-14\\Lab\\PHTHTE_H.XPT\n",
      "C:\\Users\\Ganga\\Desktop\\Research\\CDCDiab_2.0\\Data\\13-14\\Lab\\POOLTF_H.XPT\n",
      "C:\\Users\\Ganga\\Desktop\\Research\\CDCDiab_2.0\\Data\\13-14\\Lab\\SSFLRT_H.XPT\n",
      "C:\\Users\\Ganga\\Desktop\\Research\\CDCDiab_2.0\\Data\\13-14\\Lab\\SSHEPC_H.XPT\n",
      "C:\\Users\\Ganga\\Desktop\\Research\\CDCDiab_2.0\\Data\\13-14\\Lab\\SSPFAC_H.XPT\n",
      "C:\\Users\\Ganga\\Desktop\\Research\\CDCDiab_2.0\\Data\\13-14\\Lab\\SSPFAS_H.XPT\n",
      "C:\\Users\\Ganga\\Desktop\\Research\\CDCDiab_2.0\\Data\\13-14\\Lab\\SSPHTE_H.XPT\n",
      "C:\\Users\\Ganga\\Desktop\\Research\\CDCDiab_2.0\\Data\\13-14\\Lab\\SSTOCA_H.XPT\n",
      "C:\\Users\\Ganga\\Desktop\\Research\\CDCDiab_2.0\\Data\\13-14\\Lab\\SSTOXO_H.XPT\n",
      "C:\\Users\\Ganga\\Desktop\\Research\\CDCDiab_2.0\\Data\\13-14\\Lab\\TCHOL_H.XPT\n",
      "C:\\Users\\Ganga\\Desktop\\Research\\CDCDiab_2.0\\Data\\13-14\\Lab\\TGEMA_H.XPT\n",
      "C:\\Users\\Ganga\\Desktop\\Research\\CDCDiab_2.0\\Data\\13-14\\Lab\\TRICH_H.XPT\n",
      "C:\\Users\\Ganga\\Desktop\\Research\\CDCDiab_2.0\\Data\\13-14\\Lab\\TRIGLY_H.XPT\n",
      "C:\\Users\\Ganga\\Desktop\\Research\\CDCDiab_2.0\\Data\\13-14\\Lab\\UASS_H.XPT\n",
      "C:\\Users\\Ganga\\Desktop\\Research\\CDCDiab_2.0\\Data\\13-14\\Lab\\UAS_H.XPT\n",
      "C:\\Users\\Ganga\\Desktop\\Research\\CDCDiab_2.0\\Data\\13-14\\Lab\\UCFLOW_H.XPT\n",
      "C:\\Users\\Ganga\\Desktop\\Research\\CDCDiab_2.0\\Data\\13-14\\Lab\\UCPREG_H.XPT\n",
      "C:\\Users\\Ganga\\Desktop\\Research\\CDCDiab_2.0\\Data\\13-14\\Lab\\UHG_H.XPT\n",
      "C:\\Users\\Ganga\\Desktop\\Research\\CDCDiab_2.0\\Data\\13-14\\Lab\\UIO_H.XPT\n",
      "C:\\Users\\Ganga\\Desktop\\Research\\CDCDiab_2.0\\Data\\13-14\\Lab\\UMS_H.XPT\n",
      "C:\\Users\\Ganga\\Desktop\\Research\\CDCDiab_2.0\\Data\\13-14\\Lab\\UM_H.XPT\n",
      "C:\\Users\\Ganga\\Desktop\\Research\\CDCDiab_2.0\\Data\\13-14\\Lab\\UTASS_H.XPT\n",
      "C:\\Users\\Ganga\\Desktop\\Research\\CDCDiab_2.0\\Data\\13-14\\Lab\\UTAS_H.XPT\n",
      "C:\\Users\\Ganga\\Desktop\\Research\\CDCDiab_2.0\\Data\\13-14\\Lab\\UVOCS_H.XPT\n",
      "C:\\Users\\Ganga\\Desktop\\Research\\CDCDiab_2.0\\Data\\13-14\\Lab\\UVOC_H.XPT\n",
      "C:\\Users\\Ganga\\Desktop\\Research\\CDCDiab_2.0\\Data\\13-14\\Lab\\VID_H.XPT\n",
      "C:\\Users\\Ganga\\Desktop\\Research\\CDCDiab_2.0\\Data\\13-14\\Lab\\VITB12_H.XPT\n",
      "C:\\Users\\Ganga\\Desktop\\Research\\CDCDiab_2.0\\Data\\13-14\\Lab\\VOCWBS_H.XPT\n",
      "C:\\Users\\Ganga\\Desktop\\Research\\CDCDiab_2.0\\Data\\13-14\\Lab\\VOCWB_H.XPT\n"
     ]
    }
   ],
   "source": [
    "path = 'C:\\\\Users\\\\Ganga\\\\Desktop\\\\Research\\\\CDCDiab_2.0\\\\Data\\\\13-14\\\\Lab'\n",
    "allFiles = glob.glob(os.path.join(path,\"*.xpt\"))\n",
    "\n",
    "data = np.array([np.arange(73557,83732)]).T\n",
    "Lab =pd.DataFrame(data, index = range(73556,83731),columns=['SEQN'])\n",
    "\n",
    "for infile in allFiles:\n",
    "    print(infile)\n",
    "    df = pd.read_sas(infile)\n",
    "    df['SEQN']=df['SEQN'].astype(int)\n",
    "    Lab = Lab.merge(df.drop_duplicates(subset=['SEQN']),on='SEQN', how='left')"
   ]
  },
  {
   "cell_type": "code",
   "execution_count": 36,
   "metadata": {},
   "outputs": [],
   "source": [
    "Lab.to_csv('Lab.csv')"
   ]
  },
  {
   "cell_type": "code",
   "execution_count": 25,
   "metadata": {},
   "outputs": [
    {
     "name": "stdout",
     "output_type": "stream",
     "text": [
      "C:\\Users\\Ganga\\Desktop\\Research\\CDCDiab_2.0\\Data\\13-14\\Quest\\ACQ_H.XPT\n",
      "C:\\Users\\Ganga\\Desktop\\Research\\CDCDiab_2.0\\Data\\13-14\\Quest\\ALQ_H.XPT\n",
      "C:\\Users\\Ganga\\Desktop\\Research\\CDCDiab_2.0\\Data\\13-14\\Quest\\BPQ_H.XPT\n",
      "C:\\Users\\Ganga\\Desktop\\Research\\CDCDiab_2.0\\Data\\13-14\\Quest\\CBQ_H.XPT\n",
      "C:\\Users\\Ganga\\Desktop\\Research\\CDCDiab_2.0\\Data\\13-14\\Quest\\CDQ_H.XPT\n",
      "C:\\Users\\Ganga\\Desktop\\Research\\CDCDiab_2.0\\Data\\13-14\\Quest\\CFQ_H.XPT\n",
      "C:\\Users\\Ganga\\Desktop\\Research\\CDCDiab_2.0\\Data\\13-14\\Quest\\CKQ_H.XPT\n",
      "C:\\Users\\Ganga\\Desktop\\Research\\CDCDiab_2.0\\Data\\13-14\\Quest\\CSQ_H.XPT\n",
      "C:\\Users\\Ganga\\Desktop\\Research\\CDCDiab_2.0\\Data\\13-14\\Quest\\DBQ_H.XPT\n",
      "C:\\Users\\Ganga\\Desktop\\Research\\CDCDiab_2.0\\Data\\13-14\\Quest\\DEQ_H.XPT\n",
      "C:\\Users\\Ganga\\Desktop\\Research\\CDCDiab_2.0\\Data\\13-14\\Quest\\DIQ_H.XPT\n",
      "C:\\Users\\Ganga\\Desktop\\Research\\CDCDiab_2.0\\Data\\13-14\\Quest\\DLQ_H.XPT\n",
      "C:\\Users\\Ganga\\Desktop\\Research\\CDCDiab_2.0\\Data\\13-14\\Quest\\DPQ_H.XPT\n",
      "C:\\Users\\Ganga\\Desktop\\Research\\CDCDiab_2.0\\Data\\13-14\\Quest\\DUQ_H.XPT\n",
      "C:\\Users\\Ganga\\Desktop\\Research\\CDCDiab_2.0\\Data\\13-14\\Quest\\ECQ_H.XPT\n",
      "C:\\Users\\Ganga\\Desktop\\Research\\CDCDiab_2.0\\Data\\13-14\\Quest\\FSQ_H.XPT\n",
      "C:\\Users\\Ganga\\Desktop\\Research\\CDCDiab_2.0\\Data\\13-14\\Quest\\HEQ_H.XPT\n",
      "C:\\Users\\Ganga\\Desktop\\Research\\CDCDiab_2.0\\Data\\13-14\\Quest\\HIQ_H.XPT\n",
      "C:\\Users\\Ganga\\Desktop\\Research\\CDCDiab_2.0\\Data\\13-14\\Quest\\HOQ_H.XPT\n",
      "C:\\Users\\Ganga\\Desktop\\Research\\CDCDiab_2.0\\Data\\13-14\\Quest\\HSQ_H.XPT\n",
      "C:\\Users\\Ganga\\Desktop\\Research\\CDCDiab_2.0\\Data\\13-14\\Quest\\HUQ_H.XPT\n",
      "C:\\Users\\Ganga\\Desktop\\Research\\CDCDiab_2.0\\Data\\13-14\\Quest\\IMQ_H.XPT\n",
      "C:\\Users\\Ganga\\Desktop\\Research\\CDCDiab_2.0\\Data\\13-14\\Quest\\INQ_H.XPT\n",
      "C:\\Users\\Ganga\\Desktop\\Research\\CDCDiab_2.0\\Data\\13-14\\Quest\\KIQ_U_H.XPT\n",
      "C:\\Users\\Ganga\\Desktop\\Research\\CDCDiab_2.0\\Data\\13-14\\Quest\\MCQ_H.XPT\n",
      "C:\\Users\\Ganga\\Desktop\\Research\\CDCDiab_2.0\\Data\\13-14\\Quest\\OCQ_H.XPT\n",
      "C:\\Users\\Ganga\\Desktop\\Research\\CDCDiab_2.0\\Data\\13-14\\Quest\\OHQ_H.XPT\n",
      "C:\\Users\\Ganga\\Desktop\\Research\\CDCDiab_2.0\\Data\\13-14\\Quest\\OSQ_H.XPT\n",
      "C:\\Users\\Ganga\\Desktop\\Research\\CDCDiab_2.0\\Data\\13-14\\Quest\\PAQ_H.XPT\n",
      "C:\\Users\\Ganga\\Desktop\\Research\\CDCDiab_2.0\\Data\\13-14\\Quest\\PFQ_H.XPT\n",
      "C:\\Users\\Ganga\\Desktop\\Research\\CDCDiab_2.0\\Data\\13-14\\Quest\\PUQMEC_H.XPT\n",
      "C:\\Users\\Ganga\\Desktop\\Research\\CDCDiab_2.0\\Data\\13-14\\Quest\\RHQ_H.XPT\n",
      "C:\\Users\\Ganga\\Desktop\\Research\\CDCDiab_2.0\\Data\\13-14\\Quest\\RXQASA_H.XPT\n",
      "C:\\Users\\Ganga\\Desktop\\Research\\CDCDiab_2.0\\Data\\13-14\\Quest\\RXQ_RX_H.XPT\n",
      "C:\\Users\\Ganga\\Desktop\\Research\\CDCDiab_2.0\\Data\\13-14\\Quest\\SLQ_H.XPT\n",
      "C:\\Users\\Ganga\\Desktop\\Research\\CDCDiab_2.0\\Data\\13-14\\Quest\\SMQFAM_H.XPT\n",
      "C:\\Users\\Ganga\\Desktop\\Research\\CDCDiab_2.0\\Data\\13-14\\Quest\\SMQRTU_H.XPT\n",
      "C:\\Users\\Ganga\\Desktop\\Research\\CDCDiab_2.0\\Data\\13-14\\Quest\\SMQSHS_H.XPT\n",
      "C:\\Users\\Ganga\\Desktop\\Research\\CDCDiab_2.0\\Data\\13-14\\Quest\\SMQ_H.XPT\n",
      "C:\\Users\\Ganga\\Desktop\\Research\\CDCDiab_2.0\\Data\\13-14\\Quest\\SXQ_H.XPT\n",
      "C:\\Users\\Ganga\\Desktop\\Research\\CDCDiab_2.0\\Data\\13-14\\Quest\\VTQ_H.XPT\n",
      "C:\\Users\\Ganga\\Desktop\\Research\\CDCDiab_2.0\\Data\\13-14\\Quest\\WHQMEC_H.XPT\n",
      "C:\\Users\\Ganga\\Desktop\\Research\\CDCDiab_2.0\\Data\\13-14\\Quest\\WHQ_H.XPT\n"
     ]
    }
   ],
   "source": [
    "path = 'C:\\\\Users\\\\Ganga\\\\Desktop\\\\Research\\\\CDCDiab_2.0\\\\Data\\\\13-14\\\\Quest'\n",
    "allFiles = glob.glob(os.path.join(path,\"*.xpt\"))\n",
    "\n",
    "data = np.array([np.arange(73557,83732)]).T\n",
    "Quest =pd.DataFrame(data, index = range(73556,83731),columns=['SEQN'])\n",
    "\n",
    "for infile in allFiles:\n",
    "    print(infile)\n",
    "    df = pd.read_sas(infile)\n",
    "    df['SEQN']=df['SEQN'].astype(int)\n",
    "    Quest = Quest.merge(df.drop_duplicates(subset=['SEQN']),on='SEQN', how='left')"
   ]
  },
  {
   "cell_type": "code",
   "execution_count": 37,
   "metadata": {},
   "outputs": [],
   "source": [
    "Quest.to_csv('Quest.csv')"
   ]
  },
  {
   "cell_type": "code",
   "execution_count": 38,
   "metadata": {},
   "outputs": [],
   "source": [
    "#Merging Demo and Diatery files\n",
    "\n",
    "DMDiat = pd.merge(Diatery,Demo,on='SEQN',how='left')"
   ]
  },
  {
   "cell_type": "code",
   "execution_count": 39,
   "metadata": {},
   "outputs": [],
   "source": [
    "#Merging Exam and Lab files\n",
    "\n",
    "ExLab = pd.merge(Exam,Lab,on='SEQN',how='left')"
   ]
  },
  {
   "cell_type": "code",
   "execution_count": 40,
   "metadata": {},
   "outputs": [],
   "source": [
    "# Merging Quest and ExLab files\n",
    "LEQ = pd.merge(ExLab,Quest, on='SEQN', how='left')"
   ]
  },
  {
   "cell_type": "code",
   "execution_count": 41,
   "metadata": {},
   "outputs": [],
   "source": [
    "# Merging LEQ and DMDiat files\n",
    "\n",
    "Final_1314 = pd.merge(LEQ,DMDiat, on='SEQN', how='left')"
   ]
  },
  {
   "cell_type": "code",
   "execution_count": 42,
   "metadata": {},
   "outputs": [],
   "source": [
    "Final_1314.to_csv('Final_1314.csv')"
   ]
  },
  {
   "cell_type": "code",
   "execution_count": 43,
   "metadata": {},
   "outputs": [],
   "source": [
    "Final_1314.describe().to_csv('Final_1314_describe.csv')"
   ]
  }
 ],
 "metadata": {
  "kernelspec": {
   "display_name": "Python 3",
   "language": "python",
   "name": "python3"
  },
  "language_info": {
   "codemirror_mode": {
    "name": "ipython",
    "version": 3
   },
   "file_extension": ".py",
   "mimetype": "text/x-python",
   "name": "python",
   "nbconvert_exporter": "python",
   "pygments_lexer": "ipython3",
   "version": "3.6.4"
  }
 },
 "nbformat": 4,
 "nbformat_minor": 2
}
