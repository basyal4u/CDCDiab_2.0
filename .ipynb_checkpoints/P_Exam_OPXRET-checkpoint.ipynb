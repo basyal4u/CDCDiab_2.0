{
 "cells": [
  {
   "cell_type": "markdown",
   "metadata": {},
   "source": [
    "# Processing Examination - Ophthalmology Retinal Imaging File (OPXRET)"
   ]
  },
  {
   "cell_type": "code",
   "execution_count": 1,
   "metadata": {},
   "outputs": [],
   "source": [
    "import numpy as np\n",
    "import pandas as pd\n",
    "import glob \n",
    "import os\n",
    "import sys"
   ]
  },
  {
   "cell_type": "code",
   "execution_count": 2,
   "metadata": {},
   "outputs": [
    {
     "data": {
      "text/plain": [
       "'C:\\\\Users\\\\Ganga\\\\Desktop\\\\Research\\\\CDCDiab_2.0\\\\Code'"
      ]
     },
     "execution_count": 2,
     "metadata": {},
     "output_type": "execute_result"
    }
   ],
   "source": [
    "os.getcwd()"
   ]
  },
  {
   "cell_type": "code",
   "execution_count": 3,
   "metadata": {},
   "outputs": [],
   "source": [
    "# Select working directory\n",
    "Path = 'C:\\\\Users\\\\Ganga\\\\Desktop\\\\Research\\\\CDCDiab_2.0\\\\Data\\\\07-08\\\\Examination'\n",
    "#%cd /Users/elgayaro/Main/Research/Healthcare/CDC-NHANES/Data/07-08/Examination"
   ]
  },
  {
   "cell_type": "code",
   "execution_count": 4,
   "metadata": {},
   "outputs": [
    {
     "data": {
      "text/plain": [
       "'C:\\\\Users\\\\Ganga\\\\Desktop\\\\Research\\\\CDCDiab_2.0\\\\Code'"
      ]
     },
     "execution_count": 4,
     "metadata": {},
     "output_type": "execute_result"
    }
   ],
   "source": [
    "os.getcwd()"
   ]
  },
  {
   "cell_type": "code",
   "execution_count": 5,
   "metadata": {},
   "outputs": [
    {
     "name": "stdout",
     "output_type": "stream",
     "text": [
      "['C:\\\\Users\\\\Ganga\\\\Desktop\\\\Research\\\\CDCDiab_2.0\\\\Data\\\\07-08\\\\Examination\\\\AUXAR_E.XPT', 'C:\\\\Users\\\\Ganga\\\\Desktop\\\\Research\\\\CDCDiab_2.0\\\\Data\\\\07-08\\\\Examination\\\\AUXTYM_E.XPT', 'C:\\\\Users\\\\Ganga\\\\Desktop\\\\Research\\\\CDCDiab_2.0\\\\Data\\\\07-08\\\\Examination\\\\AUX_E.XPT', 'C:\\\\Users\\\\Ganga\\\\Desktop\\\\Research\\\\CDCDiab_2.0\\\\Data\\\\07-08\\\\Examination\\\\BMX_E.XPT', 'C:\\\\Users\\\\Ganga\\\\Desktop\\\\Research\\\\CDCDiab_2.0\\\\Data\\\\07-08\\\\Examination\\\\BPX_E.XPT', 'C:\\\\Users\\\\Ganga\\\\Desktop\\\\Research\\\\CDCDiab_2.0\\\\Data\\\\07-08\\\\Examination\\\\DXXFEM_E.XPT', 'C:\\\\Users\\\\Ganga\\\\Desktop\\\\Research\\\\CDCDiab_2.0\\\\Data\\\\07-08\\\\Examination\\\\DXXSPN_E.XPT', 'C:\\\\Users\\\\Ganga\\\\Desktop\\\\Research\\\\CDCDiab_2.0\\\\Data\\\\07-08\\\\Examination\\\\ENX_E.XPT', 'C:\\\\Users\\\\Ganga\\\\Desktop\\\\Research\\\\CDCDiab_2.0\\\\Data\\\\07-08\\\\Examination\\\\OHX_E.XPT', 'C:\\\\Users\\\\Ganga\\\\Desktop\\\\Research\\\\CDCDiab_2.0\\\\Data\\\\07-08\\\\Examination\\\\OPXFDT_E.XPT', 'C:\\\\Users\\\\Ganga\\\\Desktop\\\\Research\\\\CDCDiab_2.0\\\\Data\\\\07-08\\\\Examination\\\\OPXRET_E.XPT', 'C:\\\\Users\\\\Ganga\\\\Desktop\\\\Research\\\\CDCDiab_2.0\\\\Data\\\\07-08\\\\Examination\\\\SPX_E.XPT', 'C:\\\\Users\\\\Ganga\\\\Desktop\\\\Research\\\\CDCDiab_2.0\\\\Data\\\\07-08\\\\Examination\\\\VIX_E.XPT']\n"
     ]
    }
   ],
   "source": [
    "# Omar\n",
    "#allFiles = glob.glob(os.path.join('.',\"*.XPT\"))\n",
    "#print(allFiles)\n",
    "\n",
    "#Ganga\n",
    "allFiles = glob.glob(os.path.join(Path,\"*.XPT\"))\n",
    "print(allFiles)"
   ]
  },
  {
   "cell_type": "code",
   "execution_count": 6,
   "metadata": {},
   "outputs": [],
   "source": [
    "# Set desired file name\n",
    "#fname = 'Path\\\\BMX_E.XPT'  # Ganga\n",
    "#fname = './BMX_E.XPT'   # Omar\n",
    "#BMX = pd.read_sas(fname, index='SEQN')\n",
    "#BMX.shape"
   ]
  },
  {
   "cell_type": "code",
   "execution_count": 7,
   "metadata": {},
   "outputs": [
    {
     "data": {
      "text/plain": [
       "(3863, 221)"
      ]
     },
     "execution_count": 7,
     "metadata": {},
     "output_type": "execute_result"
    }
   ],
   "source": [
    "OPXRET = pd.read_sas('C:\\\\Users\\\\Ganga\\\\Desktop\\\\Research\\\\CDCDiab_2.0\\\\Data\\\\07-08\\\\Examination\\\\OPXRET_E.XPT', index='SEQN')\n",
    "OPXRET.shape"
   ]
  },
  {
   "cell_type": "code",
   "execution_count": 8,
   "metadata": {},
   "outputs": [
    {
     "name": "stdout",
     "output_type": "stream",
     "text": [
      "['OPASCCT2', 'OPASCST2', 'OPDDAGA', 'OPDDAREX', 'OPDDARM', 'OPDDARMA', 'OPDDARMX', 'OPDDASD', 'OPDDASHY', 'OPDDAVN', 'OPDDBCO', 'OPDDBVO', 'OPDDCHN', 'OPDDCHRA', 'OPDDCVO', 'OPDDD125', 'OPDDD500', 'OPDDEXC', 'OPDDEXU', 'OPDDFAN', 'OPDDFOC', 'OPDDGA', 'OPDDHD', 'OPDDHE', 'OPDDHEM', 'OPDDHMA', 'OPDDHOLL', 'OPDDIRMA', 'OPDDIRP', 'OPDDLARM', 'OPDDMA', 'OPDDMACH', 'OPDDME', 'OPDDMEC', 'OPDDNOT', 'OPDDNVE', 'OPDDNVO', 'OPDDOTHC', 'OPDDOTRX', 'OPDDPED', 'OPDDPHVH', 'OPDDPIGA', 'OPDDPOHS', 'OPDDPPA', 'OPDDPPS', 'OPDDRDET', 'OPDDREA', 'OPDDRET', 'OPDDRFP', 'OPDDRL4', 'OPDDRPE', 'OPDDSDD', 'OPDDSE', 'OPDDSFS', 'OPDDSID', 'OPDDSNV', 'OPDDSUBH', 'OPDDSWR', 'OPDDSWRT', 'OPDDTIL', 'OPDDVB', 'OPDDVCDR', 'OPDSAGA', 'OPDSAREX', 'OPDSARM', 'OPDSARMA', 'OPDSARMX', 'OPDSASD', 'OPDSASHY', 'OPDSAVN', 'OPDSBCO', 'OPDSBVO', 'OPDSCHN', 'OPDSCHRA', 'OPDSCVO', 'OPDSD125', 'OPDSD500', 'OPDSEXC', 'OPDSEXU', 'OPDSFAN', 'OPDSFOC', 'OPDSGA', 'OPDSHD', 'OPDSHE', 'OPDSHEM', 'OPDSHMA', 'OPDSHOLL', 'OPDSIRMA', 'OPDSIRP', 'OPDSLARM', 'OPDSMA', 'OPDSMACH', 'OPDSME', 'OPDSMEC', 'OPDSNOT', 'OPDSNVE', 'OPDSNVO', 'OPDSOTHC', 'OPDSOTRX', 'OPDSPED', 'OPDSPHVH', 'OPDSPIGA', 'OPDSPOHS', 'OPDSPPA', 'OPDSPPS', 'OPDSRDET', 'OPDSREA', 'OPDSRET', 'OPDSRFP', 'OPDSRL4', 'OPDSRPE', 'OPDSSDD', 'OPDSSE', 'OPDSSFS', 'OPDSSID', 'OPDSSNV', 'OPDSSUBH', 'OPDSSWR', 'OPDSSWRT', 'OPDSTIL', 'OPDSVB', 'OPDSVCDR', 'OPDUAGA', 'OPDUARM', 'OPDUARMA', 'OPDUARMX', 'OPDUASD', 'OPDUASHY', 'OPDUAVN', 'OPDUBCO', 'OPDUBVO', 'OPDUCHN', 'OPDUCHRA', 'OPDUCVO', 'OPDUD125', 'OPDUD500', 'OPDUEXU', 'OPDUFAN', 'OPDUFOC', 'OPDUGA', 'OPDUHD', 'OPDUHE', 'OPDUHEM', 'OPDUHMA', 'OPDUHOLL', 'OPDUIRMA', 'OPDUIRP', 'OPDULARM', 'OPDUMA', 'OPDUMACH', 'OPDUME', 'OPDUMEC', 'OPDUNVE', 'OPDUNVO', 'OPDUOTHC', 'OPDUOTRX', 'OPDUPED', 'OPDUPHVH', 'OPDUPIGA', 'OPDUPOHS', 'OPDUPPA', 'OPDUPPS', 'OPDURDET', 'OPDURET', 'OPDURFP', 'OPDURL4', 'OPDURPE', 'OPDUSDD', 'OPDUSE', 'OPDUSFS', 'OPDUSID', 'OPDUSNV', 'OPDUSUBH', 'OPDUSWR', 'OPDUSWRT', 'OPDUVB', 'OPXDCOMP', 'OPXDF1', 'OPXDF1FO', 'OPXDF2', 'OPXDF2FO', 'OPXDGLAU', 'OPXDGRBL', 'OPXDHEME', 'OPXDPHAR', 'OPXDPHDD', 'OPXDPHFD', 'OPXDPHHZ', 'OPXDPHIL', 'OPXDPHLA', 'OPXDPHOT', 'OPXDPHPR', 'OPXDPHRC', 'OPXDPMM', 'OPXDQUAL', 'OPXDRCDR', 'OPXDSIZE', 'OPXSCOMP', 'OPXSF1', 'OPXSF1FO', 'OPXSF2', 'OPXSF2FO', 'OPXSGLAU', 'OPXSGRBL', 'OPXSHEME', 'OPXSPHAR', 'OPXSPHDD', 'OPXSPHFD', 'OPXSPHHZ', 'OPXSPHIL', 'OPXSPHLA', 'OPXSPHOT', 'OPXSPHPR', 'OPXSPHRC', 'OPXSPMM', 'OPXSQUAL', 'OPXSRCDR', 'OPXSSIZE', 'VIQ110', 'VIQ121', 'VIQ130']\n"
     ]
    }
   ],
   "source": [
    "A = set(OPXRET.columns)\n",
    "print(sorted(A))"
   ]
  },
  {
   "cell_type": "code",
   "execution_count": 9,
   "metadata": {},
   "outputs": [
    {
     "data": {
      "text/plain": [
       "OPASCST2    float64\n",
       "OPASCCT2    float64\n",
       "VIQ110      float64\n",
       "VIQ121      float64\n",
       "VIQ130      float64\n",
       "OPXDCOMP    float64\n",
       "OPXDF1      float64\n",
       "OPXDF1FO    float64\n",
       "OPXDF2      float64\n",
       "OPXDF2FO    float64\n",
       "OPXDGRBL    float64\n",
       "OPXDPMM     float64\n",
       "OPXDPHPR    float64\n",
       "OPXDPHIL    float64\n",
       "OPXDPHFD    float64\n",
       "OPXDPHHZ    float64\n",
       "OPXDPHDD    float64\n",
       "OPXDPHLA    float64\n",
       "OPXDPHAR    float64\n",
       "OPXDPHRC    float64\n",
       "OPXDPHOT    float64\n",
       "OPDURET     float64\n",
       "OPDURL4     float64\n",
       "OPDUARMA    float64\n",
       "OPDUHMA     float64\n",
       "OPDUMA      float64\n",
       "OPDUHEM     float64\n",
       "OPDUHE      float64\n",
       "OPDUSE      float64\n",
       "OPDUIRMA    float64\n",
       "             ...   \n",
       "OPDSSNV     float64\n",
       "OPDSSUBH    float64\n",
       "OPDSSFS     float64\n",
       "OPDSARMX    float64\n",
       "OPDSBCO     float64\n",
       "OPDSBVO     float64\n",
       "OPDSCVO     float64\n",
       "OPDSAVN     float64\n",
       "OPDSFAN     float64\n",
       "OPDSHOLL    float64\n",
       "OPDSPPA     float64\n",
       "OPDSASHY    float64\n",
       "OPDSCHRA    float64\n",
       "OPDSMACH    float64\n",
       "OPDSCHN     float64\n",
       "OPDSOTRX    float64\n",
       "OPDSPOHS    float64\n",
       "OPDSRDET    float64\n",
       "OPDSSWR     float64\n",
       "OPDSSWRT    float64\n",
       "OPDSOTHC    float64\n",
       "OPDSVCDR    float64\n",
       "OPXSQUAL    float64\n",
       "OPXSRCDR    float64\n",
       "OPXSGLAU    float64\n",
       "OPXSHEME    float64\n",
       "OPXSSIZE    float64\n",
       "OPDSEXC     float64\n",
       "OPDSNOT     float64\n",
       "OPDSTIL     float64\n",
       "Length: 221, dtype: object"
      ]
     },
     "execution_count": 9,
     "metadata": {},
     "output_type": "execute_result"
    }
   ],
   "source": [
    "OPXRET.dtypes"
   ]
  },
  {
   "cell_type": "code",
   "execution_count": 10,
   "metadata": {},
   "outputs": [
    {
     "data": {
      "text/html": [
       "<div>\n",
       "<style scoped>\n",
       "    .dataframe tbody tr th:only-of-type {\n",
       "        vertical-align: middle;\n",
       "    }\n",
       "\n",
       "    .dataframe tbody tr th {\n",
       "        vertical-align: top;\n",
       "    }\n",
       "\n",
       "    .dataframe thead th {\n",
       "        text-align: right;\n",
       "    }\n",
       "</style>\n",
       "<table border=\"1\" class=\"dataframe\">\n",
       "  <thead>\n",
       "    <tr style=\"text-align: right;\">\n",
       "      <th></th>\n",
       "      <th>OPASCST2</th>\n",
       "      <th>OPASCCT2</th>\n",
       "      <th>VIQ110</th>\n",
       "      <th>VIQ121</th>\n",
       "      <th>VIQ130</th>\n",
       "      <th>OPXDCOMP</th>\n",
       "      <th>OPXDF1</th>\n",
       "      <th>OPXDF1FO</th>\n",
       "      <th>OPXDF2</th>\n",
       "      <th>OPXDF2FO</th>\n",
       "      <th>...</th>\n",
       "      <th>OPDSOTHC</th>\n",
       "      <th>OPDSVCDR</th>\n",
       "      <th>OPXSQUAL</th>\n",
       "      <th>OPXSRCDR</th>\n",
       "      <th>OPXSGLAU</th>\n",
       "      <th>OPXSHEME</th>\n",
       "      <th>OPXSSIZE</th>\n",
       "      <th>OPDSEXC</th>\n",
       "      <th>OPDSNOT</th>\n",
       "      <th>OPDSTIL</th>\n",
       "    </tr>\n",
       "    <tr>\n",
       "      <th>SEQN</th>\n",
       "      <th></th>\n",
       "      <th></th>\n",
       "      <th></th>\n",
       "      <th></th>\n",
       "      <th></th>\n",
       "      <th></th>\n",
       "      <th></th>\n",
       "      <th></th>\n",
       "      <th></th>\n",
       "      <th></th>\n",
       "      <th></th>\n",
       "      <th></th>\n",
       "      <th></th>\n",
       "      <th></th>\n",
       "      <th></th>\n",
       "      <th></th>\n",
       "      <th></th>\n",
       "      <th></th>\n",
       "      <th></th>\n",
       "      <th></th>\n",
       "      <th></th>\n",
       "    </tr>\n",
       "  </thead>\n",
       "  <tbody>\n",
       "    <tr>\n",
       "      <th>41475.0</th>\n",
       "      <td>1.0</td>\n",
       "      <td>NaN</td>\n",
       "      <td>2.0</td>\n",
       "      <td>NaN</td>\n",
       "      <td>2.0</td>\n",
       "      <td>2.0</td>\n",
       "      <td>2.0</td>\n",
       "      <td>5.397605e-79</td>\n",
       "      <td>2.0</td>\n",
       "      <td>5.397605e-79</td>\n",
       "      <td>...</td>\n",
       "      <td>5.397605e-79</td>\n",
       "      <td>0.18</td>\n",
       "      <td>NaN</td>\n",
       "      <td>NaN</td>\n",
       "      <td>NaN</td>\n",
       "      <td>NaN</td>\n",
       "      <td>NaN</td>\n",
       "      <td>NaN</td>\n",
       "      <td>NaN</td>\n",
       "      <td>NaN</td>\n",
       "    </tr>\n",
       "    <tr>\n",
       "      <th>41477.0</th>\n",
       "      <td>1.0</td>\n",
       "      <td>NaN</td>\n",
       "      <td>2.0</td>\n",
       "      <td>NaN</td>\n",
       "      <td>2.0</td>\n",
       "      <td>2.0</td>\n",
       "      <td>2.0</td>\n",
       "      <td>5.397605e-79</td>\n",
       "      <td>2.0</td>\n",
       "      <td>5.397605e-79</td>\n",
       "      <td>...</td>\n",
       "      <td>5.397605e-79</td>\n",
       "      <td>0.58</td>\n",
       "      <td>1.0</td>\n",
       "      <td>0.8</td>\n",
       "      <td>3.0</td>\n",
       "      <td>5.397605e-79</td>\n",
       "      <td>1.0</td>\n",
       "      <td>1.0</td>\n",
       "      <td>5.397605e-79</td>\n",
       "      <td>5.397605e-79</td>\n",
       "    </tr>\n",
       "    <tr>\n",
       "      <th>41479.0</th>\n",
       "      <td>3.0</td>\n",
       "      <td>56.0</td>\n",
       "      <td>2.0</td>\n",
       "      <td>NaN</td>\n",
       "      <td>2.0</td>\n",
       "      <td>NaN</td>\n",
       "      <td>NaN</td>\n",
       "      <td>NaN</td>\n",
       "      <td>NaN</td>\n",
       "      <td>NaN</td>\n",
       "      <td>...</td>\n",
       "      <td>NaN</td>\n",
       "      <td>NaN</td>\n",
       "      <td>NaN</td>\n",
       "      <td>NaN</td>\n",
       "      <td>NaN</td>\n",
       "      <td>NaN</td>\n",
       "      <td>NaN</td>\n",
       "      <td>NaN</td>\n",
       "      <td>NaN</td>\n",
       "      <td>NaN</td>\n",
       "    </tr>\n",
       "    <tr>\n",
       "      <th>41482.0</th>\n",
       "      <td>1.0</td>\n",
       "      <td>NaN</td>\n",
       "      <td>2.0</td>\n",
       "      <td>NaN</td>\n",
       "      <td>2.0</td>\n",
       "      <td>2.0</td>\n",
       "      <td>2.0</td>\n",
       "      <td>5.397605e-79</td>\n",
       "      <td>2.0</td>\n",
       "      <td>5.397605e-79</td>\n",
       "      <td>...</td>\n",
       "      <td>5.397605e-79</td>\n",
       "      <td>0.35</td>\n",
       "      <td>NaN</td>\n",
       "      <td>NaN</td>\n",
       "      <td>NaN</td>\n",
       "      <td>NaN</td>\n",
       "      <td>NaN</td>\n",
       "      <td>NaN</td>\n",
       "      <td>NaN</td>\n",
       "      <td>NaN</td>\n",
       "    </tr>\n",
       "    <tr>\n",
       "      <th>41483.0</th>\n",
       "      <td>1.0</td>\n",
       "      <td>NaN</td>\n",
       "      <td>2.0</td>\n",
       "      <td>NaN</td>\n",
       "      <td>2.0</td>\n",
       "      <td>2.0</td>\n",
       "      <td>2.0</td>\n",
       "      <td>5.397605e-79</td>\n",
       "      <td>2.0</td>\n",
       "      <td>5.397605e-79</td>\n",
       "      <td>...</td>\n",
       "      <td>5.397605e-79</td>\n",
       "      <td>0.32</td>\n",
       "      <td>NaN</td>\n",
       "      <td>NaN</td>\n",
       "      <td>NaN</td>\n",
       "      <td>NaN</td>\n",
       "      <td>NaN</td>\n",
       "      <td>NaN</td>\n",
       "      <td>NaN</td>\n",
       "      <td>NaN</td>\n",
       "    </tr>\n",
       "  </tbody>\n",
       "</table>\n",
       "<p>5 rows × 221 columns</p>\n",
       "</div>"
      ],
      "text/plain": [
       "         OPASCST2  OPASCCT2  VIQ110  VIQ121  VIQ130  OPXDCOMP  OPXDF1  \\\n",
       "SEQN                                                                    \n",
       "41475.0       1.0       NaN     2.0     NaN     2.0       2.0     2.0   \n",
       "41477.0       1.0       NaN     2.0     NaN     2.0       2.0     2.0   \n",
       "41479.0       3.0      56.0     2.0     NaN     2.0       NaN     NaN   \n",
       "41482.0       1.0       NaN     2.0     NaN     2.0       2.0     2.0   \n",
       "41483.0       1.0       NaN     2.0     NaN     2.0       2.0     2.0   \n",
       "\n",
       "             OPXDF1FO  OPXDF2      OPXDF2FO      ...           OPDSOTHC  \\\n",
       "SEQN                                             ...                      \n",
       "41475.0  5.397605e-79     2.0  5.397605e-79      ...       5.397605e-79   \n",
       "41477.0  5.397605e-79     2.0  5.397605e-79      ...       5.397605e-79   \n",
       "41479.0           NaN     NaN           NaN      ...                NaN   \n",
       "41482.0  5.397605e-79     2.0  5.397605e-79      ...       5.397605e-79   \n",
       "41483.0  5.397605e-79     2.0  5.397605e-79      ...       5.397605e-79   \n",
       "\n",
       "         OPDSVCDR  OPXSQUAL  OPXSRCDR  OPXSGLAU      OPXSHEME  OPXSSIZE  \\\n",
       "SEQN                                                                      \n",
       "41475.0      0.18       NaN       NaN       NaN           NaN       NaN   \n",
       "41477.0      0.58       1.0       0.8       3.0  5.397605e-79       1.0   \n",
       "41479.0       NaN       NaN       NaN       NaN           NaN       NaN   \n",
       "41482.0      0.35       NaN       NaN       NaN           NaN       NaN   \n",
       "41483.0      0.32       NaN       NaN       NaN           NaN       NaN   \n",
       "\n",
       "         OPDSEXC       OPDSNOT       OPDSTIL  \n",
       "SEQN                                          \n",
       "41475.0      NaN           NaN           NaN  \n",
       "41477.0      1.0  5.397605e-79  5.397605e-79  \n",
       "41479.0      NaN           NaN           NaN  \n",
       "41482.0      NaN           NaN           NaN  \n",
       "41483.0      NaN           NaN           NaN  \n",
       "\n",
       "[5 rows x 221 columns]"
      ]
     },
     "execution_count": 10,
     "metadata": {},
     "output_type": "execute_result"
    }
   ],
   "source": [
    "OPXRET.head()"
   ]
  },
  {
   "cell_type": "code",
   "execution_count": 11,
   "metadata": {},
   "outputs": [
    {
     "data": {
      "text/plain": [
       "Series([], dtype: int64)"
      ]
     },
     "execution_count": 11,
     "metadata": {},
     "output_type": "execute_result"
    }
   ],
   "source": [
    "OPXRET.filter(like='BPX').notnull().count().head()"
   ]
  },
  {
   "cell_type": "code",
   "execution_count": null,
   "metadata": {},
   "outputs": [],
   "source": [
    "OPXRET_Select = OPXRET.filter([])"
   ]
  },
  {
   "cell_type": "code",
   "execution_count": null,
   "metadata": {},
   "outputs": [],
   "source": [
    "OPXRET_Select.describe().T"
   ]
  },
  {
   "cell_type": "code",
   "execution_count": null,
   "metadata": {},
   "outputs": [],
   "source": [
    "OPXRET_Select.describe().T.to_csv('')"
   ]
  }
 ],
 "metadata": {
  "kernelspec": {
   "display_name": "Python 3",
   "language": "python",
   "name": "python3"
  },
  "language_info": {
   "codemirror_mode": {
    "name": "ipython",
    "version": 3
   },
   "file_extension": ".py",
   "mimetype": "text/x-python",
   "name": "python",
   "nbconvert_exporter": "python",
   "pygments_lexer": "ipython3",
   "version": "3.6.4"
  }
 },
 "nbformat": 4,
 "nbformat_minor": 2
}
