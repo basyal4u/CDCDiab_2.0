{
 "cells": [
  {
   "cell_type": "markdown",
   "metadata": {},
   "source": [
    "#  Processing Questionnaire - General Health Condition (HUQ) file"
   ]
  },
  {
   "cell_type": "code",
   "execution_count": 1,
   "metadata": {},
   "outputs": [],
   "source": [
    "import numpy as np\n",
    "import pandas as pd\n",
    "import glob \n",
    "import os\n",
    "import sys"
   ]
  },
  {
   "cell_type": "code",
   "execution_count": 2,
   "metadata": {},
   "outputs": [
    {
     "data": {
      "text/plain": [
       "'C:\\\\Users\\\\Ganga\\\\Desktop\\\\Research\\\\CDCDiab_2.0\\\\Code'"
      ]
     },
     "execution_count": 2,
     "metadata": {},
     "output_type": "execute_result"
    }
   ],
   "source": [
    "os.getcwd()"
   ]
  },
  {
   "cell_type": "code",
   "execution_count": null,
   "metadata": {},
   "outputs": [],
   "source": [
    "# Select working directory\n",
    "# %cd C:\\Users\\Ganga\\Desktop\\Research\\CDCDiab_2.0\\Data\\07-08\\Examination\n",
    "%cd /Users/elgayaro/Main/Research/Healthcare/CDC-NHANES/Data/07-08/Examination"
   ]
  },
  {
   "cell_type": "code",
   "execution_count": null,
   "metadata": {},
   "outputs": [],
   "source": [
    "#os.getcwd()"
   ]
  },
  {
   "cell_type": "code",
   "execution_count": null,
   "metadata": {},
   "outputs": [],
   "source": [
    "#allFiles = glob.glob(os.path.join('.',\"*.XPT\"))\n",
    "#print(allFiles)"
   ]
  },
  {
   "cell_type": "code",
   "execution_count": null,
   "metadata": {},
   "outputs": [],
   "source": [
    "# Set desired file name\n",
    "# fname = '.\\\\BMX_E.XPT'  # Ganga\n",
    "#fname = './BMX_E.XPT'   # Omar\n",
    "#BMX = pd.read_sas(fname, index='SEQN')\n",
    "#BMX.shape"
   ]
  },
  {
   "cell_type": "code",
   "execution_count": 3,
   "metadata": {},
   "outputs": [
    {
     "name": "stdout",
     "output_type": "stream",
     "text": [
      "['C:\\\\Users\\\\Ganga\\\\Desktop\\\\Research\\\\CDCDiab_2.0\\\\Data\\\\07-08\\\\Quest\\\\ACQ_E.XPT', 'C:\\\\Users\\\\Ganga\\\\Desktop\\\\Research\\\\CDCDiab_2.0\\\\Data\\\\07-08\\\\Quest\\\\ALQ_E.XPT', 'C:\\\\Users\\\\Ganga\\\\Desktop\\\\Research\\\\CDCDiab_2.0\\\\Data\\\\07-08\\\\Quest\\\\AQQ_E.XPT', 'C:\\\\Users\\\\Ganga\\\\Desktop\\\\Research\\\\CDCDiab_2.0\\\\Data\\\\07-08\\\\Quest\\\\AUQ_E.XPT', 'C:\\\\Users\\\\Ganga\\\\Desktop\\\\Research\\\\CDCDiab_2.0\\\\Data\\\\07-08\\\\Quest\\\\BHQ_E.XPT', 'C:\\\\Users\\\\Ganga\\\\Desktop\\\\Research\\\\CDCDiab_2.0\\\\Data\\\\07-08\\\\Quest\\\\BPQ_E.XPT', 'C:\\\\Users\\\\Ganga\\\\Desktop\\\\Research\\\\CDCDiab_2.0\\\\Data\\\\07-08\\\\Quest\\\\CBQPFA_E.XPT', 'C:\\\\Users\\\\Ganga\\\\Desktop\\\\Research\\\\CDCDiab_2.0\\\\Data\\\\07-08\\\\Quest\\\\CBQPFC_E.XPT', 'C:\\\\Users\\\\Ganga\\\\Desktop\\\\Research\\\\CDCDiab_2.0\\\\Data\\\\07-08\\\\Quest\\\\CBQ_E.XPT', 'C:\\\\Users\\\\Ganga\\\\Desktop\\\\Research\\\\CDCDiab_2.0\\\\Data\\\\07-08\\\\Quest\\\\CDQ_E.XPT', 'C:\\\\Users\\\\Ganga\\\\Desktop\\\\Research\\\\CDCDiab_2.0\\\\Data\\\\07-08\\\\Quest\\\\DBQ_E.XPT', 'C:\\\\Users\\\\Ganga\\\\Desktop\\\\Research\\\\CDCDiab_2.0\\\\Data\\\\07-08\\\\Quest\\\\DIQ_E.XPT', 'C:\\\\Users\\\\Ganga\\\\Desktop\\\\Research\\\\CDCDiab_2.0\\\\Data\\\\07-08\\\\Quest\\\\DPQ_E.XPT', 'C:\\\\Users\\\\Ganga\\\\Desktop\\\\Research\\\\CDCDiab_2.0\\\\Data\\\\07-08\\\\Quest\\\\DUQ_E.XPT', 'C:\\\\Users\\\\Ganga\\\\Desktop\\\\Research\\\\CDCDiab_2.0\\\\Data\\\\07-08\\\\Quest\\\\ECQ_E.XPT', 'C:\\\\Users\\\\Ganga\\\\Desktop\\\\Research\\\\CDCDiab_2.0\\\\Data\\\\07-08\\\\Quest\\\\FSQ_E.XPT', 'C:\\\\Users\\\\Ganga\\\\Desktop\\\\Research\\\\CDCDiab_2.0\\\\Data\\\\07-08\\\\Quest\\\\HCQ_E.XPT', 'C:\\\\Users\\\\Ganga\\\\Desktop\\\\Research\\\\CDCDiab_2.0\\\\Data\\\\07-08\\\\Quest\\\\HIQ_E.XPT', 'C:\\\\Users\\\\Ganga\\\\Desktop\\\\Research\\\\CDCDiab_2.0\\\\Data\\\\07-08\\\\Quest\\\\HOQ_E.XPT', 'C:\\\\Users\\\\Ganga\\\\Desktop\\\\Research\\\\CDCDiab_2.0\\\\Data\\\\07-08\\\\Quest\\\\HSQ_E.XPT', 'C:\\\\Users\\\\Ganga\\\\Desktop\\\\Research\\\\CDCDiab_2.0\\\\Data\\\\07-08\\\\Quest\\\\HUQ_E.XPT', 'C:\\\\Users\\\\Ganga\\\\Desktop\\\\Research\\\\CDCDiab_2.0\\\\Data\\\\07-08\\\\Quest\\\\IMQ_E.XPT', 'C:\\\\Users\\\\Ganga\\\\Desktop\\\\Research\\\\CDCDiab_2.0\\\\Data\\\\07-08\\\\Quest\\\\INQ_E.XPT', 'C:\\\\Users\\\\Ganga\\\\Desktop\\\\Research\\\\CDCDiab_2.0\\\\Data\\\\07-08\\\\Quest\\\\KIQ_P_E.XPT', 'C:\\\\Users\\\\Ganga\\\\Desktop\\\\Research\\\\CDCDiab_2.0\\\\Data\\\\07-08\\\\Quest\\\\KIQ_U_E.XPT', 'C:\\\\Users\\\\Ganga\\\\Desktop\\\\Research\\\\CDCDiab_2.0\\\\Data\\\\07-08\\\\Quest\\\\MCQ_E.XPT', 'C:\\\\Users\\\\Ganga\\\\Desktop\\\\Research\\\\CDCDiab_2.0\\\\Data\\\\07-08\\\\Quest\\\\OCQ_E.XPT', 'C:\\\\Users\\\\Ganga\\\\Desktop\\\\Research\\\\CDCDiab_2.0\\\\Data\\\\07-08\\\\Quest\\\\OHQ_E.XPT', 'C:\\\\Users\\\\Ganga\\\\Desktop\\\\Research\\\\CDCDiab_2.0\\\\Data\\\\07-08\\\\Quest\\\\OSQ_E.XPT', 'C:\\\\Users\\\\Ganga\\\\Desktop\\\\Research\\\\CDCDiab_2.0\\\\Data\\\\07-08\\\\Quest\\\\PAQ_E.XPT', 'C:\\\\Users\\\\Ganga\\\\Desktop\\\\Research\\\\CDCDiab_2.0\\\\Data\\\\07-08\\\\Quest\\\\PFQ_E.XPT', 'C:\\\\Users\\\\Ganga\\\\Desktop\\\\Research\\\\CDCDiab_2.0\\\\Data\\\\07-08\\\\Quest\\\\PUQMEC_E.XPT', 'C:\\\\Users\\\\Ganga\\\\Desktop\\\\Research\\\\CDCDiab_2.0\\\\Data\\\\07-08\\\\Quest\\\\RDQ_E.XPT', 'C:\\\\Users\\\\Ganga\\\\Desktop\\\\Research\\\\CDCDiab_2.0\\\\Data\\\\07-08\\\\Quest\\\\RHQ_E.XPT', 'C:\\\\Users\\\\Ganga\\\\Desktop\\\\Research\\\\CDCDiab_2.0\\\\Data\\\\07-08\\\\Quest\\\\RXQ_RX_E.XPT', 'C:\\\\Users\\\\Ganga\\\\Desktop\\\\Research\\\\CDCDiab_2.0\\\\Data\\\\07-08\\\\Quest\\\\SLQ_E.XPT', 'C:\\\\Users\\\\Ganga\\\\Desktop\\\\Research\\\\CDCDiab_2.0\\\\Data\\\\07-08\\\\Quest\\\\SMQFAM_E.XPT', 'C:\\\\Users\\\\Ganga\\\\Desktop\\\\Research\\\\CDCDiab_2.0\\\\Data\\\\07-08\\\\Quest\\\\SMQRTU_E.XPT', 'C:\\\\Users\\\\Ganga\\\\Desktop\\\\Research\\\\CDCDiab_2.0\\\\Data\\\\07-08\\\\Quest\\\\SMQ_E.XPT', 'C:\\\\Users\\\\Ganga\\\\Desktop\\\\Research\\\\CDCDiab_2.0\\\\Data\\\\07-08\\\\Quest\\\\SSQ_E.XPT', 'C:\\\\Users\\\\Ganga\\\\Desktop\\\\Research\\\\CDCDiab_2.0\\\\Data\\\\07-08\\\\Quest\\\\SXQ_E.XPT', 'C:\\\\Users\\\\Ganga\\\\Desktop\\\\Research\\\\CDCDiab_2.0\\\\Data\\\\07-08\\\\Quest\\\\VIQ_E.XPT', 'C:\\\\Users\\\\Ganga\\\\Desktop\\\\Research\\\\CDCDiab_2.0\\\\Data\\\\07-08\\\\Quest\\\\WHQMEC_E.XPT', 'C:\\\\Users\\\\Ganga\\\\Desktop\\\\Research\\\\CDCDiab_2.0\\\\Data\\\\07-08\\\\Quest\\\\WHQ_E.XPT']\n"
     ]
    }
   ],
   "source": [
    "path = 'C:\\\\Users\\\\Ganga\\\\Desktop\\\\Research\\\\CDCDiab_2.0\\\\Data\\\\07-08\\\\Quest'\n",
    "allFiles = glob.glob(os.path.join(path,\"*.XPT\"))\n",
    "print(allFiles)"
   ]
  },
  {
   "cell_type": "code",
   "execution_count": 5,
   "metadata": {},
   "outputs": [
    {
     "data": {
      "text/plain": [
       "(10149, 9)"
      ]
     },
     "execution_count": 5,
     "metadata": {},
     "output_type": "execute_result"
    }
   ],
   "source": [
    "HUQ = pd.read_sas('C:\\\\Users\\\\Ganga\\\\Desktop\\\\Research\\\\CDCDiab_2.0\\\\Data\\\\07-08\\\\Quest\\\\HUQ_E.XPT', index='SEQN')\n",
    "HUQ.shape  "
   ]
  },
  {
   "cell_type": "code",
   "execution_count": 6,
   "metadata": {},
   "outputs": [
    {
     "data": {
      "text/plain": [
       "(9307, 13)"
      ]
     },
     "execution_count": 6,
     "metadata": {},
     "output_type": "execute_result"
    }
   ],
   "source": [
    "HSQ = pd.read_sas('C:\\\\Users\\\\Ganga\\\\Desktop\\\\Research\\\\CDCDiab_2.0\\\\Data\\\\07-08\\\\Quest\\\\HSQ_E.XPT', index='SEQN')\n",
    "HSQ.shape  "
   ]
  },
  {
   "cell_type": "code",
   "execution_count": 7,
   "metadata": {},
   "outputs": [
    {
     "data": {
      "text/plain": [
       "(9666, 35)"
      ]
     },
     "execution_count": 7,
     "metadata": {},
     "output_type": "execute_result"
    }
   ],
   "source": [
    "DIQ = pd.read_sas('C:\\\\Users\\\\Ganga\\\\Desktop\\\\Research\\\\CDCDiab_2.0\\\\Data\\\\07-08\\\\Quest\\\\DIQ_E.XPT', index='SEQN')\n",
    "DIQ.shape"
   ]
  },
  {
   "cell_type": "code",
   "execution_count": 8,
   "metadata": {},
   "outputs": [
    {
     "data": {
      "text/html": [
       "<div>\n",
       "<style scoped>\n",
       "    .dataframe tbody tr th:only-of-type {\n",
       "        vertical-align: middle;\n",
       "    }\n",
       "\n",
       "    .dataframe tbody tr th {\n",
       "        vertical-align: top;\n",
       "    }\n",
       "\n",
       "    .dataframe thead th {\n",
       "        text-align: right;\n",
       "    }\n",
       "</style>\n",
       "<table border=\"1\" class=\"dataframe\">\n",
       "  <thead>\n",
       "    <tr style=\"text-align: right;\">\n",
       "      <th></th>\n",
       "      <th>HUQ010</th>\n",
       "      <th>HUQ020</th>\n",
       "      <th>HUQ030</th>\n",
       "      <th>HUQ040</th>\n",
       "      <th>HUQ050</th>\n",
       "      <th>HUQ060</th>\n",
       "      <th>HUQ071</th>\n",
       "      <th>HUD080</th>\n",
       "      <th>HUQ090</th>\n",
       "    </tr>\n",
       "    <tr>\n",
       "      <th>SEQN</th>\n",
       "      <th></th>\n",
       "      <th></th>\n",
       "      <th></th>\n",
       "      <th></th>\n",
       "      <th></th>\n",
       "      <th></th>\n",
       "      <th></th>\n",
       "      <th></th>\n",
       "      <th></th>\n",
       "    </tr>\n",
       "  </thead>\n",
       "  <tbody>\n",
       "    <tr>\n",
       "      <th>41475.0</th>\n",
       "      <td>4.0</td>\n",
       "      <td>2.0</td>\n",
       "      <td>1.0</td>\n",
       "      <td>1.0</td>\n",
       "      <td>3.000000e+00</td>\n",
       "      <td>NaN</td>\n",
       "      <td>2.0</td>\n",
       "      <td>NaN</td>\n",
       "      <td>2.0</td>\n",
       "    </tr>\n",
       "    <tr>\n",
       "      <th>41476.0</th>\n",
       "      <td>1.0</td>\n",
       "      <td>3.0</td>\n",
       "      <td>1.0</td>\n",
       "      <td>2.0</td>\n",
       "      <td>1.000000e+00</td>\n",
       "      <td>NaN</td>\n",
       "      <td>2.0</td>\n",
       "      <td>NaN</td>\n",
       "      <td>2.0</td>\n",
       "    </tr>\n",
       "    <tr>\n",
       "      <th>41477.0</th>\n",
       "      <td>3.0</td>\n",
       "      <td>3.0</td>\n",
       "      <td>1.0</td>\n",
       "      <td>1.0</td>\n",
       "      <td>2.000000e+00</td>\n",
       "      <td>NaN</td>\n",
       "      <td>2.0</td>\n",
       "      <td>NaN</td>\n",
       "      <td>2.0</td>\n",
       "    </tr>\n",
       "    <tr>\n",
       "      <th>41478.0</th>\n",
       "      <td>3.0</td>\n",
       "      <td>3.0</td>\n",
       "      <td>1.0</td>\n",
       "      <td>2.0</td>\n",
       "      <td>2.000000e+00</td>\n",
       "      <td>NaN</td>\n",
       "      <td>2.0</td>\n",
       "      <td>NaN</td>\n",
       "      <td>NaN</td>\n",
       "    </tr>\n",
       "    <tr>\n",
       "      <th>41479.0</th>\n",
       "      <td>3.0</td>\n",
       "      <td>3.0</td>\n",
       "      <td>1.0</td>\n",
       "      <td>2.0</td>\n",
       "      <td>5.397605e-79</td>\n",
       "      <td>4.0</td>\n",
       "      <td>2.0</td>\n",
       "      <td>NaN</td>\n",
       "      <td>2.0</td>\n",
       "    </tr>\n",
       "  </tbody>\n",
       "</table>\n",
       "</div>"
      ],
      "text/plain": [
       "         HUQ010  HUQ020  HUQ030  HUQ040        HUQ050  HUQ060  HUQ071  HUD080  \\\n",
       "SEQN                                                                            \n",
       "41475.0     4.0     2.0     1.0     1.0  3.000000e+00     NaN     2.0     NaN   \n",
       "41476.0     1.0     3.0     1.0     2.0  1.000000e+00     NaN     2.0     NaN   \n",
       "41477.0     3.0     3.0     1.0     1.0  2.000000e+00     NaN     2.0     NaN   \n",
       "41478.0     3.0     3.0     1.0     2.0  2.000000e+00     NaN     2.0     NaN   \n",
       "41479.0     3.0     3.0     1.0     2.0  5.397605e-79     4.0     2.0     NaN   \n",
       "\n",
       "         HUQ090  \n",
       "SEQN             \n",
       "41475.0     2.0  \n",
       "41476.0     2.0  \n",
       "41477.0     2.0  \n",
       "41478.0     NaN  \n",
       "41479.0     2.0  "
      ]
     },
     "execution_count": 8,
     "metadata": {},
     "output_type": "execute_result"
    }
   ],
   "source": [
    "HUQ.head()"
   ]
  },
  {
   "cell_type": "code",
   "execution_count": 9,
   "metadata": {},
   "outputs": [
    {
     "data": {
      "text/plain": [
       "HUQ010       0\n",
       "HUQ020     483\n",
       "HUQ030       0\n",
       "HUQ040    1184\n",
       "HUQ050       0\n",
       "HUQ060    8700\n",
       "HUQ071       0\n",
       "HUD080    9109\n",
       "HUQ090    1300\n",
       "dtype: int64"
      ]
     },
     "execution_count": 9,
     "metadata": {},
     "output_type": "execute_result"
    }
   ],
   "source": [
    "HUQ.isnull().sum()"
   ]
  },
  {
   "cell_type": "code",
   "execution_count": 10,
   "metadata": {},
   "outputs": [
    {
     "data": {
      "text/html": [
       "<div>\n",
       "<style scoped>\n",
       "    .dataframe tbody tr th:only-of-type {\n",
       "        vertical-align: middle;\n",
       "    }\n",
       "\n",
       "    .dataframe tbody tr th {\n",
       "        vertical-align: top;\n",
       "    }\n",
       "\n",
       "    .dataframe thead th {\n",
       "        text-align: right;\n",
       "    }\n",
       "</style>\n",
       "<table border=\"1\" class=\"dataframe\">\n",
       "  <thead>\n",
       "    <tr style=\"text-align: right;\">\n",
       "      <th></th>\n",
       "      <th>count</th>\n",
       "      <th>mean</th>\n",
       "      <th>std</th>\n",
       "      <th>min</th>\n",
       "      <th>25%</th>\n",
       "      <th>50%</th>\n",
       "      <th>75%</th>\n",
       "      <th>max</th>\n",
       "    </tr>\n",
       "  </thead>\n",
       "  <tbody>\n",
       "    <tr>\n",
       "      <th>HUQ010</th>\n",
       "      <td>10149.0</td>\n",
       "      <td>2.418662</td>\n",
       "      <td>1.142235</td>\n",
       "      <td>1.000000e+00</td>\n",
       "      <td>1.0</td>\n",
       "      <td>2.0</td>\n",
       "      <td>3.0</td>\n",
       "      <td>9.0</td>\n",
       "    </tr>\n",
       "    <tr>\n",
       "      <th>HUQ020</th>\n",
       "      <td>9666.0</td>\n",
       "      <td>2.569419</td>\n",
       "      <td>0.774124</td>\n",
       "      <td>1.000000e+00</td>\n",
       "      <td>2.0</td>\n",
       "      <td>3.0</td>\n",
       "      <td>3.0</td>\n",
       "      <td>9.0</td>\n",
       "    </tr>\n",
       "    <tr>\n",
       "      <th>HUQ030</th>\n",
       "      <td>10149.0</td>\n",
       "      <td>1.123658</td>\n",
       "      <td>0.346702</td>\n",
       "      <td>1.000000e+00</td>\n",
       "      <td>1.0</td>\n",
       "      <td>1.0</td>\n",
       "      <td>1.0</td>\n",
       "      <td>9.0</td>\n",
       "    </tr>\n",
       "    <tr>\n",
       "      <th>HUQ040</th>\n",
       "      <td>8965.0</td>\n",
       "      <td>1.889459</td>\n",
       "      <td>0.624812</td>\n",
       "      <td>1.000000e+00</td>\n",
       "      <td>2.0</td>\n",
       "      <td>2.0</td>\n",
       "      <td>2.0</td>\n",
       "      <td>9.0</td>\n",
       "    </tr>\n",
       "    <tr>\n",
       "      <th>HUQ050</th>\n",
       "      <td>10149.0</td>\n",
       "      <td>2.145827</td>\n",
       "      <td>3.113953</td>\n",
       "      <td>5.397605e-79</td>\n",
       "      <td>1.0</td>\n",
       "      <td>2.0</td>\n",
       "      <td>3.0</td>\n",
       "      <td>99.0</td>\n",
       "    </tr>\n",
       "    <tr>\n",
       "      <th>HUQ060</th>\n",
       "      <td>1449.0</td>\n",
       "      <td>3.176674</td>\n",
       "      <td>0.847800</td>\n",
       "      <td>1.000000e+00</td>\n",
       "      <td>3.0</td>\n",
       "      <td>3.0</td>\n",
       "      <td>4.0</td>\n",
       "      <td>9.0</td>\n",
       "    </tr>\n",
       "    <tr>\n",
       "      <th>HUQ071</th>\n",
       "      <td>10149.0</td>\n",
       "      <td>1.898906</td>\n",
       "      <td>0.319248</td>\n",
       "      <td>1.000000e+00</td>\n",
       "      <td>2.0</td>\n",
       "      <td>2.0</td>\n",
       "      <td>2.0</td>\n",
       "      <td>9.0</td>\n",
       "    </tr>\n",
       "    <tr>\n",
       "      <th>HUD080</th>\n",
       "      <td>1040.0</td>\n",
       "      <td>193.763462</td>\n",
       "      <td>4383.071503</td>\n",
       "      <td>1.000000e+00</td>\n",
       "      <td>1.0</td>\n",
       "      <td>1.0</td>\n",
       "      <td>2.0</td>\n",
       "      <td>99999.0</td>\n",
       "    </tr>\n",
       "    <tr>\n",
       "      <th>HUQ090</th>\n",
       "      <td>8849.0</td>\n",
       "      <td>1.927901</td>\n",
       "      <td>0.258666</td>\n",
       "      <td>1.000000e+00</td>\n",
       "      <td>2.0</td>\n",
       "      <td>2.0</td>\n",
       "      <td>2.0</td>\n",
       "      <td>2.0</td>\n",
       "    </tr>\n",
       "  </tbody>\n",
       "</table>\n",
       "</div>"
      ],
      "text/plain": [
       "          count        mean          std           min  25%  50%  75%      max\n",
       "HUQ010  10149.0    2.418662     1.142235  1.000000e+00  1.0  2.0  3.0      9.0\n",
       "HUQ020   9666.0    2.569419     0.774124  1.000000e+00  2.0  3.0  3.0      9.0\n",
       "HUQ030  10149.0    1.123658     0.346702  1.000000e+00  1.0  1.0  1.0      9.0\n",
       "HUQ040   8965.0    1.889459     0.624812  1.000000e+00  2.0  2.0  2.0      9.0\n",
       "HUQ050  10149.0    2.145827     3.113953  5.397605e-79  1.0  2.0  3.0     99.0\n",
       "HUQ060   1449.0    3.176674     0.847800  1.000000e+00  3.0  3.0  4.0      9.0\n",
       "HUQ071  10149.0    1.898906     0.319248  1.000000e+00  2.0  2.0  2.0      9.0\n",
       "HUD080   1040.0  193.763462  4383.071503  1.000000e+00  1.0  1.0  2.0  99999.0\n",
       "HUQ090   8849.0    1.927901     0.258666  1.000000e+00  2.0  2.0  2.0      2.0"
      ]
     },
     "execution_count": 10,
     "metadata": {},
     "output_type": "execute_result"
    }
   ],
   "source": [
    "HUQ.describe().T"
   ]
  },
  {
   "cell_type": "code",
   "execution_count": 11,
   "metadata": {},
   "outputs": [],
   "source": [
    "HUQ_filter = HUQ.filter(['HUQ010','HUQ040','HUQ071'])"
   ]
  },
  {
   "cell_type": "code",
   "execution_count": 12,
   "metadata": {},
   "outputs": [
    {
     "data": {
      "text/html": [
       "<div>\n",
       "<style scoped>\n",
       "    .dataframe tbody tr th:only-of-type {\n",
       "        vertical-align: middle;\n",
       "    }\n",
       "\n",
       "    .dataframe tbody tr th {\n",
       "        vertical-align: top;\n",
       "    }\n",
       "\n",
       "    .dataframe thead th {\n",
       "        text-align: right;\n",
       "    }\n",
       "</style>\n",
       "<table border=\"1\" class=\"dataframe\">\n",
       "  <thead>\n",
       "    <tr style=\"text-align: right;\">\n",
       "      <th></th>\n",
       "      <th>count</th>\n",
       "      <th>mean</th>\n",
       "      <th>std</th>\n",
       "      <th>min</th>\n",
       "      <th>25%</th>\n",
       "      <th>50%</th>\n",
       "      <th>75%</th>\n",
       "      <th>max</th>\n",
       "    </tr>\n",
       "  </thead>\n",
       "  <tbody>\n",
       "    <tr>\n",
       "      <th>HUQ010</th>\n",
       "      <td>10149.0</td>\n",
       "      <td>2.418662</td>\n",
       "      <td>1.142235</td>\n",
       "      <td>1.0</td>\n",
       "      <td>1.0</td>\n",
       "      <td>2.0</td>\n",
       "      <td>3.0</td>\n",
       "      <td>9.0</td>\n",
       "    </tr>\n",
       "    <tr>\n",
       "      <th>HUQ040</th>\n",
       "      <td>8965.0</td>\n",
       "      <td>1.889459</td>\n",
       "      <td>0.624812</td>\n",
       "      <td>1.0</td>\n",
       "      <td>2.0</td>\n",
       "      <td>2.0</td>\n",
       "      <td>2.0</td>\n",
       "      <td>9.0</td>\n",
       "    </tr>\n",
       "    <tr>\n",
       "      <th>HUQ071</th>\n",
       "      <td>10149.0</td>\n",
       "      <td>1.898906</td>\n",
       "      <td>0.319248</td>\n",
       "      <td>1.0</td>\n",
       "      <td>2.0</td>\n",
       "      <td>2.0</td>\n",
       "      <td>2.0</td>\n",
       "      <td>9.0</td>\n",
       "    </tr>\n",
       "  </tbody>\n",
       "</table>\n",
       "</div>"
      ],
      "text/plain": [
       "          count      mean       std  min  25%  50%  75%  max\n",
       "HUQ010  10149.0  2.418662  1.142235  1.0  1.0  2.0  3.0  9.0\n",
       "HUQ040   8965.0  1.889459  0.624812  1.0  2.0  2.0  2.0  9.0\n",
       "HUQ071  10149.0  1.898906  0.319248  1.0  2.0  2.0  2.0  9.0"
      ]
     },
     "execution_count": 12,
     "metadata": {},
     "output_type": "execute_result"
    }
   ],
   "source": [
    "HUQ_filter.describe().T"
   ]
  },
  {
   "cell_type": "code",
   "execution_count": 13,
   "metadata": {},
   "outputs": [],
   "source": [
    "HUQ_filter.describe().T.to_csv('HUQ_Select.csv')"
   ]
  },
  {
   "cell_type": "markdown",
   "metadata": {},
   "source": [
    "# Processing Column of HUQ"
   ]
  },
  {
   "cell_type": "code",
   "execution_count": 6,
   "metadata": {},
   "outputs": [
    {
     "name": "stdout",
     "output_type": "stream",
     "text": [
      "HUQ_reading1 shape =  (10149,)\n",
      "SEQN\n",
      "41475.0    4.0\n",
      "41476.0    1.0\n",
      "41477.0    3.0\n",
      "41478.0    3.0\n",
      "41479.0    3.0\n",
      "Name: HUQ010, dtype: float64\n",
      "count    10149.000000\n",
      "mean         2.418662\n",
      "std          1.142235\n",
      "min          1.000000\n",
      "25%          1.000000\n",
      "50%          2.000000\n",
      "75%          3.000000\n",
      "max          9.000000\n",
      "Name: HUQ010, dtype: float64\n"
     ]
    }
   ],
   "source": [
    "# HUQ010 - General health condition\n",
    "HUQ_reading1 = HUQ['HUQ010']\n",
    "print('HUQ_reading1 shape = ', HUQ_reading1.shape)\n",
    "print(HUQ_reading1.head())\n",
    "print(HUQ_reading1.describe())"
   ]
  },
  {
   "cell_type": "code",
   "execution_count": 7,
   "metadata": {},
   "outputs": [
    {
     "name": "stdout",
     "output_type": "stream",
     "text": [
      "HSQ_reading1 shape =  (9307,)\n",
      "SEQN\n",
      "41475.0    3.0\n",
      "41476.0    NaN\n",
      "41477.0    3.0\n",
      "41478.0    NaN\n",
      "41479.0    4.0\n",
      "Name: HSD010, dtype: float64\n",
      "count    6356.000000\n",
      "mean        2.779264\n",
      "std         0.999237\n",
      "min         1.000000\n",
      "25%         2.000000\n",
      "50%         3.000000\n",
      "75%         3.000000\n",
      "max         9.000000\n",
      "Name: HSD010, dtype: float64\n"
     ]
    }
   ],
   "source": [
    "# HSQ - General health condition\n",
    "HSQ_reading1 = HSQ['HSD010']\n",
    "print('HSQ_reading1 shape = ', HSQ_reading1.shape)\n",
    "print(HSQ_reading1.head())\n",
    "print(HSQ_reading1.describe())"
   ]
  },
  {
   "cell_type": "code",
   "execution_count": 12,
   "metadata": {},
   "outputs": [
    {
     "name": "stdout",
     "output_type": "stream",
     "text": [
      "DIQ_reading1 shape =  (9666,)\n",
      "SEQN\n",
      "41475.0    2.0\n",
      "41476.0    2.0\n",
      "41477.0    1.0\n",
      "41478.0    2.0\n",
      "41479.0    2.0\n",
      "Name: DIQ010, dtype: float64\n",
      "count    9666.000000\n",
      "mean        1.937099\n",
      "std         0.364736\n",
      "min         1.000000\n",
      "25%         2.000000\n",
      "50%         2.000000\n",
      "75%         2.000000\n",
      "max         9.000000\n",
      "Name: DIQ010, dtype: float64\n"
     ]
    }
   ],
   "source": [
    "DIQ_reading1 = DIQ['DIQ010']\n",
    "print('DIQ_reading1 shape = ', DIQ_reading1.shape)\n",
    "print(DIQ_reading1.head())\n",
    "print(DIQ_reading1.describe())"
   ]
  },
  {
   "cell_type": "code",
   "execution_count": 15,
   "metadata": {},
   "outputs": [
    {
     "name": "stdout",
     "output_type": "stream",
     "text": [
      "HUQ missing values =   0 from  10149 observations\n",
      "HSQ missing values =   2951 from  9307 observations\n",
      "DIQ missing values =   0 from  9666 observations\n"
     ]
    }
   ],
   "source": [
    "print('HUQ missing values =  ', HUQ_reading1.isnull().sum(), 'from ', HUQ_reading1.shape[0], 'observations')\n",
    "print('HSQ missing values =  ', HSQ_reading1.isnull().sum(), 'from ', HSQ_reading1.shape[0], 'observations')\n",
    "print('DIQ missing values =  ', DIQ_reading1.isnull().sum(), 'from ', DIQ_reading1.shape[0], 'observations')"
   ]
  },
  {
   "cell_type": "code",
   "execution_count": 13,
   "metadata": {},
   "outputs": [
    {
     "name": "stdout",
     "output_type": "stream",
     "text": [
      "All_HUQ shape =  (10149, 3)\n",
      "         HSD010  HUQ010  DIQ010\n",
      "SEQN                           \n",
      "41475.0     3.0     4.0     2.0\n",
      "41476.0     NaN     1.0     2.0\n",
      "41477.0     3.0     3.0     1.0\n",
      "41478.0     NaN     3.0     2.0\n",
      "41479.0     4.0     3.0     2.0\n"
     ]
    },
    {
     "data": {
      "text/html": [
       "<div>\n",
       "<style scoped>\n",
       "    .dataframe tbody tr th:only-of-type {\n",
       "        vertical-align: middle;\n",
       "    }\n",
       "\n",
       "    .dataframe tbody tr th {\n",
       "        vertical-align: top;\n",
       "    }\n",
       "\n",
       "    .dataframe thead th {\n",
       "        text-align: right;\n",
       "    }\n",
       "</style>\n",
       "<table border=\"1\" class=\"dataframe\">\n",
       "  <thead>\n",
       "    <tr style=\"text-align: right;\">\n",
       "      <th></th>\n",
       "      <th>HSD010</th>\n",
       "      <th>HUQ010</th>\n",
       "      <th>DIQ010</th>\n",
       "    </tr>\n",
       "  </thead>\n",
       "  <tbody>\n",
       "    <tr>\n",
       "      <th>count</th>\n",
       "      <td>6356.000000</td>\n",
       "      <td>10149.000000</td>\n",
       "      <td>9666.000000</td>\n",
       "    </tr>\n",
       "    <tr>\n",
       "      <th>mean</th>\n",
       "      <td>2.779264</td>\n",
       "      <td>2.418662</td>\n",
       "      <td>1.937099</td>\n",
       "    </tr>\n",
       "    <tr>\n",
       "      <th>std</th>\n",
       "      <td>0.999237</td>\n",
       "      <td>1.142235</td>\n",
       "      <td>0.364736</td>\n",
       "    </tr>\n",
       "    <tr>\n",
       "      <th>min</th>\n",
       "      <td>1.000000</td>\n",
       "      <td>1.000000</td>\n",
       "      <td>1.000000</td>\n",
       "    </tr>\n",
       "    <tr>\n",
       "      <th>25%</th>\n",
       "      <td>2.000000</td>\n",
       "      <td>1.000000</td>\n",
       "      <td>2.000000</td>\n",
       "    </tr>\n",
       "    <tr>\n",
       "      <th>50%</th>\n",
       "      <td>3.000000</td>\n",
       "      <td>2.000000</td>\n",
       "      <td>2.000000</td>\n",
       "    </tr>\n",
       "    <tr>\n",
       "      <th>75%</th>\n",
       "      <td>3.000000</td>\n",
       "      <td>3.000000</td>\n",
       "      <td>2.000000</td>\n",
       "    </tr>\n",
       "    <tr>\n",
       "      <th>max</th>\n",
       "      <td>9.000000</td>\n",
       "      <td>9.000000</td>\n",
       "      <td>9.000000</td>\n",
       "    </tr>\n",
       "  </tbody>\n",
       "</table>\n",
       "</div>"
      ],
      "text/plain": [
       "            HSD010        HUQ010       DIQ010\n",
       "count  6356.000000  10149.000000  9666.000000\n",
       "mean      2.779264      2.418662     1.937099\n",
       "std       0.999237      1.142235     0.364736\n",
       "min       1.000000      1.000000     1.000000\n",
       "25%       2.000000      1.000000     2.000000\n",
       "50%       3.000000      2.000000     2.000000\n",
       "75%       3.000000      3.000000     2.000000\n",
       "max       9.000000      9.000000     9.000000"
      ]
     },
     "execution_count": 13,
     "metadata": {},
     "output_type": "execute_result"
    }
   ],
   "source": [
    "All_HUQ = pd.concat([HSQ_reading1,HUQ_reading1,DIQ_reading1],axis=1)\n",
    "print('All_HUQ shape = ', All_HUQ.shape)\n",
    "print(All_HUQ.head())\n",
    "All_HUQ.describe()"
   ]
  },
  {
   "cell_type": "code",
   "execution_count": 14,
   "metadata": {},
   "outputs": [],
   "source": [
    "All_HUQ.to_csv('all_HUQ.csv')"
   ]
  },
  {
   "cell_type": "code",
   "execution_count": null,
   "metadata": {},
   "outputs": [],
   "source": []
  }
 ],
 "metadata": {
  "kernelspec": {
   "display_name": "Python 3",
   "language": "python",
   "name": "python3"
  },
  "language_info": {
   "codemirror_mode": {
    "name": "ipython",
    "version": 3
   },
   "file_extension": ".py",
   "mimetype": "text/x-python",
   "name": "python",
   "nbconvert_exporter": "python",
   "pygments_lexer": "ipython3",
   "version": "3.6.4"
  }
 },
 "nbformat": 4,
 "nbformat_minor": 2
}
