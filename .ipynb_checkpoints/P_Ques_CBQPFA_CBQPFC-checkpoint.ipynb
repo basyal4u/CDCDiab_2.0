{
 "cells": [
  {
   "cell_type": "markdown",
   "metadata": {},
   "source": [
    "#  Processing Questionnaire - CBQPFA (Consumer behavior) file"
   ]
  },
  {
   "cell_type": "code",
   "execution_count": 1,
   "metadata": {},
   "outputs": [],
   "source": [
    "import numpy as np\n",
    "import pandas as pd\n",
    "import glob \n",
    "import os\n",
    "import sys"
   ]
  },
  {
   "cell_type": "code",
   "execution_count": 2,
   "metadata": {},
   "outputs": [
    {
     "data": {
      "text/plain": [
       "'C:\\\\Users\\\\Ganga\\\\Desktop\\\\Research\\\\CDCDiab_2.0\\\\Code'"
      ]
     },
     "execution_count": 2,
     "metadata": {},
     "output_type": "execute_result"
    }
   ],
   "source": [
    "os.getcwd()"
   ]
  },
  {
   "cell_type": "code",
   "execution_count": null,
   "metadata": {},
   "outputs": [],
   "source": [
    "# Select working directory\n",
    "# %cd C:\\Users\\Ganga\\Desktop\\Research\\CDCDiab_2.0\\Data\\07-08\\Examination\n",
    "#%cd /Users/elgayaro/Main/Research/Healthcare/CDC-NHANES/Data/07-08/Examination"
   ]
  },
  {
   "cell_type": "code",
   "execution_count": null,
   "metadata": {},
   "outputs": [],
   "source": [
    "#os.getcwd()"
   ]
  },
  {
   "cell_type": "code",
   "execution_count": null,
   "metadata": {},
   "outputs": [],
   "source": [
    "#allFiles = glob.glob(os.path.join('.',\"*.XPT\"))\n",
    "#print(allFiles)"
   ]
  },
  {
   "cell_type": "code",
   "execution_count": null,
   "metadata": {},
   "outputs": [],
   "source": [
    "# Set desired file name\n",
    "# fname = '.\\\\BMX_E.XPT'  # Ganga\n",
    "#fname = './BMX_E.XPT'   # Omar\n",
    "#BMX = pd.read_sas(fname, index='SEQN')\n",
    "#BMX.shape"
   ]
  },
  {
   "cell_type": "code",
   "execution_count": 2,
   "metadata": {},
   "outputs": [
    {
     "name": "stdout",
     "output_type": "stream",
     "text": [
      "['C:\\\\Users\\\\Ganga\\\\Desktop\\\\Research\\\\CDCDiab_2.0\\\\Data\\\\07-08\\\\Quest\\\\ACQ_E.XPT', 'C:\\\\Users\\\\Ganga\\\\Desktop\\\\Research\\\\CDCDiab_2.0\\\\Data\\\\07-08\\\\Quest\\\\ALQ_E.XPT', 'C:\\\\Users\\\\Ganga\\\\Desktop\\\\Research\\\\CDCDiab_2.0\\\\Data\\\\07-08\\\\Quest\\\\AQQ_E.XPT', 'C:\\\\Users\\\\Ganga\\\\Desktop\\\\Research\\\\CDCDiab_2.0\\\\Data\\\\07-08\\\\Quest\\\\AUQ_E.XPT', 'C:\\\\Users\\\\Ganga\\\\Desktop\\\\Research\\\\CDCDiab_2.0\\\\Data\\\\07-08\\\\Quest\\\\BHQ_E.XPT', 'C:\\\\Users\\\\Ganga\\\\Desktop\\\\Research\\\\CDCDiab_2.0\\\\Data\\\\07-08\\\\Quest\\\\BPQ_E.XPT', 'C:\\\\Users\\\\Ganga\\\\Desktop\\\\Research\\\\CDCDiab_2.0\\\\Data\\\\07-08\\\\Quest\\\\CBQPFA_E.XPT', 'C:\\\\Users\\\\Ganga\\\\Desktop\\\\Research\\\\CDCDiab_2.0\\\\Data\\\\07-08\\\\Quest\\\\CBQPFC_E.XPT', 'C:\\\\Users\\\\Ganga\\\\Desktop\\\\Research\\\\CDCDiab_2.0\\\\Data\\\\07-08\\\\Quest\\\\CBQ_E.XPT', 'C:\\\\Users\\\\Ganga\\\\Desktop\\\\Research\\\\CDCDiab_2.0\\\\Data\\\\07-08\\\\Quest\\\\CDQ_E.XPT', 'C:\\\\Users\\\\Ganga\\\\Desktop\\\\Research\\\\CDCDiab_2.0\\\\Data\\\\07-08\\\\Quest\\\\DBQ_E.XPT', 'C:\\\\Users\\\\Ganga\\\\Desktop\\\\Research\\\\CDCDiab_2.0\\\\Data\\\\07-08\\\\Quest\\\\DIQ_E.XPT', 'C:\\\\Users\\\\Ganga\\\\Desktop\\\\Research\\\\CDCDiab_2.0\\\\Data\\\\07-08\\\\Quest\\\\DPQ_E.XPT', 'C:\\\\Users\\\\Ganga\\\\Desktop\\\\Research\\\\CDCDiab_2.0\\\\Data\\\\07-08\\\\Quest\\\\DUQ_E.XPT', 'C:\\\\Users\\\\Ganga\\\\Desktop\\\\Research\\\\CDCDiab_2.0\\\\Data\\\\07-08\\\\Quest\\\\ECQ_E.XPT', 'C:\\\\Users\\\\Ganga\\\\Desktop\\\\Research\\\\CDCDiab_2.0\\\\Data\\\\07-08\\\\Quest\\\\FSQ_E.XPT', 'C:\\\\Users\\\\Ganga\\\\Desktop\\\\Research\\\\CDCDiab_2.0\\\\Data\\\\07-08\\\\Quest\\\\HCQ_E.XPT', 'C:\\\\Users\\\\Ganga\\\\Desktop\\\\Research\\\\CDCDiab_2.0\\\\Data\\\\07-08\\\\Quest\\\\HIQ_E.XPT', 'C:\\\\Users\\\\Ganga\\\\Desktop\\\\Research\\\\CDCDiab_2.0\\\\Data\\\\07-08\\\\Quest\\\\HOQ_E.XPT', 'C:\\\\Users\\\\Ganga\\\\Desktop\\\\Research\\\\CDCDiab_2.0\\\\Data\\\\07-08\\\\Quest\\\\HSQ_E.XPT', 'C:\\\\Users\\\\Ganga\\\\Desktop\\\\Research\\\\CDCDiab_2.0\\\\Data\\\\07-08\\\\Quest\\\\HUQ_E.XPT', 'C:\\\\Users\\\\Ganga\\\\Desktop\\\\Research\\\\CDCDiab_2.0\\\\Data\\\\07-08\\\\Quest\\\\IMQ_E.XPT', 'C:\\\\Users\\\\Ganga\\\\Desktop\\\\Research\\\\CDCDiab_2.0\\\\Data\\\\07-08\\\\Quest\\\\INQ_E.XPT', 'C:\\\\Users\\\\Ganga\\\\Desktop\\\\Research\\\\CDCDiab_2.0\\\\Data\\\\07-08\\\\Quest\\\\KIQ_P_E.XPT', 'C:\\\\Users\\\\Ganga\\\\Desktop\\\\Research\\\\CDCDiab_2.0\\\\Data\\\\07-08\\\\Quest\\\\KIQ_U_E.XPT', 'C:\\\\Users\\\\Ganga\\\\Desktop\\\\Research\\\\CDCDiab_2.0\\\\Data\\\\07-08\\\\Quest\\\\MCQ_E.XPT', 'C:\\\\Users\\\\Ganga\\\\Desktop\\\\Research\\\\CDCDiab_2.0\\\\Data\\\\07-08\\\\Quest\\\\OCQ_E.XPT', 'C:\\\\Users\\\\Ganga\\\\Desktop\\\\Research\\\\CDCDiab_2.0\\\\Data\\\\07-08\\\\Quest\\\\OHQ_E.XPT', 'C:\\\\Users\\\\Ganga\\\\Desktop\\\\Research\\\\CDCDiab_2.0\\\\Data\\\\07-08\\\\Quest\\\\OSQ_E.XPT', 'C:\\\\Users\\\\Ganga\\\\Desktop\\\\Research\\\\CDCDiab_2.0\\\\Data\\\\07-08\\\\Quest\\\\PAQ_E.XPT', 'C:\\\\Users\\\\Ganga\\\\Desktop\\\\Research\\\\CDCDiab_2.0\\\\Data\\\\07-08\\\\Quest\\\\PFQ_E.XPT', 'C:\\\\Users\\\\Ganga\\\\Desktop\\\\Research\\\\CDCDiab_2.0\\\\Data\\\\07-08\\\\Quest\\\\PUQMEC_E.XPT', 'C:\\\\Users\\\\Ganga\\\\Desktop\\\\Research\\\\CDCDiab_2.0\\\\Data\\\\07-08\\\\Quest\\\\RDQ_E.XPT', 'C:\\\\Users\\\\Ganga\\\\Desktop\\\\Research\\\\CDCDiab_2.0\\\\Data\\\\07-08\\\\Quest\\\\RHQ_E.XPT', 'C:\\\\Users\\\\Ganga\\\\Desktop\\\\Research\\\\CDCDiab_2.0\\\\Data\\\\07-08\\\\Quest\\\\RXQ_RX_E.XPT', 'C:\\\\Users\\\\Ganga\\\\Desktop\\\\Research\\\\CDCDiab_2.0\\\\Data\\\\07-08\\\\Quest\\\\SLQ_E.XPT', 'C:\\\\Users\\\\Ganga\\\\Desktop\\\\Research\\\\CDCDiab_2.0\\\\Data\\\\07-08\\\\Quest\\\\SMQFAM_E.XPT', 'C:\\\\Users\\\\Ganga\\\\Desktop\\\\Research\\\\CDCDiab_2.0\\\\Data\\\\07-08\\\\Quest\\\\SMQRTU_E.XPT', 'C:\\\\Users\\\\Ganga\\\\Desktop\\\\Research\\\\CDCDiab_2.0\\\\Data\\\\07-08\\\\Quest\\\\SMQ_E.XPT', 'C:\\\\Users\\\\Ganga\\\\Desktop\\\\Research\\\\CDCDiab_2.0\\\\Data\\\\07-08\\\\Quest\\\\SSQ_E.XPT', 'C:\\\\Users\\\\Ganga\\\\Desktop\\\\Research\\\\CDCDiab_2.0\\\\Data\\\\07-08\\\\Quest\\\\SXQ_E.XPT', 'C:\\\\Users\\\\Ganga\\\\Desktop\\\\Research\\\\CDCDiab_2.0\\\\Data\\\\07-08\\\\Quest\\\\VIQ_E.XPT', 'C:\\\\Users\\\\Ganga\\\\Desktop\\\\Research\\\\CDCDiab_2.0\\\\Data\\\\07-08\\\\Quest\\\\WHQMEC_E.XPT', 'C:\\\\Users\\\\Ganga\\\\Desktop\\\\Research\\\\CDCDiab_2.0\\\\Data\\\\07-08\\\\Quest\\\\WHQ_E.XPT']\n"
     ]
    }
   ],
   "source": [
    "path = 'C:\\\\Users\\\\Ganga\\\\Desktop\\\\Research\\\\CDCDiab_2.0\\\\Data\\\\07-08\\\\Quest'\n",
    "allFiles = glob.glob(os.path.join(path,\"*.XPT\"))\n",
    "print(allFiles)"
   ]
  },
  {
   "cell_type": "code",
   "execution_count": 3,
   "metadata": {},
   "outputs": [
    {
     "data": {
      "text/plain": [
       "(6022, 57)"
      ]
     },
     "execution_count": 3,
     "metadata": {},
     "output_type": "execute_result"
    }
   ],
   "source": [
    "CBQPFA = pd.read_sas('C:\\\\Users\\\\Ganga\\\\Desktop\\\\Research\\\\CDCDiab_2.0\\\\Data\\\\07-08\\\\Quest\\\\CBQPFA_E.XPT', index='SEQN')\n",
    "CBQPFA.shape  "
   ]
  },
  {
   "cell_type": "code",
   "execution_count": 4,
   "metadata": {},
   "outputs": [
    {
     "data": {
      "text/plain": [
       "(2869, 56)"
      ]
     },
     "execution_count": 4,
     "metadata": {},
     "output_type": "execute_result"
    }
   ],
   "source": [
    "CBQPFC = pd.read_sas('C:\\\\Users\\\\Ganga\\\\Desktop\\\\Research\\\\CDCDiab_2.0\\\\Data\\\\07-08\\\\Quest\\\\CBQPFC_E.XPT', index='SEQN')\n",
    "CBQPFC.shape  "
   ]
  },
  {
   "cell_type": "code",
   "execution_count": 6,
   "metadata": {},
   "outputs": [],
   "source": [
    "CBQPFA = CBQPFA.filter(['CBQ505','CBQ520','CBQ525','CBQ530','CBQ535','CBQ550','CBQ565','CBQ570','CBQ575','CBQ665'])"
   ]
  },
  {
   "cell_type": "code",
   "execution_count": 7,
   "metadata": {},
   "outputs": [],
   "source": [
    "CBQPFC = CBQPFC.filter(['CBQ505','CBQ520','CBQ525','CBQ530','CBQ535','CBQ550','CBQ565','CBQ570','CBQ575','CBQ665'])"
   ]
  },
  {
   "cell_type": "code",
   "execution_count": 8,
   "metadata": {},
   "outputs": [
    {
     "data": {
      "text/html": [
       "<div>\n",
       "<style scoped>\n",
       "    .dataframe tbody tr th:only-of-type {\n",
       "        vertical-align: middle;\n",
       "    }\n",
       "\n",
       "    .dataframe tbody tr th {\n",
       "        vertical-align: top;\n",
       "    }\n",
       "\n",
       "    .dataframe thead th {\n",
       "        text-align: right;\n",
       "    }\n",
       "</style>\n",
       "<table border=\"1\" class=\"dataframe\">\n",
       "  <thead>\n",
       "    <tr style=\"text-align: right;\">\n",
       "      <th></th>\n",
       "      <th>count</th>\n",
       "      <th>mean</th>\n",
       "      <th>std</th>\n",
       "      <th>min</th>\n",
       "      <th>25%</th>\n",
       "      <th>50%</th>\n",
       "      <th>75%</th>\n",
       "      <th>max</th>\n",
       "    </tr>\n",
       "  </thead>\n",
       "  <tbody>\n",
       "    <tr>\n",
       "      <th>CBQ505</th>\n",
       "      <td>4819.0</td>\n",
       "      <td>1.137995</td>\n",
       "      <td>0.369901</td>\n",
       "      <td>1.0</td>\n",
       "      <td>1.0</td>\n",
       "      <td>1.0</td>\n",
       "      <td>1.0</td>\n",
       "      <td>9.0</td>\n",
       "    </tr>\n",
       "    <tr>\n",
       "      <th>CBQ520</th>\n",
       "      <td>4166.0</td>\n",
       "      <td>1.855257</td>\n",
       "      <td>0.445255</td>\n",
       "      <td>1.0</td>\n",
       "      <td>2.0</td>\n",
       "      <td>2.0</td>\n",
       "      <td>2.0</td>\n",
       "      <td>9.0</td>\n",
       "    </tr>\n",
       "    <tr>\n",
       "      <th>CBQ525</th>\n",
       "      <td>4166.0</td>\n",
       "      <td>1.196591</td>\n",
       "      <td>0.474561</td>\n",
       "      <td>1.0</td>\n",
       "      <td>1.0</td>\n",
       "      <td>1.0</td>\n",
       "      <td>1.0</td>\n",
       "      <td>9.0</td>\n",
       "    </tr>\n",
       "    <tr>\n",
       "      <th>CBQ530</th>\n",
       "      <td>4164.0</td>\n",
       "      <td>1.530740</td>\n",
       "      <td>0.592017</td>\n",
       "      <td>1.0</td>\n",
       "      <td>1.0</td>\n",
       "      <td>2.0</td>\n",
       "      <td>2.0</td>\n",
       "      <td>9.0</td>\n",
       "    </tr>\n",
       "    <tr>\n",
       "      <th>CBQ535</th>\n",
       "      <td>4164.0</td>\n",
       "      <td>1.871037</td>\n",
       "      <td>0.689607</td>\n",
       "      <td>1.0</td>\n",
       "      <td>2.0</td>\n",
       "      <td>2.0</td>\n",
       "      <td>2.0</td>\n",
       "      <td>9.0</td>\n",
       "    </tr>\n",
       "    <tr>\n",
       "      <th>CBQ550</th>\n",
       "      <td>4815.0</td>\n",
       "      <td>1.173001</td>\n",
       "      <td>0.407881</td>\n",
       "      <td>1.0</td>\n",
       "      <td>1.0</td>\n",
       "      <td>1.0</td>\n",
       "      <td>1.0</td>\n",
       "      <td>9.0</td>\n",
       "    </tr>\n",
       "    <tr>\n",
       "      <th>CBQ565</th>\n",
       "      <td>3998.0</td>\n",
       "      <td>1.750125</td>\n",
       "      <td>0.528255</td>\n",
       "      <td>1.0</td>\n",
       "      <td>1.0</td>\n",
       "      <td>2.0</td>\n",
       "      <td>2.0</td>\n",
       "      <td>9.0</td>\n",
       "    </tr>\n",
       "    <tr>\n",
       "      <th>CBQ570</th>\n",
       "      <td>3998.0</td>\n",
       "      <td>1.341921</td>\n",
       "      <td>0.604295</td>\n",
       "      <td>1.0</td>\n",
       "      <td>1.0</td>\n",
       "      <td>1.0</td>\n",
       "      <td>2.0</td>\n",
       "      <td>9.0</td>\n",
       "    </tr>\n",
       "    <tr>\n",
       "      <th>CBQ575</th>\n",
       "      <td>3998.0</td>\n",
       "      <td>1.209855</td>\n",
       "      <td>0.528150</td>\n",
       "      <td>1.0</td>\n",
       "      <td>1.0</td>\n",
       "      <td>1.0</td>\n",
       "      <td>1.0</td>\n",
       "      <td>9.0</td>\n",
       "    </tr>\n",
       "    <tr>\n",
       "      <th>CBQ665</th>\n",
       "      <td>4787.0</td>\n",
       "      <td>1.420723</td>\n",
       "      <td>0.739414</td>\n",
       "      <td>1.0</td>\n",
       "      <td>1.0</td>\n",
       "      <td>1.0</td>\n",
       "      <td>2.0</td>\n",
       "      <td>9.0</td>\n",
       "    </tr>\n",
       "  </tbody>\n",
       "</table>\n",
       "</div>"
      ],
      "text/plain": [
       "         count      mean       std  min  25%  50%  75%  max\n",
       "CBQ505  4819.0  1.137995  0.369901  1.0  1.0  1.0  1.0  9.0\n",
       "CBQ520  4166.0  1.855257  0.445255  1.0  2.0  2.0  2.0  9.0\n",
       "CBQ525  4166.0  1.196591  0.474561  1.0  1.0  1.0  1.0  9.0\n",
       "CBQ530  4164.0  1.530740  0.592017  1.0  1.0  2.0  2.0  9.0\n",
       "CBQ535  4164.0  1.871037  0.689607  1.0  2.0  2.0  2.0  9.0\n",
       "CBQ550  4815.0  1.173001  0.407881  1.0  1.0  1.0  1.0  9.0\n",
       "CBQ565  3998.0  1.750125  0.528255  1.0  1.0  2.0  2.0  9.0\n",
       "CBQ570  3998.0  1.341921  0.604295  1.0  1.0  1.0  2.0  9.0\n",
       "CBQ575  3998.0  1.209855  0.528150  1.0  1.0  1.0  1.0  9.0\n",
       "CBQ665  4787.0  1.420723  0.739414  1.0  1.0  1.0  2.0  9.0"
      ]
     },
     "execution_count": 8,
     "metadata": {},
     "output_type": "execute_result"
    }
   ],
   "source": [
    "CBQPFA.describe().T"
   ]
  },
  {
   "cell_type": "code",
   "execution_count": 9,
   "metadata": {},
   "outputs": [
    {
     "data": {
      "text/html": [
       "<div>\n",
       "<style scoped>\n",
       "    .dataframe tbody tr th:only-of-type {\n",
       "        vertical-align: middle;\n",
       "    }\n",
       "\n",
       "    .dataframe tbody tr th {\n",
       "        vertical-align: top;\n",
       "    }\n",
       "\n",
       "    .dataframe thead th {\n",
       "        text-align: right;\n",
       "    }\n",
       "</style>\n",
       "<table border=\"1\" class=\"dataframe\">\n",
       "  <thead>\n",
       "    <tr style=\"text-align: right;\">\n",
       "      <th></th>\n",
       "      <th>count</th>\n",
       "      <th>mean</th>\n",
       "      <th>std</th>\n",
       "      <th>min</th>\n",
       "      <th>25%</th>\n",
       "      <th>50%</th>\n",
       "      <th>75%</th>\n",
       "      <th>max</th>\n",
       "    </tr>\n",
       "  </thead>\n",
       "  <tbody>\n",
       "    <tr>\n",
       "      <th>CBQ505</th>\n",
       "      <td>2249.0</td>\n",
       "      <td>1.081369</td>\n",
       "      <td>0.273463</td>\n",
       "      <td>1.0</td>\n",
       "      <td>1.0</td>\n",
       "      <td>1.0</td>\n",
       "      <td>1.0</td>\n",
       "      <td>2.0</td>\n",
       "    </tr>\n",
       "    <tr>\n",
       "      <th>CBQ520</th>\n",
       "      <td>2065.0</td>\n",
       "      <td>1.900242</td>\n",
       "      <td>0.299749</td>\n",
       "      <td>1.0</td>\n",
       "      <td>2.0</td>\n",
       "      <td>2.0</td>\n",
       "      <td>2.0</td>\n",
       "      <td>2.0</td>\n",
       "    </tr>\n",
       "    <tr>\n",
       "      <th>CBQ525</th>\n",
       "      <td>2065.0</td>\n",
       "      <td>1.238741</td>\n",
       "      <td>0.426417</td>\n",
       "      <td>1.0</td>\n",
       "      <td>1.0</td>\n",
       "      <td>1.0</td>\n",
       "      <td>1.0</td>\n",
       "      <td>2.0</td>\n",
       "    </tr>\n",
       "    <tr>\n",
       "      <th>CBQ530</th>\n",
       "      <td>2065.0</td>\n",
       "      <td>1.531719</td>\n",
       "      <td>0.499114</td>\n",
       "      <td>1.0</td>\n",
       "      <td>1.0</td>\n",
       "      <td>2.0</td>\n",
       "      <td>2.0</td>\n",
       "      <td>2.0</td>\n",
       "    </tr>\n",
       "    <tr>\n",
       "      <th>CBQ535</th>\n",
       "      <td>2065.0</td>\n",
       "      <td>1.868281</td>\n",
       "      <td>0.859334</td>\n",
       "      <td>1.0</td>\n",
       "      <td>2.0</td>\n",
       "      <td>2.0</td>\n",
       "      <td>2.0</td>\n",
       "      <td>9.0</td>\n",
       "    </tr>\n",
       "    <tr>\n",
       "      <th>CBQ550</th>\n",
       "      <td>2248.0</td>\n",
       "      <td>1.212189</td>\n",
       "      <td>0.408949</td>\n",
       "      <td>1.0</td>\n",
       "      <td>1.0</td>\n",
       "      <td>1.0</td>\n",
       "      <td>1.0</td>\n",
       "      <td>2.0</td>\n",
       "    </tr>\n",
       "    <tr>\n",
       "      <th>CBQ565</th>\n",
       "      <td>1771.0</td>\n",
       "      <td>1.756635</td>\n",
       "      <td>0.528354</td>\n",
       "      <td>1.0</td>\n",
       "      <td>1.0</td>\n",
       "      <td>2.0</td>\n",
       "      <td>2.0</td>\n",
       "      <td>9.0</td>\n",
       "    </tr>\n",
       "    <tr>\n",
       "      <th>CBQ570</th>\n",
       "      <td>1771.0</td>\n",
       "      <td>1.387352</td>\n",
       "      <td>0.628996</td>\n",
       "      <td>1.0</td>\n",
       "      <td>1.0</td>\n",
       "      <td>1.0</td>\n",
       "      <td>2.0</td>\n",
       "      <td>9.0</td>\n",
       "    </tr>\n",
       "    <tr>\n",
       "      <th>CBQ575</th>\n",
       "      <td>1770.0</td>\n",
       "      <td>1.208475</td>\n",
       "      <td>0.406333</td>\n",
       "      <td>1.0</td>\n",
       "      <td>1.0</td>\n",
       "      <td>1.0</td>\n",
       "      <td>1.0</td>\n",
       "      <td>2.0</td>\n",
       "    </tr>\n",
       "    <tr>\n",
       "      <th>CBQ665</th>\n",
       "      <td>2244.0</td>\n",
       "      <td>1.308378</td>\n",
       "      <td>0.538571</td>\n",
       "      <td>1.0</td>\n",
       "      <td>1.0</td>\n",
       "      <td>1.0</td>\n",
       "      <td>2.0</td>\n",
       "      <td>9.0</td>\n",
       "    </tr>\n",
       "  </tbody>\n",
       "</table>\n",
       "</div>"
      ],
      "text/plain": [
       "         count      mean       std  min  25%  50%  75%  max\n",
       "CBQ505  2249.0  1.081369  0.273463  1.0  1.0  1.0  1.0  2.0\n",
       "CBQ520  2065.0  1.900242  0.299749  1.0  2.0  2.0  2.0  2.0\n",
       "CBQ525  2065.0  1.238741  0.426417  1.0  1.0  1.0  1.0  2.0\n",
       "CBQ530  2065.0  1.531719  0.499114  1.0  1.0  2.0  2.0  2.0\n",
       "CBQ535  2065.0  1.868281  0.859334  1.0  2.0  2.0  2.0  9.0\n",
       "CBQ550  2248.0  1.212189  0.408949  1.0  1.0  1.0  1.0  2.0\n",
       "CBQ565  1771.0  1.756635  0.528354  1.0  1.0  2.0  2.0  9.0\n",
       "CBQ570  1771.0  1.387352  0.628996  1.0  1.0  1.0  2.0  9.0\n",
       "CBQ575  1770.0  1.208475  0.406333  1.0  1.0  1.0  1.0  2.0\n",
       "CBQ665  2244.0  1.308378  0.538571  1.0  1.0  1.0  2.0  9.0"
      ]
     },
     "execution_count": 9,
     "metadata": {},
     "output_type": "execute_result"
    }
   ],
   "source": [
    "CBQPFC.describe().T"
   ]
  },
  {
   "cell_type": "code",
   "execution_count": 10,
   "metadata": {},
   "outputs": [],
   "source": [
    "CBQPFA.describe().T.to_csv('CBQPFA_Select.csv')"
   ]
  },
  {
   "cell_type": "code",
   "execution_count": 11,
   "metadata": {},
   "outputs": [],
   "source": [
    "CBQPFC.describe().T.to_csv('CBQPFC_Select.csv')"
   ]
  },
  {
   "cell_type": "markdown",
   "metadata": {},
   "source": [
    "# Processing Column of CBQPFC and CBQPFA"
   ]
  },
  {
   "cell_type": "code",
   "execution_count": 6,
   "metadata": {},
   "outputs": [
    {
     "name": "stdout",
     "output_type": "stream",
     "text": [
      "CBQPFA_reading1 shape =  (6022,)\n",
      "SEQN\n",
      "41475.0    2.0\n",
      "41477.0    2.0\n",
      "41479.0    1.0\n",
      "41481.0    1.0\n",
      "41482.0    2.0\n",
      "Name: CBQ505, dtype: float64\n",
      "count    4819.000000\n",
      "mean        1.137995\n",
      "std         0.369901\n",
      "min         1.000000\n",
      "25%         1.000000\n",
      "50%         1.000000\n",
      "75%         1.000000\n",
      "max         9.000000\n",
      "Name: CBQ505, dtype: float64\n"
     ]
    }
   ],
   "source": [
    "# CBQ505 - Eat at fast food/pizza places.\n",
    "CBQPFA_reading1 = CBQPFA['CBQ505']\n",
    "print('CBQPFA_reading1 shape = ', CBQPFA_reading1.shape)\n",
    "print(CBQPFA_reading1.head())\n",
    "print(CBQPFA_reading1.describe())"
   ]
  },
  {
   "cell_type": "code",
   "execution_count": 7,
   "metadata": {},
   "outputs": [
    {
     "name": "stdout",
     "output_type": "stream",
     "text": [
      "CBQPFA_reading2 shape =  (6022,)\n",
      "SEQN\n",
      "41475.0    1.0\n",
      "41477.0    2.0\n",
      "41479.0    1.0\n",
      "41481.0    1.0\n",
      "41482.0    2.0\n",
      "Name: CBQ550, dtype: float64\n",
      "count    4815.000000\n",
      "mean        1.173001\n",
      "std         0.407881\n",
      "min         1.000000\n",
      "25%         1.000000\n",
      "50%         1.000000\n",
      "75%         1.000000\n",
      "max         9.000000\n",
      "Name: CBQ550, dtype: float64\n"
     ]
    }
   ],
   "source": [
    "# CBQ550 - Eat at restaurants w/ waiter (In the past 12 months, did you eat at a restaurant with waiter or waitress service?)\n",
    "CBQPFA_reading2 = CBQPFA['CBQ550']\n",
    "print('CBQPFA_reading2 shape = ', CBQPFA_reading2.shape)\n",
    "print(CBQPFA_reading2.head())\n",
    "print(CBQPFA_reading2.describe())"
   ]
  },
  {
   "cell_type": "code",
   "execution_count": 8,
   "metadata": {},
   "outputs": [
    {
     "name": "stdout",
     "output_type": "stream",
     "text": [
      "CBQPFC_reading1 shape =  (2869,)\n",
      "SEQN\n",
      "41476.0    1.0\n",
      "41478.0    NaN\n",
      "41480.0    1.0\n",
      "41488.0    NaN\n",
      "41491.0    1.0\n",
      "Name: CBQ505, dtype: float64\n",
      "count    2249.000000\n",
      "mean        1.081369\n",
      "std         0.273463\n",
      "min         1.000000\n",
      "25%         1.000000\n",
      "50%         1.000000\n",
      "75%         1.000000\n",
      "max         2.000000\n",
      "Name: CBQ505, dtype: float64\n"
     ]
    }
   ],
   "source": [
    "# CBQ505 - Eat at fast food/pizza places( In the past 12 months, did you buy food from fast food or pizza places?)\n",
    "CBQPFC_reading1 = CBQPFC['CBQ505']\n",
    "print('CBQPFC_reading1 shape = ', CBQPFC_reading1.shape)\n",
    "print(CBQPFC_reading1.head())\n",
    "print(CBQPFC_reading1.describe())"
   ]
  },
  {
   "cell_type": "code",
   "execution_count": 9,
   "metadata": {},
   "outputs": [
    {
     "name": "stdout",
     "output_type": "stream",
     "text": [
      "CBQPFC_reading2 shape =  (2869,)\n",
      "SEQN\n",
      "41476.0    1.0\n",
      "41478.0    NaN\n",
      "41480.0    2.0\n",
      "41488.0    NaN\n",
      "41491.0    1.0\n",
      "Name: CBQ550, dtype: float64\n",
      "count    2248.000000\n",
      "mean        1.212189\n",
      "std         0.408949\n",
      "min         1.000000\n",
      "25%         1.000000\n",
      "50%         1.000000\n",
      "75%         1.000000\n",
      "max         2.000000\n",
      "Name: CBQ550, dtype: float64\n"
     ]
    }
   ],
   "source": [
    "# CBQ550 - Eat at restaurants w/ waiter(In the past 12 months, did you eat at a restaurant with waiter or waitress service?)\n",
    "CBQPFC_reading2 = CBQPFC['CBQ550']\n",
    "print('CBQPFC_reading2 shape = ', CBQPFC_reading2.shape)\n",
    "print(CBQPFC_reading2.head())\n",
    "print(CBQPFC_reading2.describe())"
   ]
  },
  {
   "cell_type": "code",
   "execution_count": 10,
   "metadata": {},
   "outputs": [
    {
     "name": "stdout",
     "output_type": "stream",
     "text": [
      "CBQPFA_reading1 missing values =   1203 from  6022 observations\n",
      "CBQPFA_reading2 missing values =   1207 from  6022 observations\n",
      "CBQPFC_reading1 missing values =   620 from  2869 observations\n",
      "CBQPFC_reading2 missing values =   621 from  2869 observations\n"
     ]
    }
   ],
   "source": [
    "print('CBQPFA_reading1 missing values =  ', CBQPFA_reading1.isnull().sum(), 'from ', CBQPFA_reading1.shape[0], 'observations')\n",
    "print('CBQPFA_reading2 missing values =  ', CBQPFA_reading2.isnull().sum(), 'from ', CBQPFA_reading2.shape[0], 'observations')\n",
    "print('CBQPFC_reading1 missing values =  ', CBQPFC_reading1.isnull().sum(), 'from ', CBQPFC_reading1.shape[0], 'observations')\n",
    "print('CBQPFC_reading2 missing values =  ', CBQPFC_reading2.isnull().sum(), 'from ', CBQPFC_reading2.shape[0], 'observations')"
   ]
  },
  {
   "cell_type": "code",
   "execution_count": 11,
   "metadata": {},
   "outputs": [
    {
     "name": "stdout",
     "output_type": "stream",
     "text": [
      "All_CBQPF shape =  (8891, 4)\n",
      "         CBQ505  CBQ550  CBQ505  CBQ550\n",
      "SEQN                                   \n",
      "41475.0     2.0     1.0     NaN     NaN\n",
      "41476.0     NaN     NaN     1.0     1.0\n",
      "41477.0     2.0     2.0     NaN     NaN\n",
      "41478.0     NaN     NaN     NaN     NaN\n",
      "41479.0     1.0     1.0     NaN     NaN\n"
     ]
    },
    {
     "data": {
      "text/html": [
       "<div>\n",
       "<style scoped>\n",
       "    .dataframe tbody tr th:only-of-type {\n",
       "        vertical-align: middle;\n",
       "    }\n",
       "\n",
       "    .dataframe tbody tr th {\n",
       "        vertical-align: top;\n",
       "    }\n",
       "\n",
       "    .dataframe thead th {\n",
       "        text-align: right;\n",
       "    }\n",
       "</style>\n",
       "<table border=\"1\" class=\"dataframe\">\n",
       "  <thead>\n",
       "    <tr style=\"text-align: right;\">\n",
       "      <th></th>\n",
       "      <th>CBQ505</th>\n",
       "      <th>CBQ550</th>\n",
       "      <th>CBQ505</th>\n",
       "      <th>CBQ550</th>\n",
       "    </tr>\n",
       "  </thead>\n",
       "  <tbody>\n",
       "    <tr>\n",
       "      <th>count</th>\n",
       "      <td>4819.000000</td>\n",
       "      <td>4815.000000</td>\n",
       "      <td>2249.000000</td>\n",
       "      <td>2248.000000</td>\n",
       "    </tr>\n",
       "    <tr>\n",
       "      <th>mean</th>\n",
       "      <td>1.137995</td>\n",
       "      <td>1.173001</td>\n",
       "      <td>1.081369</td>\n",
       "      <td>1.212189</td>\n",
       "    </tr>\n",
       "    <tr>\n",
       "      <th>std</th>\n",
       "      <td>0.369901</td>\n",
       "      <td>0.407881</td>\n",
       "      <td>0.273463</td>\n",
       "      <td>0.408949</td>\n",
       "    </tr>\n",
       "    <tr>\n",
       "      <th>min</th>\n",
       "      <td>1.000000</td>\n",
       "      <td>1.000000</td>\n",
       "      <td>1.000000</td>\n",
       "      <td>1.000000</td>\n",
       "    </tr>\n",
       "    <tr>\n",
       "      <th>25%</th>\n",
       "      <td>1.000000</td>\n",
       "      <td>1.000000</td>\n",
       "      <td>1.000000</td>\n",
       "      <td>1.000000</td>\n",
       "    </tr>\n",
       "    <tr>\n",
       "      <th>50%</th>\n",
       "      <td>1.000000</td>\n",
       "      <td>1.000000</td>\n",
       "      <td>1.000000</td>\n",
       "      <td>1.000000</td>\n",
       "    </tr>\n",
       "    <tr>\n",
       "      <th>75%</th>\n",
       "      <td>1.000000</td>\n",
       "      <td>1.000000</td>\n",
       "      <td>1.000000</td>\n",
       "      <td>1.000000</td>\n",
       "    </tr>\n",
       "    <tr>\n",
       "      <th>max</th>\n",
       "      <td>9.000000</td>\n",
       "      <td>9.000000</td>\n",
       "      <td>2.000000</td>\n",
       "      <td>2.000000</td>\n",
       "    </tr>\n",
       "  </tbody>\n",
       "</table>\n",
       "</div>"
      ],
      "text/plain": [
       "            CBQ505       CBQ550       CBQ505       CBQ550\n",
       "count  4819.000000  4815.000000  2249.000000  2248.000000\n",
       "mean      1.137995     1.173001     1.081369     1.212189\n",
       "std       0.369901     0.407881     0.273463     0.408949\n",
       "min       1.000000     1.000000     1.000000     1.000000\n",
       "25%       1.000000     1.000000     1.000000     1.000000\n",
       "50%       1.000000     1.000000     1.000000     1.000000\n",
       "75%       1.000000     1.000000     1.000000     1.000000\n",
       "max       9.000000     9.000000     2.000000     2.000000"
      ]
     },
     "execution_count": 11,
     "metadata": {},
     "output_type": "execute_result"
    }
   ],
   "source": [
    "All_CBQPF = pd.concat([CBQPFA_reading1,CBQPFA_reading2,CBQPFC_reading1,CBQPFC_reading2],axis=1)\n",
    "print('All_CBQPF shape = ', All_CBQPF.shape)\n",
    "print(All_CBQPF.head())\n",
    "All_CBQPF.describe()"
   ]
  },
  {
   "cell_type": "code",
   "execution_count": 12,
   "metadata": {},
   "outputs": [],
   "source": [
    "All_CBQPF.to_csv('all_CBQPF.csv')"
   ]
  }
 ],
 "metadata": {
  "kernelspec": {
   "display_name": "Python 3",
   "language": "python",
   "name": "python3"
  },
  "language_info": {
   "codemirror_mode": {
    "name": "ipython",
    "version": 3
   },
   "file_extension": ".py",
   "mimetype": "text/x-python",
   "name": "python",
   "nbconvert_exporter": "python",
   "pygments_lexer": "ipython3",
   "version": "3.6.4"
  }
 },
 "nbformat": 4,
 "nbformat_minor": 2
}
